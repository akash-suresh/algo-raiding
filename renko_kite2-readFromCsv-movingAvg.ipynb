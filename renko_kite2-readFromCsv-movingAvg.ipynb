{
 "cells": [
  {
   "cell_type": "code",
   "execution_count": 37,
   "metadata": {},
   "outputs": [],
   "source": [
    "import time\n",
    "import logging\n",
    "from kiteconnect import KiteTicker\n",
    "logger = logging.getLogger()\n",
    "logging.basicConfig(level=logging.DEBUG)\n",
    "import datetime\n",
    "from utils.RenkoUtil import *\n",
    "from classes.DayEntry import Day\n",
    "from classes.MinuteEntry import Minute\n",
    "from classes.TradeEntry import Trade\n",
    "from classes.RenkoEntry import Renko\n",
    "from collections import deque\n",
    "import thread\n",
    "# import csv\n",
    "import pandas as pd"
   ]
  },
  {
   "cell_type": "code",
   "execution_count": 38,
   "metadata": {},
   "outputs": [
    {
     "name": "stderr",
     "output_type": "stream",
     "text": [
      "DEBUG:root:empty queue\n"
     ]
    }
   ],
   "source": [
    "#initialize\n",
    "money = 1\n",
    "day = Day(0, money, False)\n",
    "stepCount = 3\n",
    "tickCount = 3\n",
    "brickHeight = .15\n",
    "renkoDeque = deque(maxlen=stepCount)\n",
    "tickDeque = deque(maxlen=tickCount)\n",
    "printRenkoDeque(renkoDeque)"
   ]
  },
  {
   "cell_type": "code",
   "execution_count": 39,
   "metadata": {},
   "outputs": [
    {
     "data": {
      "text/plain": [
       "3"
      ]
     },
     "execution_count": 39,
     "metadata": {},
     "output_type": "execute_result"
    }
   ],
   "source": [
    "tickDeque.maxlen"
   ]
  },
  {
   "cell_type": "code",
   "execution_count": 40,
   "metadata": {},
   "outputs": [],
   "source": [
    "df = pd.read_csv('tick_adani_15-04.csv')\n",
    "# from utils.PreProcess import basicPreProcessing\n",
    "# df = basicPreProcessing(\"IntradayData_2018\", \"ADANIENT\")"
   ]
  },
  {
   "cell_type": "code",
   "execution_count": 41,
   "metadata": {},
   "outputs": [
    {
     "data": {
      "text/html": [
       "<div>\n",
       "<style scoped>\n",
       "    .dataframe tbody tr th:only-of-type {\n",
       "        vertical-align: middle;\n",
       "    }\n",
       "\n",
       "    .dataframe tbody tr th {\n",
       "        vertical-align: top;\n",
       "    }\n",
       "\n",
       "    .dataframe thead th {\n",
       "        text-align: right;\n",
       "    }\n",
       "</style>\n",
       "<table border=\"1\" class=\"dataframe\">\n",
       "  <thead>\n",
       "    <tr style=\"text-align: right;\">\n",
       "      <th></th>\n",
       "      <th>timestamp</th>\n",
       "      <th>lp_1</th>\n",
       "    </tr>\n",
       "  </thead>\n",
       "  <tbody>\n",
       "    <tr>\n",
       "      <th>0</th>\n",
       "      <td>2019-05-15 10:48:08</td>\n",
       "      <td>119.25</td>\n",
       "    </tr>\n",
       "    <tr>\n",
       "      <th>1</th>\n",
       "      <td>2019-05-15 10:48:08</td>\n",
       "      <td>119.25</td>\n",
       "    </tr>\n",
       "    <tr>\n",
       "      <th>2</th>\n",
       "      <td>2019-05-15 10:48:09</td>\n",
       "      <td>119.25</td>\n",
       "    </tr>\n",
       "    <tr>\n",
       "      <th>3</th>\n",
       "      <td>2019-05-15 10:48:10</td>\n",
       "      <td>119.25</td>\n",
       "    </tr>\n",
       "    <tr>\n",
       "      <th>4</th>\n",
       "      <td>2019-05-15 10:48:11</td>\n",
       "      <td>119.25</td>\n",
       "    </tr>\n",
       "    <tr>\n",
       "      <th>5</th>\n",
       "      <td>2019-05-15 10:48:12</td>\n",
       "      <td>119.25</td>\n",
       "    </tr>\n",
       "    <tr>\n",
       "      <th>6</th>\n",
       "      <td>2019-05-15 10:48:13</td>\n",
       "      <td>119.25</td>\n",
       "    </tr>\n",
       "    <tr>\n",
       "      <th>7</th>\n",
       "      <td>2019-05-15 10:48:13</td>\n",
       "      <td>119.25</td>\n",
       "    </tr>\n",
       "    <tr>\n",
       "      <th>8</th>\n",
       "      <td>2019-05-15 10:48:14</td>\n",
       "      <td>119.25</td>\n",
       "    </tr>\n",
       "    <tr>\n",
       "      <th>9</th>\n",
       "      <td>2019-05-15 10:48:16</td>\n",
       "      <td>119.25</td>\n",
       "    </tr>\n",
       "  </tbody>\n",
       "</table>\n",
       "</div>"
      ],
      "text/plain": [
       "             timestamp    lp_1\n",
       "0  2019-05-15 10:48:08  119.25\n",
       "1  2019-05-15 10:48:08  119.25\n",
       "2  2019-05-15 10:48:09  119.25\n",
       "3  2019-05-15 10:48:10  119.25\n",
       "4  2019-05-15 10:48:11  119.25\n",
       "5  2019-05-15 10:48:12  119.25\n",
       "6  2019-05-15 10:48:13  119.25\n",
       "7  2019-05-15 10:48:13  119.25\n",
       "8  2019-05-15 10:48:14  119.25\n",
       "9  2019-05-15 10:48:16  119.25"
      ]
     },
     "execution_count": 41,
     "metadata": {},
     "output_type": "execute_result"
    }
   ],
   "source": [
    "df[:10]"
   ]
  },
  {
   "cell_type": "code",
   "execution_count": 42,
   "metadata": {},
   "outputs": [],
   "source": [
    "# newRenko = Renko(1242, 1243.2, -1, df['timestamp'][0])\n",
    "# renkoDeque.append(newRenko)\n",
    "# printRenkoDeque(renkoDeque)\n",
    "def addToDeque(tickDeque, list_price):\n",
    "    size = len(tickDeque)\n",
    "    if size == 0:\n",
    "        tickDeque.append(list_price)\n",
    "    else:\n",
    "        if size == tickDeque.maxlen:\n",
    "            tickDeque.popleft()\n",
    "        tickDeque.append(list_price)\n",
    "    return tickDeque\n",
    "\n",
    "def getAvg(tickDeque):\n",
    "    size = len(tickDeque)\n",
    "    if size == tickDeque.maxlen:\n",
    "        return sum(tickDeque)/(1.0*size)\n",
    "    else: \n",
    "        return None"
   ]
  },
  {
   "cell_type": "code",
   "execution_count": 43,
   "metadata": {},
   "outputs": [],
   "source": [
    "def tickScript(tick):\n",
    "    verbose = False\n",
    "    global day\n",
    "    global renkoDeque\n",
    "    global stepCount\n",
    "    global brickHeight\n",
    "    global tickDeque\n",
    "#     global tickCount\n",
    "#     logging.info('Inside tickfunction that one')\n",
    "    listPrice = tick['last_price']\n",
    "    tickDeque = addToDeque(tickDeque, listPrice)\n",
    "    ma_lp = getAvg(tickDeque)\n",
    "    if not ma_lp:\n",
    "        return\n",
    "    minute = Minute(tick['timestamp'], ma_lp)\n",
    "    renkoDeque, newRenko = generateRenko(minute, renkoDeque, brickHeight, stepCount, verbose)\n",
    "    while newRenko:\n",
    "#         printRenkoDeque(renkoDeque)\n",
    "#         print('\\n')\n",
    "        if len(renkoDeque) == stepCount:\n",
    "    #             if marketOpen <= minute.time < marketClose:\n",
    "            logging.info(\"Boughtflag: {}\".format(day.boughtFlag))\n",
    "            if day.boughtFlag == 0:\n",
    "                #market enter logic\n",
    "                if getEmotion(renkoDeque) == stepCount:\n",
    "                    #buy\n",
    "                    day.boughtFlag = 1\n",
    "                    day.currentTrade = Trade(listPrice, minute.time, 0, 0, day.boughtFlag)\n",
    "                    logging.info('Long trade {}'.format(day.currentTrade.enterPrice))\n",
    "\n",
    "                elif getEmotion(renkoDeque) == -1 * stepCount:\n",
    "                    #sell\n",
    "                    day.boughtFlag = -1\n",
    "                    day.currentTrade  = Trade(listPrice, minute.time, 0, 0, day.boughtFlag)\n",
    "                    logging.info('Short trade {}'.format(day.currentTrade.enterPrice))\n",
    "\n",
    "            elif day.boughtFlag == 1:\n",
    "                #market exit logic (when already bought)\n",
    "                if renkoExitLogic(renkoDeque, stepCount, day.boughtFlag):\n",
    "                    logging.info('exiting trade, enter: {} exit: {}'.format(day.currentTrade.enterPrice, listPrice))\n",
    "                    day.currentTrade.exitTrade('renkoExit', minute.time, listPrice, verbose = True)\n",
    "                    day.addTrade(day.currentTrade)\n",
    "                    logging.info('Long exit')\n",
    "            else:\n",
    "                #market exit logic (when already sold)\n",
    "                if renkoExitLogic(renkoDeque, stepCount, day.boughtFlag):\n",
    "                    logging.info('exiting trade, enter: {} exit: {}'.format(day.currentTrade.enterPrice, listPrice))\n",
    "                    day.currentTrade.exitTrade('renkoExit', minute.time, listPrice, verbose = True)\n",
    "                    day.addTrade(day.currentTrade)\n",
    "                    logging.info('Short exit')\n",
    "        renkoDeque, newRenko = generateRenko(minute, renkoDeque, brickHeight, stepCount, verbose)\n",
    "    #         elif minute.time >= marketClose and day.sellEndOfDay:\n",
    "    #             if day.boughtFlag == 1:\n",
    "    #change to currentTrade\n",
    "    #                 trade.exitTrade('eod', minute.time, minute.closingPrice, verbose)\n",
    "    #                 day.addTrade(trade)\n",
    "    #             elif day.boughtFlag == -1:\n",
    "    #                 trade.exitTrade('eod', minute.time, minute.closingPrice, verbose)\n",
    "    #                 day.addTrade(trade)"
   ]
  },
  {
   "cell_type": "code",
   "execution_count": 44,
   "metadata": {
    "scrolled": true
   },
   "outputs": [
    {
     "name": "stderr",
     "output_type": "stream",
     "text": [
      "INFO:root:Boughtflag: 0\n",
      "INFO:root:Boughtflag: 0\n",
      "INFO:root:Short trade 118.7\n",
      "INFO:root:Boughtflag: -1\n",
      "DEBUG:root:emotion : -1\n",
      "DEBUG:root:renkoExit : True\n",
      "INFO:root:exiting trade, enter: 118.7 exit: 119.2\n",
      "DEBUG:root:Inside exitTrade fn\n",
      "DEBUG:root:Inside addTrade to day fn\n",
      "DEBUG:root:money 0.995606208054\n",
      "DEBUG:root:after reset bought flag : 0\n",
      "INFO:root:Short exit\n",
      "INFO:root:Boughtflag: 0\n",
      "INFO:root:Boughtflag: 0\n",
      "INFO:root:Boughtflag: 0\n",
      "INFO:root:Boughtflag: 0\n",
      "INFO:root:Boughtflag: 0\n",
      "INFO:root:Boughtflag: 0\n",
      "INFO:root:Boughtflag: 0\n",
      "INFO:root:Long trade 119.6\n"
     ]
    },
    {
     "name": "stdout",
     "output_type": "stream",
     "text": [
      "-1, 118.7000, 119.2000, -0.4394\n",
      "2019-05-15 10:48:42 2019-05-15 10:49:58\n",
      "\n"
     ]
    },
    {
     "name": "stderr",
     "output_type": "stream",
     "text": [
      "INFO:root:Boughtflag: 1\n",
      "DEBUG:root:emotion : 3\n",
      "INFO:root:Boughtflag: 1\n",
      "DEBUG:root:emotion : 3\n",
      "INFO:root:Boughtflag: 1\n",
      "DEBUG:root:emotion : 1\n",
      "DEBUG:root:renkoExit : True\n",
      "INFO:root:exiting trade, enter: 119.6 exit: 119.4\n",
      "DEBUG:root:Inside exitTrade fn\n",
      "DEBUG:root:Inside addTrade to day fn\n",
      "DEBUG:root:money 0.993742526466\n",
      "DEBUG:root:after reset bought flag : 0\n",
      "INFO:root:Long exit\n",
      "INFO:root:Boughtflag: 0\n",
      "INFO:root:Boughtflag: 0\n",
      "INFO:root:Short trade 119.25\n",
      "INFO:root:Boughtflag: -1\n",
      "DEBUG:root:emotion : -3\n",
      "INFO:root:Boughtflag: -1\n",
      "DEBUG:root:emotion : -3\n",
      "INFO:root:Boughtflag: -1\n",
      "DEBUG:root:emotion : -1\n",
      "DEBUG:root:renkoExit : True\n",
      "INFO:root:exiting trade, enter: 119.25 exit: 119.25\n",
      "DEBUG:root:Inside exitTrade fn\n",
      "DEBUG:root:Inside addTrade to day fn\n",
      "DEBUG:root:money 0.993543777961\n",
      "DEBUG:root:after reset bought flag : 0\n",
      "INFO:root:Short exit\n",
      "INFO:root:Boughtflag: 0\n",
      "INFO:root:Boughtflag: 0\n",
      "INFO:root:Boughtflag: 0\n",
      "INFO:root:Short trade 118.6\n",
      "INFO:root:Boughtflag: -1\n",
      "DEBUG:root:emotion : -3\n"
     ]
    },
    {
     "name": "stdout",
     "output_type": "stream",
     "text": [
      "1, 119.6000, 119.4000, -0.1872\n",
      "2019-05-15 11:02:56 2019-05-15 11:06:28\n",
      "\n",
      "-1, 119.2500, 119.2500, -0.0200\n",
      "2019-05-15 11:06:32 2019-05-15 11:07:41\n",
      "\n"
     ]
    },
    {
     "name": "stderr",
     "output_type": "stream",
     "text": [
      "INFO:root:Boughtflag: -1\n",
      "DEBUG:root:emotion : -1\n",
      "DEBUG:root:renkoExit : True\n",
      "INFO:root:exiting trade, enter: 118.6 exit: 118.9\n",
      "DEBUG:root:Inside exitTrade fn\n",
      "DEBUG:root:Inside addTrade to day fn\n",
      "DEBUG:root:money 0.990838731773\n",
      "DEBUG:root:after reset bought flag : 0\n",
      "INFO:root:Short exit\n",
      "INFO:root:Boughtflag: 0\n",
      "INFO:root:Boughtflag: 0\n",
      "INFO:root:Boughtflag: 0\n",
      "INFO:root:Boughtflag: 0\n"
     ]
    },
    {
     "name": "stdout",
     "output_type": "stream",
     "text": [
      "-1, 118.6000, 118.9000, -0.2723\n",
      "2019-05-15 11:15:21 2019-05-15 11:22:27\n",
      "\n"
     ]
    },
    {
     "name": "stderr",
     "output_type": "stream",
     "text": [
      "INFO:root:Boughtflag: 0\n",
      "INFO:root:Boughtflag: 0\n",
      "INFO:root:Boughtflag: 0\n",
      "INFO:root:Boughtflag: 0\n",
      "INFO:root:Short trade 118.25\n",
      "INFO:root:Boughtflag: -1\n",
      "DEBUG:root:emotion : -3\n",
      "INFO:root:Boughtflag: -1\n",
      "DEBUG:root:emotion : -1\n",
      "DEBUG:root:renkoExit : True\n",
      "INFO:root:exiting trade, enter: 118.25 exit: 118.5\n",
      "DEBUG:root:Inside exitTrade fn\n",
      "DEBUG:root:Inside addTrade to day fn\n",
      "DEBUG:root:money 0.98855060503\n",
      "DEBUG:root:after reset bought flag : 0\n",
      "INFO:root:Short exit\n",
      "INFO:root:Boughtflag: 0\n",
      "INFO:root:Boughtflag: 0\n",
      "INFO:root:Boughtflag: 0\n",
      "INFO:root:Short trade 117.85\n",
      "INFO:root:Boughtflag: -1\n",
      "DEBUG:root:emotion : -1\n",
      "DEBUG:root:renkoExit : True\n",
      "INFO:root:exiting trade, enter: 117.85 exit: 118.2\n",
      "DEBUG:root:Inside exitTrade fn\n",
      "DEBUG:root:Inside addTrade to day fn\n",
      "DEBUG:root:money 0.985426300043\n",
      "DEBUG:root:after reset bought flag : 0\n",
      "INFO:root:Short exit\n",
      "INFO:root:Boughtflag: 0\n",
      "INFO:root:Boughtflag: 0\n",
      "INFO:root:Long trade 118.55\n"
     ]
    },
    {
     "name": "stdout",
     "output_type": "stream",
     "text": [
      "-1, 118.2500, 118.5000, -0.2309\n",
      "2019-05-15 11:48:20 2019-05-15 11:49:10\n",
      "\n",
      "-1, 117.8500, 118.2000, -0.3160\n",
      "2019-05-15 11:51:08 2019-05-15 11:51:39\n",
      "\n"
     ]
    },
    {
     "name": "stderr",
     "output_type": "stream",
     "text": [
      "INFO:root:Boughtflag: 1\n",
      "DEBUG:root:emotion : 1\n",
      "DEBUG:root:renkoExit : True\n",
      "INFO:root:exiting trade, enter: 118.55 exit: 118.15\n",
      "DEBUG:root:Inside exitTrade fn\n",
      "DEBUG:root:Inside addTrade to day fn\n",
      "DEBUG:root:money 0.981904949191\n",
      "DEBUG:root:after reset bought flag : 0\n",
      "INFO:root:Long exit\n",
      "INFO:root:Boughtflag: 0\n",
      "INFO:root:Boughtflag: 0\n",
      "INFO:root:Boughtflag: 0\n"
     ]
    },
    {
     "name": "stdout",
     "output_type": "stream",
     "text": [
      "1, 118.5500, 118.1500, -0.3573\n",
      "2019-05-15 11:53:08 2019-05-15 12:01:19\n",
      "\n"
     ]
    },
    {
     "name": "stderr",
     "output_type": "stream",
     "text": [
      "INFO:root:Boughtflag: 0\n",
      "INFO:root:Boughtflag: 0\n",
      "INFO:root:Boughtflag: 0\n",
      "INFO:root:Long trade 118.65\n",
      "INFO:root:Boughtflag: 1\n",
      "DEBUG:root:emotion : 1\n",
      "DEBUG:root:renkoExit : True\n",
      "INFO:root:exiting trade, enter: 118.65 exit: 118.3\n",
      "DEBUG:root:Inside exitTrade fn\n",
      "DEBUG:root:Inside addTrade to day fn\n",
      "DEBUG:root:money 0.97881267272\n",
      "DEBUG:root:after reset bought flag : 0\n",
      "INFO:root:Long exit\n",
      "INFO:root:Boughtflag: 0\n",
      "INFO:root:Boughtflag: 0\n",
      "INFO:root:Boughtflag: 0\n"
     ]
    },
    {
     "name": "stdout",
     "output_type": "stream",
     "text": [
      "1, 118.6500, 118.3000, -0.3149\n",
      "2019-05-15 12:16:36 2019-05-15 12:20:03\n",
      "\n"
     ]
    },
    {
     "name": "stderr",
     "output_type": "stream",
     "text": [
      "INFO:root:Boughtflag: 0\n",
      "INFO:root:Boughtflag: 0\n",
      "INFO:root:Boughtflag: 0\n",
      "INFO:root:Short trade 118.0\n",
      "INFO:root:Boughtflag: -1\n",
      "DEBUG:root:emotion : -3\n",
      "INFO:root:Boughtflag: -1\n",
      "DEBUG:root:emotion : -3\n",
      "INFO:root:Boughtflag: -1\n",
      "DEBUG:root:emotion : -3\n",
      "INFO:root:Boughtflag: -1\n",
      "DEBUG:root:emotion : -3\n",
      "INFO:root:Boughtflag: -1\n",
      "DEBUG:root:emotion : -3\n",
      "INFO:root:Boughtflag: -1\n",
      "DEBUG:root:emotion : -1\n",
      "DEBUG:root:renkoExit : True\n",
      "INFO:root:exiting trade, enter: 118.0 exit: 117.6\n",
      "DEBUG:root:Inside exitTrade fn\n",
      "DEBUG:root:Inside addTrade to day fn\n",
      "DEBUG:root:money 0.981945539131\n",
      "DEBUG:root:after reset bought flag : 0\n",
      "INFO:root:Short exit\n",
      "INFO:root:Boughtflag: 0\n",
      "INFO:root:Boughtflag: 0\n",
      "INFO:root:Long trade 117.95\n",
      "INFO:root:Boughtflag: 1\n",
      "DEBUG:root:emotion : 3\n",
      "INFO:root:Boughtflag: 1\n",
      "DEBUG:root:emotion : 3\n"
     ]
    },
    {
     "name": "stdout",
     "output_type": "stream",
     "text": [
      "-1, 118.0000, 117.6000, 0.3201\n",
      "2019-05-15 12:45:13 2019-05-15 12:47:45\n",
      "\n"
     ]
    },
    {
     "name": "stderr",
     "output_type": "stream",
     "text": [
      "INFO:root:Boughtflag: 1\n",
      "DEBUG:root:emotion : 1\n",
      "DEBUG:root:renkoExit : True\n",
      "INFO:root:exiting trade, enter: 117.95 exit: 117.7\n",
      "DEBUG:root:Inside exitTrade fn\n",
      "DEBUG:root:Inside addTrade to day fn\n",
      "DEBUG:root:money 0.979668291291\n",
      "DEBUG:root:after reset bought flag : 0\n",
      "INFO:root:Long exit\n",
      "INFO:root:Boughtflag: 0\n",
      "INFO:root:Boughtflag: 0\n",
      "INFO:root:Boughtflag: 0\n",
      "INFO:root:Boughtflag: 0\n",
      "INFO:root:Boughtflag: 0\n",
      "INFO:root:Short trade 117.25\n",
      "INFO:root:Boughtflag: -1\n",
      "DEBUG:root:emotion : -3\n",
      "INFO:root:Boughtflag: -1\n",
      "DEBUG:root:emotion : -3\n",
      "INFO:root:Boughtflag: -1\n"
     ]
    },
    {
     "name": "stdout",
     "output_type": "stream",
     "text": [
      "1, 117.9500, 117.7000, -0.2319\n",
      "2019-05-15 12:49:40 2019-05-15 13:06:10\n",
      "\n"
     ]
    },
    {
     "name": "stderr",
     "output_type": "stream",
     "text": [
      "DEBUG:root:emotion : -1\n",
      "DEBUG:root:renkoExit : True\n",
      "INFO:root:exiting trade, enter: 117.25 exit: 117.5\n",
      "DEBUG:root:Inside exitTrade fn\n",
      "DEBUG:root:Inside addTrade to day fn\n",
      "DEBUG:root:money 0.977388373893\n",
      "DEBUG:root:after reset bought flag : 0\n",
      "INFO:root:Short exit\n",
      "INFO:root:Boughtflag: 0\n",
      "INFO:root:Boughtflag: 0\n",
      "INFO:root:Long trade 117.75\n",
      "INFO:root:Boughtflag: 1\n",
      "DEBUG:root:emotion : 3\n",
      "INFO:root:Boughtflag: 1\n",
      "DEBUG:root:emotion : 1\n",
      "DEBUG:root:renkoExit : True\n",
      "INFO:root:exiting trade, enter: 117.75 exit: 117.55\n",
      "DEBUG:root:Inside exitTrade fn\n",
      "DEBUG:root:Inside addTrade to day fn\n",
      "DEBUG:root:money 0.975533120598\n",
      "DEBUG:root:after reset bought flag : 0\n",
      "INFO:root:Long exit\n"
     ]
    },
    {
     "name": "stdout",
     "output_type": "stream",
     "text": [
      "-1, 117.2500, 117.5000, -0.2327\n",
      "2019-05-15 13:16:35 2019-05-15 13:17:19\n",
      "\n",
      "1, 117.7500, 117.5500, -0.1898\n",
      "2019-05-15 13:21:50 2019-05-15 13:24:45\n",
      "\n"
     ]
    },
    {
     "name": "stderr",
     "output_type": "stream",
     "text": [
      "INFO:root:Boughtflag: 0\n",
      "INFO:root:Boughtflag: 0\n",
      "INFO:root:Boughtflag: 0\n",
      "INFO:root:Boughtflag: 0\n",
      "INFO:root:Long trade 118.05\n",
      "INFO:root:Boughtflag: 1\n",
      "DEBUG:root:emotion : 3\n",
      "INFO:root:Boughtflag: 1\n",
      "DEBUG:root:emotion : 1\n",
      "DEBUG:root:renkoExit : True\n",
      "INFO:root:exiting trade, enter: 118.05 exit: 117.7\n",
      "DEBUG:root:Inside exitTrade fn\n",
      "DEBUG:root:Inside addTrade to day fn\n",
      "DEBUG:root:money 0.972446287546\n",
      "DEBUG:root:after reset bought flag : 0\n",
      "INFO:root:Long exit\n",
      "INFO:root:Boughtflag: 0\n",
      "INFO:root:Boughtflag: 0\n",
      "INFO:root:Boughtflag: 0\n",
      "INFO:root:Long trade 118.5\n"
     ]
    },
    {
     "name": "stdout",
     "output_type": "stream",
     "text": [
      "1, 118.0500, 117.7000, -0.3164\n",
      "2019-05-15 13:34:08 2019-05-15 13:39:00\n",
      "\n"
     ]
    },
    {
     "name": "stderr",
     "output_type": "stream",
     "text": [
      "INFO:root:Boughtflag: 1\n",
      "DEBUG:root:emotion : 1\n",
      "DEBUG:root:renkoExit : True\n",
      "INFO:root:exiting trade, enter: 118.5 exit: 118.15\n",
      "DEBUG:root:Inside exitTrade fn\n",
      "DEBUG:root:Inside addTrade to day fn\n",
      "DEBUG:root:money 0.969380168504\n",
      "DEBUG:root:after reset bought flag : 0\n",
      "INFO:root:Long exit\n",
      "INFO:root:Boughtflag: 0\n",
      "INFO:root:Boughtflag: 0\n",
      "INFO:root:Boughtflag: 0\n",
      "INFO:root:Boughtflag: 0\n"
     ]
    },
    {
     "name": "stdout",
     "output_type": "stream",
     "text": [
      "1, 118.5000, 118.1500, -0.3153\n",
      "2019-05-15 13:51:02 2019-05-15 13:53:17\n",
      "\n"
     ]
    },
    {
     "name": "stderr",
     "output_type": "stream",
     "text": [
      "INFO:root:Boughtflag: 0\n",
      "INFO:root:Boughtflag: 0\n",
      "INFO:root:Long trade 118.6\n",
      "INFO:root:Boughtflag: 1\n",
      "DEBUG:root:emotion : 1\n",
      "DEBUG:root:renkoExit : True\n",
      "INFO:root:exiting trade, enter: 118.6 exit: 118.2\n",
      "DEBUG:root:Inside exitTrade fn\n",
      "DEBUG:root:Inside addTrade to day fn\n",
      "DEBUG:root:money 0.965917536004\n",
      "DEBUG:root:after reset bought flag : 0\n",
      "INFO:root:Long exit\n",
      "INFO:root:Boughtflag: 0\n",
      "INFO:root:Boughtflag: 0\n",
      "INFO:root:Short trade 118.0\n",
      "INFO:root:Boughtflag: -1\n",
      "DEBUG:root:emotion : -3\n",
      "INFO:root:Boughtflag: -1\n",
      "DEBUG:root:emotion : -3\n",
      "INFO:root:Boughtflag: -1\n",
      "DEBUG:root:emotion : -3\n",
      "INFO:root:Boughtflag: -1\n",
      "DEBUG:root:emotion : -1\n",
      "DEBUG:root:renkoExit : True\n",
      "INFO:root:exiting trade, enter: 118.0 exit: 117.9\n",
      "DEBUG:root:Inside exitTrade fn\n",
      "DEBUG:root:Inside addTrade to day fn\n",
      "DEBUG:root:money 0.966543457121\n",
      "DEBUG:root:after reset bought flag : 0\n",
      "INFO:root:Short exit\n",
      "INFO:root:Boughtflag: 0\n"
     ]
    },
    {
     "name": "stdout",
     "output_type": "stream",
     "text": [
      "1, 118.6000, 118.2000, -0.3572\n",
      "2019-05-15 14:08:02 2019-05-15 14:10:07\n",
      "\n",
      "-1, 118.0000, 117.9000, 0.0648\n",
      "2019-05-15 14:12:38 2019-05-15 14:18:06\n",
      "\n"
     ]
    },
    {
     "name": "stderr",
     "output_type": "stream",
     "text": [
      "INFO:root:Boughtflag: 0\n",
      "INFO:root:Long trade 118.2\n",
      "INFO:root:Boughtflag: 1\n",
      "DEBUG:root:emotion : 3\n",
      "INFO:root:Boughtflag: 1\n",
      "DEBUG:root:emotion : 1\n",
      "DEBUG:root:renkoExit : True\n",
      "INFO:root:exiting trade, enter: 118.2 exit: 118.0\n",
      "DEBUG:root:Inside exitTrade fn\n",
      "DEBUG:root:Inside addTrade to day fn\n",
      "DEBUG:root:money 0.964715038195\n",
      "DEBUG:root:after reset bought flag : 0\n",
      "INFO:root:Long exit\n",
      "INFO:root:Boughtflag: 0\n",
      "INFO:root:Boughtflag: 0\n",
      "INFO:root:Short trade 117.7\n",
      "INFO:root:Boughtflag: -1\n",
      "DEBUG:root:emotion : -1\n",
      "DEBUG:root:renkoExit : True\n",
      "INFO:root:exiting trade, enter: 117.7 exit: 118.05\n",
      "DEBUG:root:Inside exitTrade fn\n",
      "DEBUG:root:Inside addTrade to day fn\n",
      "DEBUG:root:money 0.961662436286\n",
      "DEBUG:root:after reset bought flag : 0\n",
      "INFO:root:Short exit\n"
     ]
    },
    {
     "name": "stdout",
     "output_type": "stream",
     "text": [
      "1, 118.2000, 118.0000, -0.1892\n",
      "2019-05-15 14:20:35 2019-05-15 14:25:07\n",
      "\n",
      "-1, 117.7000, 118.0500, -0.3164\n",
      "2019-05-15 14:29:22 2019-05-15 14:33:20\n",
      "\n"
     ]
    },
    {
     "name": "stderr",
     "output_type": "stream",
     "text": [
      "INFO:root:Boughtflag: 0\n",
      "INFO:root:Boughtflag: 0\n",
      "INFO:root:Boughtflag: 0\n",
      "INFO:root:Boughtflag: 0\n",
      "INFO:root:Boughtflag: 0\n",
      "INFO:root:Boughtflag: 0\n",
      "INFO:root:Boughtflag: 0\n",
      "INFO:root:Short trade 117.4\n",
      "INFO:root:Boughtflag: -1\n",
      "DEBUG:root:emotion : -1\n",
      "DEBUG:root:renkoExit : True\n",
      "INFO:root:exiting trade, enter: 117.4 exit: 117.9\n",
      "DEBUG:root:Inside exitTrade fn\n",
      "DEBUG:root:Inside addTrade to day fn\n",
      "DEBUG:root:money 0.957392622443\n",
      "DEBUG:root:after reset bought flag : 0\n",
      "INFO:root:Short exit\n",
      "INFO:root:Boughtflag: 0\n",
      "INFO:root:Boughtflag: 0\n",
      "INFO:root:Boughtflag: 0\n",
      "INFO:root:Short trade 117.15\n",
      "INFO:root:Boughtflag: -1\n",
      "DEBUG:root:emotion : -1\n",
      "DEBUG:root:renkoExit : True\n",
      "INFO:root:exiting trade, enter: 117.15 exit: 117.45\n",
      "DEBUG:root:Inside exitTrade fn\n",
      "DEBUG:root:Inside addTrade to day fn\n",
      "DEBUG:root:money 0.954756185696\n",
      "DEBUG:root:after reset bought flag : 0\n",
      "INFO:root:Short exit\n",
      "INFO:root:Boughtflag: 0\n",
      "INFO:root:Boughtflag: 0\n",
      "INFO:root:Long trade 117.75\n"
     ]
    },
    {
     "name": "stdout",
     "output_type": "stream",
     "text": [
      "-1, 117.4000, 117.9000, -0.4440\n",
      "2019-05-15 14:58:05 2019-05-15 15:01:18\n",
      "\n",
      "-1, 117.1500, 117.4500, -0.2754\n",
      "2019-05-15 15:06:41 2019-05-15 15:08:35\n",
      "\n"
     ]
    },
    {
     "name": "stderr",
     "output_type": "stream",
     "text": [
      "INFO:root:Boughtflag: 1\n",
      "DEBUG:root:emotion : 1\n",
      "DEBUG:root:renkoExit : True\n",
      "INFO:root:exiting trade, enter: 117.75 exit: 117.4\n",
      "DEBUG:root:Inside exitTrade fn\n",
      "DEBUG:root:Inside addTrade to day fn\n",
      "DEBUG:root:money 0.951727885567\n",
      "DEBUG:root:after reset bought flag : 0\n",
      "INFO:root:Long exit\n",
      "INFO:root:Boughtflag: 0\n",
      "INFO:root:Boughtflag: 0\n",
      "INFO:root:Boughtflag: 0\n",
      "INFO:root:Boughtflag: 0\n",
      "INFO:root:Short trade 117.05\n",
      "INFO:root:Boughtflag: -1\n",
      "DEBUG:root:emotion : -1\n",
      "DEBUG:root:renkoExit : True\n",
      "INFO:root:exiting trade, enter: 117.05 exit: 117.45\n",
      "DEBUG:root:Inside exitTrade fn\n",
      "DEBUG:root:Inside addTrade to day fn\n",
      "DEBUG:root:money 0.948296884256\n"
     ]
    },
    {
     "name": "stdout",
     "output_type": "stream",
     "text": [
      "1, 117.7500, 117.4000, -0.3172\n",
      "2019-05-15 15:10:44 2019-05-15 15:13:09\n",
      "\n",
      "-1, 117.0500, 117.4500, -0.3605\n",
      "2019-05-15 15:22:49 2019-05-15 15:24:36\n",
      "\n"
     ]
    },
    {
     "name": "stderr",
     "output_type": "stream",
     "text": [
      "DEBUG:root:after reset bought flag : 0\n",
      "INFO:root:Short exit\n",
      "INFO:root:Boughtflag: 0\n",
      "INFO:root:Boughtflag: 0\n",
      "INFO:root:Boughtflag: 0\n",
      "INFO:root:Short trade 116.7\n",
      "INFO:root:Boughtflag: -1\n",
      "DEBUG:root:emotion : -3\n",
      "INFO:root:Boughtflag: -1\n",
      "DEBUG:root:emotion : -3\n",
      "INFO:root:Boughtflag: -1\n",
      "DEBUG:root:emotion : -3\n",
      "INFO:root:Boughtflag: -1\n",
      "DEBUG:root:emotion : -3\n",
      "INFO:root:Boughtflag: -1\n",
      "DEBUG:root:emotion : -1\n",
      "DEBUG:root:renkoExit : True\n",
      "INFO:root:exiting trade, enter: 116.7 exit: 117.0\n",
      "DEBUG:root:Inside exitTrade fn\n",
      "DEBUG:root:Inside addTrade to day fn\n",
      "DEBUG:root:money 0.945676180712\n",
      "DEBUG:root:after reset bought flag : 0\n",
      "INFO:root:Short exit\n",
      "INFO:root:Boughtflag: 0\n",
      "INFO:root:Boughtflag: 0\n",
      "INFO:root:Long trade 117.4\n",
      "INFO:root:Boughtflag: 1\n",
      "DEBUG:root:emotion : 3\n"
     ]
    },
    {
     "name": "stdout",
     "output_type": "stream",
     "text": [
      "-1, 116.7000, 117.0000, -0.2764\n",
      "2019-05-15 15:28:55 2019-05-15 15:30:00\n",
      "\n"
     ]
    }
   ],
   "source": [
    "for row in df.iterrows():\n",
    "    tick = {}\n",
    "    tick['timestamp'] = row[1].timestamp\n",
    "    tick['last_price'] = row[1].lp_1\n",
    "#     logging.debug(\"Ticks: {} {}\".format(tick['timestamp'], tick['last_price']))\n",
    "    try:\n",
    "        tickScript(tick)\n",
    "    except:\n",
    "        logging.debug('Unable to start that one thread')\n",
    "#     time.sleep(0.1)\n"
   ]
  },
  {
   "cell_type": "code",
   "execution_count": 45,
   "metadata": {},
   "outputs": [
    {
     "data": {
      "text/plain": [
       "0.9456761807123002"
      ]
     },
     "execution_count": 45,
     "metadata": {},
     "output_type": "execute_result"
    }
   ],
   "source": [
    "day.money"
   ]
  },
  {
   "cell_type": "code",
   "execution_count": 46,
   "metadata": {},
   "outputs": [
    {
     "data": {
      "text/plain": [
       "1"
      ]
     },
     "execution_count": 46,
     "metadata": {},
     "output_type": "execute_result"
    }
   ],
   "source": [
    "day.boughtFlag"
   ]
  },
  {
   "cell_type": "code",
   "execution_count": 47,
   "metadata": {},
   "outputs": [
    {
     "data": {
      "text/plain": [
       "23"
      ]
     },
     "execution_count": 47,
     "metadata": {},
     "output_type": "execute_result"
    }
   ],
   "source": [
    "day.dailyTrades"
   ]
  },
  {
   "cell_type": "code",
   "execution_count": 48,
   "metadata": {
    "scrolled": false
   },
   "outputs": [
    {
     "name": "stdout",
     "output_type": "stream",
     "text": [
      "-1, 118.7000, 119.2000, -0.4394\n",
      "2019-05-15 10:48:42 2019-05-15 10:49:58\n",
      "\n",
      "1, 119.6000, 119.4000, -0.1872\n",
      "2019-05-15 11:02:56 2019-05-15 11:06:28\n",
      "\n",
      "-1, 119.2500, 119.2500, -0.0200\n",
      "2019-05-15 11:06:32 2019-05-15 11:07:41\n",
      "\n",
      "-1, 118.6000, 118.9000, -0.2723\n",
      "2019-05-15 11:15:21 2019-05-15 11:22:27\n",
      "\n",
      "-1, 118.2500, 118.5000, -0.2309\n",
      "2019-05-15 11:48:20 2019-05-15 11:49:10\n",
      "\n",
      "-1, 117.8500, 118.2000, -0.3160\n",
      "2019-05-15 11:51:08 2019-05-15 11:51:39\n",
      "\n",
      "1, 118.5500, 118.1500, -0.3573\n",
      "2019-05-15 11:53:08 2019-05-15 12:01:19\n",
      "\n",
      "1, 118.6500, 118.3000, -0.3149\n",
      "2019-05-15 12:16:36 2019-05-15 12:20:03\n",
      "\n",
      "-1, 118.0000, 117.6000, 0.3201\n",
      "2019-05-15 12:45:13 2019-05-15 12:47:45\n",
      "\n",
      "1, 117.9500, 117.7000, -0.2319\n",
      "2019-05-15 12:49:40 2019-05-15 13:06:10\n",
      "\n",
      "-1, 117.2500, 117.5000, -0.2327\n",
      "2019-05-15 13:16:35 2019-05-15 13:17:19\n",
      "\n",
      "1, 117.7500, 117.5500, -0.1898\n",
      "2019-05-15 13:21:50 2019-05-15 13:24:45\n",
      "\n",
      "1, 118.0500, 117.7000, -0.3164\n",
      "2019-05-15 13:34:08 2019-05-15 13:39:00\n",
      "\n",
      "1, 118.5000, 118.1500, -0.3153\n",
      "2019-05-15 13:51:02 2019-05-15 13:53:17\n",
      "\n",
      "1, 118.6000, 118.2000, -0.3572\n",
      "2019-05-15 14:08:02 2019-05-15 14:10:07\n",
      "\n",
      "-1, 118.0000, 117.9000, 0.0648\n",
      "2019-05-15 14:12:38 2019-05-15 14:18:06\n",
      "\n",
      "1, 118.2000, 118.0000, -0.1892\n",
      "2019-05-15 14:20:35 2019-05-15 14:25:07\n",
      "\n",
      "-1, 117.7000, 118.0500, -0.3164\n",
      "2019-05-15 14:29:22 2019-05-15 14:33:20\n",
      "\n",
      "-1, 117.4000, 117.9000, -0.4440\n",
      "2019-05-15 14:58:05 2019-05-15 15:01:18\n",
      "\n",
      "-1, 117.1500, 117.4500, -0.2754\n",
      "2019-05-15 15:06:41 2019-05-15 15:08:35\n",
      "\n",
      "1, 117.7500, 117.4000, -0.3172\n",
      "2019-05-15 15:10:44 2019-05-15 15:13:09\n",
      "\n",
      "-1, 117.0500, 117.4500, -0.3605\n",
      "2019-05-15 15:22:49 2019-05-15 15:24:36\n",
      "\n",
      "-1, 116.7000, 117.0000, -0.2764\n",
      "2019-05-15 15:28:55 2019-05-15 15:30:00\n",
      "\n"
     ]
    }
   ],
   "source": [
    "day.printAllTrades(True)"
   ]
  },
  {
   "cell_type": "code",
   "execution_count": null,
   "metadata": {},
   "outputs": [],
   "source": []
  },
  {
   "cell_type": "code",
   "execution_count": null,
   "metadata": {},
   "outputs": [],
   "source": []
  },
  {
   "cell_type": "code",
   "execution_count": null,
   "metadata": {},
   "outputs": [],
   "source": []
  },
  {
   "cell_type": "code",
   "execution_count": null,
   "metadata": {},
   "outputs": [],
   "source": []
  },
  {
   "cell_type": "code",
   "execution_count": null,
   "metadata": {},
   "outputs": [],
   "source": []
  },
  {
   "cell_type": "code",
   "execution_count": null,
   "metadata": {},
   "outputs": [],
   "source": []
  },
  {
   "cell_type": "code",
   "execution_count": null,
   "metadata": {},
   "outputs": [],
   "source": []
  },
  {
   "cell_type": "code",
   "execution_count": null,
   "metadata": {},
   "outputs": [],
   "source": []
  },
  {
   "cell_type": "code",
   "execution_count": null,
   "metadata": {},
   "outputs": [],
   "source": []
  },
  {
   "cell_type": "code",
   "execution_count": null,
   "metadata": {},
   "outputs": [],
   "source": []
  },
  {
   "cell_type": "code",
   "execution_count": null,
   "metadata": {},
   "outputs": [],
   "source": []
  },
  {
   "cell_type": "code",
   "execution_count": null,
   "metadata": {},
   "outputs": [],
   "source": []
  },
  {
   "cell_type": "code",
   "execution_count": null,
   "metadata": {},
   "outputs": [],
   "source": []
  },
  {
   "cell_type": "code",
   "execution_count": null,
   "metadata": {},
   "outputs": [],
   "source": []
  }
 ],
 "metadata": {
  "kernelspec": {
   "display_name": "kiteApp",
   "language": "python",
   "name": "kiteapp"
  },
  "language_info": {
   "codemirror_mode": {
    "name": "ipython",
    "version": 2
   },
   "file_extension": ".py",
   "mimetype": "text/x-python",
   "name": "python",
   "nbconvert_exporter": "python",
   "pygments_lexer": "ipython2",
   "version": "2.7.13"
  }
 },
 "nbformat": 4,
 "nbformat_minor": 2
}
