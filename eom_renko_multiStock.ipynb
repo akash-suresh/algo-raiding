{
 "cells": [
  {
   "cell_type": "code",
   "execution_count": 23,
   "metadata": {},
   "outputs": [],
   "source": [
    "import time\n",
    "from multiprocessing import Pool\n",
    "from sklearn.model_selection import ParameterGrid\n",
    "import csv\n",
    "from utils.PreProcess import preProcessData\n",
    "from utils.TimeUtil import convertTime\n",
    "from scripts.dayScript import dayScript, renkoScript\n",
    "from classes.ParamEntry import ParamEntry, RenkoParamEntry\n",
    "from classes.DayEntry import Day\n",
    "from utils.TimeUtil import isLastThursdayOfMonth\n",
    "from utils.FileUtil import getFutureList\n",
    "from collections import deque\n",
    "from utils.Constants import futuresList\n",
    "# import copy "
   ]
  },
  {
   "cell_type": "code",
   "execution_count": 24,
   "metadata": {
    "scrolled": false
   },
   "outputs": [],
   "source": [
    "def getSellEndOfDay(currentDate, stockType):\n",
    "    if stockType == 'FUTURES':\n",
    "        return isLastThursdayOfMonth(currentDate)\n",
    "    else:\n",
    "        return True\n",
    "\n",
    "def renkoExperiment(paramList, stockType = 'FUTURES', verbose=False):\n",
    "    df, dateList, paramEntry = paramList\n",
    "    money = 1\n",
    "    newDay = Day(0, money, getSellEndOfDay(dateList[0], stockType))\n",
    "    renkoDeque = deque(maxlen=paramEntry.stepCount)\n",
    "    paramEntry.setBrickHeight(df['openingPrice'][0])\n",
    "    for date in dateList:\n",
    "        new_df = df[(df.date == date)]\n",
    "        day = renkoScript(new_df, paramEntry, newDay, renkoDeque, stockType, verbose)\n",
    "        if verbose:\n",
    "            print(date, newDay.money, day.money, day.dailyTrades)\n",
    "            day.printOpenTrade()\n",
    "        sellEndOfDay = getSellEndOfDay(date, stockType)\n",
    "        newDay = day.initializeNextDay(sellEndOfDay)   \n",
    "    yearlyProfitPercentage = (day.money - 1) * 100\n",
    "    print(yearlyProfitPercentage)\n",
    "    paramEntry.profitPercentage = yearlyProfitPercentage\n",
    "    paramEntry.toString()\n",
    "   \n",
    "    return paramEntry"
   ]
  },
  {
   "cell_type": "code",
   "execution_count": 25,
   "metadata": {
    "scrolled": true
   },
   "outputs": [],
   "source": [
    "def bruteAnalysis(stockName, parameterDict, pool, threadPoolSize):\n",
    "    csvList = []\n",
    "    parameterGrid = getParameterGrid(parameterDict)\n",
    "    folderName = \"IntradayData_2018\"\n",
    "    df, dateList = preProcessData(folderName, stockName, [], [], 'blah')\n",
    "    parameterGridSize = len(parameterGrid)\n",
    "    print('param combination = ' , parameterGridSize)\n",
    "    i=0\n",
    "    while i<parameterGridSize:\n",
    "        paramEntryList =[]\n",
    "        for j in range(threadPoolSize):\n",
    "            if i+j < parameterGridSize:\n",
    "                params = parameterGrid[i+j]\n",
    "                paramEntry = RenkoParamEntry(params, stockName)\n",
    "                paramEntryList.append([df, dateList, paramEntry])\n",
    "        start = time.time()\n",
    "        resultList = pool.map(renkoExperiment, paramEntryList)\n",
    "        end = time.time()\n",
    "        for paramEntry in resultList:\n",
    "            csvList.append(paramEntry.getCsvPoint())\n",
    "        print('Time - ',end - start)\n",
    "        i+=threadPoolSize\n",
    "        print(i,parameterGridSize)\n",
    "    return csvList\n"
   ]
  },
  {
   "cell_type": "code",
   "execution_count": 29,
   "metadata": {},
   "outputs": [],
   "source": [
    "def getParameterGrid(parameterDict):\n",
    "    parameterGrid = ParameterGrid(parameterDict)\n",
    "    return parameterGrid\n",
    "\n",
    "def getRenkoParameterDict():\n",
    "    brickHeightPercentage = [0.05, 0.1, 0.15, 0.2, 0.25, 0.3]\n",
    "    stepCount = [3,4,5,7]\n",
    "    parameterDict = {\n",
    "                    'brickHeightPercentage' : brickHeightPercentage, \n",
    "                    'stepCount': stepCount\n",
    "                }\n",
    "    return parameterDict"
   ]
  },
  {
   "cell_type": "code",
   "execution_count": 30,
   "metadata": {},
   "outputs": [],
   "source": [
    "stockList = futuresList"
   ]
  },
  {
   "cell_type": "code",
   "execution_count": 28,
   "metadata": {
    "scrolled": false
   },
   "outputs": [
    {
     "name": "stdout",
     "output_type": "stream",
     "text": [
      "('param combination = ', 1)\n",
      "-31.373428498947497\n",
      "Stock Name: INFRATEL_F1, brickHeightPercentage: 0.01, stepCount: 3, ProfitPer: -31.3734284989\n",
      "('Time - ', 13.298845052719116)\n",
      "(1, 1)\n"
     ]
    }
   ],
   "source": [
    "threadPoolSize = 24\n",
    "parameterDict = getRenkoParameterDict()\n",
    "pool = Pool(threadPoolSize)\n",
    "with open('result.csv', 'w') as f_out:\n",
    "    out_colnames = [\"stockName\",\"brickHeightPercentage\", \"stepCount\", \"profitPercentage\"]\n",
    "    csv_writer = csv.DictWriter(f_out, fieldnames = out_colnames)\n",
    "    csv_writer.writeheader()\n",
    "    for stock in stockList:\n",
    "        csvList = bruteAnalysis(stock, parameterDict, pool, threadPoolSize)\n",
    "        for point in csvList:\n",
    "            csv_writer.writerow(point)\n",
    "pool.terminate()\n",
    "pool.join()"
   ]
  },
  {
   "cell_type": "code",
   "execution_count": 6,
   "metadata": {},
   "outputs": [],
   "source": [
    "# parameterDict = getRenkoParameterDict()\n",
    "# parameterGrid = getParameterGrid(parameterDict)\n",
    "# folderName = \"IntradayData_2018\"\n",
    "# stockName = 'LUPIN_F1'\n",
    "# df, dateList = preProcessData(folderName, stockName, [], [], 'bleh')\n"
   ]
  },
  {
   "cell_type": "code",
   "execution_count": 3,
   "metadata": {},
   "outputs": [],
   "source": [
    "# money = 1\n",
    "# stockType = 'FUTURES'\n",
    "# verbose = False\n",
    "# newDay = Day(0, money, getSellEndOfDay(dateList[0], stockType))\n",
    "\n",
    "# paramEntry = parameterGrid[0]"
   ]
  },
  {
   "cell_type": "code",
   "execution_count": 4,
   "metadata": {
    "scrolled": false
   },
   "outputs": [],
   "source": [
    "# # newDay = Day(0, money)\n",
    "# for date in dateList:\n",
    "#     new_df = df[(df.date == date)]\n",
    "#     day = renkoScript(new_df, paramEntry, newDay, stockType, verbose)\n",
    "#     if verbose:\n",
    "#         print(date, newDay.money, day.money, day.dailyTrades)\n",
    "#     sellEndOfDay = getSellEndOfDay(date, stockType)\n",
    "#     day.printOpenTrade()\n",
    "#     newDay = day.initializeNextDay(sellEndOfDay)    \n",
    "#     break\n",
    "# yearlyProfitPercentage = (day.money - 1) * 100\n",
    "# print yearlyProfitPercentage    "
   ]
  },
  {
   "cell_type": "code",
   "execution_count": 17,
   "metadata": {},
   "outputs": [
    {
     "data": {
      "text/plain": [
       "96"
      ]
     },
     "execution_count": 17,
     "metadata": {},
     "output_type": "execute_result"
    }
   ],
   "source": [
    "len(futuresList)"
   ]
  },
  {
   "cell_type": "code",
   "execution_count": null,
   "metadata": {},
   "outputs": [],
   "source": []
  }
 ],
 "metadata": {
  "kernelspec": {
   "display_name": "Python 2",
   "language": "python",
   "name": "python2"
  },
  "language_info": {
   "codemirror_mode": {
    "name": "ipython",
    "version": 2
   },
   "file_extension": ".py",
   "mimetype": "text/x-python",
   "name": "python",
   "nbconvert_exporter": "python",
   "pygments_lexer": "ipython2",
   "version": "2.7.13"
  }
 },
 "nbformat": 4,
 "nbformat_minor": 2
}
