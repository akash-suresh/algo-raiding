{
 "cells": [
  {
   "cell_type": "code",
   "execution_count": 37,
   "metadata": {},
   "outputs": [],
   "source": [
    "import time\n",
    "from multiprocessing import Pool\n",
    "from sklearn.model_selection import ParameterGrid\n",
    "import csv\n",
    "from utils.PreProcess import preProcessData\n",
    "from utils.TimeUtil import convertTime\n",
    "from scripts.dayScript import dayScript, renkoScript\n",
    "from classes.ParamEntry import ParamEntry, RenkoParamEntry\n",
    "from classes.DayEntry import Day\n",
    "from utils.TimeUtil import isLastThursdayOfMonth\n",
    "from utils.FileUtil import getFutureList\n",
    "from collections import deque\n",
    "from utils.Constants import futuresList\n",
    "# import copy "
   ]
  },
  {
   "cell_type": "code",
   "execution_count": 38,
   "metadata": {
    "scrolled": false
   },
   "outputs": [],
   "source": [
    "def getSellEndOfDay(currentDate, stockType):\n",
    "    if stockType == 'FUTURES':\n",
    "        return isLastThursdayOfMonth(currentDate)\n",
    "    else:\n",
    "        return True\n",
    "\n",
    "def renkoExperiment(paramList, stockType = 'FUTURES', verbose=False):\n",
    "    df, dateList, paramEntry = paramList\n",
    "    money = 1\n",
    "    newDay = Day(0, money, getSellEndOfDay(dateList[0], stockType))\n",
    "    renkoDeque = deque(maxlen=paramEntry.stepCount)\n",
    "    paramEntry.setBrickHeight(df['openingPrice'][0])\n",
    "    for date in dateList:\n",
    "        new_df = df[(df.date == date)]\n",
    "        day = renkoScript(new_df, paramEntry, newDay, renkoDeque, stockType, verbose)\n",
    "#         if verbose:\n",
    "#             print(date, newDay.money, day.money, day.dailyTrades)\n",
    "#             day.printOpenTrade()\n",
    "        sellEndOfDay = getSellEndOfDay(date, stockType)\n",
    "        newDay = day.initializeNextDay(sellEndOfDay)   \n",
    "    yearlyProfitPercentage = (day.money - 1) * 100\n",
    "    paramEntry.profitPercentage = yearlyProfitPercentage\n",
    "    paramEntry.toString()\n",
    "   \n",
    "    return paramEntry"
   ]
  },
  {
   "cell_type": "code",
   "execution_count": 39,
   "metadata": {
    "scrolled": true
   },
   "outputs": [],
   "source": [
    "def bruteAnalysis(stockName, parameterDict, pool, threadPoolSize):\n",
    "    csvList = []\n",
    "    parameterGrid = getParameterGrid(parameterDict)\n",
    "    folderName = \"NIFTY50_APR2019\"\n",
    "    df, dateList = preProcessData(folderName, stockName, [], [], 'blah')\n",
    "    parameterGridSize = len(parameterGrid)\n",
    "    print('param combination = ' , parameterGridSize)\n",
    "    i=0\n",
    "    while i<parameterGridSize:\n",
    "        paramEntryList =[]\n",
    "        for j in range(threadPoolSize):\n",
    "            if i+j < parameterGridSize:\n",
    "                params = parameterGrid[i+j]\n",
    "                paramEntry = RenkoParamEntry(params, stockName)\n",
    "                paramEntryList.append([df, dateList, paramEntry])\n",
    "        start = time.time()\n",
    "        resultList = pool.map(renkoExperiment, paramEntryList)\n",
    "        end = time.time()\n",
    "        for paramEntry in resultList:\n",
    "            csvList.append(paramEntry.getCsvPoint())\n",
    "        print('Time - ',end - start)\n",
    "        i+=threadPoolSize\n",
    "        print(i,parameterGridSize)\n",
    "    return csvList\n"
   ]
  },
  {
   "cell_type": "code",
   "execution_count": 43,
   "metadata": {},
   "outputs": [],
   "source": [
    "def getParameterGrid(parameterDict):\n",
    "    parameterGrid = ParameterGrid(parameterDict)\n",
    "    return parameterGrid\n",
    "\n",
    "def getRenkoParameterDict():\n",
    "    brickHeightPercentage = [0.05, 0.1, 0.15, 0.2, 0.25, 0.3]\n",
    "    stepCount = [3,4,5,7]\n",
    "#     brickHeightPercentage = [0.1]\n",
    "#     stepCount = [3]\n",
    "\n",
    "    parameterDict = {\n",
    "                    'brickHeightPercentage' : brickHeightPercentage, \n",
    "                    'stepCount': stepCount\n",
    "                }\n",
    "    return parameterDict"
   ]
  },
  {
   "cell_type": "code",
   "execution_count": 44,
   "metadata": {},
   "outputs": [],
   "source": [
    "# stockList = futuresList\n",
    "stockList= ['RELIANCE']"
   ]
  },
  {
   "cell_type": "code",
   "execution_count": 45,
   "metadata": {
    "scrolled": false
   },
   "outputs": [
    {
     "name": "stdout",
     "output_type": "stream",
     "text": [
      "('param combination = ', 24)\n",
      "Stock Name: RELIANCE, brickHeightPercentage: 0.05, stepCount: 3, ProfitPer: 10.8800270526\n",
      "Stock Name: RELIANCE, brickHeightPercentage: 0.05, stepCount: 4, ProfitPer: 11.1136777732\n",
      "Stock Name: RELIANCE, brickHeightPercentage: 0.05, stepCount: 7, ProfitPer: 8.17639153333\n",
      "Stock Name: RELIANCE, brickHeightPercentage: 0.05, stepCount: 5, ProfitPer: 8.17698244068\n",
      "Stock Name: RELIANCE, brickHeightPercentage: 0.1, stepCount: 3, ProfitPer: 3.16982711066\n",
      "Stock Name: RELIANCE, brickHeightPercentage: 0.1, stepCount: 4, ProfitPer: 2.99321250018\n",
      "Stock Name: RELIANCE, brickHeightPercentage: 0.1, stepCount: 5, ProfitPer: 3.673524544\n",
      "Stock Name: RELIANCE, brickHeightPercentage: 0.15, stepCount: 3, ProfitPer: 0.656039089039\n",
      "Stock Name: RELIANCE, brickHeightPercentage: 0.1, stepCount: 7, ProfitPer: 5.37036767574\n",
      "Stock Name: RELIANCE, brickHeightPercentage: 0.15, stepCount: 4, ProfitPer: 1.34306333272\n",
      "Stock Name: RELIANCE, brickHeightPercentage: 0.2, stepCount: 3, ProfitPer: 2.6812010044\n",
      "Stock Name: RELIANCE, brickHeightPercentage: 0.25, stepCount: 3, ProfitPer: 0.949150597136\n",
      "Stock Name: RELIANCE, brickHeightPercentage: 0.3, stepCount: 4, ProfitPer: 1.3982007996\n",
      "Stock Name: RELIANCE, brickHeightPercentage: 0.25, stepCount: 4, ProfitPer: -1.55801819262\n",
      "Stock Name: RELIANCE, brickHeightPercentage: 0.3, stepCount: 5, ProfitPer: -1.85965765906\n",
      "Stock Name: RELIANCE, brickHeightPercentage: 0.2, stepCount: 4, ProfitPer: 1.32914882046\n",
      "Stock Name: RELIANCE, brickHeightPercentage: 0.3, stepCount: 3, ProfitPer: -0.342861582287\n",
      "Stock Name: RELIANCE, brickHeightPercentage: 0.15, stepCount: 5, ProfitPer: 1.99747764747\n",
      "Stock Name: RELIANCE, brickHeightPercentage: 0.2, stepCount: 5, ProfitPer: 0.22987113645\n",
      "Stock Name: RELIANCE, brickHeightPercentage: 0.25, stepCount: 5, ProfitPer: -0.0522027992085\n",
      "Stock Name: RELIANCE, brickHeightPercentage: 0.2, stepCount: 7, ProfitPer: 2.02072316558\n",
      "Stock Name: RELIANCE, brickHeightPercentage: 0.25, stepCount: 7, ProfitPer: -0.394424572498\n",
      "Stock Name: RELIANCE, brickHeightPercentage: 0.3, stepCount: 7, ProfitPer: -2.27922991042\n",
      "Stock Name: RELIANCE, brickHeightPercentage: 0.15, stepCount: 7, ProfitPer: 0.62004189417\n",
      "('Time - ', 8.692453145980835)\n",
      "(24, 24)\n"
     ]
    }
   ],
   "source": [
    "threadPoolSize = 24\n",
    "parameterDict = getRenkoParameterDict()\n",
    "pool = Pool(threadPoolSize)\n",
    "with open('result.csv', 'w') as f_out:\n",
    "    out_colnames = [\"stockName\",\"brickHeightPercentage\", \"stepCount\", \"profitPercentage\"]\n",
    "    csv_writer = csv.DictWriter(f_out, fieldnames = out_colnames)\n",
    "    csv_writer.writeheader()\n",
    "    for stock in stockList:\n",
    "        csvList = bruteAnalysis(stock, parameterDict, pool, threadPoolSize)\n",
    "        for point in csvList:\n",
    "            csv_writer.writerow(point)\n",
    "pool.terminate()\n",
    "pool.join()"
   ]
  },
  {
   "cell_type": "code",
   "execution_count": 6,
   "metadata": {},
   "outputs": [],
   "source": [
    "# parameterDict = getRenkoParameterDict()\n",
    "# parameterGrid = getParameterGrid(parameterDict)\n",
    "# folderName = \"IntradayData_2018\"\n",
    "# stockName = 'LUPIN_F1'\n",
    "# df, dateList = preProcessData(folderName, stockName, [], [], 'bleh')\n"
   ]
  },
  {
   "cell_type": "code",
   "execution_count": 3,
   "metadata": {},
   "outputs": [],
   "source": [
    "# money = 1\n",
    "# stockType = 'FUTURES'\n",
    "# verbose = False\n",
    "# newDay = Day(0, money, getSellEndOfDay(dateList[0], stockType))\n",
    "\n",
    "# paramEntry = parameterGrid[0]"
   ]
  },
  {
   "cell_type": "code",
   "execution_count": 4,
   "metadata": {
    "scrolled": false
   },
   "outputs": [],
   "source": [
    "# # newDay = Day(0, money)\n",
    "# for date in dateList:\n",
    "#     new_df = df[(df.date == date)]\n",
    "#     day = renkoScript(new_df, paramEntry, newDay, stockType, verbose)\n",
    "#     if verbose:\n",
    "#         print(date, newDay.money, day.money, day.dailyTrades)\n",
    "#     sellEndOfDay = getSellEndOfDay(date, stockType)\n",
    "#     day.printOpenTrade()\n",
    "#     newDay = day.initializeNextDay(sellEndOfDay)    \n",
    "#     break\n",
    "# yearlyProfitPercentage = (day.money - 1) * 100\n",
    "# print yearlyProfitPercentage    "
   ]
  },
  {
   "cell_type": "code",
   "execution_count": 17,
   "metadata": {},
   "outputs": [
    {
     "data": {
      "text/plain": [
       "96"
      ]
     },
     "execution_count": 17,
     "metadata": {},
     "output_type": "execute_result"
    }
   ],
   "source": [
    "len(futuresList)"
   ]
  },
  {
   "cell_type": "code",
   "execution_count": null,
   "metadata": {},
   "outputs": [],
   "source": []
  }
 ],
 "metadata": {
  "kernelspec": {
   "display_name": "Python 2",
   "language": "python",
   "name": "python2"
  },
  "language_info": {
   "codemirror_mode": {
    "name": "ipython",
    "version": 2
   },
   "file_extension": ".py",
   "mimetype": "text/x-python",
   "name": "python",
   "nbconvert_exporter": "python",
   "pygments_lexer": "ipython2",
   "version": "2.7.13"
  }
 },
 "nbformat": 4,
 "nbformat_minor": 2
}
