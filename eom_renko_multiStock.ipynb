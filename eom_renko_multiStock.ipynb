{
 "cells": [
  {
   "cell_type": "code",
   "execution_count": 1,
   "metadata": {},
   "outputs": [],
   "source": [
    "import time\n",
    "from multiprocessing import Pool\n",
    "from sklearn.model_selection import ParameterGrid\n",
    "import csv\n",
    "from utils.PreProcess import preProcessData\n",
    "from utils.TimeUtil import convertTime\n",
    "from scripts.dayScript import dayScript, renkoScript\n",
    "from classes.ParamEntry import ParamEntry, RenkoParamEntry\n",
    "from classes.DayEntry import Day\n",
    "from utils.TimeUtil import isLastThursdayOfMonth\n",
    "from utils.FileUtil import getFutureList\n",
    "from collections import deque\n",
    "# import copy "
   ]
  },
  {
   "cell_type": "code",
   "execution_count": 2,
   "metadata": {
    "scrolled": false
   },
   "outputs": [],
   "source": [
    "def getSellEndOfDay(currentDate, stockType):\n",
    "    if stockType == 'FUTURES':\n",
    "        return isLastThursdayOfMonth(currentDate)\n",
    "    else:\n",
    "        return True\n",
    "\n",
    "def renkoExperiment(paramList, stockType = 'FUTURES', verbose=False):\n",
    "    df, dateList, paramEntry = paramList\n",
    "    money = 1\n",
    "    newDay = Day(0, money, getSellEndOfDay(dateList[0], stockType))\n",
    "    renkoDeque = deque(maxlen=paramEntry.window)\n",
    "    for date in dateList:\n",
    "        new_df = df[(df.date == date)]\n",
    "        day = renkoScript(new_df, paramEntry, newDay, renkoDeque, stockType, verbose)\n",
    "        if verbose:\n",
    "            print(date, newDay.money, day.money, day.dailyTrades)\n",
    "            day.printOpenTrade()\n",
    "        sellEndOfDay = getSellEndOfDay(date, stockType)\n",
    "        newDay = day.initializeNextDay(sellEndOfDay)   \n",
    "    yearlyProfitPercentage = (day.money - 1) * 100\n",
    "    print(yearlyProfitPercentage)\n",
    "    paramEntry.profitPercentage = yearlyProfitPercentage\n",
    "    paramEntry.toString()\n",
    "   \n",
    "    return paramEntry"
   ]
  },
  {
   "cell_type": "code",
   "execution_count": 3,
   "metadata": {
    "scrolled": true
   },
   "outputs": [],
   "source": [
    "def bruteAnalysis(stockName, parameterDict, pool, threadPoolSize):\n",
    "    csvList = []\n",
    "    parameterGrid = getParameterGrid(parameterDict)\n",
    "    folderName = \"IntradayData_2018\"\n",
    "    df, dateList = preProcessData(folderName, stockName, [], [], 'blah')\n",
    "    parameterGridSize = len(parameterGrid)\n",
    "    print('param combination = ' , parameterGridSize)\n",
    "    i=0\n",
    "    while i<parameterGridSize:\n",
    "        paramEntryList =[]\n",
    "        for j in range(threadPoolSize):\n",
    "            if i+j < parameterGridSize:\n",
    "                params = parameterGrid[i+j]\n",
    "                paramEntry = RenkoParamEntry(params, stockName)\n",
    "                paramEntryList.append([df, dateList, paramEntry])\n",
    "        start = time.time()\n",
    "        resultList = pool.map(renkoExperiment, paramEntryList)\n",
    "        end = time.time()\n",
    "        for paramEntry in resultList:\n",
    "            csvList.append(paramEntry.getCsvPoint())\n",
    "        print('Time - ',end - start)\n",
    "        i+=threadPoolSize\n",
    "        print(i,parameterGridSize)\n",
    "    return csvList\n"
   ]
  },
  {
   "cell_type": "code",
   "execution_count": 4,
   "metadata": {},
   "outputs": [],
   "source": [
    "# stockList = ['ACC_F1','ASHOKLEY_F1','AXISBANK_F1','BHARTIARTL_F1','RELIANCE_F1','INFY_F1','WIPRO_F1','PNB_F1','SBIN_F1','SUNPHARMA_F1','GRASIM_F1','LUPIN_F1','LT_F1','HINDUNILVR_F1']\n",
    "# folderName = \"IntradayData_2018\"\n",
    "# stockList = getFutureList(folderName)\n",
    "stockList = ['RELIANCE_F1']"
   ]
  },
  {
   "cell_type": "code",
   "execution_count": 5,
   "metadata": {},
   "outputs": [],
   "source": [
    "def getParameterGrid(parameterDict):\n",
    "    parameterGrid = ParameterGrid(parameterDict)\n",
    "    return parameterGrid\n",
    "\n",
    "def getRenkoParameterDict():\n",
    "    window = [3]\n",
    "    width = [1]\n",
    "    parameterDict = {\n",
    "                    'width' : width, \n",
    "                    'window': window\n",
    "                }\n",
    "    return parameterDict\n",
    "\n",
    "def getParameterDict():\n",
    "    # # #old\n",
    "#     shortTerm = [1,4,12,20]\n",
    "#     longTerm = [100,200,500,1000]\n",
    "#     targetPercentage = [0.01, 0.05, 0.075]\n",
    "#     stopLossPercentage = [0.002, 0.006, 0.008, 0.010]\n",
    "#     entryDifference = [0.00001, 0.00005, 0.00010, 0.0002]\n",
    "    # # #new\n",
    "#     shortTerm = [4,8,12,16]\n",
    "#     longTerm = [100,200,300,400,500]\n",
    "#     targetPercentage = [0.01, 0.05, 0.075]\n",
    "#     stopLossPercentage = [0.006, 0.007, 0.008, 0.010]\n",
    "#     entryDifference = [0.00005, 0.000075, 0.0001]\n",
    "    # # # #v3\n",
    "    shortTerm = [2,3,4,6,8,10,12,14,16]\n",
    "    longTerm = [100,150,200,250,300,400]\n",
    "    targetPercentage = [0.01]\n",
    "    stopLossPercentage = [0.008]\n",
    "    entryDifference = [0.00005]\n",
    "    parameterDict = {\n",
    "                    'shortTerm' : shortTerm, \n",
    "                    'longTerm': longTerm, \n",
    "                    'targetPercentage': targetPercentage, \n",
    "                    'stopLossPercentage': stopLossPercentage, \n",
    "                    'entryDifference':entryDifference\n",
    "                }\n",
    "    return parameterDict\n"
   ]
  },
  {
   "cell_type": "code",
   "execution_count": 6,
   "metadata": {
    "scrolled": false
   },
   "outputs": [
    {
     "name": "stdout",
     "output_type": "stream",
     "text": [
      "('param combination = ', 1)\n",
      "21.0712430837\n",
      "Stock Name: RELIANCE_F1, Width: 1, Window: 3, ProfitPer: 21.0712430837\n",
      "('Time - ', 18.32077693939209)\n",
      "(1, 1)\n"
     ]
    }
   ],
   "source": [
    "threadPoolSize = 1\n",
    "parameterDict = getRenkoParameterDict()\n",
    "pool = Pool(threadPoolSize)\n",
    "with open('result.csv', 'w') as f_out:\n",
    "    out_colnames = [\"stockName\",\"width\", \"window\",\"profitPercentage\"]\n",
    "    csv_writer = csv.DictWriter(f_out, fieldnames = out_colnames)\n",
    "    csv_writer.writeheader()\n",
    "    for stock in stockList:\n",
    "        csvList = bruteAnalysis(stock, parameterDict, pool, threadPoolSize)\n",
    "        for point in csvList:\n",
    "            csv_writer.writerow(point)\n",
    "        break\n",
    "pool.terminate()\n",
    "pool.join()"
   ]
  },
  {
   "cell_type": "code",
   "execution_count": null,
   "metadata": {},
   "outputs": [],
   "source": [
    "\n"
   ]
  },
  {
   "cell_type": "code",
   "execution_count": 13,
   "metadata": {},
   "outputs": [],
   "source": [
    "parameterDict = getRenkoParameterDict()\n",
    "parameterGrid = getParameterGrid(parameterDict)\n",
    "folderName = \"IntradayData_2018\"\n",
    "stockName = 'LUPIN_F1'\n",
    "df, dateList = preProcessData(folderName, stockName, [], [], 'bleh')\n"
   ]
  },
  {
   "cell_type": "code",
   "execution_count": 10,
   "metadata": {},
   "outputs": [],
   "source": [
    "money = 1\n",
    "stockType = 'FUTURES'\n",
    "verbose = False\n",
    "newDay = Day(0, money, getSellEndOfDay(dateList[0], stockType))\n",
    "\n",
    "paramEntry = parameterGrid[0]"
   ]
  },
  {
   "cell_type": "code",
   "execution_count": 9,
   "metadata": {
    "scrolled": false
   },
   "outputs": [
    {
     "ename": "UnboundLocalError",
     "evalue": "local variable 'marketOpen' referenced before assignment",
     "output_type": "error",
     "traceback": [
      "\u001b[0;31m---------------------------------------------------------------------------\u001b[0m",
      "\u001b[0;31mUnboundLocalError\u001b[0m                         Traceback (most recent call last)",
      "\u001b[0;32m<ipython-input-9-4b56a9184d96>\u001b[0m in \u001b[0;36m<module>\u001b[0;34m()\u001b[0m\n\u001b[1;32m      2\u001b[0m \u001b[0;32mfor\u001b[0m \u001b[0mdate\u001b[0m \u001b[0;32min\u001b[0m \u001b[0mdateList\u001b[0m\u001b[0;34m:\u001b[0m\u001b[0;34m\u001b[0m\u001b[0m\n\u001b[1;32m      3\u001b[0m     \u001b[0mnew_df\u001b[0m \u001b[0;34m=\u001b[0m \u001b[0mdf\u001b[0m\u001b[0;34m[\u001b[0m\u001b[0;34m(\u001b[0m\u001b[0mdf\u001b[0m\u001b[0;34m.\u001b[0m\u001b[0mdate\u001b[0m \u001b[0;34m==\u001b[0m \u001b[0mdate\u001b[0m\u001b[0;34m)\u001b[0m\u001b[0;34m]\u001b[0m\u001b[0;34m\u001b[0m\u001b[0m\n\u001b[0;32m----> 4\u001b[0;31m     \u001b[0mday\u001b[0m \u001b[0;34m=\u001b[0m \u001b[0mrenkoScript\u001b[0m\u001b[0;34m(\u001b[0m\u001b[0mnew_df\u001b[0m\u001b[0;34m,\u001b[0m \u001b[0mparamEntry\u001b[0m\u001b[0;34m,\u001b[0m \u001b[0mnewDay\u001b[0m\u001b[0;34m,\u001b[0m \u001b[0mstockType\u001b[0m\u001b[0;34m,\u001b[0m \u001b[0mverbose\u001b[0m\u001b[0;34m)\u001b[0m\u001b[0;34m\u001b[0m\u001b[0m\n\u001b[0m\u001b[1;32m      5\u001b[0m     \u001b[0;32mif\u001b[0m \u001b[0mverbose\u001b[0m\u001b[0;34m:\u001b[0m\u001b[0;34m\u001b[0m\u001b[0m\n\u001b[1;32m      6\u001b[0m         \u001b[0;32mprint\u001b[0m\u001b[0;34m(\u001b[0m\u001b[0mdate\u001b[0m\u001b[0;34m,\u001b[0m \u001b[0mnewDay\u001b[0m\u001b[0;34m.\u001b[0m\u001b[0mmoney\u001b[0m\u001b[0;34m,\u001b[0m \u001b[0mday\u001b[0m\u001b[0;34m.\u001b[0m\u001b[0mmoney\u001b[0m\u001b[0;34m,\u001b[0m \u001b[0mday\u001b[0m\u001b[0;34m.\u001b[0m\u001b[0mdailyTrades\u001b[0m\u001b[0;34m)\u001b[0m\u001b[0;34m\u001b[0m\u001b[0m\n",
      "\u001b[0;32m/Users/300006798/Documents/WorkSpace/IntraDay/scripts/dayScript.py\u001b[0m in \u001b[0;36mrenkoScript\u001b[0;34m(df, param, day, renkoDeque, stockType, verbose)\u001b[0m\n\u001b[1;32m    104\u001b[0m     \u001b[0;32mif\u001b[0m \u001b[0mday\u001b[0m\u001b[0;34m.\u001b[0m\u001b[0mcurrentTrade\u001b[0m\u001b[0;34m:\u001b[0m\u001b[0;34m\u001b[0m\u001b[0m\n\u001b[1;32m    105\u001b[0m         \u001b[0mtrade\u001b[0m \u001b[0;34m=\u001b[0m \u001b[0mday\u001b[0m\u001b[0;34m.\u001b[0m\u001b[0mcurrentTrade\u001b[0m\u001b[0;34m\u001b[0m\u001b[0m\n\u001b[0;32m--> 106\u001b[0;31m     \u001b[0mmarketOpen\u001b[0m\u001b[0;34m,\u001b[0m \u001b[0mmarketClose\u001b[0m \u001b[0;34m=\u001b[0m \u001b[0mgetMarketDetails\u001b[0m\u001b[0;34m(\u001b[0m\u001b[0mstockType\u001b[0m\u001b[0;34m)\u001b[0m\u001b[0;34m\u001b[0m\u001b[0m\n\u001b[0m\u001b[1;32m    107\u001b[0m     \u001b[0;32mfor\u001b[0m \u001b[0mrow\u001b[0m \u001b[0;32min\u001b[0m \u001b[0mdf\u001b[0m\u001b[0;34m.\u001b[0m\u001b[0miterrows\u001b[0m\u001b[0;34m(\u001b[0m\u001b[0;34m)\u001b[0m\u001b[0;34m:\u001b[0m\u001b[0;34m\u001b[0m\u001b[0m\n\u001b[1;32m    108\u001b[0m         \u001b[0mminute\u001b[0m \u001b[0;34m=\u001b[0m \u001b[0mMinute\u001b[0m\u001b[0;34m(\u001b[0m\u001b[0mrow\u001b[0m\u001b[0;34m,\u001b[0m \u001b[0;36m0\u001b[0m\u001b[0;34m,\u001b[0m \u001b[0;36m0\u001b[0m\u001b[0;34m)\u001b[0m\u001b[0;34m\u001b[0m\u001b[0m\n",
      "\u001b[0;32m/Users/300006798/Documents/WorkSpace/IntraDay/utils/TimeUtil.pyc\u001b[0m in \u001b[0;36mgetMarketDetails\u001b[0;34m(stockType)\u001b[0m\n\u001b[1;32m     25\u001b[0m         \u001b[0mmarketOpen\u001b[0m \u001b[0;34m=\u001b[0m \u001b[0;36m540\u001b[0m\u001b[0;34m\u001b[0m\u001b[0m\n\u001b[1;32m     26\u001b[0m         \u001b[0mmarketClose\u001b[0m \u001b[0;34m=\u001b[0m \u001b[0;36m930\u001b[0m\u001b[0;34m\u001b[0m\u001b[0m\n\u001b[0;32m---> 27\u001b[0;31m     \u001b[0;32mreturn\u001b[0m \u001b[0mmarketOpen\u001b[0m\u001b[0;34m,\u001b[0m \u001b[0mmarketClose\u001b[0m\u001b[0;34m\u001b[0m\u001b[0m\n\u001b[0m",
      "\u001b[0;31mUnboundLocalError\u001b[0m: local variable 'marketOpen' referenced before assignment"
     ]
    }
   ],
   "source": [
    "# newDay = Day(0, money)\n",
    "for date in dateList:\n",
    "    new_df = df[(df.date == date)]\n",
    "    day = renkoScript(new_df, paramEntry, newDay, stockType, verbose)\n",
    "    if verbose:\n",
    "        print(date, newDay.money, day.money, day.dailyTrades)\n",
    "    sellEndOfDay = getSellEndOfDay(date, stockType)\n",
    "    day.printOpenTrade()\n",
    "    newDay = day.initializeNextDay(sellEndOfDay)    \n",
    "    break\n",
    "yearlyProfitPercentage = (day.money - 1) * 100\n",
    "print yearlyProfitPercentage    "
   ]
  },
  {
   "cell_type": "code",
   "execution_count": 7,
   "metadata": {},
   "outputs": [],
   "source": [
    "renkoDeque = deque(maxlen=10)\n",
    "renkoDeque.append(1)\n",
    "renkoDeque.append(2)\n"
   ]
  },
  {
   "cell_type": "code",
   "execution_count": 8,
   "metadata": {},
   "outputs": [
    {
     "data": {
      "text/plain": [
       "2"
      ]
     },
     "execution_count": 8,
     "metadata": {},
     "output_type": "execute_result"
    }
   ],
   "source": [
    "len(renkoDeque)"
   ]
  },
  {
   "cell_type": "code",
   "execution_count": 17,
   "metadata": {},
   "outputs": [
    {
     "data": {
      "text/plain": [
       "1"
      ]
     },
     "execution_count": 17,
     "metadata": {},
     "output_type": "execute_result"
    }
   ],
   "source": [
    "renkoDeque.pop()"
   ]
  },
  {
   "cell_type": "code",
   "execution_count": 18,
   "metadata": {},
   "outputs": [
    {
     "data": {
      "text/plain": [
       "0"
      ]
     },
     "execution_count": 18,
     "metadata": {},
     "output_type": "execute_result"
    }
   ],
   "source": [
    "len(renkoDeque)"
   ]
  },
  {
   "cell_type": "code",
   "execution_count": 19,
   "metadata": {},
   "outputs": [
    {
     "name": "stdout",
     "output_type": "stream",
     "text": [
      "deque([1, 2], maxlen=10)\n"
     ]
    }
   ],
   "source": [
    "print(renkoDeque)"
   ]
  },
  {
   "cell_type": "code",
   "execution_count": 14,
   "metadata": {},
   "outputs": [],
   "source": [
    "\n",
    "def getNewRenko(lastRenko, minute, width):\n",
    "    if minute.high > lastRenko.high + width:\n",
    "        renko = Renko(lastRenko.high, lastRenko.high + width)\n",
    "    elif minute.low < lastRenko.low - width:\n",
    "        renko = Renko(lastRenko.low - width, lastRenko.low)\n",
    "    else:\n",
    "        return None\n",
    "    return renko\n",
    "\n",
    "\n",
    "def printRenkoDeque(renkoDeque):\n",
    "    if len(renkoDeque)>0:\n",
    "        for i in renkoDeque:\n",
    "            i.toString()\n",
    "    else:\n",
    "        print('empty')\n",
    "\n",
    "\n",
    "def generateRenko(minute, renkoDeque, width, window):\n",
    "    # import pdb;pdb.set_trace()\n",
    "    #Check if renkoList is empty\n",
    "    #check if it has one entry at least\n",
    "    # print(renkoDeque)\n",
    "    size = len(renkoDeque)\n",
    "    print('Entered generateRenko fn, size = ',size)\n",
    "    print('before size loop')\n",
    "    printRenkoDeque(renkoDeque)\n",
    "    print('-------')\n",
    "    if size == 0:\n",
    "        newRenko = Renko(minute.openingPrice, minute.openingPrice)\n",
    "        print('created first renko object')\n",
    "        newRenko.toString()\n",
    "        print('*******')\n",
    "        renkoDeque.append(newRenko)\n",
    "        print('after appending')\n",
    "        printRenkoDeque(renkoDeque)\n",
    "    else:\n",
    "        lastRenko = renkoDeque[-1]\n",
    "        newRenko = getNewRenko(lastRenko, minute, width)\n",
    "        if newRenko:\n",
    "            print('created another renko object')\n",
    "            newRenko.toString()\n",
    "            if size == window:\n",
    "                renkoDeque.popleft()\n",
    "                print('popped old object')\n",
    "            renkoDeque.append(newRenko)\n",
    "            print('^^^^^')\n",
    "    print('after size loop')\n",
    "    printRenkoDeque(renkoDeque)\n",
    "    print('\\n')\n",
    "    return renkoDeque\n"
   ]
  },
  {
   "cell_type": "code",
   "execution_count": 8,
   "metadata": {},
   "outputs": [],
   "source": [
    "renkoDeque = deque(maxlen=3)"
   ]
  },
  {
   "cell_type": "code",
   "execution_count": 13,
   "metadata": {},
   "outputs": [],
   "source": [
    "from classes.RenkoEntry import Renko\n",
    "from classes.MinuteEntry import Minute"
   ]
  },
  {
   "cell_type": "code",
   "execution_count": 17,
   "metadata": {
    "scrolled": false
   },
   "outputs": [
    {
     "name": "stdout",
     "output_type": "stream",
     "text": [
      "('Entered generateRenko fn, size = ', 0)\n",
      "before size loop\n",
      "empty\n",
      "-------\n",
      "created first renko object\n",
      "low - 891.45, high - 891.45, type - 0\n",
      "*******\n",
      "after appending\n",
      "low - 891.45, high - 891.45, type - 0\n",
      "after size loop\n",
      "low - 891.45, high - 891.45, type - 0\n",
      "\n",
      "\n",
      "a\n",
      "low - 891.45, high - 891.45, type - 0\n",
      "b\n",
      "('Entered generateRenko fn, size = ', 1)\n",
      "before size loop\n",
      "low - 891.45, high - 891.45, type - 0\n",
      "-------\n",
      "created another renko object\n",
      "low - 891.45, high - 891.457, type - 1\n",
      "^^^^^\n",
      "after size loop\n",
      "low - 891.45, high - 891.45, type - 0\n",
      "low - 891.45, high - 891.457, type - 1\n",
      "\n",
      "\n",
      "a\n",
      "low - 891.45, high - 891.45, type - 0\n",
      "low - 891.45, high - 891.457, type - 1\n",
      "b\n"
     ]
    }
   ],
   "source": [
    "width = 0.007\n",
    "window =3\n",
    "for row in df[:2].iterrows():\n",
    "    minute = Minute(row, 0, 0)\n",
    "    renkoDeque = generateRenko(minute, renkoDeque, width, window)\n",
    "    print 'a'\n",
    "    printRenkoDeque(renkoDeque)\n",
    "    print 'b'"
   ]
  },
  {
   "cell_type": "code",
   "execution_count": 15,
   "metadata": {},
   "outputs": [],
   "source": [
    "lastRenko = Renko(891.45, 891.45)\n",
    "# newRenko = getNewRenko(lastRenko, minute, width)"
   ]
  },
  {
   "cell_type": "code",
   "execution_count": 69,
   "metadata": {},
   "outputs": [],
   "source": [
    "if newRenko:\n",
    "    print newRenko.toString()"
   ]
  },
  {
   "cell_type": "code",
   "execution_count": 16,
   "metadata": {},
   "outputs": [],
   "source": [
    "renkoDeque.append(lastRenko)"
   ]
  },
  {
   "cell_type": "code",
   "execution_count": 71,
   "metadata": {},
   "outputs": [
    {
     "name": "stdout",
     "output_type": "stream",
     "text": [
      "low - 891.45, high - 891.45, type - 0\n"
     ]
    }
   ],
   "source": [
    "printRenkoDeque(renkoDeque)"
   ]
  },
  {
   "cell_type": "code",
   "execution_count": 17,
   "metadata": {},
   "outputs": [
    {
     "name": "stdout",
     "output_type": "stream",
     "text": [
      "deque([<classes.RenkoEntry.Renko instance at 0x101683908>], maxlen=3)\n"
     ]
    }
   ],
   "source": [
    "print(renkoDeque)"
   ]
  },
  {
   "cell_type": "code",
   "execution_count": null,
   "metadata": {},
   "outputs": [],
   "source": []
  }
 ],
 "metadata": {
  "kernelspec": {
   "display_name": "Python 2",
   "language": "python",
   "name": "python2"
  },
  "language_info": {
   "codemirror_mode": {
    "name": "ipython",
    "version": 2
   },
   "file_extension": ".py",
   "mimetype": "text/x-python",
   "name": "python",
   "nbconvert_exporter": "python",
   "pygments_lexer": "ipython2",
   "version": "2.7.13"
  }
 },
 "nbformat": 4,
 "nbformat_minor": 2
}
