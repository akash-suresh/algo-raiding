{
 "cells": [
  {
   "cell_type": "code",
   "execution_count": 1,
   "metadata": {},
   "outputs": [],
   "source": [
    "import time\n",
    "import logging\n",
    "from kiteconnect import KiteTicker\n",
    "logger = logging.getLogger()\n",
    "logging.basicConfig(level=logging.DEBUG)\n",
    "import datetime\n",
    "from utils.RenkoUtil import *\n",
    "from classes.DayEntry import Day\n",
    "from classes.MinuteEntry import Minute\n",
    "from classes.TradeEntry import Trade\n",
    "from collections import deque\n",
    "import thread"
   ]
  },
  {
   "cell_type": "code",
   "execution_count": 2,
   "metadata": {},
   "outputs": [
    {
     "name": "stderr",
     "output_type": "stream",
     "text": [
      "DEBUG:root:size of queue: 0\n",
      "DEBUG:root:empty queue\n"
     ]
    }
   ],
   "source": [
    "#initialize\n",
    "money = 1\n",
    "day = Day(0, money, False)\n",
    "stepCount = 3\n",
    "brickHeight = 0.1\n",
    "renkoDeque = deque(maxlen=stepCount)\n",
    "printRenkoDeque(renkoDeque)"
   ]
  },
  {
   "cell_type": "code",
   "execution_count": 3,
   "metadata": {},
   "outputs": [],
   "source": [
    "def tickScript(tick):\n",
    "    verbose = False\n",
    "    global day\n",
    "    global renkoDeque\n",
    "    global stepCount\n",
    "    global brickHeight\n",
    "    logging.info('Inside tickfunction that one')\n",
    "    minute = Minute(tick['timestamp'], tick['last_price'])\n",
    "    renkoDeque, newRenko = generateRenko(minute, renkoDeque, brickHeight, stepCount, verbose)\n",
    "    printRenkoDeque(renkoDeque)\n",
    "    while newRenko:\n",
    "        if len(renkoDeque) == stepCount:\n",
    "    #             if marketOpen <= minute.time < marketClose:\n",
    "            logging.info(\"Boughtflag: {}\".format(day.boughtFlag))\n",
    "            if day.boughtFlag == 0:\n",
    "                #market enter logic\n",
    "                if getEmotion(renkoDeque) == stepCount:\n",
    "                    #buy\n",
    "                    day.boughtFlag = 1\n",
    "                    day.currentTrade = Trade(minute.listPrice, minute.time, 0, 0, day.boughtFlag)\n",
    "                    logging.info('Long trade {}'.format(day.currentTrade.enterPrice))\n",
    "\n",
    "                elif getEmotion(renkoDeque) == -1 * stepCount:\n",
    "                    #sell\n",
    "                    day.boughtFlag = -1\n",
    "                    day.currentTrade  = Trade(minute.listPrice, minute.time, 0, 0, day.boughtFlag)\n",
    "                    logging.info('Short trade {}'.format(day.currentTrade.enterPrice))\n",
    "\n",
    "            elif day.boughtFlag == 1:\n",
    "                #market exit logic (when already bought)\n",
    "                if renkoExitLogic(renkoDeque, stepCount, day.boughtFlag):\n",
    "                    logging.info('exiting trade, enter: {} exit: {}'.format(day.currentTrade.enterPrice, minute.listPrice))\n",
    "                    day.currentTrade.exitTrade('renkoExit', minute.time, minute.listPrice, verbose = True)\n",
    "                    day.addTrade(day.currentTrade)\n",
    "                    logging.info('Long exit')\n",
    "            else:\n",
    "                #market exit logic (when already sold)\n",
    "                if renkoExitLogic(renkoDeque, stepCount, day.boughtFlag):\n",
    "                    logging.info('exiting trade, enter: {} exit: {}'.format(day.currentTrade.enterPrice, minute.listPrice))\n",
    "                    day.currentTrade.exitTrade('renkoExit', minute.time, minute.listPrice, verbose = True)\n",
    "                    day.addTrade(day.currentTrade)\n",
    "                    logging.info('Short exit')\n",
    "        renkoDeque, newRenko = generateRenko(minute, renkoDeque, brickHeight, stepCount, verbose)\n",
    "    #         elif minute.time >= marketClose and day.sellEndOfDay:\n",
    "    #             if day.boughtFlag == 1:\n",
    "    #change to currentTrade\n",
    "    #                 trade.exitTrade('eod', minute.time, minute.closingPrice, verbose)\n",
    "    #                 day.addTrade(trade)\n",
    "    #             elif day.boughtFlag == -1:\n",
    "    #                 trade.exitTrade('eod', minute.time, minute.closingPrice, verbose)\n",
    "    #                 day.addTrade(trade)"
   ]
  },
  {
   "cell_type": "code",
   "execution_count": null,
   "metadata": {},
   "outputs": [],
   "source": []
  },
  {
   "cell_type": "code",
   "execution_count": 4,
   "metadata": {
    "scrolled": false
   },
   "outputs": [
    {
     "name": "stderr",
     "output_type": "stream",
     "text": [
      "DEBUG:root:Ticks: 117.8\n",
      "INFO:root:Inside tickfunction that one\n",
      "DEBUG:root:size of queue: 1\n"
     ]
    },
    {
     "name": "stdout",
     "output_type": "stream",
     "text": [
      "time: 2019-05-14 10:08:43, low: 117.8, high: 117.8, type: 0\n"
     ]
    },
    {
     "name": "stderr",
     "output_type": "stream",
     "text": [
      "DEBUG:root:Ticks: 117.8\n",
      "INFO:root:Inside tickfunction that one\n",
      "DEBUG:root:size of queue: 1\n"
     ]
    },
    {
     "name": "stdout",
     "output_type": "stream",
     "text": [
      "time: 2019-05-14 10:08:43, low: 117.8, high: 117.8, type: 0\n"
     ]
    },
    {
     "name": "stderr",
     "output_type": "stream",
     "text": [
      "DEBUG:root:Ticks: 117.8\n",
      "INFO:root:Inside tickfunction that one\n",
      "DEBUG:root:size of queue: 1\n"
     ]
    },
    {
     "name": "stdout",
     "output_type": "stream",
     "text": [
      "time: 2019-05-14 10:08:43, low: 117.8, high: 117.8, type: 0\n"
     ]
    },
    {
     "name": "stderr",
     "output_type": "stream",
     "text": [
      "DEBUG:root:Ticks: 117.8\n",
      "INFO:root:Inside tickfunction that one\n",
      "DEBUG:root:size of queue: 1\n"
     ]
    },
    {
     "name": "stdout",
     "output_type": "stream",
     "text": [
      "time: 2019-05-14 10:08:43, low: 117.8, high: 117.8, type: 0\n"
     ]
    },
    {
     "name": "stderr",
     "output_type": "stream",
     "text": [
      "DEBUG:root:Ticks: 117.85\n",
      "INFO:root:Inside tickfunction that one\n",
      "DEBUG:root:size of queue: 1\n"
     ]
    },
    {
     "name": "stdout",
     "output_type": "stream",
     "text": [
      "time: 2019-05-14 10:08:43, low: 117.8, high: 117.8, type: 0\n"
     ]
    },
    {
     "name": "stderr",
     "output_type": "stream",
     "text": [
      "DEBUG:root:Ticks: 117.85\n",
      "INFO:root:Inside tickfunction that one\n",
      "DEBUG:root:size of queue: 1\n"
     ]
    },
    {
     "name": "stdout",
     "output_type": "stream",
     "text": [
      "time: 2019-05-14 10:08:43, low: 117.8, high: 117.8, type: 0\n"
     ]
    },
    {
     "name": "stderr",
     "output_type": "stream",
     "text": [
      "DEBUG:root:Ticks: 117.85\n",
      "INFO:root:Inside tickfunction that one\n",
      "DEBUG:root:size of queue: 1\n"
     ]
    },
    {
     "name": "stdout",
     "output_type": "stream",
     "text": [
      "time: 2019-05-14 10:08:43, low: 117.8, high: 117.8, type: 0\n"
     ]
    },
    {
     "name": "stderr",
     "output_type": "stream",
     "text": [
      "DEBUG:root:Ticks: 117.85\n",
      "INFO:root:Inside tickfunction that one\n",
      "DEBUG:root:size of queue: 1\n"
     ]
    },
    {
     "name": "stdout",
     "output_type": "stream",
     "text": [
      "time: 2019-05-14 10:08:43, low: 117.8, high: 117.8, type: 0\n"
     ]
    },
    {
     "name": "stderr",
     "output_type": "stream",
     "text": [
      "DEBUG:root:Ticks: 117.8\n",
      "INFO:root:Inside tickfunction that one\n",
      "DEBUG:root:size of queue: 1\n"
     ]
    },
    {
     "name": "stdout",
     "output_type": "stream",
     "text": [
      "time: 2019-05-14 10:08:43, low: 117.8, high: 117.8, type: 0\n"
     ]
    },
    {
     "name": "stderr",
     "output_type": "stream",
     "text": [
      "DEBUG:root:Ticks: 117.8\n",
      "INFO:root:Inside tickfunction that one\n",
      "DEBUG:root:size of queue: 1\n"
     ]
    },
    {
     "name": "stdout",
     "output_type": "stream",
     "text": [
      "time: 2019-05-14 10:08:43, low: 117.8, high: 117.8, type: 0\n"
     ]
    },
    {
     "name": "stderr",
     "output_type": "stream",
     "text": [
      "DEBUG:root:Ticks: 117.8\n",
      "INFO:root:Inside tickfunction that one\n",
      "DEBUG:root:size of queue: 1\n"
     ]
    },
    {
     "name": "stdout",
     "output_type": "stream",
     "text": [
      "time: 2019-05-14 10:08:43, low: 117.8, high: 117.8, type: 0\n"
     ]
    },
    {
     "name": "stderr",
     "output_type": "stream",
     "text": [
      "DEBUG:root:Ticks: 117.8\n",
      "INFO:root:Inside tickfunction that one\n",
      "DEBUG:root:size of queue: 1\n"
     ]
    },
    {
     "name": "stdout",
     "output_type": "stream",
     "text": [
      "time: 2019-05-14 10:08:43, low: 117.8, high: 117.8, type: 0\n"
     ]
    },
    {
     "name": "stderr",
     "output_type": "stream",
     "text": [
      "DEBUG:root:Ticks: 117.8\n",
      "INFO:root:Inside tickfunction that one\n",
      "DEBUG:root:size of queue: 1\n"
     ]
    },
    {
     "name": "stdout",
     "output_type": "stream",
     "text": [
      "time: 2019-05-14 10:08:43, low: 117.8, high: 117.8, type: 0\n"
     ]
    },
    {
     "name": "stderr",
     "output_type": "stream",
     "text": [
      "DEBUG:root:Ticks: 117.8\n",
      "INFO:root:Inside tickfunction that one\n",
      "DEBUG:root:size of queue: 1\n"
     ]
    },
    {
     "name": "stdout",
     "output_type": "stream",
     "text": [
      "time: 2019-05-14 10:08:43, low: 117.8, high: 117.8, type: 0\n"
     ]
    },
    {
     "name": "stderr",
     "output_type": "stream",
     "text": [
      "DEBUG:root:Ticks: 117.8\n",
      "INFO:root:Inside tickfunction that one\n",
      "DEBUG:root:size of queue: 1\n"
     ]
    },
    {
     "name": "stdout",
     "output_type": "stream",
     "text": [
      "time: 2019-05-14 10:08:43, low: 117.8, high: 117.8, type: 0\n"
     ]
    },
    {
     "name": "stderr",
     "output_type": "stream",
     "text": [
      "DEBUG:root:Ticks: 117.8\n",
      "INFO:root:Inside tickfunction that one\n",
      "DEBUG:root:size of queue: 1\n"
     ]
    },
    {
     "name": "stdout",
     "output_type": "stream",
     "text": [
      "time: 2019-05-14 10:08:43, low: 117.8, high: 117.8, type: 0\n"
     ]
    },
    {
     "name": "stderr",
     "output_type": "stream",
     "text": [
      "DEBUG:root:Ticks: 117.8\n",
      "INFO:root:Inside tickfunction that one\n",
      "DEBUG:root:size of queue: 1\n"
     ]
    },
    {
     "name": "stdout",
     "output_type": "stream",
     "text": [
      "time: 2019-05-14 10:08:43, low: 117.8, high: 117.8, type: 0\n"
     ]
    },
    {
     "name": "stderr",
     "output_type": "stream",
     "text": [
      "DEBUG:root:Ticks: 117.8\n",
      "INFO:root:Inside tickfunction that one\n",
      "DEBUG:root:size of queue: 1\n"
     ]
    },
    {
     "name": "stdout",
     "output_type": "stream",
     "text": [
      "time: 2019-05-14 10:08:43, low: 117.8, high: 117.8, type: 0\n"
     ]
    },
    {
     "name": "stderr",
     "output_type": "stream",
     "text": [
      "DEBUG:root:Ticks: 117.8\n",
      "INFO:root:Inside tickfunction that one\n",
      "DEBUG:root:size of queue: 1\n"
     ]
    },
    {
     "name": "stdout",
     "output_type": "stream",
     "text": [
      "time: 2019-05-14 10:08:43, low: 117.8, high: 117.8, type: 0\n"
     ]
    },
    {
     "name": "stderr",
     "output_type": "stream",
     "text": [
      "DEBUG:root:Ticks: 117.8\n",
      "INFO:root:Inside tickfunction that one\n",
      "DEBUG:root:size of queue: 1\n"
     ]
    },
    {
     "name": "stdout",
     "output_type": "stream",
     "text": [
      "time: 2019-05-14 10:08:43, low: 117.8, high: 117.8, type: 0\n"
     ]
    },
    {
     "name": "stderr",
     "output_type": "stream",
     "text": [
      "DEBUG:root:Ticks: 117.8\n",
      "INFO:root:Inside tickfunction that one\n",
      "DEBUG:root:size of queue: 1\n"
     ]
    },
    {
     "name": "stdout",
     "output_type": "stream",
     "text": [
      "time: 2019-05-14 10:08:43, low: 117.8, high: 117.8, type: 0\n"
     ]
    },
    {
     "name": "stderr",
     "output_type": "stream",
     "text": [
      "DEBUG:root:Ticks: 117.7\n",
      "INFO:root:Inside tickfunction that one\n",
      "DEBUG:root:size of queue: 2\n"
     ]
    },
    {
     "name": "stdout",
     "output_type": "stream",
     "text": [
      "time: 2019-05-14 10:08:43, low: 117.8, high: 117.8, type: 0\n",
      "time: 2019-05-14 10:09:05, low: 117.7, high: 117.8, type: -1\n"
     ]
    },
    {
     "name": "stderr",
     "output_type": "stream",
     "text": [
      "DEBUG:root:Ticks: 117.7\n",
      "INFO:root:Inside tickfunction that one\n",
      "DEBUG:root:size of queue: 2\n"
     ]
    },
    {
     "name": "stdout",
     "output_type": "stream",
     "text": [
      "time: 2019-05-14 10:08:43, low: 117.8, high: 117.8, type: 0\n",
      "time: 2019-05-14 10:09:05, low: 117.7, high: 117.8, type: -1\n"
     ]
    },
    {
     "name": "stderr",
     "output_type": "stream",
     "text": [
      "DEBUG:root:Ticks: 117.7\n",
      "INFO:root:Inside tickfunction that one\n",
      "DEBUG:root:size of queue: 2\n"
     ]
    },
    {
     "name": "stdout",
     "output_type": "stream",
     "text": [
      "time: 2019-05-14 10:08:43, low: 117.8, high: 117.8, type: 0\n",
      "time: 2019-05-14 10:09:05, low: 117.7, high: 117.8, type: -1\n"
     ]
    },
    {
     "name": "stderr",
     "output_type": "stream",
     "text": [
      "DEBUG:root:Ticks: 117.7\n",
      "INFO:root:Inside tickfunction that one\n",
      "DEBUG:root:size of queue: 2\n"
     ]
    },
    {
     "name": "stdout",
     "output_type": "stream",
     "text": [
      "time: 2019-05-14 10:08:43, low: 117.8, high: 117.8, type: 0\n",
      "time: 2019-05-14 10:09:05, low: 117.7, high: 117.8, type: -1\n"
     ]
    },
    {
     "name": "stderr",
     "output_type": "stream",
     "text": [
      "DEBUG:root:Ticks: 117.65\n",
      "INFO:root:Inside tickfunction that one\n",
      "DEBUG:root:size of queue: 2\n"
     ]
    },
    {
     "name": "stdout",
     "output_type": "stream",
     "text": [
      "time: 2019-05-14 10:08:43, low: 117.8, high: 117.8, type: 0\n",
      "time: 2019-05-14 10:09:05, low: 117.7, high: 117.8, type: -1\n"
     ]
    },
    {
     "name": "stderr",
     "output_type": "stream",
     "text": [
      "DEBUG:root:Ticks: 117.85\n",
      "INFO:root:Inside tickfunction that one\n",
      "DEBUG:root:size of queue: 2\n"
     ]
    },
    {
     "name": "stdout",
     "output_type": "stream",
     "text": [
      "time: 2019-05-14 10:08:43, low: 117.8, high: 117.8, type: 0\n",
      "time: 2019-05-14 10:09:05, low: 117.7, high: 117.8, type: -1\n"
     ]
    },
    {
     "name": "stderr",
     "output_type": "stream",
     "text": [
      "DEBUG:root:Ticks: 117.85\n",
      "INFO:root:Inside tickfunction that one\n",
      "DEBUG:root:size of queue: 2\n"
     ]
    },
    {
     "name": "stdout",
     "output_type": "stream",
     "text": [
      "time: 2019-05-14 10:08:43, low: 117.8, high: 117.8, type: 0\n",
      "time: 2019-05-14 10:09:05, low: 117.7, high: 117.8, type: -1\n"
     ]
    },
    {
     "name": "stderr",
     "output_type": "stream",
     "text": [
      "DEBUG:root:Ticks: 117.75\n",
      "INFO:root:Inside tickfunction that one\n",
      "DEBUG:root:size of queue: 2\n"
     ]
    },
    {
     "name": "stdout",
     "output_type": "stream",
     "text": [
      "time: 2019-05-14 10:08:43, low: 117.8, high: 117.8, type: 0\n",
      "time: 2019-05-14 10:09:05, low: 117.7, high: 117.8, type: -1\n"
     ]
    },
    {
     "name": "stderr",
     "output_type": "stream",
     "text": [
      "DEBUG:root:Ticks: 117.75\n",
      "INFO:root:Inside tickfunction that one\n",
      "DEBUG:root:size of queue: 2\n"
     ]
    },
    {
     "name": "stdout",
     "output_type": "stream",
     "text": [
      "time: 2019-05-14 10:08:43, low: 117.8, high: 117.8, type: 0\n",
      "time: 2019-05-14 10:09:05, low: 117.7, high: 117.8, type: -1\n"
     ]
    },
    {
     "name": "stderr",
     "output_type": "stream",
     "text": [
      "DEBUG:root:Ticks: 117.75\n",
      "INFO:root:Inside tickfunction that one\n",
      "DEBUG:root:size of queue: 2\n"
     ]
    },
    {
     "name": "stdout",
     "output_type": "stream",
     "text": [
      "time: 2019-05-14 10:08:43, low: 117.8, high: 117.8, type: 0\n",
      "time: 2019-05-14 10:09:05, low: 117.7, high: 117.8, type: -1\n"
     ]
    },
    {
     "name": "stderr",
     "output_type": "stream",
     "text": [
      "DEBUG:root:Ticks: 117.75\n",
      "INFO:root:Inside tickfunction that one\n",
      "DEBUG:root:size of queue: 2\n"
     ]
    },
    {
     "name": "stdout",
     "output_type": "stream",
     "text": [
      "time: 2019-05-14 10:08:43, low: 117.8, high: 117.8, type: 0\n",
      "time: 2019-05-14 10:09:05, low: 117.7, high: 117.8, type: -1\n"
     ]
    },
    {
     "name": "stderr",
     "output_type": "stream",
     "text": [
      "DEBUG:root:Ticks: 117.75\n",
      "INFO:root:Inside tickfunction that one\n",
      "DEBUG:root:size of queue: 2\n"
     ]
    },
    {
     "name": "stdout",
     "output_type": "stream",
     "text": [
      "time: 2019-05-14 10:08:43, low: 117.8, high: 117.8, type: 0\n",
      "time: 2019-05-14 10:09:05, low: 117.7, high: 117.8, type: -1\n"
     ]
    },
    {
     "name": "stderr",
     "output_type": "stream",
     "text": [
      "DEBUG:root:Ticks: 117.8\n",
      "INFO:root:Inside tickfunction that one\n",
      "DEBUG:root:size of queue: 2\n"
     ]
    },
    {
     "name": "stdout",
     "output_type": "stream",
     "text": [
      "time: 2019-05-14 10:08:43, low: 117.8, high: 117.8, type: 0\n",
      "time: 2019-05-14 10:09:05, low: 117.7, high: 117.8, type: -1\n"
     ]
    },
    {
     "name": "stderr",
     "output_type": "stream",
     "text": [
      "DEBUG:root:Ticks: 117.8\n",
      "INFO:root:Inside tickfunction that one\n",
      "DEBUG:root:size of queue: 2\n"
     ]
    },
    {
     "name": "stdout",
     "output_type": "stream",
     "text": [
      "time: 2019-05-14 10:08:43, low: 117.8, high: 117.8, type: 0\n",
      "time: 2019-05-14 10:09:05, low: 117.7, high: 117.8, type: -1\n"
     ]
    },
    {
     "name": "stderr",
     "output_type": "stream",
     "text": [
      "DEBUG:root:Ticks: 117.8\n",
      "INFO:root:Inside tickfunction that one\n",
      "DEBUG:root:size of queue: 2\n"
     ]
    },
    {
     "name": "stdout",
     "output_type": "stream",
     "text": [
      "time: 2019-05-14 10:08:43, low: 117.8, high: 117.8, type: 0\n",
      "time: 2019-05-14 10:09:05, low: 117.7, high: 117.8, type: -1\n"
     ]
    },
    {
     "name": "stderr",
     "output_type": "stream",
     "text": [
      "DEBUG:root:Ticks: 117.8\n",
      "INFO:root:Inside tickfunction that one\n",
      "DEBUG:root:size of queue: 2\n"
     ]
    },
    {
     "name": "stdout",
     "output_type": "stream",
     "text": [
      "time: 2019-05-14 10:08:43, low: 117.8, high: 117.8, type: 0\n",
      "time: 2019-05-14 10:09:05, low: 117.7, high: 117.8, type: -1\n"
     ]
    },
    {
     "name": "stderr",
     "output_type": "stream",
     "text": [
      "DEBUG:root:Ticks: 117.8\n",
      "INFO:root:Inside tickfunction that one\n",
      "DEBUG:root:size of queue: 2\n"
     ]
    },
    {
     "name": "stdout",
     "output_type": "stream",
     "text": [
      "time: 2019-05-14 10:08:43, low: 117.8, high: 117.8, type: 0\n",
      "time: 2019-05-14 10:09:05, low: 117.7, high: 117.8, type: -1\n"
     ]
    },
    {
     "name": "stderr",
     "output_type": "stream",
     "text": [
      "DEBUG:root:Ticks: 117.8\n",
      "INFO:root:Inside tickfunction that one\n",
      "DEBUG:root:size of queue: 2\n"
     ]
    },
    {
     "name": "stdout",
     "output_type": "stream",
     "text": [
      "time: 2019-05-14 10:08:43, low: 117.8, high: 117.8, type: 0\n",
      "time: 2019-05-14 10:09:05, low: 117.7, high: 117.8, type: -1\n"
     ]
    },
    {
     "name": "stderr",
     "output_type": "stream",
     "text": [
      "DEBUG:root:Ticks: 117.8\n",
      "INFO:root:Inside tickfunction that one\n",
      "DEBUG:root:size of queue: 2\n"
     ]
    },
    {
     "name": "stdout",
     "output_type": "stream",
     "text": [
      "time: 2019-05-14 10:08:43, low: 117.8, high: 117.8, type: 0\n",
      "time: 2019-05-14 10:09:05, low: 117.7, high: 117.8, type: -1\n"
     ]
    },
    {
     "name": "stderr",
     "output_type": "stream",
     "text": [
      "DEBUG:root:Ticks: 117.8\n",
      "INFO:root:Inside tickfunction that one\n",
      "DEBUG:root:size of queue: 2\n"
     ]
    },
    {
     "name": "stdout",
     "output_type": "stream",
     "text": [
      "time: 2019-05-14 10:08:43, low: 117.8, high: 117.8, type: 0\n",
      "time: 2019-05-14 10:09:05, low: 117.7, high: 117.8, type: -1\n"
     ]
    },
    {
     "name": "stderr",
     "output_type": "stream",
     "text": [
      "DEBUG:root:Ticks: 117.8\n",
      "INFO:root:Inside tickfunction that one\n",
      "DEBUG:root:size of queue: 2\n"
     ]
    },
    {
     "name": "stdout",
     "output_type": "stream",
     "text": [
      "time: 2019-05-14 10:08:43, low: 117.8, high: 117.8, type: 0\n",
      "time: 2019-05-14 10:09:05, low: 117.7, high: 117.8, type: -1\n"
     ]
    },
    {
     "name": "stderr",
     "output_type": "stream",
     "text": [
      "DEBUG:root:Ticks: 117.75\n",
      "INFO:root:Inside tickfunction that one\n",
      "DEBUG:root:size of queue: 2\n"
     ]
    },
    {
     "name": "stdout",
     "output_type": "stream",
     "text": [
      "time: 2019-05-14 10:08:43, low: 117.8, high: 117.8, type: 0\n",
      "time: 2019-05-14 10:09:05, low: 117.7, high: 117.8, type: -1\n"
     ]
    },
    {
     "name": "stderr",
     "output_type": "stream",
     "text": [
      "DEBUG:root:Ticks: 117.7\n",
      "INFO:root:Inside tickfunction that one\n",
      "DEBUG:root:size of queue: 2\n"
     ]
    },
    {
     "name": "stdout",
     "output_type": "stream",
     "text": [
      "time: 2019-05-14 10:08:43, low: 117.8, high: 117.8, type: 0\n",
      "time: 2019-05-14 10:09:05, low: 117.7, high: 117.8, type: -1\n"
     ]
    },
    {
     "name": "stderr",
     "output_type": "stream",
     "text": [
      "DEBUG:root:Ticks: 117.7\n",
      "INFO:root:Inside tickfunction that one\n",
      "DEBUG:root:size of queue: 2\n",
      "DEBUG:root:Ticks: 117.7\n",
      "INFO:root:Inside tickfunction that one\n",
      "DEBUG:root:size of queue: 2\n"
     ]
    },
    {
     "name": "stdout",
     "output_type": "stream",
     "text": [
      "time: 2019-05-14 10:08:43, low: 117.8, high: 117.8, type: 0\n",
      "time: 2019-05-14 10:09:05, low: 117.7, high: 117.8, type: -1\n",
      "time: 2019-05-14 10:08:43, low: 117.8, high: 117.8, type: 0\n",
      "time: 2019-05-14 10:09:05, low: 117.7, high: 117.8, type: -1\n"
     ]
    },
    {
     "name": "stderr",
     "output_type": "stream",
     "text": [
      "DEBUG:root:Ticks: 117.7\n",
      "INFO:root:Inside tickfunction that one\n",
      "DEBUG:root:size of queue: 2\n"
     ]
    },
    {
     "name": "stdout",
     "output_type": "stream",
     "text": [
      "time: 2019-05-14 10:08:43, low: 117.8, high: 117.8, type: 0\n",
      "time: 2019-05-14 10:09:05, low: 117.7, high: 117.8, type: -1\n"
     ]
    },
    {
     "name": "stderr",
     "output_type": "stream",
     "text": [
      "DEBUG:root:Ticks: 117.7\n",
      "INFO:root:Inside tickfunction that one\n",
      "DEBUG:root:size of queue: 2\n"
     ]
    },
    {
     "name": "stdout",
     "output_type": "stream",
     "text": [
      "time: 2019-05-14 10:08:43, low: 117.8, high: 117.8, type: 0\n",
      "time: 2019-05-14 10:09:05, low: 117.7, high: 117.8, type: -1\n"
     ]
    },
    {
     "name": "stderr",
     "output_type": "stream",
     "text": [
      "DEBUG:root:Ticks: 117.7\n",
      "INFO:root:Inside tickfunction that one\n",
      "DEBUG:root:size of queue: 2\n"
     ]
    },
    {
     "name": "stdout",
     "output_type": "stream",
     "text": [
      "time: 2019-05-14 10:08:43, low: 117.8, high: 117.8, type: 0\n",
      "time: 2019-05-14 10:09:05, low: 117.7, high: 117.8, type: -1\n"
     ]
    },
    {
     "name": "stderr",
     "output_type": "stream",
     "text": [
      "DEBUG:root:Ticks: 117.75\n",
      "INFO:root:Inside tickfunction that one\n",
      "DEBUG:root:size of queue: 2\n"
     ]
    },
    {
     "name": "stdout",
     "output_type": "stream",
     "text": [
      "time: 2019-05-14 10:08:43, low: 117.8, high: 117.8, type: 0\n",
      "time: 2019-05-14 10:09:05, low: 117.7, high: 117.8, type: -1\n"
     ]
    },
    {
     "name": "stderr",
     "output_type": "stream",
     "text": [
      "DEBUG:root:Ticks: 117.75\n",
      "INFO:root:Inside tickfunction that one\n",
      "DEBUG:root:size of queue: 2\n"
     ]
    },
    {
     "name": "stdout",
     "output_type": "stream",
     "text": [
      "time: 2019-05-14 10:08:43, low: 117.8, high: 117.8, type: 0\n",
      "time: 2019-05-14 10:09:05, low: 117.7, high: 117.8, type: -1\n"
     ]
    },
    {
     "name": "stderr",
     "output_type": "stream",
     "text": [
      "DEBUG:root:Ticks: 117.75\n",
      "INFO:root:Inside tickfunction that one\n",
      "DEBUG:root:size of queue: 2\n"
     ]
    },
    {
     "name": "stdout",
     "output_type": "stream",
     "text": [
      "time: 2019-05-14 10:08:43, low: 117.8, high: 117.8, type: 0\n",
      "time: 2019-05-14 10:09:05, low: 117.7, high: 117.8, type: -1\n"
     ]
    },
    {
     "name": "stderr",
     "output_type": "stream",
     "text": [
      "DEBUG:root:Ticks: 117.75\n",
      "INFO:root:Inside tickfunction that one\n",
      "DEBUG:root:size of queue: 2\n"
     ]
    },
    {
     "name": "stdout",
     "output_type": "stream",
     "text": [
      "time: 2019-05-14 10:08:43, low: 117.8, high: 117.8, type: 0\n",
      "time: 2019-05-14 10:09:05, low: 117.7, high: 117.8, type: -1\n"
     ]
    },
    {
     "name": "stderr",
     "output_type": "stream",
     "text": [
      "DEBUG:root:Ticks: 117.75\n",
      "INFO:root:Inside tickfunction that one\n",
      "DEBUG:root:size of queue: 2\n"
     ]
    },
    {
     "name": "stdout",
     "output_type": "stream",
     "text": [
      "time: 2019-05-14 10:08:43, low: 117.8, high: 117.8, type: 0\n",
      "time: 2019-05-14 10:09:05, low: 117.7, high: 117.8, type: -1\n"
     ]
    },
    {
     "name": "stderr",
     "output_type": "stream",
     "text": [
      "DEBUG:root:Ticks: 117.7\n",
      "INFO:root:Inside tickfunction that one\n",
      "DEBUG:root:size of queue: 2\n"
     ]
    },
    {
     "name": "stdout",
     "output_type": "stream",
     "text": [
      "time: 2019-05-14 10:08:43, low: 117.8, high: 117.8, type: 0\n",
      "time: 2019-05-14 10:09:05, low: 117.7, high: 117.8, type: -1\n"
     ]
    },
    {
     "name": "stderr",
     "output_type": "stream",
     "text": [
      "DEBUG:root:Ticks: 117.7\n",
      "INFO:root:Inside tickfunction that one\n",
      "DEBUG:root:size of queue: 2\n"
     ]
    },
    {
     "name": "stdout",
     "output_type": "stream",
     "text": [
      "time: 2019-05-14 10:08:43, low: 117.8, high: 117.8, type: 0\n",
      "time: 2019-05-14 10:09:05, low: 117.7, high: 117.8, type: -1\n"
     ]
    },
    {
     "name": "stderr",
     "output_type": "stream",
     "text": [
      "DEBUG:root:Ticks: 117.7\n",
      "INFO:root:Inside tickfunction that one\n",
      "DEBUG:root:size of queue: 2\n"
     ]
    },
    {
     "name": "stdout",
     "output_type": "stream",
     "text": [
      "time: 2019-05-14 10:08:43, low: 117.8, high: 117.8, type: 0\n",
      "time: 2019-05-14 10:09:05, low: 117.7, high: 117.8, type: -1\n"
     ]
    },
    {
     "name": "stderr",
     "output_type": "stream",
     "text": [
      "DEBUG:root:Ticks: 117.7\n",
      "INFO:root:Inside tickfunction that one\n",
      "DEBUG:root:size of queue: 2\n"
     ]
    },
    {
     "name": "stdout",
     "output_type": "stream",
     "text": [
      "time: 2019-05-14 10:08:43, low: 117.8, high: 117.8, type: 0\n",
      "time: 2019-05-14 10:09:05, low: 117.7, high: 117.8, type: -1\n"
     ]
    },
    {
     "name": "stderr",
     "output_type": "stream",
     "text": [
      "DEBUG:root:Ticks: 117.6\n",
      "INFO:root:Inside tickfunction that one\n",
      "DEBUG:root:size of queue: 3\n",
      "INFO:root:Boughtflag: 0\n"
     ]
    },
    {
     "name": "stdout",
     "output_type": "stream",
     "text": [
      "time: 2019-05-14 10:08:43, low: 117.8, high: 117.8, type: 0\n",
      "time: 2019-05-14 10:09:05, low: 117.7, high: 117.8, type: -1\n",
      "time: 2019-05-14 10:09:38, low: 117.6, high: 117.7, type: -1\n"
     ]
    },
    {
     "name": "stderr",
     "output_type": "stream",
     "text": [
      "DEBUG:root:Ticks: 117.6\n",
      "INFO:root:Inside tickfunction that one\n",
      "DEBUG:root:size of queue: 3\n"
     ]
    },
    {
     "name": "stdout",
     "output_type": "stream",
     "text": [
      "time: 2019-05-14 10:08:43, low: 117.8, high: 117.8, type: 0\n",
      "time: 2019-05-14 10:09:05, low: 117.7, high: 117.8, type: -1\n",
      "time: 2019-05-14 10:09:38, low: 117.6, high: 117.7, type: -1\n"
     ]
    },
    {
     "name": "stderr",
     "output_type": "stream",
     "text": [
      "DEBUG:root:Ticks: 117.65\n",
      "INFO:root:Inside tickfunction that one\n",
      "DEBUG:root:size of queue: 3\n"
     ]
    },
    {
     "name": "stdout",
     "output_type": "stream",
     "text": [
      "time: 2019-05-14 10:08:43, low: 117.8, high: 117.8, type: 0\n",
      "time: 2019-05-14 10:09:05, low: 117.7, high: 117.8, type: -1\n",
      "time: 2019-05-14 10:09:38, low: 117.6, high: 117.7, type: -1\n"
     ]
    },
    {
     "name": "stderr",
     "output_type": "stream",
     "text": [
      "DEBUG:root:Ticks: 117.65\n",
      "INFO:root:Inside tickfunction that one\n",
      "DEBUG:root:size of queue: 3\n"
     ]
    },
    {
     "name": "stdout",
     "output_type": "stream",
     "text": [
      "time: 2019-05-14 10:08:43, low: 117.8, high: 117.8, type: 0\n",
      "time: 2019-05-14 10:09:05, low: 117.7, high: 117.8, type: -1\n",
      "time: 2019-05-14 10:09:38, low: 117.6, high: 117.7, type: -1\n"
     ]
    },
    {
     "name": "stderr",
     "output_type": "stream",
     "text": [
      "DEBUG:root:Ticks: 117.65\n",
      "INFO:root:Inside tickfunction that one\n",
      "DEBUG:root:size of queue: 3\n"
     ]
    },
    {
     "name": "stdout",
     "output_type": "stream",
     "text": [
      "time: 2019-05-14 10:08:43, low: 117.8, high: 117.8, type: 0\n",
      "time: 2019-05-14 10:09:05, low: 117.7, high: 117.8, type: -1\n",
      "time: 2019-05-14 10:09:38, low: 117.6, high: 117.7, type: -1\n"
     ]
    },
    {
     "name": "stderr",
     "output_type": "stream",
     "text": [
      "DEBUG:root:Ticks: 117.65\n",
      "INFO:root:Inside tickfunction that one\n",
      "DEBUG:root:size of queue: 3\n"
     ]
    },
    {
     "name": "stdout",
     "output_type": "stream",
     "text": [
      "time: 2019-05-14 10:08:43, low: 117.8, high: 117.8, type: 0\n",
      "time: 2019-05-14 10:09:05, low: 117.7, high: 117.8, type: -1\n",
      "time: 2019-05-14 10:09:38, low: 117.6, high: 117.7, type: -1\n"
     ]
    },
    {
     "name": "stderr",
     "output_type": "stream",
     "text": [
      "DEBUG:root:Ticks: 117.65\n",
      "INFO:root:Inside tickfunction that one\n",
      "DEBUG:root:size of queue: 3\n"
     ]
    },
    {
     "name": "stdout",
     "output_type": "stream",
     "text": [
      "time: 2019-05-14 10:08:43, low: 117.8, high: 117.8, type: 0\n",
      "time: 2019-05-14 10:09:05, low: 117.7, high: 117.8, type: -1\n",
      "time: 2019-05-14 10:09:38, low: 117.6, high: 117.7, type: -1\n"
     ]
    },
    {
     "name": "stderr",
     "output_type": "stream",
     "text": [
      "DEBUG:root:Ticks: 117.65\n",
      "INFO:root:Inside tickfunction that one\n",
      "DEBUG:root:size of queue: 3\n"
     ]
    },
    {
     "name": "stdout",
     "output_type": "stream",
     "text": [
      "time: 2019-05-14 10:08:43, low: 117.8, high: 117.8, type: 0\n",
      "time: 2019-05-14 10:09:05, low: 117.7, high: 117.8, type: -1\n",
      "time: 2019-05-14 10:09:38, low: 117.6, high: 117.7, type: -1\n"
     ]
    },
    {
     "name": "stderr",
     "output_type": "stream",
     "text": [
      "DEBUG:root:Ticks: 117.65\n",
      "INFO:root:Inside tickfunction that one\n",
      "DEBUG:root:size of queue: 3\n"
     ]
    },
    {
     "name": "stdout",
     "output_type": "stream",
     "text": [
      "time: 2019-05-14 10:08:43, low: 117.8, high: 117.8, type: 0\n",
      "time: 2019-05-14 10:09:05, low: 117.7, high: 117.8, type: -1\n",
      "time: 2019-05-14 10:09:38, low: 117.6, high: 117.7, type: -1\n"
     ]
    },
    {
     "name": "stderr",
     "output_type": "stream",
     "text": [
      "DEBUG:root:Ticks: 117.65\n",
      "INFO:root:Inside tickfunction that one\n",
      "DEBUG:root:size of queue: 3\n"
     ]
    },
    {
     "name": "stdout",
     "output_type": "stream",
     "text": [
      "time: 2019-05-14 10:08:43, low: 117.8, high: 117.8, type: 0\n",
      "time: 2019-05-14 10:09:05, low: 117.7, high: 117.8, type: -1\n",
      "time: 2019-05-14 10:09:38, low: 117.6, high: 117.7, type: -1\n"
     ]
    },
    {
     "name": "stderr",
     "output_type": "stream",
     "text": [
      "DEBUG:root:Ticks: 117.65\n",
      "INFO:root:Inside tickfunction that one\n",
      "DEBUG:root:size of queue: 3\n"
     ]
    },
    {
     "name": "stdout",
     "output_type": "stream",
     "text": [
      "time: 2019-05-14 10:08:43, low: 117.8, high: 117.8, type: 0\n",
      "time: 2019-05-14 10:09:05, low: 117.7, high: 117.8, type: -1\n",
      "time: 2019-05-14 10:09:38, low: 117.6, high: 117.7, type: -1\n"
     ]
    },
    {
     "name": "stderr",
     "output_type": "stream",
     "text": [
      "DEBUG:root:Ticks: 117.65\n",
      "INFO:root:Inside tickfunction that one\n",
      "DEBUG:root:size of queue: 3\n"
     ]
    },
    {
     "name": "stdout",
     "output_type": "stream",
     "text": [
      "time: 2019-05-14 10:08:43, low: 117.8, high: 117.8, type: 0\n",
      "time: 2019-05-14 10:09:05, low: 117.7, high: 117.8, type: -1\n",
      "time: 2019-05-14 10:09:38, low: 117.6, high: 117.7, type: -1\n"
     ]
    },
    {
     "name": "stderr",
     "output_type": "stream",
     "text": [
      "DEBUG:root:Ticks: 117.65\n",
      "INFO:root:Inside tickfunction that one\n",
      "DEBUG:root:size of queue: 3\n"
     ]
    },
    {
     "name": "stdout",
     "output_type": "stream",
     "text": [
      "time: 2019-05-14 10:08:43, low: 117.8, high: 117.8, type: 0\n",
      "time: 2019-05-14 10:09:05, low: 117.7, high: 117.8, type: -1\n",
      "time: 2019-05-14 10:09:38, low: 117.6, high: 117.7, type: -1\n"
     ]
    },
    {
     "name": "stderr",
     "output_type": "stream",
     "text": [
      "DEBUG:root:Ticks: 117.7\n",
      "INFO:root:Inside tickfunction that one\n",
      "DEBUG:root:size of queue: 3\n"
     ]
    },
    {
     "name": "stdout",
     "output_type": "stream",
     "text": [
      "time: 2019-05-14 10:08:43, low: 117.8, high: 117.8, type: 0\n",
      "time: 2019-05-14 10:09:05, low: 117.7, high: 117.8, type: -1\n",
      "time: 2019-05-14 10:09:38, low: 117.6, high: 117.7, type: -1\n"
     ]
    },
    {
     "name": "stderr",
     "output_type": "stream",
     "text": [
      "DEBUG:root:Ticks: 117.7\n",
      "INFO:root:Inside tickfunction that one\n",
      "DEBUG:root:size of queue: 3\n"
     ]
    },
    {
     "name": "stdout",
     "output_type": "stream",
     "text": [
      "time: 2019-05-14 10:08:43, low: 117.8, high: 117.8, type: 0\n",
      "time: 2019-05-14 10:09:05, low: 117.7, high: 117.8, type: -1\n",
      "time: 2019-05-14 10:09:38, low: 117.6, high: 117.7, type: -1\n"
     ]
    },
    {
     "name": "stderr",
     "output_type": "stream",
     "text": [
      "DEBUG:root:Ticks: 117.7\n",
      "INFO:root:Inside tickfunction that one\n",
      "DEBUG:root:size of queue: 3\n"
     ]
    },
    {
     "name": "stdout",
     "output_type": "stream",
     "text": [
      "time: 2019-05-14 10:08:43, low: 117.8, high: 117.8, type: 0\n",
      "time: 2019-05-14 10:09:05, low: 117.7, high: 117.8, type: -1\n",
      "time: 2019-05-14 10:09:38, low: 117.6, high: 117.7, type: -1\n"
     ]
    },
    {
     "name": "stderr",
     "output_type": "stream",
     "text": [
      "DEBUG:root:Ticks: 117.7\n",
      "INFO:root:Inside tickfunction that one\n",
      "DEBUG:root:size of queue: 3\n"
     ]
    },
    {
     "name": "stdout",
     "output_type": "stream",
     "text": [
      "time: 2019-05-14 10:08:43, low: 117.8, high: 117.8, type: 0\n",
      "time: 2019-05-14 10:09:05, low: 117.7, high: 117.8, type: -1\n",
      "time: 2019-05-14 10:09:38, low: 117.6, high: 117.7, type: -1\n"
     ]
    },
    {
     "name": "stderr",
     "output_type": "stream",
     "text": [
      "DEBUG:root:Ticks: 117.7\n",
      "INFO:root:Inside tickfunction that one\n",
      "DEBUG:root:size of queue: 3\n"
     ]
    },
    {
     "name": "stdout",
     "output_type": "stream",
     "text": [
      "time: 2019-05-14 10:08:43, low: 117.8, high: 117.8, type: 0\n",
      "time: 2019-05-14 10:09:05, low: 117.7, high: 117.8, type: -1\n",
      "time: 2019-05-14 10:09:38, low: 117.6, high: 117.7, type: -1\n"
     ]
    },
    {
     "name": "stderr",
     "output_type": "stream",
     "text": [
      "DEBUG:root:Ticks: 117.7\n",
      "INFO:root:Inside tickfunction that one\n",
      "DEBUG:root:size of queue: 3\n"
     ]
    },
    {
     "name": "stdout",
     "output_type": "stream",
     "text": [
      "time: 2019-05-14 10:08:43, low: 117.8, high: 117.8, type: 0\n",
      "time: 2019-05-14 10:09:05, low: 117.7, high: 117.8, type: -1\n",
      "time: 2019-05-14 10:09:38, low: 117.6, high: 117.7, type: -1\n"
     ]
    },
    {
     "name": "stderr",
     "output_type": "stream",
     "text": [
      "DEBUG:root:Ticks: 117.7\n",
      "INFO:root:Inside tickfunction that one\n",
      "DEBUG:root:size of queue: 3\n"
     ]
    },
    {
     "name": "stdout",
     "output_type": "stream",
     "text": [
      "time: 2019-05-14 10:08:43, low: 117.8, high: 117.8, type: 0\n",
      "time: 2019-05-14 10:09:05, low: 117.7, high: 117.8, type: -1\n",
      "time: 2019-05-14 10:09:38, low: 117.6, high: 117.7, type: -1\n"
     ]
    },
    {
     "name": "stderr",
     "output_type": "stream",
     "text": [
      "DEBUG:root:Ticks: 117.7\n",
      "INFO:root:Inside tickfunction that one\n",
      "DEBUG:root:size of queue: 3\n"
     ]
    },
    {
     "name": "stdout",
     "output_type": "stream",
     "text": [
      "time: 2019-05-14 10:08:43, low: 117.8, high: 117.8, type: 0\n",
      "time: 2019-05-14 10:09:05, low: 117.7, high: 117.8, type: -1\n",
      "time: 2019-05-14 10:09:38, low: 117.6, high: 117.7, type: -1\n"
     ]
    },
    {
     "name": "stderr",
     "output_type": "stream",
     "text": [
      "DEBUG:root:Ticks: 117.7\n",
      "INFO:root:Inside tickfunction that one\n",
      "DEBUG:root:size of queue: 3\n"
     ]
    },
    {
     "name": "stdout",
     "output_type": "stream",
     "text": [
      "time: 2019-05-14 10:08:43, low: 117.8, high: 117.8, type: 0\n",
      "time: 2019-05-14 10:09:05, low: 117.7, high: 117.8, type: -1\n",
      "time: 2019-05-14 10:09:38, low: 117.6, high: 117.7, type: -1\n"
     ]
    },
    {
     "name": "stderr",
     "output_type": "stream",
     "text": [
      "DEBUG:root:Ticks: 117.75\n",
      "INFO:root:Inside tickfunction that one\n",
      "DEBUG:root:size of queue: 3\n"
     ]
    },
    {
     "name": "stdout",
     "output_type": "stream",
     "text": [
      "time: 2019-05-14 10:08:43, low: 117.8, high: 117.8, type: 0\n",
      "time: 2019-05-14 10:09:05, low: 117.7, high: 117.8, type: -1\n",
      "time: 2019-05-14 10:09:38, low: 117.6, high: 117.7, type: -1\n"
     ]
    },
    {
     "name": "stderr",
     "output_type": "stream",
     "text": [
      "DEBUG:root:Ticks: 117.75\n",
      "INFO:root:Inside tickfunction that one\n",
      "DEBUG:root:size of queue: 3\n"
     ]
    },
    {
     "name": "stdout",
     "output_type": "stream",
     "text": [
      "time: 2019-05-14 10:08:43, low: 117.8, high: 117.8, type: 0\n",
      "time: 2019-05-14 10:09:05, low: 117.7, high: 117.8, type: -1\n",
      "time: 2019-05-14 10:09:38, low: 117.6, high: 117.7, type: -1\n"
     ]
    },
    {
     "name": "stderr",
     "output_type": "stream",
     "text": [
      "DEBUG:root:Ticks: 117.7\n",
      "INFO:root:Inside tickfunction that one\n",
      "DEBUG:root:size of queue: 3\n"
     ]
    },
    {
     "name": "stdout",
     "output_type": "stream",
     "text": [
      "time: 2019-05-14 10:08:43, low: 117.8, high: 117.8, type: 0\n",
      "time: 2019-05-14 10:09:05, low: 117.7, high: 117.8, type: -1\n",
      "time: 2019-05-14 10:09:38, low: 117.6, high: 117.7, type: -1\n"
     ]
    },
    {
     "name": "stderr",
     "output_type": "stream",
     "text": [
      "DEBUG:root:Ticks: 117.7\n",
      "INFO:root:Inside tickfunction that one\n",
      "DEBUG:root:size of queue: 3\n"
     ]
    },
    {
     "name": "stdout",
     "output_type": "stream",
     "text": [
      "time: 2019-05-14 10:08:43, low: 117.8, high: 117.8, type: 0\n",
      "time: 2019-05-14 10:09:05, low: 117.7, high: 117.8, type: -1\n",
      "time: 2019-05-14 10:09:38, low: 117.6, high: 117.7, type: -1\n"
     ]
    },
    {
     "name": "stderr",
     "output_type": "stream",
     "text": [
      "DEBUG:root:Ticks: 117.7\n",
      "INFO:root:Inside tickfunction that one\n",
      "DEBUG:root:size of queue: 3\n"
     ]
    },
    {
     "name": "stdout",
     "output_type": "stream",
     "text": [
      "time: 2019-05-14 10:08:43, low: 117.8, high: 117.8, type: 0\n",
      "time: 2019-05-14 10:09:05, low: 117.7, high: 117.8, type: -1\n",
      "time: 2019-05-14 10:09:38, low: 117.6, high: 117.7, type: -1\n"
     ]
    },
    {
     "name": "stderr",
     "output_type": "stream",
     "text": [
      "DEBUG:root:Ticks: 117.7\n",
      "INFO:root:Inside tickfunction that one\n",
      "DEBUG:root:size of queue: 3\n"
     ]
    },
    {
     "name": "stdout",
     "output_type": "stream",
     "text": [
      "time: 2019-05-14 10:08:43, low: 117.8, high: 117.8, type: 0\n",
      "time: 2019-05-14 10:09:05, low: 117.7, high: 117.8, type: -1\n",
      "time: 2019-05-14 10:09:38, low: 117.6, high: 117.7, type: -1\n"
     ]
    },
    {
     "name": "stderr",
     "output_type": "stream",
     "text": [
      "DEBUG:root:Ticks: 117.7\n",
      "INFO:root:Inside tickfunction that one\n",
      "DEBUG:root:size of queue: 3\n"
     ]
    },
    {
     "name": "stdout",
     "output_type": "stream",
     "text": [
      "time: 2019-05-14 10:08:43, low: 117.8, high: 117.8, type: 0\n",
      "time: 2019-05-14 10:09:05, low: 117.7, high: 117.8, type: -1\n",
      "time: 2019-05-14 10:09:38, low: 117.6, high: 117.7, type: -1\n"
     ]
    },
    {
     "name": "stderr",
     "output_type": "stream",
     "text": [
      "DEBUG:root:Ticks: 117.7\n",
      "INFO:root:Inside tickfunction that one\n",
      "DEBUG:root:size of queue: 3\n"
     ]
    },
    {
     "name": "stdout",
     "output_type": "stream",
     "text": [
      "time: 2019-05-14 10:08:43, low: 117.8, high: 117.8, type: 0\n",
      "time: 2019-05-14 10:09:05, low: 117.7, high: 117.8, type: -1\n",
      "time: 2019-05-14 10:09:38, low: 117.6, high: 117.7, type: -1\n"
     ]
    },
    {
     "name": "stderr",
     "output_type": "stream",
     "text": [
      "DEBUG:root:Ticks: 117.7\n",
      "INFO:root:Inside tickfunction that one\n",
      "DEBUG:root:size of queue: 3\n"
     ]
    },
    {
     "name": "stdout",
     "output_type": "stream",
     "text": [
      "time: 2019-05-14 10:08:43, low: 117.8, high: 117.8, type: 0\n",
      "time: 2019-05-14 10:09:05, low: 117.7, high: 117.8, type: -1\n",
      "time: 2019-05-14 10:09:38, low: 117.6, high: 117.7, type: -1\n"
     ]
    },
    {
     "name": "stderr",
     "output_type": "stream",
     "text": [
      "DEBUG:root:Ticks: 117.7\n",
      "INFO:root:Inside tickfunction that one\n",
      "DEBUG:root:size of queue: 3\n"
     ]
    },
    {
     "name": "stdout",
     "output_type": "stream",
     "text": [
      "time: 2019-05-14 10:08:43, low: 117.8, high: 117.8, type: 0\n",
      "time: 2019-05-14 10:09:05, low: 117.7, high: 117.8, type: -1\n",
      "time: 2019-05-14 10:09:38, low: 117.6, high: 117.7, type: -1\n"
     ]
    },
    {
     "name": "stderr",
     "output_type": "stream",
     "text": [
      "DEBUG:root:Ticks: 117.75\n",
      "INFO:root:Inside tickfunction that one\n",
      "DEBUG:root:size of queue: 3\n"
     ]
    },
    {
     "name": "stdout",
     "output_type": "stream",
     "text": [
      "time: 2019-05-14 10:08:43, low: 117.8, high: 117.8, type: 0\n",
      "time: 2019-05-14 10:09:05, low: 117.7, high: 117.8, type: -1\n",
      "time: 2019-05-14 10:09:38, low: 117.6, high: 117.7, type: -1\n"
     ]
    },
    {
     "name": "stderr",
     "output_type": "stream",
     "text": [
      "DEBUG:root:Ticks: 117.75\n",
      "INFO:root:Inside tickfunction that one\n",
      "DEBUG:root:size of queue: 3\n"
     ]
    },
    {
     "name": "stdout",
     "output_type": "stream",
     "text": [
      "time: 2019-05-14 10:08:43, low: 117.8, high: 117.8, type: 0\n",
      "time: 2019-05-14 10:09:05, low: 117.7, high: 117.8, type: -1\n",
      "time: 2019-05-14 10:09:38, low: 117.6, high: 117.7, type: -1\n"
     ]
    },
    {
     "name": "stderr",
     "output_type": "stream",
     "text": [
      "DEBUG:root:Ticks: 117.75\n",
      "INFO:root:Inside tickfunction that one\n",
      "DEBUG:root:size of queue: 3\n"
     ]
    },
    {
     "name": "stdout",
     "output_type": "stream",
     "text": [
      "time: 2019-05-14 10:08:43, low: 117.8, high: 117.8, type: 0\n",
      "time: 2019-05-14 10:09:05, low: 117.7, high: 117.8, type: -1\n",
      "time: 2019-05-14 10:09:38, low: 117.6, high: 117.7, type: -1\n"
     ]
    },
    {
     "name": "stderr",
     "output_type": "stream",
     "text": [
      "DEBUG:root:Ticks: 117.75\n",
      "INFO:root:Inside tickfunction that one\n",
      "DEBUG:root:size of queue: 3\n"
     ]
    },
    {
     "name": "stdout",
     "output_type": "stream",
     "text": [
      "time: 2019-05-14 10:08:43, low: 117.8, high: 117.8, type: 0\n",
      "time: 2019-05-14 10:09:05, low: 117.7, high: 117.8, type: -1\n",
      "time: 2019-05-14 10:09:38, low: 117.6, high: 117.7, type: -1\n"
     ]
    },
    {
     "name": "stderr",
     "output_type": "stream",
     "text": [
      "DEBUG:root:Ticks: 117.75\n",
      "INFO:root:Inside tickfunction that one\n",
      "DEBUG:root:size of queue: 3\n"
     ]
    },
    {
     "name": "stdout",
     "output_type": "stream",
     "text": [
      "time: 2019-05-14 10:08:43, low: 117.8, high: 117.8, type: 0\n",
      "time: 2019-05-14 10:09:05, low: 117.7, high: 117.8, type: -1\n",
      "time: 2019-05-14 10:09:38, low: 117.6, high: 117.7, type: -1\n"
     ]
    },
    {
     "name": "stderr",
     "output_type": "stream",
     "text": [
      "DEBUG:root:Ticks: 117.7\n",
      "INFO:root:Inside tickfunction that one\n",
      "DEBUG:root:size of queue: 3\n"
     ]
    },
    {
     "name": "stdout",
     "output_type": "stream",
     "text": [
      "time: 2019-05-14 10:08:43, low: 117.8, high: 117.8, type: 0\n",
      "time: 2019-05-14 10:09:05, low: 117.7, high: 117.8, type: -1\n",
      "time: 2019-05-14 10:09:38, low: 117.6, high: 117.7, type: -1\n"
     ]
    },
    {
     "name": "stderr",
     "output_type": "stream",
     "text": [
      "DEBUG:root:Ticks: 117.8\n",
      "INFO:root:Inside tickfunction that one\n",
      "DEBUG:root:size of queue: 3\n",
      "INFO:root:Boughtflag: 0\n"
     ]
    },
    {
     "name": "stdout",
     "output_type": "stream",
     "text": [
      "time: 2019-05-14 10:09:05, low: 117.7, high: 117.8, type: -1\n",
      "time: 2019-05-14 10:09:38, low: 117.6, high: 117.7, type: -1\n",
      "time: 2019-05-14 10:10:19, low: 117.7, high: 117.8, type: 1\n"
     ]
    },
    {
     "name": "stderr",
     "output_type": "stream",
     "text": [
      "DEBUG:root:Ticks: 117.8\n",
      "INFO:root:Inside tickfunction that one\n",
      "DEBUG:root:size of queue: 3\n"
     ]
    },
    {
     "name": "stdout",
     "output_type": "stream",
     "text": [
      "time: 2019-05-14 10:09:05, low: 117.7, high: 117.8, type: -1\n",
      "time: 2019-05-14 10:09:38, low: 117.6, high: 117.7, type: -1\n",
      "time: 2019-05-14 10:10:19, low: 117.7, high: 117.8, type: 1\n"
     ]
    },
    {
     "name": "stderr",
     "output_type": "stream",
     "text": [
      "DEBUG:root:Ticks: 117.8\n",
      "INFO:root:Inside tickfunction that one\n",
      "DEBUG:root:size of queue: 3\n"
     ]
    },
    {
     "name": "stdout",
     "output_type": "stream",
     "text": [
      "time: 2019-05-14 10:09:05, low: 117.7, high: 117.8, type: -1\n",
      "time: 2019-05-14 10:09:38, low: 117.6, high: 117.7, type: -1\n",
      "time: 2019-05-14 10:10:19, low: 117.7, high: 117.8, type: 1\n"
     ]
    },
    {
     "name": "stderr",
     "output_type": "stream",
     "text": [
      "DEBUG:root:Ticks: 117.8\n",
      "INFO:root:Inside tickfunction that one\n",
      "DEBUG:root:size of queue: 3\n"
     ]
    },
    {
     "name": "stdout",
     "output_type": "stream",
     "text": [
      "time: 2019-05-14 10:09:05, low: 117.7, high: 117.8, type: -1\n",
      "time: 2019-05-14 10:09:38, low: 117.6, high: 117.7, type: -1\n",
      "time: 2019-05-14 10:10:19, low: 117.7, high: 117.8, type: 1\n"
     ]
    },
    {
     "name": "stderr",
     "output_type": "stream",
     "text": [
      "DEBUG:root:Ticks: 117.8\n",
      "INFO:root:Inside tickfunction that one\n",
      "DEBUG:root:size of queue: 3\n"
     ]
    },
    {
     "name": "stdout",
     "output_type": "stream",
     "text": [
      "time: 2019-05-14 10:09:05, low: 117.7, high: 117.8, type: -1\n",
      "time: 2019-05-14 10:09:38, low: 117.6, high: 117.7, type: -1\n",
      "time: 2019-05-14 10:10:19, low: 117.7, high: 117.8, type: 1\n"
     ]
    },
    {
     "name": "stderr",
     "output_type": "stream",
     "text": [
      "DEBUG:root:Ticks: 117.8\n",
      "INFO:root:Inside tickfunction that one\n",
      "DEBUG:root:size of queue: 3\n"
     ]
    },
    {
     "name": "stdout",
     "output_type": "stream",
     "text": [
      "time: 2019-05-14 10:09:05, low: 117.7, high: 117.8, type: -1\n",
      "time: 2019-05-14 10:09:38, low: 117.6, high: 117.7, type: -1\n",
      "time: 2019-05-14 10:10:19, low: 117.7, high: 117.8, type: 1\n"
     ]
    },
    {
     "name": "stderr",
     "output_type": "stream",
     "text": [
      "DEBUG:root:Ticks: 117.7\n",
      "INFO:root:Inside tickfunction that one\n",
      "DEBUG:root:size of queue: 3\n"
     ]
    },
    {
     "name": "stdout",
     "output_type": "stream",
     "text": [
      "time: 2019-05-14 10:09:05, low: 117.7, high: 117.8, type: -1\n",
      "time: 2019-05-14 10:09:38, low: 117.6, high: 117.7, type: -1\n",
      "time: 2019-05-14 10:10:19, low: 117.7, high: 117.8, type: 1\n"
     ]
    },
    {
     "name": "stderr",
     "output_type": "stream",
     "text": [
      "DEBUG:root:Ticks: 117.7\n",
      "INFO:root:Inside tickfunction that one\n",
      "DEBUG:root:size of queue: 3\n"
     ]
    },
    {
     "name": "stdout",
     "output_type": "stream",
     "text": [
      "time: 2019-05-14 10:09:05, low: 117.7, high: 117.8, type: -1\n",
      "time: 2019-05-14 10:09:38, low: 117.6, high: 117.7, type: -1\n",
      "time: 2019-05-14 10:10:19, low: 117.7, high: 117.8, type: 1\n"
     ]
    },
    {
     "name": "stderr",
     "output_type": "stream",
     "text": [
      "DEBUG:root:Ticks: 117.7\n",
      "INFO:root:Inside tickfunction that one\n",
      "DEBUG:root:size of queue: 3\n"
     ]
    },
    {
     "name": "stdout",
     "output_type": "stream",
     "text": [
      "time: 2019-05-14 10:09:05, low: 117.7, high: 117.8, type: -1\n",
      "time: 2019-05-14 10:09:38, low: 117.6, high: 117.7, type: -1\n",
      "time: 2019-05-14 10:10:19, low: 117.7, high: 117.8, type: 1\n"
     ]
    },
    {
     "name": "stderr",
     "output_type": "stream",
     "text": [
      "DEBUG:root:Ticks: 117.7\n",
      "INFO:root:Inside tickfunction that one\n",
      "DEBUG:root:size of queue: 3\n"
     ]
    },
    {
     "name": "stdout",
     "output_type": "stream",
     "text": [
      "time: 2019-05-14 10:09:05, low: 117.7, high: 117.8, type: -1\n",
      "time: 2019-05-14 10:09:38, low: 117.6, high: 117.7, type: -1\n",
      "time: 2019-05-14 10:10:19, low: 117.7, high: 117.8, type: 1\n"
     ]
    },
    {
     "name": "stderr",
     "output_type": "stream",
     "text": [
      "DEBUG:root:Ticks: 117.7\n",
      "INFO:root:Inside tickfunction that one\n",
      "DEBUG:root:size of queue: 3\n"
     ]
    },
    {
     "name": "stdout",
     "output_type": "stream",
     "text": [
      "time: 2019-05-14 10:09:05, low: 117.7, high: 117.8, type: -1\n",
      "time: 2019-05-14 10:09:38, low: 117.6, high: 117.7, type: -1\n",
      "time: 2019-05-14 10:10:19, low: 117.7, high: 117.8, type: 1\n"
     ]
    },
    {
     "name": "stderr",
     "output_type": "stream",
     "text": [
      "DEBUG:root:Ticks: 117.6\n",
      "INFO:root:Inside tickfunction that one\n",
      "DEBUG:root:size of queue: 3\n",
      "INFO:root:Boughtflag: 0\n"
     ]
    },
    {
     "name": "stdout",
     "output_type": "stream",
     "text": [
      "time: 2019-05-14 10:09:38, low: 117.6, high: 117.7, type: -1\n",
      "time: 2019-05-14 10:10:19, low: 117.7, high: 117.8, type: 1\n",
      "time: 2019-05-14 10:10:36, low: 117.6, high: 117.7, type: -1\n"
     ]
    },
    {
     "name": "stderr",
     "output_type": "stream",
     "text": [
      "DEBUG:root:Ticks: 117.6\n",
      "INFO:root:Inside tickfunction that one\n",
      "DEBUG:root:size of queue: 3\n"
     ]
    },
    {
     "name": "stdout",
     "output_type": "stream",
     "text": [
      "time: 2019-05-14 10:09:38, low: 117.6, high: 117.7, type: -1\n",
      "time: 2019-05-14 10:10:19, low: 117.7, high: 117.8, type: 1\n",
      "time: 2019-05-14 10:10:36, low: 117.6, high: 117.7, type: -1\n"
     ]
    },
    {
     "name": "stderr",
     "output_type": "stream",
     "text": [
      "DEBUG:root:Ticks: 117.6\n",
      "INFO:root:Inside tickfunction that one\n",
      "DEBUG:root:size of queue: 3\n"
     ]
    },
    {
     "name": "stdout",
     "output_type": "stream",
     "text": [
      "time: 2019-05-14 10:09:38, low: 117.6, high: 117.7, type: -1\n",
      "time: 2019-05-14 10:10:19, low: 117.7, high: 117.8, type: 1\n",
      "time: 2019-05-14 10:10:36, low: 117.6, high: 117.7, type: -1\n"
     ]
    },
    {
     "name": "stderr",
     "output_type": "stream",
     "text": [
      "DEBUG:root:Ticks: 117.55\n",
      "INFO:root:Inside tickfunction that one\n",
      "DEBUG:root:size of queue: 3\n"
     ]
    },
    {
     "name": "stdout",
     "output_type": "stream",
     "text": [
      "time: 2019-05-14 10:09:38, low: 117.6, high: 117.7, type: -1\n",
      "time: 2019-05-14 10:10:19, low: 117.7, high: 117.8, type: 1\n",
      "time: 2019-05-14 10:10:36, low: 117.6, high: 117.7, type: -1\n"
     ]
    },
    {
     "name": "stderr",
     "output_type": "stream",
     "text": [
      "DEBUG:root:Ticks: 117.55\n",
      "INFO:root:Inside tickfunction that one\n",
      "DEBUG:root:size of queue: 3\n"
     ]
    },
    {
     "name": "stdout",
     "output_type": "stream",
     "text": [
      "time: 2019-05-14 10:09:38, low: 117.6, high: 117.7, type: -1\n",
      "time: 2019-05-14 10:10:19, low: 117.7, high: 117.8, type: 1\n",
      "time: 2019-05-14 10:10:36, low: 117.6, high: 117.7, type: -1\n"
     ]
    },
    {
     "name": "stderr",
     "output_type": "stream",
     "text": [
      "DEBUG:root:Ticks: 117.7\n",
      "INFO:root:Inside tickfunction that one\n",
      "DEBUG:root:size of queue: 3\n"
     ]
    },
    {
     "name": "stdout",
     "output_type": "stream",
     "text": [
      "time: 2019-05-14 10:09:38, low: 117.6, high: 117.7, type: -1\n",
      "time: 2019-05-14 10:10:19, low: 117.7, high: 117.8, type: 1\n",
      "time: 2019-05-14 10:10:36, low: 117.6, high: 117.7, type: -1\n"
     ]
    },
    {
     "name": "stderr",
     "output_type": "stream",
     "text": [
      "DEBUG:root:Ticks: 117.7\n",
      "INFO:root:Inside tickfunction that one\n",
      "DEBUG:root:size of queue: 3\n"
     ]
    },
    {
     "name": "stdout",
     "output_type": "stream",
     "text": [
      "time: 2019-05-14 10:09:38, low: 117.6, high: 117.7, type: -1\n",
      "time: 2019-05-14 10:10:19, low: 117.7, high: 117.8, type: 1\n",
      "time: 2019-05-14 10:10:36, low: 117.6, high: 117.7, type: -1\n"
     ]
    },
    {
     "name": "stderr",
     "output_type": "stream",
     "text": [
      "DEBUG:root:Ticks: 117.7\n",
      "INFO:root:Inside tickfunction that one\n",
      "DEBUG:root:size of queue: 3\n"
     ]
    },
    {
     "name": "stdout",
     "output_type": "stream",
     "text": [
      "time: 2019-05-14 10:09:38, low: 117.6, high: 117.7, type: -1\n",
      "time: 2019-05-14 10:10:19, low: 117.7, high: 117.8, type: 1\n",
      "time: 2019-05-14 10:10:36, low: 117.6, high: 117.7, type: -1\n"
     ]
    },
    {
     "name": "stderr",
     "output_type": "stream",
     "text": [
      "DEBUG:root:Ticks: 117.7\n",
      "INFO:root:Inside tickfunction that one\n",
      "DEBUG:root:size of queue: 3\n"
     ]
    },
    {
     "name": "stdout",
     "output_type": "stream",
     "text": [
      "time: 2019-05-14 10:09:38, low: 117.6, high: 117.7, type: -1\n",
      "time: 2019-05-14 10:10:19, low: 117.7, high: 117.8, type: 1\n",
      "time: 2019-05-14 10:10:36, low: 117.6, high: 117.7, type: -1\n"
     ]
    },
    {
     "name": "stderr",
     "output_type": "stream",
     "text": [
      "DEBUG:root:Ticks: 117.7\n",
      "INFO:root:Inside tickfunction that one\n",
      "DEBUG:root:size of queue: 3\n"
     ]
    },
    {
     "name": "stdout",
     "output_type": "stream",
     "text": [
      "time: 2019-05-14 10:09:38, low: 117.6, high: 117.7, type: -1\n",
      "time: 2019-05-14 10:10:19, low: 117.7, high: 117.8, type: 1\n",
      "time: 2019-05-14 10:10:36, low: 117.6, high: 117.7, type: -1\n"
     ]
    },
    {
     "name": "stderr",
     "output_type": "stream",
     "text": [
      "DEBUG:root:Ticks: 117.7\n",
      "INFO:root:Inside tickfunction that one\n",
      "DEBUG:root:size of queue: 3\n"
     ]
    },
    {
     "name": "stdout",
     "output_type": "stream",
     "text": [
      "time: 2019-05-14 10:09:38, low: 117.6, high: 117.7, type: -1\n",
      "time: 2019-05-14 10:10:19, low: 117.7, high: 117.8, type: 1\n",
      "time: 2019-05-14 10:10:36, low: 117.6, high: 117.7, type: -1\n"
     ]
    },
    {
     "name": "stderr",
     "output_type": "stream",
     "text": [
      "DEBUG:root:Ticks: 117.7\n",
      "INFO:root:Inside tickfunction that one\n",
      "DEBUG:root:size of queue: 3\n"
     ]
    },
    {
     "name": "stdout",
     "output_type": "stream",
     "text": [
      "time: 2019-05-14 10:09:38, low: 117.6, high: 117.7, type: -1\n",
      "time: 2019-05-14 10:10:19, low: 117.7, high: 117.8, type: 1\n",
      "time: 2019-05-14 10:10:36, low: 117.6, high: 117.7, type: -1\n"
     ]
    },
    {
     "name": "stderr",
     "output_type": "stream",
     "text": [
      "DEBUG:root:Ticks: 117.7\n",
      "INFO:root:Inside tickfunction that one\n",
      "DEBUG:root:size of queue: 3\n"
     ]
    },
    {
     "name": "stdout",
     "output_type": "stream",
     "text": [
      "time: 2019-05-14 10:09:38, low: 117.6, high: 117.7, type: -1\n",
      "time: 2019-05-14 10:10:19, low: 117.7, high: 117.8, type: 1\n",
      "time: 2019-05-14 10:10:36, low: 117.6, high: 117.7, type: -1\n"
     ]
    },
    {
     "name": "stderr",
     "output_type": "stream",
     "text": [
      "DEBUG:root:Ticks: 117.6\n",
      "INFO:root:Inside tickfunction that one\n",
      "DEBUG:root:size of queue: 3\n"
     ]
    },
    {
     "name": "stdout",
     "output_type": "stream",
     "text": [
      "time: 2019-05-14 10:09:38, low: 117.6, high: 117.7, type: -1\n",
      "time: 2019-05-14 10:10:19, low: 117.7, high: 117.8, type: 1\n",
      "time: 2019-05-14 10:10:36, low: 117.6, high: 117.7, type: -1\n"
     ]
    },
    {
     "name": "stderr",
     "output_type": "stream",
     "text": [
      "DEBUG:root:Ticks: 117.7\n",
      "INFO:root:Inside tickfunction that one\n",
      "DEBUG:root:size of queue: 3\n"
     ]
    },
    {
     "name": "stdout",
     "output_type": "stream",
     "text": [
      "time: 2019-05-14 10:09:38, low: 117.6, high: 117.7, type: -1\n",
      "time: 2019-05-14 10:10:19, low: 117.7, high: 117.8, type: 1\n",
      "time: 2019-05-14 10:10:36, low: 117.6, high: 117.7, type: -1\n"
     ]
    },
    {
     "name": "stderr",
     "output_type": "stream",
     "text": [
      "DEBUG:root:Ticks: 117.7\n",
      "INFO:root:Inside tickfunction that one\n",
      "DEBUG:root:size of queue: 3\n"
     ]
    },
    {
     "name": "stdout",
     "output_type": "stream",
     "text": [
      "time: 2019-05-14 10:09:38, low: 117.6, high: 117.7, type: -1\n",
      "time: 2019-05-14 10:10:19, low: 117.7, high: 117.8, type: 1\n",
      "time: 2019-05-14 10:10:36, low: 117.6, high: 117.7, type: -1\n"
     ]
    },
    {
     "name": "stderr",
     "output_type": "stream",
     "text": [
      "DEBUG:root:Ticks: 117.7\n",
      "INFO:root:Inside tickfunction that one\n",
      "DEBUG:root:size of queue: 3\n"
     ]
    },
    {
     "name": "stdout",
     "output_type": "stream",
     "text": [
      "time: 2019-05-14 10:09:38, low: 117.6, high: 117.7, type: -1\n",
      "time: 2019-05-14 10:10:19, low: 117.7, high: 117.8, type: 1\n",
      "time: 2019-05-14 10:10:36, low: 117.6, high: 117.7, type: -1\n"
     ]
    },
    {
     "name": "stderr",
     "output_type": "stream",
     "text": [
      "DEBUG:root:Ticks: 117.7\n",
      "INFO:root:Inside tickfunction that one\n",
      "DEBUG:root:size of queue: 3\n"
     ]
    },
    {
     "name": "stdout",
     "output_type": "stream",
     "text": [
      "time: 2019-05-14 10:09:38, low: 117.6, high: 117.7, type: -1\n",
      "time: 2019-05-14 10:10:19, low: 117.7, high: 117.8, type: 1\n",
      "time: 2019-05-14 10:10:36, low: 117.6, high: 117.7, type: -1\n"
     ]
    },
    {
     "name": "stderr",
     "output_type": "stream",
     "text": [
      "DEBUG:root:Ticks: 117.7\n",
      "INFO:root:Inside tickfunction that one\n",
      "DEBUG:root:size of queue: 3\n"
     ]
    },
    {
     "name": "stdout",
     "output_type": "stream",
     "text": [
      "time: 2019-05-14 10:09:38, low: 117.6, high: 117.7, type: -1\n",
      "time: 2019-05-14 10:10:19, low: 117.7, high: 117.8, type: 1\n",
      "time: 2019-05-14 10:10:36, low: 117.6, high: 117.7, type: -1\n"
     ]
    },
    {
     "name": "stderr",
     "output_type": "stream",
     "text": [
      "DEBUG:root:Ticks: 117.7\n",
      "INFO:root:Inside tickfunction that one\n",
      "DEBUG:root:size of queue: 3\n"
     ]
    },
    {
     "name": "stdout",
     "output_type": "stream",
     "text": [
      "time: 2019-05-14 10:09:38, low: 117.6, high: 117.7, type: -1\n",
      "time: 2019-05-14 10:10:19, low: 117.7, high: 117.8, type: 1\n",
      "time: 2019-05-14 10:10:36, low: 117.6, high: 117.7, type: -1\n"
     ]
    },
    {
     "name": "stderr",
     "output_type": "stream",
     "text": [
      "DEBUG:root:Ticks: 117.6\n",
      "INFO:root:Inside tickfunction that one\n",
      "DEBUG:root:size of queue: 3\n"
     ]
    },
    {
     "name": "stdout",
     "output_type": "stream",
     "text": [
      "time: 2019-05-14 10:09:38, low: 117.6, high: 117.7, type: -1\n",
      "time: 2019-05-14 10:10:19, low: 117.7, high: 117.8, type: 1\n",
      "time: 2019-05-14 10:10:36, low: 117.6, high: 117.7, type: -1\n"
     ]
    },
    {
     "name": "stderr",
     "output_type": "stream",
     "text": [
      "DEBUG:root:Ticks: 117.6\n",
      "INFO:root:Inside tickfunction that one\n",
      "DEBUG:root:size of queue: 3\n"
     ]
    },
    {
     "name": "stdout",
     "output_type": "stream",
     "text": [
      "time: 2019-05-14 10:09:38, low: 117.6, high: 117.7, type: -1\n",
      "time: 2019-05-14 10:10:19, low: 117.7, high: 117.8, type: 1\n",
      "time: 2019-05-14 10:10:36, low: 117.6, high: 117.7, type: -1\n"
     ]
    },
    {
     "name": "stderr",
     "output_type": "stream",
     "text": [
      "DEBUG:root:Ticks: 117.75\n",
      "INFO:root:Inside tickfunction that one\n",
      "DEBUG:root:size of queue: 3\n"
     ]
    },
    {
     "name": "stdout",
     "output_type": "stream",
     "text": [
      "time: 2019-05-14 10:09:38, low: 117.6, high: 117.7, type: -1\n",
      "time: 2019-05-14 10:10:19, low: 117.7, high: 117.8, type: 1\n",
      "time: 2019-05-14 10:10:36, low: 117.6, high: 117.7, type: -1\n"
     ]
    },
    {
     "name": "stderr",
     "output_type": "stream",
     "text": [
      "DEBUG:root:Ticks: 117.75\n",
      "INFO:root:Inside tickfunction that one\n",
      "DEBUG:root:size of queue: 3\n"
     ]
    },
    {
     "name": "stdout",
     "output_type": "stream",
     "text": [
      "time: 2019-05-14 10:09:38, low: 117.6, high: 117.7, type: -1\n",
      "time: 2019-05-14 10:10:19, low: 117.7, high: 117.8, type: 1\n",
      "time: 2019-05-14 10:10:36, low: 117.6, high: 117.7, type: -1\n"
     ]
    },
    {
     "name": "stderr",
     "output_type": "stream",
     "text": [
      "DEBUG:root:Ticks: 117.75\n",
      "INFO:root:Inside tickfunction that one\n",
      "DEBUG:root:size of queue: 3\n"
     ]
    },
    {
     "name": "stdout",
     "output_type": "stream",
     "text": [
      "time: 2019-05-14 10:09:38, low: 117.6, high: 117.7, type: -1\n",
      "time: 2019-05-14 10:10:19, low: 117.7, high: 117.8, type: 1\n",
      "time: 2019-05-14 10:10:36, low: 117.6, high: 117.7, type: -1\n"
     ]
    },
    {
     "name": "stderr",
     "output_type": "stream",
     "text": [
      "DEBUG:root:Ticks: 117.75\n",
      "INFO:root:Inside tickfunction that one\n",
      "DEBUG:root:size of queue: 3\n"
     ]
    },
    {
     "name": "stdout",
     "output_type": "stream",
     "text": [
      "time: 2019-05-14 10:09:38, low: 117.6, high: 117.7, type: -1\n",
      "time: 2019-05-14 10:10:19, low: 117.7, high: 117.8, type: 1\n",
      "time: 2019-05-14 10:10:36, low: 117.6, high: 117.7, type: -1\n"
     ]
    },
    {
     "name": "stderr",
     "output_type": "stream",
     "text": [
      "DEBUG:root:Ticks: 117.75\n",
      "INFO:root:Inside tickfunction that one\n",
      "DEBUG:root:size of queue: 3\n"
     ]
    },
    {
     "name": "stdout",
     "output_type": "stream",
     "text": [
      "time: 2019-05-14 10:09:38, low: 117.6, high: 117.7, type: -1\n",
      "time: 2019-05-14 10:10:19, low: 117.7, high: 117.8, type: 1\n",
      "time: 2019-05-14 10:10:36, low: 117.6, high: 117.7, type: -1\n"
     ]
    },
    {
     "name": "stderr",
     "output_type": "stream",
     "text": [
      "DEBUG:root:Ticks: 117.75\n",
      "INFO:root:Inside tickfunction that one\n",
      "DEBUG:root:size of queue: 3\n"
     ]
    },
    {
     "name": "stdout",
     "output_type": "stream",
     "text": [
      "time: 2019-05-14 10:09:38, low: 117.6, high: 117.7, type: -1\n",
      "time: 2019-05-14 10:10:19, low: 117.7, high: 117.8, type: 1\n",
      "time: 2019-05-14 10:10:36, low: 117.6, high: 117.7, type: -1\n"
     ]
    },
    {
     "name": "stderr",
     "output_type": "stream",
     "text": [
      "DEBUG:root:Ticks: 117.75\n",
      "INFO:root:Inside tickfunction that one\n",
      "DEBUG:root:size of queue: 3\n"
     ]
    },
    {
     "name": "stdout",
     "output_type": "stream",
     "text": [
      "time: 2019-05-14 10:09:38, low: 117.6, high: 117.7, type: -1\n",
      "time: 2019-05-14 10:10:19, low: 117.7, high: 117.8, type: 1\n",
      "time: 2019-05-14 10:10:36, low: 117.6, high: 117.7, type: -1\n"
     ]
    },
    {
     "name": "stderr",
     "output_type": "stream",
     "text": [
      "DEBUG:root:Ticks: 117.75\n",
      "INFO:root:Inside tickfunction that one\n",
      "DEBUG:root:size of queue: 3\n"
     ]
    },
    {
     "name": "stdout",
     "output_type": "stream",
     "text": [
      "time: 2019-05-14 10:09:38, low: 117.6, high: 117.7, type: -1\n",
      "time: 2019-05-14 10:10:19, low: 117.7, high: 117.8, type: 1\n",
      "time: 2019-05-14 10:10:36, low: 117.6, high: 117.7, type: -1\n"
     ]
    },
    {
     "name": "stderr",
     "output_type": "stream",
     "text": [
      "DEBUG:root:Ticks: 117.75\n",
      "INFO:root:Inside tickfunction that one\n",
      "DEBUG:root:size of queue: 3\n"
     ]
    },
    {
     "name": "stdout",
     "output_type": "stream",
     "text": [
      "time: 2019-05-14 10:09:38, low: 117.6, high: 117.7, type: -1\n",
      "time: 2019-05-14 10:10:19, low: 117.7, high: 117.8, type: 1\n",
      "time: 2019-05-14 10:10:36, low: 117.6, high: 117.7, type: -1\n"
     ]
    },
    {
     "name": "stderr",
     "output_type": "stream",
     "text": [
      "DEBUG:root:Ticks: 117.75\n",
      "INFO:root:Inside tickfunction that one\n",
      "DEBUG:root:size of queue: 3\n"
     ]
    },
    {
     "name": "stdout",
     "output_type": "stream",
     "text": [
      "time: 2019-05-14 10:09:38, low: 117.6, high: 117.7, type: -1\n",
      "time: 2019-05-14 10:10:19, low: 117.7, high: 117.8, type: 1\n",
      "time: 2019-05-14 10:10:36, low: 117.6, high: 117.7, type: -1\n"
     ]
    },
    {
     "name": "stderr",
     "output_type": "stream",
     "text": [
      "DEBUG:root:Ticks: 117.6\n",
      "INFO:root:Inside tickfunction that one\n",
      "DEBUG:root:size of queue: 3\n"
     ]
    },
    {
     "name": "stdout",
     "output_type": "stream",
     "text": [
      "time: 2019-05-14 10:09:38, low: 117.6, high: 117.7, type: -1\n",
      "time: 2019-05-14 10:10:19, low: 117.7, high: 117.8, type: 1\n",
      "time: 2019-05-14 10:10:36, low: 117.6, high: 117.7, type: -1\n"
     ]
    },
    {
     "name": "stderr",
     "output_type": "stream",
     "text": [
      "DEBUG:root:Ticks: 117.6\n",
      "INFO:root:Inside tickfunction that one\n",
      "DEBUG:root:size of queue: 3\n"
     ]
    },
    {
     "name": "stdout",
     "output_type": "stream",
     "text": [
      "time: 2019-05-14 10:09:38, low: 117.6, high: 117.7, type: -1\n",
      "time: 2019-05-14 10:10:19, low: 117.7, high: 117.8, type: 1\n",
      "time: 2019-05-14 10:10:36, low: 117.6, high: 117.7, type: -1\n"
     ]
    },
    {
     "name": "stderr",
     "output_type": "stream",
     "text": [
      "DEBUG:root:Ticks: 117.6\n",
      "INFO:root:Inside tickfunction that one\n",
      "DEBUG:root:size of queue: 3\n"
     ]
    },
    {
     "name": "stdout",
     "output_type": "stream",
     "text": [
      "time: 2019-05-14 10:09:38, low: 117.6, high: 117.7, type: -1\n",
      "time: 2019-05-14 10:10:19, low: 117.7, high: 117.8, type: 1\n",
      "time: 2019-05-14 10:10:36, low: 117.6, high: 117.7, type: -1\n"
     ]
    },
    {
     "name": "stderr",
     "output_type": "stream",
     "text": [
      "DEBUG:root:Ticks: 117.6\n",
      "INFO:root:Inside tickfunction that one\n",
      "DEBUG:root:size of queue: 3\n"
     ]
    },
    {
     "name": "stdout",
     "output_type": "stream",
     "text": [
      "time: 2019-05-14 10:09:38, low: 117.6, high: 117.7, type: -1\n",
      "time: 2019-05-14 10:10:19, low: 117.7, high: 117.8, type: 1\n",
      "time: 2019-05-14 10:10:36, low: 117.6, high: 117.7, type: -1\n"
     ]
    },
    {
     "name": "stderr",
     "output_type": "stream",
     "text": [
      "DEBUG:root:Ticks: 117.6\n",
      "INFO:root:Inside tickfunction that one\n",
      "DEBUG:root:size of queue: 3\n"
     ]
    },
    {
     "name": "stdout",
     "output_type": "stream",
     "text": [
      "time: 2019-05-14 10:09:38, low: 117.6, high: 117.7, type: -1\n",
      "time: 2019-05-14 10:10:19, low: 117.7, high: 117.8, type: 1\n",
      "time: 2019-05-14 10:10:36, low: 117.6, high: 117.7, type: -1\n"
     ]
    },
    {
     "name": "stderr",
     "output_type": "stream",
     "text": [
      "DEBUG:root:Ticks: 117.6\n",
      "INFO:root:Inside tickfunction that one\n",
      "DEBUG:root:size of queue: 3\n"
     ]
    },
    {
     "name": "stdout",
     "output_type": "stream",
     "text": [
      "time: 2019-05-14 10:09:38, low: 117.6, high: 117.7, type: -1\n",
      "time: 2019-05-14 10:10:19, low: 117.7, high: 117.8, type: 1\n",
      "time: 2019-05-14 10:10:36, low: 117.6, high: 117.7, type: -1\n"
     ]
    },
    {
     "name": "stderr",
     "output_type": "stream",
     "text": [
      "DEBUG:root:Ticks: 117.6\n",
      "INFO:root:Inside tickfunction that one\n",
      "DEBUG:root:size of queue: 3\n"
     ]
    },
    {
     "name": "stdout",
     "output_type": "stream",
     "text": [
      "time: 2019-05-14 10:09:38, low: 117.6, high: 117.7, type: -1\n",
      "time: 2019-05-14 10:10:19, low: 117.7, high: 117.8, type: 1\n",
      "time: 2019-05-14 10:10:36, low: 117.6, high: 117.7, type: -1\n"
     ]
    },
    {
     "name": "stderr",
     "output_type": "stream",
     "text": [
      "DEBUG:root:Ticks: 117.6\n",
      "INFO:root:Inside tickfunction that one\n",
      "DEBUG:root:size of queue: 3\n"
     ]
    },
    {
     "name": "stdout",
     "output_type": "stream",
     "text": [
      "time: 2019-05-14 10:09:38, low: 117.6, high: 117.7, type: -1\n",
      "time: 2019-05-14 10:10:19, low: 117.7, high: 117.8, type: 1\n",
      "time: 2019-05-14 10:10:36, low: 117.6, high: 117.7, type: -1\n"
     ]
    },
    {
     "name": "stderr",
     "output_type": "stream",
     "text": [
      "DEBUG:root:Ticks: 117.6\n",
      "INFO:root:Inside tickfunction that one\n",
      "DEBUG:root:size of queue: 3\n"
     ]
    },
    {
     "name": "stdout",
     "output_type": "stream",
     "text": [
      "time: 2019-05-14 10:09:38, low: 117.6, high: 117.7, type: -1\n",
      "time: 2019-05-14 10:10:19, low: 117.7, high: 117.8, type: 1\n",
      "time: 2019-05-14 10:10:36, low: 117.6, high: 117.7, type: -1\n"
     ]
    },
    {
     "name": "stderr",
     "output_type": "stream",
     "text": [
      "DEBUG:root:Ticks: 117.6\n",
      "INFO:root:Inside tickfunction that one\n",
      "DEBUG:root:size of queue: 3\n"
     ]
    },
    {
     "name": "stdout",
     "output_type": "stream",
     "text": [
      "time: 2019-05-14 10:09:38, low: 117.6, high: 117.7, type: -1\n",
      "time: 2019-05-14 10:10:19, low: 117.7, high: 117.8, type: 1\n",
      "time: 2019-05-14 10:10:36, low: 117.6, high: 117.7, type: -1\n"
     ]
    },
    {
     "name": "stderr",
     "output_type": "stream",
     "text": [
      "DEBUG:root:Ticks: 117.65\n",
      "INFO:root:Inside tickfunction that one\n",
      "DEBUG:root:size of queue: 3\n"
     ]
    },
    {
     "name": "stdout",
     "output_type": "stream",
     "text": [
      "time: 2019-05-14 10:09:38, low: 117.6, high: 117.7, type: -1\n",
      "time: 2019-05-14 10:10:19, low: 117.7, high: 117.8, type: 1\n",
      "time: 2019-05-14 10:10:36, low: 117.6, high: 117.7, type: -1\n"
     ]
    },
    {
     "name": "stderr",
     "output_type": "stream",
     "text": [
      "DEBUG:root:Ticks: 117.65\n",
      "INFO:root:Inside tickfunction that one\n",
      "DEBUG:root:size of queue: 3\n"
     ]
    },
    {
     "name": "stdout",
     "output_type": "stream",
     "text": [
      "time: 2019-05-14 10:09:38, low: 117.6, high: 117.7, type: -1\n",
      "time: 2019-05-14 10:10:19, low: 117.7, high: 117.8, type: 1\n",
      "time: 2019-05-14 10:10:36, low: 117.6, high: 117.7, type: -1\n"
     ]
    },
    {
     "name": "stderr",
     "output_type": "stream",
     "text": [
      "DEBUG:root:Ticks: 117.65\n",
      "INFO:root:Inside tickfunction that one\n",
      "DEBUG:root:size of queue: 3\n"
     ]
    },
    {
     "name": "stdout",
     "output_type": "stream",
     "text": [
      "time: 2019-05-14 10:09:38, low: 117.6, high: 117.7, type: -1\n",
      "time: 2019-05-14 10:10:19, low: 117.7, high: 117.8, type: 1\n",
      "time: 2019-05-14 10:10:36, low: 117.6, high: 117.7, type: -1\n"
     ]
    },
    {
     "name": "stderr",
     "output_type": "stream",
     "text": [
      "DEBUG:root:Ticks: 117.65\n",
      "INFO:root:Inside tickfunction that one\n",
      "DEBUG:root:size of queue: 3\n"
     ]
    },
    {
     "name": "stdout",
     "output_type": "stream",
     "text": [
      "time: 2019-05-14 10:09:38, low: 117.6, high: 117.7, type: -1\n",
      "time: 2019-05-14 10:10:19, low: 117.7, high: 117.8, type: 1\n",
      "time: 2019-05-14 10:10:36, low: 117.6, high: 117.7, type: -1\n"
     ]
    },
    {
     "name": "stderr",
     "output_type": "stream",
     "text": [
      "DEBUG:root:Ticks: 117.65\n",
      "INFO:root:Inside tickfunction that one\n",
      "DEBUG:root:size of queue: 3\n"
     ]
    },
    {
     "name": "stdout",
     "output_type": "stream",
     "text": [
      "time: 2019-05-14 10:09:38, low: 117.6, high: 117.7, type: -1\n",
      "time: 2019-05-14 10:10:19, low: 117.7, high: 117.8, type: 1\n",
      "time: 2019-05-14 10:10:36, low: 117.6, high: 117.7, type: -1\n"
     ]
    },
    {
     "name": "stderr",
     "output_type": "stream",
     "text": [
      "DEBUG:root:Ticks: 117.7\n",
      "INFO:root:Inside tickfunction that one\n",
      "DEBUG:root:size of queue: 3\n"
     ]
    },
    {
     "name": "stdout",
     "output_type": "stream",
     "text": [
      "time: 2019-05-14 10:09:38, low: 117.6, high: 117.7, type: -1\n",
      "time: 2019-05-14 10:10:19, low: 117.7, high: 117.8, type: 1\n",
      "time: 2019-05-14 10:10:36, low: 117.6, high: 117.7, type: -1\n"
     ]
    },
    {
     "name": "stderr",
     "output_type": "stream",
     "text": [
      "DEBUG:root:Ticks: 117.7\n",
      "INFO:root:Inside tickfunction that one\n",
      "DEBUG:root:size of queue: 3\n"
     ]
    },
    {
     "name": "stdout",
     "output_type": "stream",
     "text": [
      "time: 2019-05-14 10:09:38, low: 117.6, high: 117.7, type: -1\n",
      "time: 2019-05-14 10:10:19, low: 117.7, high: 117.8, type: 1\n",
      "time: 2019-05-14 10:10:36, low: 117.6, high: 117.7, type: -1\n"
     ]
    },
    {
     "name": "stderr",
     "output_type": "stream",
     "text": [
      "DEBUG:root:Ticks: 117.7\n",
      "INFO:root:Inside tickfunction that one\n",
      "DEBUG:root:size of queue: 3\n"
     ]
    },
    {
     "name": "stdout",
     "output_type": "stream",
     "text": [
      "time: 2019-05-14 10:09:38, low: 117.6, high: 117.7, type: -1\n",
      "time: 2019-05-14 10:10:19, low: 117.7, high: 117.8, type: 1\n",
      "time: 2019-05-14 10:10:36, low: 117.6, high: 117.7, type: -1\n"
     ]
    },
    {
     "name": "stderr",
     "output_type": "stream",
     "text": [
      "DEBUG:root:Ticks: 117.7\n",
      "INFO:root:Inside tickfunction that one\n",
      "DEBUG:root:size of queue: 3\n"
     ]
    },
    {
     "name": "stdout",
     "output_type": "stream",
     "text": [
      "time: 2019-05-14 10:09:38, low: 117.6, high: 117.7, type: -1\n",
      "time: 2019-05-14 10:10:19, low: 117.7, high: 117.8, type: 1\n",
      "time: 2019-05-14 10:10:36, low: 117.6, high: 117.7, type: -1\n"
     ]
    },
    {
     "name": "stderr",
     "output_type": "stream",
     "text": [
      "DEBUG:root:Ticks: 117.7\n",
      "INFO:root:Inside tickfunction that one\n",
      "DEBUG:root:size of queue: 3\n"
     ]
    },
    {
     "name": "stdout",
     "output_type": "stream",
     "text": [
      "time: 2019-05-14 10:09:38, low: 117.6, high: 117.7, type: -1\n",
      "time: 2019-05-14 10:10:19, low: 117.7, high: 117.8, type: 1\n",
      "time: 2019-05-14 10:10:36, low: 117.6, high: 117.7, type: -1\n"
     ]
    },
    {
     "name": "stderr",
     "output_type": "stream",
     "text": [
      "DEBUG:root:Ticks: 117.7\n",
      "INFO:root:Inside tickfunction that one\n",
      "DEBUG:root:size of queue: 3\n"
     ]
    },
    {
     "name": "stdout",
     "output_type": "stream",
     "text": [
      "time: 2019-05-14 10:09:38, low: 117.6, high: 117.7, type: -1\n",
      "time: 2019-05-14 10:10:19, low: 117.7, high: 117.8, type: 1\n",
      "time: 2019-05-14 10:10:36, low: 117.6, high: 117.7, type: -1\n"
     ]
    },
    {
     "name": "stderr",
     "output_type": "stream",
     "text": [
      "DEBUG:root:Ticks: 117.7\n",
      "INFO:root:Inside tickfunction that one\n",
      "DEBUG:root:size of queue: 3\n"
     ]
    },
    {
     "name": "stdout",
     "output_type": "stream",
     "text": [
      "time: 2019-05-14 10:09:38, low: 117.6, high: 117.7, type: -1\n",
      "time: 2019-05-14 10:10:19, low: 117.7, high: 117.8, type: 1\n",
      "time: 2019-05-14 10:10:36, low: 117.6, high: 117.7, type: -1\n"
     ]
    },
    {
     "name": "stderr",
     "output_type": "stream",
     "text": [
      "DEBUG:root:Ticks: 117.7\n",
      "INFO:root:Inside tickfunction that one\n",
      "DEBUG:root:size of queue: 3\n"
     ]
    },
    {
     "name": "stdout",
     "output_type": "stream",
     "text": [
      "time: 2019-05-14 10:09:38, low: 117.6, high: 117.7, type: -1\n",
      "time: 2019-05-14 10:10:19, low: 117.7, high: 117.8, type: 1\n",
      "time: 2019-05-14 10:10:36, low: 117.6, high: 117.7, type: -1\n"
     ]
    },
    {
     "name": "stderr",
     "output_type": "stream",
     "text": [
      "DEBUG:root:Ticks: 117.7\n",
      "INFO:root:Inside tickfunction that one\n",
      "DEBUG:root:size of queue: 3\n"
     ]
    },
    {
     "name": "stdout",
     "output_type": "stream",
     "text": [
      "time: 2019-05-14 10:09:38, low: 117.6, high: 117.7, type: -1\n",
      "time: 2019-05-14 10:10:19, low: 117.7, high: 117.8, type: 1\n",
      "time: 2019-05-14 10:10:36, low: 117.6, high: 117.7, type: -1\n"
     ]
    },
    {
     "name": "stderr",
     "output_type": "stream",
     "text": [
      "DEBUG:root:Ticks: 117.7\n",
      "INFO:root:Inside tickfunction that one\n",
      "DEBUG:root:size of queue: 3\n"
     ]
    },
    {
     "name": "stdout",
     "output_type": "stream",
     "text": [
      "time: 2019-05-14 10:09:38, low: 117.6, high: 117.7, type: -1\n",
      "time: 2019-05-14 10:10:19, low: 117.7, high: 117.8, type: 1\n",
      "time: 2019-05-14 10:10:36, low: 117.6, high: 117.7, type: -1\n"
     ]
    },
    {
     "name": "stderr",
     "output_type": "stream",
     "text": [
      "DEBUG:root:Ticks: 117.75\n",
      "INFO:root:Inside tickfunction that one\n",
      "DEBUG:root:size of queue: 3\n"
     ]
    },
    {
     "name": "stdout",
     "output_type": "stream",
     "text": [
      "time: 2019-05-14 10:09:38, low: 117.6, high: 117.7, type: -1\n",
      "time: 2019-05-14 10:10:19, low: 117.7, high: 117.8, type: 1\n",
      "time: 2019-05-14 10:10:36, low: 117.6, high: 117.7, type: -1\n"
     ]
    },
    {
     "name": "stderr",
     "output_type": "stream",
     "text": [
      "DEBUG:root:Ticks: 117.75\n",
      "INFO:root:Inside tickfunction that one\n",
      "DEBUG:root:size of queue: 3\n"
     ]
    },
    {
     "name": "stdout",
     "output_type": "stream",
     "text": [
      "time: 2019-05-14 10:09:38, low: 117.6, high: 117.7, type: -1\n",
      "time: 2019-05-14 10:10:19, low: 117.7, high: 117.8, type: 1\n",
      "time: 2019-05-14 10:10:36, low: 117.6, high: 117.7, type: -1\n"
     ]
    },
    {
     "name": "stderr",
     "output_type": "stream",
     "text": [
      "DEBUG:root:Ticks: 117.75\n",
      "INFO:root:Inside tickfunction that one\n",
      "DEBUG:root:size of queue: 3\n"
     ]
    },
    {
     "name": "stdout",
     "output_type": "stream",
     "text": [
      "time: 2019-05-14 10:09:38, low: 117.6, high: 117.7, type: -1\n",
      "time: 2019-05-14 10:10:19, low: 117.7, high: 117.8, type: 1\n",
      "time: 2019-05-14 10:10:36, low: 117.6, high: 117.7, type: -1\n"
     ]
    },
    {
     "name": "stderr",
     "output_type": "stream",
     "text": [
      "DEBUG:root:Ticks: 117.7\n",
      "INFO:root:Inside tickfunction that one\n",
      "DEBUG:root:size of queue: 3\n"
     ]
    },
    {
     "name": "stdout",
     "output_type": "stream",
     "text": [
      "time: 2019-05-14 10:09:38, low: 117.6, high: 117.7, type: -1\n",
      "time: 2019-05-14 10:10:19, low: 117.7, high: 117.8, type: 1\n",
      "time: 2019-05-14 10:10:36, low: 117.6, high: 117.7, type: -1\n"
     ]
    },
    {
     "name": "stderr",
     "output_type": "stream",
     "text": [
      "DEBUG:root:Ticks: 117.7\n",
      "INFO:root:Inside tickfunction that one\n",
      "DEBUG:root:size of queue: 3\n"
     ]
    },
    {
     "name": "stdout",
     "output_type": "stream",
     "text": [
      "time: 2019-05-14 10:09:38, low: 117.6, high: 117.7, type: -1\n",
      "time: 2019-05-14 10:10:19, low: 117.7, high: 117.8, type: 1\n",
      "time: 2019-05-14 10:10:36, low: 117.6, high: 117.7, type: -1\n"
     ]
    },
    {
     "name": "stderr",
     "output_type": "stream",
     "text": [
      "DEBUG:root:Ticks: 117.7\n",
      "INFO:root:Inside tickfunction that one\n",
      "DEBUG:root:size of queue: 3\n"
     ]
    },
    {
     "name": "stdout",
     "output_type": "stream",
     "text": [
      "time: 2019-05-14 10:09:38, low: 117.6, high: 117.7, type: -1\n",
      "time: 2019-05-14 10:10:19, low: 117.7, high: 117.8, type: 1\n",
      "time: 2019-05-14 10:10:36, low: 117.6, high: 117.7, type: -1\n"
     ]
    },
    {
     "name": "stderr",
     "output_type": "stream",
     "text": [
      "DEBUG:root:Ticks: 117.7\n",
      "INFO:root:Inside tickfunction that one\n",
      "DEBUG:root:size of queue: 3\n"
     ]
    },
    {
     "name": "stdout",
     "output_type": "stream",
     "text": [
      "time: 2019-05-14 10:09:38, low: 117.6, high: 117.7, type: -1\n",
      "time: 2019-05-14 10:10:19, low: 117.7, high: 117.8, type: 1\n",
      "time: 2019-05-14 10:10:36, low: 117.6, high: 117.7, type: -1\n"
     ]
    },
    {
     "name": "stderr",
     "output_type": "stream",
     "text": [
      "DEBUG:root:Ticks: 117.7\n",
      "INFO:root:Inside tickfunction that one\n",
      "DEBUG:root:size of queue: 3\n"
     ]
    },
    {
     "name": "stdout",
     "output_type": "stream",
     "text": [
      "time: 2019-05-14 10:09:38, low: 117.6, high: 117.7, type: -1\n",
      "time: 2019-05-14 10:10:19, low: 117.7, high: 117.8, type: 1\n",
      "time: 2019-05-14 10:10:36, low: 117.6, high: 117.7, type: -1\n"
     ]
    },
    {
     "name": "stderr",
     "output_type": "stream",
     "text": [
      "DEBUG:root:Ticks: 117.7\n",
      "INFO:root:Inside tickfunction that one\n",
      "DEBUG:root:size of queue: 3\n"
     ]
    },
    {
     "name": "stdout",
     "output_type": "stream",
     "text": [
      "time: 2019-05-14 10:09:38, low: 117.6, high: 117.7, type: -1\n",
      "time: 2019-05-14 10:10:19, low: 117.7, high: 117.8, type: 1\n",
      "time: 2019-05-14 10:10:36, low: 117.6, high: 117.7, type: -1\n"
     ]
    },
    {
     "name": "stderr",
     "output_type": "stream",
     "text": [
      "DEBUG:root:Ticks: 117.7\n",
      "INFO:root:Inside tickfunction that one\n",
      "DEBUG:root:size of queue: 3\n"
     ]
    },
    {
     "name": "stdout",
     "output_type": "stream",
     "text": [
      "time: 2019-05-14 10:09:38, low: 117.6, high: 117.7, type: -1\n",
      "time: 2019-05-14 10:10:19, low: 117.7, high: 117.8, type: 1\n",
      "time: 2019-05-14 10:10:36, low: 117.6, high: 117.7, type: -1\n"
     ]
    },
    {
     "name": "stderr",
     "output_type": "stream",
     "text": [
      "DEBUG:root:Ticks: 117.7\n",
      "INFO:root:Inside tickfunction that one\n",
      "DEBUG:root:size of queue: 3\n"
     ]
    },
    {
     "name": "stdout",
     "output_type": "stream",
     "text": [
      "time: 2019-05-14 10:09:38, low: 117.6, high: 117.7, type: -1\n",
      "time: 2019-05-14 10:10:19, low: 117.7, high: 117.8, type: 1\n",
      "time: 2019-05-14 10:10:36, low: 117.6, high: 117.7, type: -1\n"
     ]
    },
    {
     "name": "stderr",
     "output_type": "stream",
     "text": [
      "DEBUG:root:Ticks: 117.7\n",
      "INFO:root:Inside tickfunction that one\n",
      "DEBUG:root:size of queue: 3\n"
     ]
    },
    {
     "name": "stdout",
     "output_type": "stream",
     "text": [
      "time: 2019-05-14 10:09:38, low: 117.6, high: 117.7, type: -1\n",
      "time: 2019-05-14 10:10:19, low: 117.7, high: 117.8, type: 1\n",
      "time: 2019-05-14 10:10:36, low: 117.6, high: 117.7, type: -1\n"
     ]
    },
    {
     "name": "stderr",
     "output_type": "stream",
     "text": [
      "DEBUG:root:Ticks: 117.7\n",
      "INFO:root:Inside tickfunction that one\n",
      "DEBUG:root:size of queue: 3\n"
     ]
    },
    {
     "name": "stdout",
     "output_type": "stream",
     "text": [
      "time: 2019-05-14 10:09:38, low: 117.6, high: 117.7, type: -1\n",
      "time: 2019-05-14 10:10:19, low: 117.7, high: 117.8, type: 1\n",
      "time: 2019-05-14 10:10:36, low: 117.6, high: 117.7, type: -1\n"
     ]
    },
    {
     "name": "stderr",
     "output_type": "stream",
     "text": [
      "DEBUG:root:Ticks: 117.7\n",
      "INFO:root:Inside tickfunction that one\n",
      "DEBUG:root:size of queue: 3\n"
     ]
    },
    {
     "name": "stdout",
     "output_type": "stream",
     "text": [
      "time: 2019-05-14 10:09:38, low: 117.6, high: 117.7, type: -1\n",
      "time: 2019-05-14 10:10:19, low: 117.7, high: 117.8, type: 1\n",
      "time: 2019-05-14 10:10:36, low: 117.6, high: 117.7, type: -1\n"
     ]
    },
    {
     "name": "stderr",
     "output_type": "stream",
     "text": [
      "DEBUG:root:Ticks: 117.7\n",
      "INFO:root:Inside tickfunction that one\n",
      "DEBUG:root:size of queue: 3\n"
     ]
    },
    {
     "name": "stdout",
     "output_type": "stream",
     "text": [
      "time: 2019-05-14 10:09:38, low: 117.6, high: 117.7, type: -1\n",
      "time: 2019-05-14 10:10:19, low: 117.7, high: 117.8, type: 1\n",
      "time: 2019-05-14 10:10:36, low: 117.6, high: 117.7, type: -1\n"
     ]
    },
    {
     "name": "stderr",
     "output_type": "stream",
     "text": [
      "DEBUG:root:Ticks: 117.7\n",
      "INFO:root:Inside tickfunction that one\n",
      "DEBUG:root:size of queue: 3\n"
     ]
    },
    {
     "name": "stdout",
     "output_type": "stream",
     "text": [
      "time: 2019-05-14 10:09:38, low: 117.6, high: 117.7, type: -1\n",
      "time: 2019-05-14 10:10:19, low: 117.7, high: 117.8, type: 1\n",
      "time: 2019-05-14 10:10:36, low: 117.6, high: 117.7, type: -1\n"
     ]
    },
    {
     "name": "stderr",
     "output_type": "stream",
     "text": [
      "DEBUG:root:Ticks: 117.7\n",
      "INFO:root:Inside tickfunction that one\n",
      "DEBUG:root:size of queue: 3\n"
     ]
    },
    {
     "name": "stdout",
     "output_type": "stream",
     "text": [
      "time: 2019-05-14 10:09:38, low: 117.6, high: 117.7, type: -1\n",
      "time: 2019-05-14 10:10:19, low: 117.7, high: 117.8, type: 1\n",
      "time: 2019-05-14 10:10:36, low: 117.6, high: 117.7, type: -1\n"
     ]
    },
    {
     "name": "stderr",
     "output_type": "stream",
     "text": [
      "DEBUG:root:Ticks: 117.75\n",
      "INFO:root:Inside tickfunction that one\n",
      "DEBUG:root:size of queue: 3\n"
     ]
    },
    {
     "name": "stdout",
     "output_type": "stream",
     "text": [
      "time: 2019-05-14 10:09:38, low: 117.6, high: 117.7, type: -1\n",
      "time: 2019-05-14 10:10:19, low: 117.7, high: 117.8, type: 1\n",
      "time: 2019-05-14 10:10:36, low: 117.6, high: 117.7, type: -1\n"
     ]
    },
    {
     "name": "stderr",
     "output_type": "stream",
     "text": [
      "DEBUG:root:Ticks: 117.75\n",
      "INFO:root:Inside tickfunction that one\n",
      "DEBUG:root:size of queue: 3\n"
     ]
    },
    {
     "name": "stdout",
     "output_type": "stream",
     "text": [
      "time: 2019-05-14 10:09:38, low: 117.6, high: 117.7, type: -1\n",
      "time: 2019-05-14 10:10:19, low: 117.7, high: 117.8, type: 1\n",
      "time: 2019-05-14 10:10:36, low: 117.6, high: 117.7, type: -1\n"
     ]
    },
    {
     "name": "stderr",
     "output_type": "stream",
     "text": [
      "DEBUG:root:Ticks: 117.75\n",
      "INFO:root:Inside tickfunction that one\n",
      "DEBUG:root:size of queue: 3\n"
     ]
    },
    {
     "name": "stdout",
     "output_type": "stream",
     "text": [
      "time: 2019-05-14 10:09:38, low: 117.6, high: 117.7, type: -1\n",
      "time: 2019-05-14 10:10:19, low: 117.7, high: 117.8, type: 1\n",
      "time: 2019-05-14 10:10:36, low: 117.6, high: 117.7, type: -1\n"
     ]
    },
    {
     "name": "stderr",
     "output_type": "stream",
     "text": [
      "DEBUG:root:Ticks: 117.75\n",
      "INFO:root:Inside tickfunction that one\n",
      "DEBUG:root:size of queue: 3\n"
     ]
    },
    {
     "name": "stdout",
     "output_type": "stream",
     "text": [
      "time: 2019-05-14 10:09:38, low: 117.6, high: 117.7, type: -1\n",
      "time: 2019-05-14 10:10:19, low: 117.7, high: 117.8, type: 1\n",
      "time: 2019-05-14 10:10:36, low: 117.6, high: 117.7, type: -1\n"
     ]
    },
    {
     "name": "stderr",
     "output_type": "stream",
     "text": [
      "DEBUG:root:Ticks: 117.75\n",
      "INFO:root:Inside tickfunction that one\n",
      "DEBUG:root:size of queue: 3\n"
     ]
    },
    {
     "name": "stdout",
     "output_type": "stream",
     "text": [
      "time: 2019-05-14 10:09:38, low: 117.6, high: 117.7, type: -1\n",
      "time: 2019-05-14 10:10:19, low: 117.7, high: 117.8, type: 1\n",
      "time: 2019-05-14 10:10:36, low: 117.6, high: 117.7, type: -1\n"
     ]
    },
    {
     "name": "stderr",
     "output_type": "stream",
     "text": [
      "DEBUG:root:Ticks: 117.75\n",
      "INFO:root:Inside tickfunction that one\n",
      "DEBUG:root:size of queue: 3\n"
     ]
    },
    {
     "name": "stdout",
     "output_type": "stream",
     "text": [
      "time: 2019-05-14 10:09:38, low: 117.6, high: 117.7, type: -1\n",
      "time: 2019-05-14 10:10:19, low: 117.7, high: 117.8, type: 1\n",
      "time: 2019-05-14 10:10:36, low: 117.6, high: 117.7, type: -1\n"
     ]
    },
    {
     "name": "stderr",
     "output_type": "stream",
     "text": [
      "DEBUG:root:Ticks: 117.75\n",
      "INFO:root:Inside tickfunction that one\n",
      "DEBUG:root:size of queue: 3\n"
     ]
    },
    {
     "name": "stdout",
     "output_type": "stream",
     "text": [
      "time: 2019-05-14 10:09:38, low: 117.6, high: 117.7, type: -1\n",
      "time: 2019-05-14 10:10:19, low: 117.7, high: 117.8, type: 1\n",
      "time: 2019-05-14 10:10:36, low: 117.6, high: 117.7, type: -1\n"
     ]
    },
    {
     "name": "stderr",
     "output_type": "stream",
     "text": [
      "DEBUG:root:Ticks: 117.8\n",
      "INFO:root:Inside tickfunction that one\n",
      "DEBUG:root:size of queue: 3\n",
      "INFO:root:Boughtflag: 0\n"
     ]
    },
    {
     "name": "stdout",
     "output_type": "stream",
     "text": [
      "time: 2019-05-14 10:10:19, low: 117.7, high: 117.8, type: 1\n",
      "time: 2019-05-14 10:10:36, low: 117.6, high: 117.7, type: -1\n",
      "time: 2019-05-14 10:12:30, low: 117.7, high: 117.8, type: 1\n"
     ]
    },
    {
     "name": "stderr",
     "output_type": "stream",
     "text": [
      "DEBUG:root:Ticks: 117.8\n",
      "INFO:root:Inside tickfunction that one\n",
      "DEBUG:root:size of queue: 3\n"
     ]
    },
    {
     "name": "stdout",
     "output_type": "stream",
     "text": [
      "time: 2019-05-14 10:10:19, low: 117.7, high: 117.8, type: 1\n",
      "time: 2019-05-14 10:10:36, low: 117.6, high: 117.7, type: -1\n",
      "time: 2019-05-14 10:12:30, low: 117.7, high: 117.8, type: 1\n"
     ]
    },
    {
     "name": "stderr",
     "output_type": "stream",
     "text": [
      "DEBUG:root:Ticks: 117.8\n",
      "INFO:root:Inside tickfunction that one\n",
      "DEBUG:root:size of queue: 3\n"
     ]
    },
    {
     "name": "stdout",
     "output_type": "stream",
     "text": [
      "time: 2019-05-14 10:10:19, low: 117.7, high: 117.8, type: 1\n",
      "time: 2019-05-14 10:10:36, low: 117.6, high: 117.7, type: -1\n",
      "time: 2019-05-14 10:12:30, low: 117.7, high: 117.8, type: 1\n"
     ]
    },
    {
     "name": "stderr",
     "output_type": "stream",
     "text": [
      "DEBUG:root:Ticks: 117.8\n",
      "INFO:root:Inside tickfunction that one\n",
      "DEBUG:root:size of queue: 3\n"
     ]
    },
    {
     "name": "stdout",
     "output_type": "stream",
     "text": [
      "time: 2019-05-14 10:10:19, low: 117.7, high: 117.8, type: 1\n",
      "time: 2019-05-14 10:10:36, low: 117.6, high: 117.7, type: -1\n",
      "time: 2019-05-14 10:12:30, low: 117.7, high: 117.8, type: 1\n"
     ]
    },
    {
     "name": "stderr",
     "output_type": "stream",
     "text": [
      "DEBUG:root:Ticks: 117.8\n",
      "INFO:root:Inside tickfunction that one\n",
      "DEBUG:root:size of queue: 3\n"
     ]
    },
    {
     "name": "stdout",
     "output_type": "stream",
     "text": [
      "time: 2019-05-14 10:10:19, low: 117.7, high: 117.8, type: 1\n",
      "time: 2019-05-14 10:10:36, low: 117.6, high: 117.7, type: -1\n",
      "time: 2019-05-14 10:12:30, low: 117.7, high: 117.8, type: 1\n"
     ]
    },
    {
     "name": "stderr",
     "output_type": "stream",
     "text": [
      "DEBUG:root:Ticks: 117.8\n",
      "INFO:root:Inside tickfunction that one\n",
      "DEBUG:root:size of queue: 3\n"
     ]
    },
    {
     "name": "stdout",
     "output_type": "stream",
     "text": [
      "time: 2019-05-14 10:10:19, low: 117.7, high: 117.8, type: 1\n",
      "time: 2019-05-14 10:10:36, low: 117.6, high: 117.7, type: -1\n",
      "time: 2019-05-14 10:12:30, low: 117.7, high: 117.8, type: 1\n"
     ]
    },
    {
     "name": "stderr",
     "output_type": "stream",
     "text": [
      "DEBUG:root:Ticks: 117.8\n",
      "INFO:root:Inside tickfunction that one\n",
      "DEBUG:root:size of queue: 3\n"
     ]
    },
    {
     "name": "stdout",
     "output_type": "stream",
     "text": [
      "time: 2019-05-14 10:10:19, low: 117.7, high: 117.8, type: 1\n",
      "time: 2019-05-14 10:10:36, low: 117.6, high: 117.7, type: -1\n",
      "time: 2019-05-14 10:12:30, low: 117.7, high: 117.8, type: 1\n"
     ]
    },
    {
     "name": "stderr",
     "output_type": "stream",
     "text": [
      "DEBUG:root:Ticks: 117.75\n",
      "INFO:root:Inside tickfunction that one\n",
      "DEBUG:root:size of queue: 3\n"
     ]
    },
    {
     "name": "stdout",
     "output_type": "stream",
     "text": [
      "time: 2019-05-14 10:10:19, low: 117.7, high: 117.8, type: 1\n",
      "time: 2019-05-14 10:10:36, low: 117.6, high: 117.7, type: -1\n",
      "time: 2019-05-14 10:12:30, low: 117.7, high: 117.8, type: 1\n"
     ]
    },
    {
     "name": "stderr",
     "output_type": "stream",
     "text": [
      "DEBUG:root:Ticks: 117.75\n",
      "INFO:root:Inside tickfunction that one\n",
      "DEBUG:root:size of queue: 3\n"
     ]
    },
    {
     "name": "stdout",
     "output_type": "stream",
     "text": [
      "time: 2019-05-14 10:10:19, low: 117.7, high: 117.8, type: 1\n",
      "time: 2019-05-14 10:10:36, low: 117.6, high: 117.7, type: -1\n",
      "time: 2019-05-14 10:12:30, low: 117.7, high: 117.8, type: 1\n"
     ]
    },
    {
     "name": "stderr",
     "output_type": "stream",
     "text": [
      "DEBUG:root:Ticks: 117.75\n",
      "INFO:root:Inside tickfunction that one\n",
      "DEBUG:root:size of queue: 3\n"
     ]
    },
    {
     "name": "stdout",
     "output_type": "stream",
     "text": [
      "time: 2019-05-14 10:10:19, low: 117.7, high: 117.8, type: 1\n",
      "time: 2019-05-14 10:10:36, low: 117.6, high: 117.7, type: -1\n",
      "time: 2019-05-14 10:12:30, low: 117.7, high: 117.8, type: 1\n"
     ]
    },
    {
     "name": "stderr",
     "output_type": "stream",
     "text": [
      "DEBUG:root:Ticks: 117.75\n",
      "INFO:root:Inside tickfunction that one\n",
      "DEBUG:root:size of queue: 3\n"
     ]
    },
    {
     "name": "stdout",
     "output_type": "stream",
     "text": [
      "time: 2019-05-14 10:10:19, low: 117.7, high: 117.8, type: 1\n",
      "time: 2019-05-14 10:10:36, low: 117.6, high: 117.7, type: -1\n",
      "time: 2019-05-14 10:12:30, low: 117.7, high: 117.8, type: 1\n"
     ]
    },
    {
     "name": "stderr",
     "output_type": "stream",
     "text": [
      "DEBUG:root:Ticks: 117.8\n",
      "INFO:root:Inside tickfunction that one\n",
      "DEBUG:root:size of queue: 3\n"
     ]
    },
    {
     "name": "stdout",
     "output_type": "stream",
     "text": [
      "time: 2019-05-14 10:10:19, low: 117.7, high: 117.8, type: 1\n",
      "time: 2019-05-14 10:10:36, low: 117.6, high: 117.7, type: -1\n",
      "time: 2019-05-14 10:12:30, low: 117.7, high: 117.8, type: 1\n"
     ]
    },
    {
     "name": "stderr",
     "output_type": "stream",
     "text": [
      "DEBUG:root:Ticks: 117.8\n",
      "INFO:root:Inside tickfunction that one\n",
      "DEBUG:root:size of queue: 3\n"
     ]
    },
    {
     "name": "stdout",
     "output_type": "stream",
     "text": [
      "time: 2019-05-14 10:10:19, low: 117.7, high: 117.8, type: 1\n",
      "time: 2019-05-14 10:10:36, low: 117.6, high: 117.7, type: -1\n",
      "time: 2019-05-14 10:12:30, low: 117.7, high: 117.8, type: 1\n"
     ]
    },
    {
     "name": "stderr",
     "output_type": "stream",
     "text": [
      "DEBUG:root:Ticks: 117.8\n",
      "INFO:root:Inside tickfunction that one\n",
      "DEBUG:root:size of queue: 3\n"
     ]
    },
    {
     "name": "stdout",
     "output_type": "stream",
     "text": [
      "time: 2019-05-14 10:10:19, low: 117.7, high: 117.8, type: 1\n",
      "time: 2019-05-14 10:10:36, low: 117.6, high: 117.7, type: -1\n",
      "time: 2019-05-14 10:12:30, low: 117.7, high: 117.8, type: 1\n"
     ]
    },
    {
     "name": "stderr",
     "output_type": "stream",
     "text": [
      "DEBUG:root:Ticks: 117.75\n",
      "INFO:root:Inside tickfunction that one\n",
      "DEBUG:root:size of queue: 3\n"
     ]
    },
    {
     "name": "stdout",
     "output_type": "stream",
     "text": [
      "time: 2019-05-14 10:10:19, low: 117.7, high: 117.8, type: 1\n",
      "time: 2019-05-14 10:10:36, low: 117.6, high: 117.7, type: -1\n",
      "time: 2019-05-14 10:12:30, low: 117.7, high: 117.8, type: 1\n"
     ]
    },
    {
     "name": "stderr",
     "output_type": "stream",
     "text": [
      "DEBUG:root:Ticks: 117.75\n",
      "INFO:root:Inside tickfunction that one\n",
      "DEBUG:root:size of queue: 3\n"
     ]
    },
    {
     "name": "stdout",
     "output_type": "stream",
     "text": [
      "time: 2019-05-14 10:10:19, low: 117.7, high: 117.8, type: 1\n",
      "time: 2019-05-14 10:10:36, low: 117.6, high: 117.7, type: -1\n",
      "time: 2019-05-14 10:12:30, low: 117.7, high: 117.8, type: 1\n"
     ]
    },
    {
     "name": "stderr",
     "output_type": "stream",
     "text": [
      "DEBUG:root:Ticks: 117.75\n",
      "INFO:root:Inside tickfunction that one\n",
      "DEBUG:root:size of queue: 3\n"
     ]
    },
    {
     "name": "stdout",
     "output_type": "stream",
     "text": [
      "time: 2019-05-14 10:10:19, low: 117.7, high: 117.8, type: 1\n",
      "time: 2019-05-14 10:10:36, low: 117.6, high: 117.7, type: -1\n",
      "time: 2019-05-14 10:12:30, low: 117.7, high: 117.8, type: 1\n"
     ]
    },
    {
     "name": "stderr",
     "output_type": "stream",
     "text": [
      "DEBUG:root:Ticks: 117.75\n",
      "INFO:root:Inside tickfunction that one\n",
      "DEBUG:root:size of queue: 3\n"
     ]
    },
    {
     "name": "stdout",
     "output_type": "stream",
     "text": [
      "time: 2019-05-14 10:10:19, low: 117.7, high: 117.8, type: 1\n",
      "time: 2019-05-14 10:10:36, low: 117.6, high: 117.7, type: -1\n",
      "time: 2019-05-14 10:12:30, low: 117.7, high: 117.8, type: 1\n"
     ]
    },
    {
     "name": "stderr",
     "output_type": "stream",
     "text": [
      "DEBUG:root:Ticks: 117.75\n",
      "INFO:root:Inside tickfunction that one\n",
      "DEBUG:root:size of queue: 3\n"
     ]
    },
    {
     "name": "stdout",
     "output_type": "stream",
     "text": [
      "time: 2019-05-14 10:10:19, low: 117.7, high: 117.8, type: 1\n",
      "time: 2019-05-14 10:10:36, low: 117.6, high: 117.7, type: -1\n",
      "time: 2019-05-14 10:12:30, low: 117.7, high: 117.8, type: 1\n"
     ]
    },
    {
     "name": "stderr",
     "output_type": "stream",
     "text": [
      "DEBUG:root:Ticks: 117.75\n",
      "INFO:root:Inside tickfunction that one\n",
      "DEBUG:root:size of queue: 3\n"
     ]
    },
    {
     "name": "stdout",
     "output_type": "stream",
     "text": [
      "time: 2019-05-14 10:10:19, low: 117.7, high: 117.8, type: 1\n",
      "time: 2019-05-14 10:10:36, low: 117.6, high: 117.7, type: -1\n",
      "time: 2019-05-14 10:12:30, low: 117.7, high: 117.8, type: 1\n"
     ]
    },
    {
     "name": "stderr",
     "output_type": "stream",
     "text": [
      "DEBUG:root:Ticks: 117.75\n",
      "INFO:root:Inside tickfunction that one\n",
      "DEBUG:root:size of queue: 3\n"
     ]
    },
    {
     "name": "stdout",
     "output_type": "stream",
     "text": [
      "time: 2019-05-14 10:10:19, low: 117.7, high: 117.8, type: 1\n",
      "time: 2019-05-14 10:10:36, low: 117.6, high: 117.7, type: -1\n",
      "time: 2019-05-14 10:12:30, low: 117.7, high: 117.8, type: 1\n"
     ]
    },
    {
     "name": "stderr",
     "output_type": "stream",
     "text": [
      "DEBUG:root:Ticks: 117.75\n",
      "INFO:root:Inside tickfunction that one\n",
      "DEBUG:root:size of queue: 3\n"
     ]
    },
    {
     "name": "stdout",
     "output_type": "stream",
     "text": [
      "time: 2019-05-14 10:10:19, low: 117.7, high: 117.8, type: 1\n",
      "time: 2019-05-14 10:10:36, low: 117.6, high: 117.7, type: -1\n",
      "time: 2019-05-14 10:12:30, low: 117.7, high: 117.8, type: 1\n"
     ]
    },
    {
     "name": "stderr",
     "output_type": "stream",
     "text": [
      "DEBUG:root:Ticks: 117.75\n",
      "INFO:root:Inside tickfunction that one\n",
      "DEBUG:root:size of queue: 3\n"
     ]
    },
    {
     "name": "stdout",
     "output_type": "stream",
     "text": [
      "time: 2019-05-14 10:10:19, low: 117.7, high: 117.8, type: 1\n",
      "time: 2019-05-14 10:10:36, low: 117.6, high: 117.7, type: -1\n",
      "time: 2019-05-14 10:12:30, low: 117.7, high: 117.8, type: 1\n"
     ]
    },
    {
     "name": "stderr",
     "output_type": "stream",
     "text": [
      "DEBUG:root:Ticks: 117.75\n",
      "INFO:root:Inside tickfunction that one\n",
      "DEBUG:root:size of queue: 3\n"
     ]
    },
    {
     "name": "stdout",
     "output_type": "stream",
     "text": [
      "time: 2019-05-14 10:10:19, low: 117.7, high: 117.8, type: 1\n",
      "time: 2019-05-14 10:10:36, low: 117.6, high: 117.7, type: -1\n",
      "time: 2019-05-14 10:12:30, low: 117.7, high: 117.8, type: 1\n"
     ]
    },
    {
     "name": "stderr",
     "output_type": "stream",
     "text": [
      "DEBUG:root:Ticks: 117.7\n",
      "INFO:root:Inside tickfunction that one\n",
      "DEBUG:root:size of queue: 3\n"
     ]
    },
    {
     "name": "stdout",
     "output_type": "stream",
     "text": [
      "time: 2019-05-14 10:10:19, low: 117.7, high: 117.8, type: 1\n",
      "time: 2019-05-14 10:10:36, low: 117.6, high: 117.7, type: -1\n",
      "time: 2019-05-14 10:12:30, low: 117.7, high: 117.8, type: 1\n"
     ]
    },
    {
     "name": "stderr",
     "output_type": "stream",
     "text": [
      "DEBUG:root:Ticks: 117.7\n",
      "INFO:root:Inside tickfunction that one\n",
      "DEBUG:root:size of queue: 3\n"
     ]
    },
    {
     "name": "stdout",
     "output_type": "stream",
     "text": [
      "time: 2019-05-14 10:10:19, low: 117.7, high: 117.8, type: 1\n",
      "time: 2019-05-14 10:10:36, low: 117.6, high: 117.7, type: -1\n",
      "time: 2019-05-14 10:12:30, low: 117.7, high: 117.8, type: 1\n"
     ]
    },
    {
     "name": "stderr",
     "output_type": "stream",
     "text": [
      "DEBUG:root:Ticks: 117.7\n",
      "INFO:root:Inside tickfunction that one\n",
      "DEBUG:root:size of queue: 3\n"
     ]
    },
    {
     "name": "stdout",
     "output_type": "stream",
     "text": [
      "time: 2019-05-14 10:10:19, low: 117.7, high: 117.8, type: 1\n",
      "time: 2019-05-14 10:10:36, low: 117.6, high: 117.7, type: -1\n",
      "time: 2019-05-14 10:12:30, low: 117.7, high: 117.8, type: 1\n"
     ]
    },
    {
     "name": "stderr",
     "output_type": "stream",
     "text": [
      "DEBUG:root:Ticks: 117.7\n",
      "INFO:root:Inside tickfunction that one\n",
      "DEBUG:root:size of queue: 3\n"
     ]
    },
    {
     "name": "stdout",
     "output_type": "stream",
     "text": [
      "time: 2019-05-14 10:10:19, low: 117.7, high: 117.8, type: 1\n",
      "time: 2019-05-14 10:10:36, low: 117.6, high: 117.7, type: -1\n",
      "time: 2019-05-14 10:12:30, low: 117.7, high: 117.8, type: 1\n"
     ]
    },
    {
     "name": "stderr",
     "output_type": "stream",
     "text": [
      "DEBUG:root:Ticks: 117.7\n",
      "INFO:root:Inside tickfunction that one\n",
      "DEBUG:root:size of queue: 3\n"
     ]
    },
    {
     "name": "stdout",
     "output_type": "stream",
     "text": [
      "time: 2019-05-14 10:10:19, low: 117.7, high: 117.8, type: 1\n",
      "time: 2019-05-14 10:10:36, low: 117.6, high: 117.7, type: -1\n",
      "time: 2019-05-14 10:12:30, low: 117.7, high: 117.8, type: 1\n"
     ]
    },
    {
     "name": "stderr",
     "output_type": "stream",
     "text": [
      "DEBUG:root:Ticks: 117.7\n",
      "INFO:root:Inside tickfunction that one\n",
      "DEBUG:root:size of queue: 3\n"
     ]
    },
    {
     "name": "stdout",
     "output_type": "stream",
     "text": [
      "time: 2019-05-14 10:10:19, low: 117.7, high: 117.8, type: 1\n",
      "time: 2019-05-14 10:10:36, low: 117.6, high: 117.7, type: -1\n",
      "time: 2019-05-14 10:12:30, low: 117.7, high: 117.8, type: 1\n"
     ]
    },
    {
     "name": "stderr",
     "output_type": "stream",
     "text": [
      "DEBUG:root:Ticks: 117.7\n",
      "INFO:root:Inside tickfunction that one\n",
      "DEBUG:root:size of queue: 3\n"
     ]
    },
    {
     "name": "stdout",
     "output_type": "stream",
     "text": [
      "time: 2019-05-14 10:10:19, low: 117.7, high: 117.8, type: 1\n",
      "time: 2019-05-14 10:10:36, low: 117.6, high: 117.7, type: -1\n",
      "time: 2019-05-14 10:12:30, low: 117.7, high: 117.8, type: 1\n"
     ]
    },
    {
     "name": "stderr",
     "output_type": "stream",
     "text": [
      "DEBUG:root:Ticks: 117.7\n",
      "INFO:root:Inside tickfunction that one\n",
      "DEBUG:root:size of queue: 3\n"
     ]
    },
    {
     "name": "stdout",
     "output_type": "stream",
     "text": [
      "time: 2019-05-14 10:10:19, low: 117.7, high: 117.8, type: 1\n",
      "time: 2019-05-14 10:10:36, low: 117.6, high: 117.7, type: -1\n",
      "time: 2019-05-14 10:12:30, low: 117.7, high: 117.8, type: 1\n"
     ]
    },
    {
     "name": "stderr",
     "output_type": "stream",
     "text": [
      "DEBUG:root:Ticks: 117.7\n",
      "INFO:root:Inside tickfunction that one\n",
      "DEBUG:root:size of queue: 3\n"
     ]
    },
    {
     "name": "stdout",
     "output_type": "stream",
     "text": [
      "time: 2019-05-14 10:10:19, low: 117.7, high: 117.8, type: 1\n",
      "time: 2019-05-14 10:10:36, low: 117.6, high: 117.7, type: -1\n",
      "time: 2019-05-14 10:12:30, low: 117.7, high: 117.8, type: 1\n"
     ]
    },
    {
     "name": "stderr",
     "output_type": "stream",
     "text": [
      "DEBUG:root:Ticks: 117.8\n",
      "INFO:root:Inside tickfunction that one\n",
      "DEBUG:root:size of queue: 3\n"
     ]
    },
    {
     "name": "stdout",
     "output_type": "stream",
     "text": [
      "time: 2019-05-14 10:10:19, low: 117.7, high: 117.8, type: 1\n",
      "time: 2019-05-14 10:10:36, low: 117.6, high: 117.7, type: -1\n",
      "time: 2019-05-14 10:12:30, low: 117.7, high: 117.8, type: 1\n"
     ]
    },
    {
     "name": "stderr",
     "output_type": "stream",
     "text": [
      "DEBUG:root:Ticks: 117.8\n",
      "INFO:root:Inside tickfunction that one\n",
      "DEBUG:root:size of queue: 3\n"
     ]
    },
    {
     "name": "stdout",
     "output_type": "stream",
     "text": [
      "time: 2019-05-14 10:10:19, low: 117.7, high: 117.8, type: 1\n",
      "time: 2019-05-14 10:10:36, low: 117.6, high: 117.7, type: -1\n",
      "time: 2019-05-14 10:12:30, low: 117.7, high: 117.8, type: 1\n"
     ]
    },
    {
     "name": "stderr",
     "output_type": "stream",
     "text": [
      "DEBUG:root:Ticks: 117.8\n",
      "INFO:root:Inside tickfunction that one\n",
      "DEBUG:root:size of queue: 3\n"
     ]
    },
    {
     "name": "stdout",
     "output_type": "stream",
     "text": [
      "time: 2019-05-14 10:10:19, low: 117.7, high: 117.8, type: 1\n",
      "time: 2019-05-14 10:10:36, low: 117.6, high: 117.7, type: -1\n",
      "time: 2019-05-14 10:12:30, low: 117.7, high: 117.8, type: 1\n"
     ]
    },
    {
     "name": "stderr",
     "output_type": "stream",
     "text": [
      "DEBUG:root:Ticks: 117.8\n",
      "INFO:root:Inside tickfunction that one\n",
      "DEBUG:root:size of queue: 3\n"
     ]
    },
    {
     "name": "stdout",
     "output_type": "stream",
     "text": [
      "time: 2019-05-14 10:10:19, low: 117.7, high: 117.8, type: 1\n",
      "time: 2019-05-14 10:10:36, low: 117.6, high: 117.7, type: -1\n",
      "time: 2019-05-14 10:12:30, low: 117.7, high: 117.8, type: 1\n"
     ]
    },
    {
     "name": "stderr",
     "output_type": "stream",
     "text": [
      "DEBUG:root:Ticks: 117.8\n",
      "INFO:root:Inside tickfunction that one\n",
      "DEBUG:root:size of queue: 3\n"
     ]
    },
    {
     "name": "stdout",
     "output_type": "stream",
     "text": [
      "time: 2019-05-14 10:10:19, low: 117.7, high: 117.8, type: 1\n",
      "time: 2019-05-14 10:10:36, low: 117.6, high: 117.7, type: -1\n",
      "time: 2019-05-14 10:12:30, low: 117.7, high: 117.8, type: 1\n"
     ]
    },
    {
     "name": "stderr",
     "output_type": "stream",
     "text": [
      "DEBUG:root:Ticks: 117.8\n",
      "INFO:root:Inside tickfunction that one\n",
      "DEBUG:root:size of queue: 3\n"
     ]
    },
    {
     "name": "stdout",
     "output_type": "stream",
     "text": [
      "time: 2019-05-14 10:10:19, low: 117.7, high: 117.8, type: 1\n",
      "time: 2019-05-14 10:10:36, low: 117.6, high: 117.7, type: -1\n",
      "time: 2019-05-14 10:12:30, low: 117.7, high: 117.8, type: 1\n"
     ]
    },
    {
     "name": "stderr",
     "output_type": "stream",
     "text": [
      "DEBUG:root:Ticks: 117.8\n",
      "INFO:root:Inside tickfunction that one\n",
      "DEBUG:root:size of queue: 3\n"
     ]
    },
    {
     "name": "stdout",
     "output_type": "stream",
     "text": [
      "time: 2019-05-14 10:10:19, low: 117.7, high: 117.8, type: 1\n",
      "time: 2019-05-14 10:10:36, low: 117.6, high: 117.7, type: -1\n",
      "time: 2019-05-14 10:12:30, low: 117.7, high: 117.8, type: 1\n"
     ]
    },
    {
     "name": "stderr",
     "output_type": "stream",
     "text": [
      "DEBUG:root:Ticks: 117.8\n",
      "INFO:root:Inside tickfunction that one\n",
      "DEBUG:root:size of queue: 3\n"
     ]
    },
    {
     "name": "stdout",
     "output_type": "stream",
     "text": [
      "time: 2019-05-14 10:10:19, low: 117.7, high: 117.8, type: 1\n",
      "time: 2019-05-14 10:10:36, low: 117.6, high: 117.7, type: -1\n",
      "time: 2019-05-14 10:12:30, low: 117.7, high: 117.8, type: 1\n"
     ]
    },
    {
     "name": "stderr",
     "output_type": "stream",
     "text": [
      "DEBUG:root:Ticks: 117.8\n",
      "INFO:root:Inside tickfunction that one\n",
      "DEBUG:root:size of queue: 3\n"
     ]
    },
    {
     "name": "stdout",
     "output_type": "stream",
     "text": [
      "time: 2019-05-14 10:10:19, low: 117.7, high: 117.8, type: 1\n",
      "time: 2019-05-14 10:10:36, low: 117.6, high: 117.7, type: -1\n",
      "time: 2019-05-14 10:12:30, low: 117.7, high: 117.8, type: 1\n"
     ]
    },
    {
     "name": "stderr",
     "output_type": "stream",
     "text": [
      "DEBUG:root:Ticks: 117.8\n",
      "INFO:root:Inside tickfunction that one\n",
      "DEBUG:root:size of queue: 3\n"
     ]
    },
    {
     "name": "stdout",
     "output_type": "stream",
     "text": [
      "time: 2019-05-14 10:10:19, low: 117.7, high: 117.8, type: 1\n",
      "time: 2019-05-14 10:10:36, low: 117.6, high: 117.7, type: -1\n",
      "time: 2019-05-14 10:12:30, low: 117.7, high: 117.8, type: 1\n"
     ]
    },
    {
     "name": "stderr",
     "output_type": "stream",
     "text": [
      "DEBUG:root:Ticks: 117.8\n",
      "INFO:root:Inside tickfunction that one\n",
      "DEBUG:root:size of queue: 3\n"
     ]
    },
    {
     "name": "stdout",
     "output_type": "stream",
     "text": [
      "time: 2019-05-14 10:10:19, low: 117.7, high: 117.8, type: 1\n",
      "time: 2019-05-14 10:10:36, low: 117.6, high: 117.7, type: -1\n",
      "time: 2019-05-14 10:12:30, low: 117.7, high: 117.8, type: 1\n"
     ]
    },
    {
     "name": "stderr",
     "output_type": "stream",
     "text": [
      "DEBUG:root:Ticks: 117.8\n",
      "INFO:root:Inside tickfunction that one\n",
      "DEBUG:root:size of queue: 3\n"
     ]
    },
    {
     "name": "stdout",
     "output_type": "stream",
     "text": [
      "time: 2019-05-14 10:10:19, low: 117.7, high: 117.8, type: 1\n",
      "time: 2019-05-14 10:10:36, low: 117.6, high: 117.7, type: -1\n",
      "time: 2019-05-14 10:12:30, low: 117.7, high: 117.8, type: 1\n"
     ]
    },
    {
     "name": "stderr",
     "output_type": "stream",
     "text": [
      "DEBUG:root:Ticks: 117.8\n",
      "INFO:root:Inside tickfunction that one\n",
      "DEBUG:root:size of queue: 3\n"
     ]
    },
    {
     "name": "stdout",
     "output_type": "stream",
     "text": [
      "time: 2019-05-14 10:10:19, low: 117.7, high: 117.8, type: 1\n",
      "time: 2019-05-14 10:10:36, low: 117.6, high: 117.7, type: -1\n",
      "time: 2019-05-14 10:12:30, low: 117.7, high: 117.8, type: 1\n"
     ]
    },
    {
     "name": "stderr",
     "output_type": "stream",
     "text": [
      "DEBUG:root:Ticks: 117.8\n",
      "INFO:root:Inside tickfunction that one\n",
      "DEBUG:root:size of queue: 3\n"
     ]
    },
    {
     "name": "stdout",
     "output_type": "stream",
     "text": [
      "time: 2019-05-14 10:10:19, low: 117.7, high: 117.8, type: 1\n",
      "time: 2019-05-14 10:10:36, low: 117.6, high: 117.7, type: -1\n",
      "time: 2019-05-14 10:12:30, low: 117.7, high: 117.8, type: 1\n"
     ]
    },
    {
     "name": "stderr",
     "output_type": "stream",
     "text": [
      "DEBUG:root:Ticks: 117.8\n",
      "INFO:root:Inside tickfunction that one\n",
      "DEBUG:root:size of queue: 3\n"
     ]
    },
    {
     "name": "stdout",
     "output_type": "stream",
     "text": [
      "time: 2019-05-14 10:10:19, low: 117.7, high: 117.8, type: 1\n",
      "time: 2019-05-14 10:10:36, low: 117.6, high: 117.7, type: -1\n",
      "time: 2019-05-14 10:12:30, low: 117.7, high: 117.8, type: 1\n"
     ]
    },
    {
     "name": "stderr",
     "output_type": "stream",
     "text": [
      "DEBUG:root:Ticks: 117.7\n",
      "INFO:root:Inside tickfunction that one\n",
      "DEBUG:root:size of queue: 3\n"
     ]
    },
    {
     "name": "stdout",
     "output_type": "stream",
     "text": [
      "time: 2019-05-14 10:10:19, low: 117.7, high: 117.8, type: 1\n",
      "time: 2019-05-14 10:10:36, low: 117.6, high: 117.7, type: -1\n",
      "time: 2019-05-14 10:12:30, low: 117.7, high: 117.8, type: 1\n"
     ]
    },
    {
     "name": "stderr",
     "output_type": "stream",
     "text": [
      "DEBUG:root:Ticks: 117.7\n",
      "INFO:root:Inside tickfunction that one\n",
      "DEBUG:root:size of queue: 3\n"
     ]
    },
    {
     "name": "stdout",
     "output_type": "stream",
     "text": [
      "time: 2019-05-14 10:10:19, low: 117.7, high: 117.8, type: 1\n",
      "time: 2019-05-14 10:10:36, low: 117.6, high: 117.7, type: -1\n",
      "time: 2019-05-14 10:12:30, low: 117.7, high: 117.8, type: 1\n"
     ]
    },
    {
     "name": "stderr",
     "output_type": "stream",
     "text": [
      "DEBUG:root:Ticks: 117.7\n",
      "INFO:root:Inside tickfunction that one\n",
      "DEBUG:root:size of queue: 3\n"
     ]
    },
    {
     "name": "stdout",
     "output_type": "stream",
     "text": [
      "time: 2019-05-14 10:10:19, low: 117.7, high: 117.8, type: 1\n",
      "time: 2019-05-14 10:10:36, low: 117.6, high: 117.7, type: -1\n",
      "time: 2019-05-14 10:12:30, low: 117.7, high: 117.8, type: 1\n"
     ]
    },
    {
     "name": "stderr",
     "output_type": "stream",
     "text": [
      "DEBUG:root:Ticks: 117.7\n",
      "INFO:root:Inside tickfunction that one\n",
      "DEBUG:root:size of queue: 3\n"
     ]
    },
    {
     "name": "stdout",
     "output_type": "stream",
     "text": [
      "time: 2019-05-14 10:10:19, low: 117.7, high: 117.8, type: 1\n",
      "time: 2019-05-14 10:10:36, low: 117.6, high: 117.7, type: -1\n",
      "time: 2019-05-14 10:12:30, low: 117.7, high: 117.8, type: 1\n"
     ]
    },
    {
     "name": "stderr",
     "output_type": "stream",
     "text": [
      "DEBUG:root:Ticks: 117.7\n",
      "INFO:root:Inside tickfunction that one\n",
      "DEBUG:root:size of queue: 3\n"
     ]
    },
    {
     "name": "stdout",
     "output_type": "stream",
     "text": [
      "time: 2019-05-14 10:10:19, low: 117.7, high: 117.8, type: 1\n",
      "time: 2019-05-14 10:10:36, low: 117.6, high: 117.7, type: -1\n",
      "time: 2019-05-14 10:12:30, low: 117.7, high: 117.8, type: 1\n"
     ]
    },
    {
     "name": "stderr",
     "output_type": "stream",
     "text": [
      "DEBUG:root:Ticks: 117.7\n",
      "INFO:root:Inside tickfunction that one\n",
      "DEBUG:root:size of queue: 3\n"
     ]
    },
    {
     "name": "stdout",
     "output_type": "stream",
     "text": [
      "time: 2019-05-14 10:10:19, low: 117.7, high: 117.8, type: 1\n",
      "time: 2019-05-14 10:10:36, low: 117.6, high: 117.7, type: -1\n",
      "time: 2019-05-14 10:12:30, low: 117.7, high: 117.8, type: 1\n"
     ]
    },
    {
     "name": "stderr",
     "output_type": "stream",
     "text": [
      "DEBUG:root:Ticks: 117.7\n",
      "INFO:root:Inside tickfunction that one\n",
      "DEBUG:root:size of queue: 3\n"
     ]
    },
    {
     "name": "stdout",
     "output_type": "stream",
     "text": [
      "time: 2019-05-14 10:10:19, low: 117.7, high: 117.8, type: 1\n",
      "time: 2019-05-14 10:10:36, low: 117.6, high: 117.7, type: -1\n",
      "time: 2019-05-14 10:12:30, low: 117.7, high: 117.8, type: 1\n"
     ]
    },
    {
     "name": "stderr",
     "output_type": "stream",
     "text": [
      "DEBUG:root:Ticks: 117.7\n",
      "INFO:root:Inside tickfunction that one\n",
      "DEBUG:root:size of queue: 3\n"
     ]
    },
    {
     "name": "stdout",
     "output_type": "stream",
     "text": [
      "time: 2019-05-14 10:10:19, low: 117.7, high: 117.8, type: 1\n",
      "time: 2019-05-14 10:10:36, low: 117.6, high: 117.7, type: -1\n",
      "time: 2019-05-14 10:12:30, low: 117.7, high: 117.8, type: 1\n"
     ]
    },
    {
     "name": "stderr",
     "output_type": "stream",
     "text": [
      "DEBUG:root:Ticks: 117.7\n",
      "INFO:root:Inside tickfunction that one\n",
      "DEBUG:root:size of queue: 3\n"
     ]
    },
    {
     "name": "stdout",
     "output_type": "stream",
     "text": [
      "time: 2019-05-14 10:10:19, low: 117.7, high: 117.8, type: 1\n",
      "time: 2019-05-14 10:10:36, low: 117.6, high: 117.7, type: -1\n",
      "time: 2019-05-14 10:12:30, low: 117.7, high: 117.8, type: 1\n"
     ]
    },
    {
     "name": "stderr",
     "output_type": "stream",
     "text": [
      "DEBUG:root:Ticks: 117.8\n",
      "INFO:root:Inside tickfunction that one\n",
      "DEBUG:root:size of queue: 3\n"
     ]
    },
    {
     "name": "stdout",
     "output_type": "stream",
     "text": [
      "time: 2019-05-14 10:10:19, low: 117.7, high: 117.8, type: 1\n",
      "time: 2019-05-14 10:10:36, low: 117.6, high: 117.7, type: -1\n",
      "time: 2019-05-14 10:12:30, low: 117.7, high: 117.8, type: 1\n"
     ]
    },
    {
     "name": "stderr",
     "output_type": "stream",
     "text": [
      "DEBUG:root:Ticks: 117.8\n",
      "INFO:root:Inside tickfunction that one\n",
      "DEBUG:root:size of queue: 3\n"
     ]
    },
    {
     "name": "stdout",
     "output_type": "stream",
     "text": [
      "time: 2019-05-14 10:10:19, low: 117.7, high: 117.8, type: 1\n",
      "time: 2019-05-14 10:10:36, low: 117.6, high: 117.7, type: -1\n",
      "time: 2019-05-14 10:12:30, low: 117.7, high: 117.8, type: 1\n"
     ]
    },
    {
     "name": "stderr",
     "output_type": "stream",
     "text": [
      "DEBUG:root:Ticks: 117.8\n",
      "INFO:root:Inside tickfunction that one\n",
      "DEBUG:root:size of queue: 3\n"
     ]
    },
    {
     "name": "stdout",
     "output_type": "stream",
     "text": [
      "time: 2019-05-14 10:10:19, low: 117.7, high: 117.8, type: 1\n",
      "time: 2019-05-14 10:10:36, low: 117.6, high: 117.7, type: -1\n",
      "time: 2019-05-14 10:12:30, low: 117.7, high: 117.8, type: 1\n"
     ]
    },
    {
     "name": "stderr",
     "output_type": "stream",
     "text": [
      "DEBUG:root:Ticks: 117.8\n",
      "INFO:root:Inside tickfunction that one\n",
      "DEBUG:root:size of queue: 3\n"
     ]
    },
    {
     "name": "stdout",
     "output_type": "stream",
     "text": [
      "time: 2019-05-14 10:10:19, low: 117.7, high: 117.8, type: 1\n",
      "time: 2019-05-14 10:10:36, low: 117.6, high: 117.7, type: -1\n",
      "time: 2019-05-14 10:12:30, low: 117.7, high: 117.8, type: 1\n"
     ]
    },
    {
     "name": "stderr",
     "output_type": "stream",
     "text": [
      "DEBUG:root:Ticks: 117.8\n",
      "INFO:root:Inside tickfunction that one\n",
      "DEBUG:root:size of queue: 3\n"
     ]
    },
    {
     "name": "stdout",
     "output_type": "stream",
     "text": [
      "time: 2019-05-14 10:10:19, low: 117.7, high: 117.8, type: 1\n",
      "time: 2019-05-14 10:10:36, low: 117.6, high: 117.7, type: -1\n",
      "time: 2019-05-14 10:12:30, low: 117.7, high: 117.8, type: 1\n"
     ]
    },
    {
     "name": "stderr",
     "output_type": "stream",
     "text": [
      "DEBUG:root:Ticks: 117.8\n",
      "INFO:root:Inside tickfunction that one\n",
      "DEBUG:root:size of queue: 3\n"
     ]
    },
    {
     "name": "stdout",
     "output_type": "stream",
     "text": [
      "time: 2019-05-14 10:10:19, low: 117.7, high: 117.8, type: 1\n",
      "time: 2019-05-14 10:10:36, low: 117.6, high: 117.7, type: -1\n",
      "time: 2019-05-14 10:12:30, low: 117.7, high: 117.8, type: 1\n"
     ]
    },
    {
     "name": "stderr",
     "output_type": "stream",
     "text": [
      "DEBUG:root:Ticks: 117.8\n",
      "INFO:root:Inside tickfunction that one\n",
      "DEBUG:root:size of queue: 3\n"
     ]
    },
    {
     "name": "stdout",
     "output_type": "stream",
     "text": [
      "time: 2019-05-14 10:10:19, low: 117.7, high: 117.8, type: 1\n",
      "time: 2019-05-14 10:10:36, low: 117.6, high: 117.7, type: -1\n",
      "time: 2019-05-14 10:12:30, low: 117.7, high: 117.8, type: 1\n"
     ]
    },
    {
     "name": "stderr",
     "output_type": "stream",
     "text": [
      "DEBUG:root:Ticks: 117.8\n",
      "INFO:root:Inside tickfunction that one\n",
      "DEBUG:root:size of queue: 3\n"
     ]
    },
    {
     "name": "stdout",
     "output_type": "stream",
     "text": [
      "time: 2019-05-14 10:10:19, low: 117.7, high: 117.8, type: 1\n",
      "time: 2019-05-14 10:10:36, low: 117.6, high: 117.7, type: -1\n",
      "time: 2019-05-14 10:12:30, low: 117.7, high: 117.8, type: 1\n"
     ]
    },
    {
     "name": "stderr",
     "output_type": "stream",
     "text": [
      "DEBUG:root:Ticks: 117.8\n",
      "INFO:root:Inside tickfunction that one\n",
      "DEBUG:root:size of queue: 3\n"
     ]
    },
    {
     "name": "stdout",
     "output_type": "stream",
     "text": [
      "time: 2019-05-14 10:10:19, low: 117.7, high: 117.8, type: 1\n",
      "time: 2019-05-14 10:10:36, low: 117.6, high: 117.7, type: -1\n",
      "time: 2019-05-14 10:12:30, low: 117.7, high: 117.8, type: 1\n"
     ]
    },
    {
     "name": "stderr",
     "output_type": "stream",
     "text": [
      "DEBUG:root:Ticks: 117.8\n",
      "INFO:root:Inside tickfunction that one\n",
      "DEBUG:root:size of queue: 3\n"
     ]
    },
    {
     "name": "stdout",
     "output_type": "stream",
     "text": [
      "time: 2019-05-14 10:10:19, low: 117.7, high: 117.8, type: 1\n",
      "time: 2019-05-14 10:10:36, low: 117.6, high: 117.7, type: -1\n",
      "time: 2019-05-14 10:12:30, low: 117.7, high: 117.8, type: 1\n"
     ]
    },
    {
     "name": "stderr",
     "output_type": "stream",
     "text": [
      "DEBUG:root:Ticks: 117.8\n",
      "INFO:root:Inside tickfunction that one\n",
      "DEBUG:root:size of queue: 3\n"
     ]
    },
    {
     "name": "stdout",
     "output_type": "stream",
     "text": [
      "time: 2019-05-14 10:10:19, low: 117.7, high: 117.8, type: 1\n",
      "time: 2019-05-14 10:10:36, low: 117.6, high: 117.7, type: -1\n",
      "time: 2019-05-14 10:12:30, low: 117.7, high: 117.8, type: 1\n"
     ]
    },
    {
     "name": "stderr",
     "output_type": "stream",
     "text": [
      "DEBUG:root:Ticks: 117.75\n",
      "INFO:root:Inside tickfunction that one\n",
      "DEBUG:root:size of queue: 3\n"
     ]
    },
    {
     "name": "stdout",
     "output_type": "stream",
     "text": [
      "time: 2019-05-14 10:10:19, low: 117.7, high: 117.8, type: 1\n",
      "time: 2019-05-14 10:10:36, low: 117.6, high: 117.7, type: -1\n",
      "time: 2019-05-14 10:12:30, low: 117.7, high: 117.8, type: 1\n"
     ]
    },
    {
     "name": "stderr",
     "output_type": "stream",
     "text": [
      "DEBUG:root:Ticks: 117.75\n",
      "INFO:root:Inside tickfunction that one\n",
      "DEBUG:root:size of queue: 3\n"
     ]
    },
    {
     "name": "stdout",
     "output_type": "stream",
     "text": [
      "time: 2019-05-14 10:10:19, low: 117.7, high: 117.8, type: 1\n",
      "time: 2019-05-14 10:10:36, low: 117.6, high: 117.7, type: -1\n",
      "time: 2019-05-14 10:12:30, low: 117.7, high: 117.8, type: 1\n"
     ]
    },
    {
     "name": "stderr",
     "output_type": "stream",
     "text": [
      "DEBUG:root:Ticks: 117.75\n",
      "INFO:root:Inside tickfunction that one\n",
      "DEBUG:root:size of queue: 3\n"
     ]
    },
    {
     "name": "stdout",
     "output_type": "stream",
     "text": [
      "time: 2019-05-14 10:10:19, low: 117.7, high: 117.8, type: 1\n",
      "time: 2019-05-14 10:10:36, low: 117.6, high: 117.7, type: -1\n",
      "time: 2019-05-14 10:12:30, low: 117.7, high: 117.8, type: 1\n"
     ]
    },
    {
     "name": "stderr",
     "output_type": "stream",
     "text": [
      "DEBUG:root:Ticks: 117.75\n",
      "INFO:root:Inside tickfunction that one\n",
      "DEBUG:root:size of queue: 3\n"
     ]
    },
    {
     "name": "stdout",
     "output_type": "stream",
     "text": [
      "time: 2019-05-14 10:10:19, low: 117.7, high: 117.8, type: 1\n",
      "time: 2019-05-14 10:10:36, low: 117.6, high: 117.7, type: -1\n",
      "time: 2019-05-14 10:12:30, low: 117.7, high: 117.8, type: 1\n"
     ]
    },
    {
     "name": "stderr",
     "output_type": "stream",
     "text": [
      "DEBUG:root:Ticks: 117.75\n",
      "INFO:root:Inside tickfunction that one\n",
      "DEBUG:root:size of queue: 3\n"
     ]
    },
    {
     "name": "stdout",
     "output_type": "stream",
     "text": [
      "time: 2019-05-14 10:10:19, low: 117.7, high: 117.8, type: 1\n",
      "time: 2019-05-14 10:10:36, low: 117.6, high: 117.7, type: -1\n",
      "time: 2019-05-14 10:12:30, low: 117.7, high: 117.8, type: 1\n"
     ]
    },
    {
     "name": "stderr",
     "output_type": "stream",
     "text": [
      "DEBUG:root:Ticks: 117.75\n",
      "INFO:root:Inside tickfunction that one\n",
      "DEBUG:root:size of queue: 3\n"
     ]
    },
    {
     "name": "stdout",
     "output_type": "stream",
     "text": [
      "time: 2019-05-14 10:10:19, low: 117.7, high: 117.8, type: 1\n",
      "time: 2019-05-14 10:10:36, low: 117.6, high: 117.7, type: -1\n",
      "time: 2019-05-14 10:12:30, low: 117.7, high: 117.8, type: 1\n"
     ]
    },
    {
     "name": "stderr",
     "output_type": "stream",
     "text": [
      "DEBUG:root:Ticks: 117.8\n",
      "INFO:root:Inside tickfunction that one\n",
      "DEBUG:root:size of queue: 3\n"
     ]
    },
    {
     "name": "stdout",
     "output_type": "stream",
     "text": [
      "time: 2019-05-14 10:10:19, low: 117.7, high: 117.8, type: 1\n",
      "time: 2019-05-14 10:10:36, low: 117.6, high: 117.7, type: -1\n",
      "time: 2019-05-14 10:12:30, low: 117.7, high: 117.8, type: 1\n"
     ]
    },
    {
     "name": "stderr",
     "output_type": "stream",
     "text": [
      "DEBUG:root:Ticks: 117.8\n",
      "INFO:root:Inside tickfunction that one\n",
      "DEBUG:root:size of queue: 3\n"
     ]
    },
    {
     "name": "stdout",
     "output_type": "stream",
     "text": [
      "time: 2019-05-14 10:10:19, low: 117.7, high: 117.8, type: 1\n",
      "time: 2019-05-14 10:10:36, low: 117.6, high: 117.7, type: -1\n",
      "time: 2019-05-14 10:12:30, low: 117.7, high: 117.8, type: 1\n"
     ]
    },
    {
     "name": "stderr",
     "output_type": "stream",
     "text": [
      "DEBUG:root:Ticks: 117.8\n",
      "INFO:root:Inside tickfunction that one\n",
      "DEBUG:root:size of queue: 3\n"
     ]
    },
    {
     "name": "stdout",
     "output_type": "stream",
     "text": [
      "time: 2019-05-14 10:10:19, low: 117.7, high: 117.8, type: 1\n",
      "time: 2019-05-14 10:10:36, low: 117.6, high: 117.7, type: -1\n",
      "time: 2019-05-14 10:12:30, low: 117.7, high: 117.8, type: 1\n"
     ]
    },
    {
     "name": "stderr",
     "output_type": "stream",
     "text": [
      "DEBUG:root:Ticks: 117.8\n",
      "INFO:root:Inside tickfunction that one\n",
      "DEBUG:root:size of queue: 3\n"
     ]
    },
    {
     "name": "stdout",
     "output_type": "stream",
     "text": [
      "time: 2019-05-14 10:10:19, low: 117.7, high: 117.8, type: 1\n",
      "time: 2019-05-14 10:10:36, low: 117.6, high: 117.7, type: -1\n",
      "time: 2019-05-14 10:12:30, low: 117.7, high: 117.8, type: 1\n"
     ]
    },
    {
     "name": "stderr",
     "output_type": "stream",
     "text": [
      "DEBUG:root:Ticks: 117.8\n",
      "INFO:root:Inside tickfunction that one\n",
      "DEBUG:root:size of queue: 3\n"
     ]
    },
    {
     "name": "stdout",
     "output_type": "stream",
     "text": [
      "time: 2019-05-14 10:10:19, low: 117.7, high: 117.8, type: 1\n",
      "time: 2019-05-14 10:10:36, low: 117.6, high: 117.7, type: -1\n",
      "time: 2019-05-14 10:12:30, low: 117.7, high: 117.8, type: 1\n"
     ]
    },
    {
     "name": "stderr",
     "output_type": "stream",
     "text": [
      "DEBUG:root:Ticks: 117.8\n",
      "INFO:root:Inside tickfunction that one\n",
      "DEBUG:root:size of queue: 3\n"
     ]
    },
    {
     "name": "stdout",
     "output_type": "stream",
     "text": [
      "time: 2019-05-14 10:10:19, low: 117.7, high: 117.8, type: 1\n",
      "time: 2019-05-14 10:10:36, low: 117.6, high: 117.7, type: -1\n",
      "time: 2019-05-14 10:12:30, low: 117.7, high: 117.8, type: 1\n"
     ]
    },
    {
     "name": "stderr",
     "output_type": "stream",
     "text": [
      "DEBUG:root:Ticks: 117.8\n",
      "INFO:root:Inside tickfunction that one\n",
      "DEBUG:root:size of queue: 3\n"
     ]
    },
    {
     "name": "stdout",
     "output_type": "stream",
     "text": [
      "time: 2019-05-14 10:10:19, low: 117.7, high: 117.8, type: 1\n",
      "time: 2019-05-14 10:10:36, low: 117.6, high: 117.7, type: -1\n",
      "time: 2019-05-14 10:12:30, low: 117.7, high: 117.8, type: 1\n"
     ]
    },
    {
     "name": "stderr",
     "output_type": "stream",
     "text": [
      "DEBUG:root:Ticks: 117.8\n",
      "INFO:root:Inside tickfunction that one\n",
      "DEBUG:root:size of queue: 3\n"
     ]
    },
    {
     "name": "stdout",
     "output_type": "stream",
     "text": [
      "time: 2019-05-14 10:10:19, low: 117.7, high: 117.8, type: 1\n",
      "time: 2019-05-14 10:10:36, low: 117.6, high: 117.7, type: -1\n",
      "time: 2019-05-14 10:12:30, low: 117.7, high: 117.8, type: 1\n"
     ]
    },
    {
     "name": "stderr",
     "output_type": "stream",
     "text": [
      "DEBUG:root:Ticks: 117.8\n",
      "INFO:root:Inside tickfunction that one\n",
      "DEBUG:root:size of queue: 3\n"
     ]
    },
    {
     "name": "stdout",
     "output_type": "stream",
     "text": [
      "time: 2019-05-14 10:10:19, low: 117.7, high: 117.8, type: 1\n",
      "time: 2019-05-14 10:10:36, low: 117.6, high: 117.7, type: -1\n",
      "time: 2019-05-14 10:12:30, low: 117.7, high: 117.8, type: 1\n"
     ]
    },
    {
     "name": "stderr",
     "output_type": "stream",
     "text": [
      "DEBUG:root:Ticks: 117.8\n",
      "INFO:root:Inside tickfunction that one\n",
      "DEBUG:root:size of queue: 3\n"
     ]
    },
    {
     "name": "stdout",
     "output_type": "stream",
     "text": [
      "time: 2019-05-14 10:10:19, low: 117.7, high: 117.8, type: 1\n",
      "time: 2019-05-14 10:10:36, low: 117.6, high: 117.7, type: -1\n",
      "time: 2019-05-14 10:12:30, low: 117.7, high: 117.8, type: 1\n"
     ]
    },
    {
     "name": "stderr",
     "output_type": "stream",
     "text": [
      "DEBUG:root:Ticks: 117.75\n",
      "INFO:root:Inside tickfunction that one\n",
      "DEBUG:root:size of queue: 3\n"
     ]
    },
    {
     "name": "stdout",
     "output_type": "stream",
     "text": [
      "time: 2019-05-14 10:10:19, low: 117.7, high: 117.8, type: 1\n",
      "time: 2019-05-14 10:10:36, low: 117.6, high: 117.7, type: -1\n",
      "time: 2019-05-14 10:12:30, low: 117.7, high: 117.8, type: 1\n"
     ]
    },
    {
     "name": "stderr",
     "output_type": "stream",
     "text": [
      "DEBUG:root:Ticks: 117.75\n",
      "INFO:root:Inside tickfunction that one\n",
      "DEBUG:root:size of queue: 3\n"
     ]
    },
    {
     "name": "stdout",
     "output_type": "stream",
     "text": [
      "time: 2019-05-14 10:10:19, low: 117.7, high: 117.8, type: 1\n",
      "time: 2019-05-14 10:10:36, low: 117.6, high: 117.7, type: -1\n",
      "time: 2019-05-14 10:12:30, low: 117.7, high: 117.8, type: 1\n"
     ]
    },
    {
     "name": "stderr",
     "output_type": "stream",
     "text": [
      "DEBUG:root:Ticks: 117.75\n",
      "INFO:root:Inside tickfunction that one\n",
      "DEBUG:root:size of queue: 3\n"
     ]
    },
    {
     "name": "stdout",
     "output_type": "stream",
     "text": [
      "time: 2019-05-14 10:10:19, low: 117.7, high: 117.8, type: 1\n",
      "time: 2019-05-14 10:10:36, low: 117.6, high: 117.7, type: -1\n",
      "time: 2019-05-14 10:12:30, low: 117.7, high: 117.8, type: 1\n"
     ]
    },
    {
     "name": "stderr",
     "output_type": "stream",
     "text": [
      "DEBUG:root:Ticks: 117.8\n",
      "INFO:root:Inside tickfunction that one\n",
      "DEBUG:root:size of queue: 3\n"
     ]
    },
    {
     "name": "stdout",
     "output_type": "stream",
     "text": [
      "time: 2019-05-14 10:10:19, low: 117.7, high: 117.8, type: 1\n",
      "time: 2019-05-14 10:10:36, low: 117.6, high: 117.7, type: -1\n",
      "time: 2019-05-14 10:12:30, low: 117.7, high: 117.8, type: 1\n"
     ]
    },
    {
     "name": "stderr",
     "output_type": "stream",
     "text": [
      "DEBUG:root:Ticks: 117.8\n",
      "INFO:root:Inside tickfunction that one\n",
      "DEBUG:root:size of queue: 3\n"
     ]
    },
    {
     "name": "stdout",
     "output_type": "stream",
     "text": [
      "time: 2019-05-14 10:10:19, low: 117.7, high: 117.8, type: 1\n",
      "time: 2019-05-14 10:10:36, low: 117.6, high: 117.7, type: -1\n",
      "time: 2019-05-14 10:12:30, low: 117.7, high: 117.8, type: 1\n"
     ]
    },
    {
     "name": "stderr",
     "output_type": "stream",
     "text": [
      "DEBUG:root:Ticks: 117.8\n",
      "INFO:root:Inside tickfunction that one\n",
      "DEBUG:root:size of queue: 3\n"
     ]
    },
    {
     "name": "stdout",
     "output_type": "stream",
     "text": [
      "time: 2019-05-14 10:10:19, low: 117.7, high: 117.8, type: 1\n",
      "time: 2019-05-14 10:10:36, low: 117.6, high: 117.7, type: -1\n",
      "time: 2019-05-14 10:12:30, low: 117.7, high: 117.8, type: 1\n"
     ]
    },
    {
     "name": "stderr",
     "output_type": "stream",
     "text": [
      "DEBUG:root:Ticks: 117.85\n",
      "INFO:root:Inside tickfunction that one\n",
      "DEBUG:root:size of queue: 3\n"
     ]
    },
    {
     "name": "stdout",
     "output_type": "stream",
     "text": [
      "time: 2019-05-14 10:10:19, low: 117.7, high: 117.8, type: 1\n",
      "time: 2019-05-14 10:10:36, low: 117.6, high: 117.7, type: -1\n",
      "time: 2019-05-14 10:12:30, low: 117.7, high: 117.8, type: 1\n"
     ]
    },
    {
     "name": "stderr",
     "output_type": "stream",
     "text": [
      "DEBUG:root:Ticks: 117.85\n",
      "INFO:root:Inside tickfunction that one\n",
      "DEBUG:root:size of queue: 3\n"
     ]
    },
    {
     "name": "stdout",
     "output_type": "stream",
     "text": [
      "time: 2019-05-14 10:10:19, low: 117.7, high: 117.8, type: 1\n",
      "time: 2019-05-14 10:10:36, low: 117.6, high: 117.7, type: -1\n",
      "time: 2019-05-14 10:12:30, low: 117.7, high: 117.8, type: 1\n"
     ]
    },
    {
     "name": "stderr",
     "output_type": "stream",
     "text": [
      "DEBUG:root:Ticks: 117.85\n",
      "INFO:root:Inside tickfunction that one\n",
      "DEBUG:root:size of queue: 3\n"
     ]
    },
    {
     "name": "stdout",
     "output_type": "stream",
     "text": [
      "time: 2019-05-14 10:10:19, low: 117.7, high: 117.8, type: 1\n",
      "time: 2019-05-14 10:10:36, low: 117.6, high: 117.7, type: -1\n",
      "time: 2019-05-14 10:12:30, low: 117.7, high: 117.8, type: 1\n"
     ]
    },
    {
     "name": "stderr",
     "output_type": "stream",
     "text": [
      "DEBUG:root:Ticks: 117.8\n",
      "INFO:root:Inside tickfunction that one\n",
      "DEBUG:root:size of queue: 3\n"
     ]
    },
    {
     "name": "stdout",
     "output_type": "stream",
     "text": [
      "time: 2019-05-14 10:10:19, low: 117.7, high: 117.8, type: 1\n",
      "time: 2019-05-14 10:10:36, low: 117.6, high: 117.7, type: -1\n",
      "time: 2019-05-14 10:12:30, low: 117.7, high: 117.8, type: 1\n"
     ]
    },
    {
     "name": "stderr",
     "output_type": "stream",
     "text": [
      "DEBUG:root:Ticks: 117.75\n",
      "INFO:root:Inside tickfunction that one\n",
      "DEBUG:root:size of queue: 3\n"
     ]
    },
    {
     "name": "stdout",
     "output_type": "stream",
     "text": [
      "time: 2019-05-14 10:10:19, low: 117.7, high: 117.8, type: 1\n",
      "time: 2019-05-14 10:10:36, low: 117.6, high: 117.7, type: -1\n",
      "time: 2019-05-14 10:12:30, low: 117.7, high: 117.8, type: 1\n"
     ]
    },
    {
     "name": "stderr",
     "output_type": "stream",
     "text": [
      "DEBUG:root:Ticks: 117.75\n",
      "INFO:root:Inside tickfunction that one\n",
      "DEBUG:root:size of queue: 3\n"
     ]
    },
    {
     "name": "stdout",
     "output_type": "stream",
     "text": [
      "time: 2019-05-14 10:10:19, low: 117.7, high: 117.8, type: 1\n",
      "time: 2019-05-14 10:10:36, low: 117.6, high: 117.7, type: -1\n",
      "time: 2019-05-14 10:12:30, low: 117.7, high: 117.8, type: 1\n"
     ]
    },
    {
     "name": "stderr",
     "output_type": "stream",
     "text": [
      "DEBUG:root:Ticks: 117.75\n",
      "INFO:root:Inside tickfunction that one\n",
      "DEBUG:root:size of queue: 3\n"
     ]
    },
    {
     "name": "stdout",
     "output_type": "stream",
     "text": [
      "time: 2019-05-14 10:10:19, low: 117.7, high: 117.8, type: 1\n",
      "time: 2019-05-14 10:10:36, low: 117.6, high: 117.7, type: -1\n",
      "time: 2019-05-14 10:12:30, low: 117.7, high: 117.8, type: 1\n"
     ]
    },
    {
     "name": "stderr",
     "output_type": "stream",
     "text": [
      "DEBUG:root:Ticks: 117.75\n",
      "INFO:root:Inside tickfunction that one\n",
      "DEBUG:root:size of queue: 3\n"
     ]
    },
    {
     "name": "stdout",
     "output_type": "stream",
     "text": [
      "time: 2019-05-14 10:10:19, low: 117.7, high: 117.8, type: 1\n",
      "time: 2019-05-14 10:10:36, low: 117.6, high: 117.7, type: -1\n",
      "time: 2019-05-14 10:12:30, low: 117.7, high: 117.8, type: 1\n"
     ]
    },
    {
     "name": "stderr",
     "output_type": "stream",
     "text": [
      "DEBUG:root:Ticks: 117.75\n",
      "INFO:root:Inside tickfunction that one\n",
      "DEBUG:root:size of queue: 3\n"
     ]
    },
    {
     "name": "stdout",
     "output_type": "stream",
     "text": [
      "time: 2019-05-14 10:10:19, low: 117.7, high: 117.8, type: 1\n",
      "time: 2019-05-14 10:10:36, low: 117.6, high: 117.7, type: -1\n",
      "time: 2019-05-14 10:12:30, low: 117.7, high: 117.8, type: 1\n"
     ]
    },
    {
     "name": "stderr",
     "output_type": "stream",
     "text": [
      "DEBUG:root:Ticks: 117.75\n",
      "INFO:root:Inside tickfunction that one\n",
      "DEBUG:root:size of queue: 3\n"
     ]
    },
    {
     "name": "stdout",
     "output_type": "stream",
     "text": [
      "time: 2019-05-14 10:10:19, low: 117.7, high: 117.8, type: 1\n",
      "time: 2019-05-14 10:10:36, low: 117.6, high: 117.7, type: -1\n",
      "time: 2019-05-14 10:12:30, low: 117.7, high: 117.8, type: 1\n"
     ]
    },
    {
     "name": "stderr",
     "output_type": "stream",
     "text": [
      "DEBUG:root:Ticks: 117.75\n",
      "INFO:root:Inside tickfunction that one\n",
      "DEBUG:root:size of queue: 3\n"
     ]
    },
    {
     "name": "stdout",
     "output_type": "stream",
     "text": [
      "time: 2019-05-14 10:10:19, low: 117.7, high: 117.8, type: 1\n",
      "time: 2019-05-14 10:10:36, low: 117.6, high: 117.7, type: -1\n",
      "time: 2019-05-14 10:12:30, low: 117.7, high: 117.8, type: 1\n"
     ]
    },
    {
     "name": "stderr",
     "output_type": "stream",
     "text": [
      "DEBUG:root:Ticks: 117.75\n",
      "INFO:root:Inside tickfunction that one\n",
      "DEBUG:root:size of queue: 3\n"
     ]
    },
    {
     "name": "stdout",
     "output_type": "stream",
     "text": [
      "time: 2019-05-14 10:10:19, low: 117.7, high: 117.8, type: 1\n",
      "time: 2019-05-14 10:10:36, low: 117.6, high: 117.7, type: -1\n",
      "time: 2019-05-14 10:12:30, low: 117.7, high: 117.8, type: 1\n"
     ]
    },
    {
     "name": "stderr",
     "output_type": "stream",
     "text": [
      "DEBUG:root:Ticks: 117.75\n",
      "INFO:root:Inside tickfunction that one\n",
      "DEBUG:root:size of queue: 3\n"
     ]
    },
    {
     "name": "stdout",
     "output_type": "stream",
     "text": [
      "time: 2019-05-14 10:10:19, low: 117.7, high: 117.8, type: 1\n",
      "time: 2019-05-14 10:10:36, low: 117.6, high: 117.7, type: -1\n",
      "time: 2019-05-14 10:12:30, low: 117.7, high: 117.8, type: 1\n"
     ]
    },
    {
     "name": "stderr",
     "output_type": "stream",
     "text": [
      "DEBUG:root:Ticks: 117.85\n",
      "INFO:root:Inside tickfunction that one\n",
      "DEBUG:root:size of queue: 3\n"
     ]
    },
    {
     "name": "stdout",
     "output_type": "stream",
     "text": [
      "time: 2019-05-14 10:10:19, low: 117.7, high: 117.8, type: 1\n",
      "time: 2019-05-14 10:10:36, low: 117.6, high: 117.7, type: -1\n",
      "time: 2019-05-14 10:12:30, low: 117.7, high: 117.8, type: 1\n"
     ]
    },
    {
     "name": "stderr",
     "output_type": "stream",
     "text": [
      "DEBUG:root:Ticks: 117.85\n",
      "INFO:root:Inside tickfunction that one\n",
      "DEBUG:root:size of queue: 3\n"
     ]
    },
    {
     "name": "stdout",
     "output_type": "stream",
     "text": [
      "time: 2019-05-14 10:10:19, low: 117.7, high: 117.8, type: 1\n",
      "time: 2019-05-14 10:10:36, low: 117.6, high: 117.7, type: -1\n",
      "time: 2019-05-14 10:12:30, low: 117.7, high: 117.8, type: 1\n"
     ]
    },
    {
     "name": "stderr",
     "output_type": "stream",
     "text": [
      "DEBUG:root:Ticks: 117.85\n",
      "INFO:root:Inside tickfunction that one\n",
      "DEBUG:root:size of queue: 3\n"
     ]
    },
    {
     "name": "stdout",
     "output_type": "stream",
     "text": [
      "time: 2019-05-14 10:10:19, low: 117.7, high: 117.8, type: 1\n",
      "time: 2019-05-14 10:10:36, low: 117.6, high: 117.7, type: -1\n",
      "time: 2019-05-14 10:12:30, low: 117.7, high: 117.8, type: 1\n"
     ]
    },
    {
     "name": "stderr",
     "output_type": "stream",
     "text": [
      "DEBUG:root:Ticks: 117.85\n",
      "INFO:root:Inside tickfunction that one\n",
      "DEBUG:root:size of queue: 3\n"
     ]
    },
    {
     "name": "stdout",
     "output_type": "stream",
     "text": [
      "time: 2019-05-14 10:10:19, low: 117.7, high: 117.8, type: 1\n",
      "time: 2019-05-14 10:10:36, low: 117.6, high: 117.7, type: -1\n",
      "time: 2019-05-14 10:12:30, low: 117.7, high: 117.8, type: 1\n"
     ]
    },
    {
     "name": "stderr",
     "output_type": "stream",
     "text": [
      "DEBUG:root:Ticks: 117.85\n",
      "INFO:root:Inside tickfunction that one\n",
      "DEBUG:root:size of queue: 3\n"
     ]
    },
    {
     "name": "stdout",
     "output_type": "stream",
     "text": [
      "time: 2019-05-14 10:10:19, low: 117.7, high: 117.8, type: 1\n",
      "time: 2019-05-14 10:10:36, low: 117.6, high: 117.7, type: -1\n",
      "time: 2019-05-14 10:12:30, low: 117.7, high: 117.8, type: 1\n"
     ]
    },
    {
     "name": "stderr",
     "output_type": "stream",
     "text": [
      "DEBUG:root:Ticks: 117.85\n",
      "INFO:root:Inside tickfunction that one\n",
      "DEBUG:root:size of queue: 3\n"
     ]
    },
    {
     "name": "stdout",
     "output_type": "stream",
     "text": [
      "time: 2019-05-14 10:10:19, low: 117.7, high: 117.8, type: 1\n",
      "time: 2019-05-14 10:10:36, low: 117.6, high: 117.7, type: -1\n",
      "time: 2019-05-14 10:12:30, low: 117.7, high: 117.8, type: 1\n"
     ]
    },
    {
     "name": "stderr",
     "output_type": "stream",
     "text": [
      "DEBUG:root:Ticks: 117.85\n",
      "INFO:root:Inside tickfunction that one\n",
      "DEBUG:root:size of queue: 3\n"
     ]
    },
    {
     "name": "stdout",
     "output_type": "stream",
     "text": [
      "time: 2019-05-14 10:10:19, low: 117.7, high: 117.8, type: 1\n",
      "time: 2019-05-14 10:10:36, low: 117.6, high: 117.7, type: -1\n",
      "time: 2019-05-14 10:12:30, low: 117.7, high: 117.8, type: 1\n"
     ]
    },
    {
     "name": "stderr",
     "output_type": "stream",
     "text": [
      "DEBUG:root:Ticks: 117.85\n",
      "INFO:root:Inside tickfunction that one\n",
      "DEBUG:root:size of queue: 3\n"
     ]
    },
    {
     "name": "stdout",
     "output_type": "stream",
     "text": [
      "time: 2019-05-14 10:10:19, low: 117.7, high: 117.8, type: 1\n",
      "time: 2019-05-14 10:10:36, low: 117.6, high: 117.7, type: -1\n",
      "time: 2019-05-14 10:12:30, low: 117.7, high: 117.8, type: 1\n"
     ]
    },
    {
     "name": "stderr",
     "output_type": "stream",
     "text": [
      "DEBUG:root:Ticks: 117.85\n",
      "INFO:root:Inside tickfunction that one\n",
      "DEBUG:root:size of queue: 3\n"
     ]
    },
    {
     "name": "stdout",
     "output_type": "stream",
     "text": [
      "time: 2019-05-14 10:10:19, low: 117.7, high: 117.8, type: 1\n",
      "time: 2019-05-14 10:10:36, low: 117.6, high: 117.7, type: -1\n",
      "time: 2019-05-14 10:12:30, low: 117.7, high: 117.8, type: 1\n"
     ]
    },
    {
     "name": "stderr",
     "output_type": "stream",
     "text": [
      "DEBUG:root:Ticks: 117.85\n",
      "INFO:root:Inside tickfunction that one\n",
      "DEBUG:root:size of queue: 3\n"
     ]
    },
    {
     "name": "stdout",
     "output_type": "stream",
     "text": [
      "time: 2019-05-14 10:10:19, low: 117.7, high: 117.8, type: 1\n",
      "time: 2019-05-14 10:10:36, low: 117.6, high: 117.7, type: -1\n",
      "time: 2019-05-14 10:12:30, low: 117.7, high: 117.8, type: 1\n"
     ]
    },
    {
     "name": "stderr",
     "output_type": "stream",
     "text": [
      "DEBUG:root:Ticks: 117.85\n",
      "INFO:root:Inside tickfunction that one\n",
      "DEBUG:root:size of queue: 3\n"
     ]
    },
    {
     "name": "stdout",
     "output_type": "stream",
     "text": [
      "time: 2019-05-14 10:10:19, low: 117.7, high: 117.8, type: 1\n",
      "time: 2019-05-14 10:10:36, low: 117.6, high: 117.7, type: -1\n",
      "time: 2019-05-14 10:12:30, low: 117.7, high: 117.8, type: 1\n"
     ]
    },
    {
     "name": "stderr",
     "output_type": "stream",
     "text": [
      "DEBUG:root:Ticks: 117.85\n",
      "INFO:root:Inside tickfunction that one\n",
      "DEBUG:root:size of queue: 3\n"
     ]
    },
    {
     "name": "stdout",
     "output_type": "stream",
     "text": [
      "time: 2019-05-14 10:10:19, low: 117.7, high: 117.8, type: 1\n",
      "time: 2019-05-14 10:10:36, low: 117.6, high: 117.7, type: -1\n",
      "time: 2019-05-14 10:12:30, low: 117.7, high: 117.8, type: 1\n"
     ]
    },
    {
     "name": "stderr",
     "output_type": "stream",
     "text": [
      "DEBUG:root:Ticks: 117.85\n",
      "INFO:root:Inside tickfunction that one\n",
      "DEBUG:root:size of queue: 3\n"
     ]
    },
    {
     "name": "stdout",
     "output_type": "stream",
     "text": [
      "time: 2019-05-14 10:10:19, low: 117.7, high: 117.8, type: 1\n",
      "time: 2019-05-14 10:10:36, low: 117.6, high: 117.7, type: -1\n",
      "time: 2019-05-14 10:12:30, low: 117.7, high: 117.8, type: 1\n"
     ]
    },
    {
     "name": "stderr",
     "output_type": "stream",
     "text": [
      "DEBUG:root:Ticks: 117.65\n",
      "INFO:root:Inside tickfunction that one\n",
      "DEBUG:root:size of queue: 3\n"
     ]
    },
    {
     "name": "stdout",
     "output_type": "stream",
     "text": [
      "time: 2019-05-14 10:10:19, low: 117.7, high: 117.8, type: 1\n",
      "time: 2019-05-14 10:10:36, low: 117.6, high: 117.7, type: -1\n",
      "time: 2019-05-14 10:12:30, low: 117.7, high: 117.8, type: 1\n"
     ]
    },
    {
     "name": "stderr",
     "output_type": "stream",
     "text": [
      "DEBUG:root:Ticks: 117.65\n",
      "INFO:root:Inside tickfunction that one\n",
      "DEBUG:root:size of queue: 3\n"
     ]
    },
    {
     "name": "stdout",
     "output_type": "stream",
     "text": [
      "time: 2019-05-14 10:10:19, low: 117.7, high: 117.8, type: 1\n",
      "time: 2019-05-14 10:10:36, low: 117.6, high: 117.7, type: -1\n",
      "time: 2019-05-14 10:12:30, low: 117.7, high: 117.8, type: 1\n"
     ]
    },
    {
     "name": "stderr",
     "output_type": "stream",
     "text": [
      "DEBUG:root:Ticks: 117.65\n",
      "INFO:root:Inside tickfunction that one\n",
      "DEBUG:root:size of queue: 3\n"
     ]
    },
    {
     "name": "stdout",
     "output_type": "stream",
     "text": [
      "time: 2019-05-14 10:10:19, low: 117.7, high: 117.8, type: 1\n",
      "time: 2019-05-14 10:10:36, low: 117.6, high: 117.7, type: -1\n",
      "time: 2019-05-14 10:12:30, low: 117.7, high: 117.8, type: 1\n"
     ]
    },
    {
     "name": "stderr",
     "output_type": "stream",
     "text": [
      "DEBUG:root:Ticks: 117.65\n",
      "INFO:root:Inside tickfunction that one\n",
      "DEBUG:root:size of queue: 3\n"
     ]
    },
    {
     "name": "stdout",
     "output_type": "stream",
     "text": [
      "time: 2019-05-14 10:10:19, low: 117.7, high: 117.8, type: 1\n",
      "time: 2019-05-14 10:10:36, low: 117.6, high: 117.7, type: -1\n",
      "time: 2019-05-14 10:12:30, low: 117.7, high: 117.8, type: 1\n"
     ]
    },
    {
     "name": "stderr",
     "output_type": "stream",
     "text": [
      "DEBUG:root:Ticks: 117.65\n",
      "INFO:root:Inside tickfunction that one\n",
      "DEBUG:root:size of queue: 3\n"
     ]
    },
    {
     "name": "stdout",
     "output_type": "stream",
     "text": [
      "time: 2019-05-14 10:10:19, low: 117.7, high: 117.8, type: 1\n",
      "time: 2019-05-14 10:10:36, low: 117.6, high: 117.7, type: -1\n",
      "time: 2019-05-14 10:12:30, low: 117.7, high: 117.8, type: 1\n"
     ]
    },
    {
     "name": "stderr",
     "output_type": "stream",
     "text": [
      "DEBUG:root:Ticks: 117.65\n",
      "INFO:root:Inside tickfunction that one\n",
      "DEBUG:root:size of queue: 3\n"
     ]
    },
    {
     "name": "stdout",
     "output_type": "stream",
     "text": [
      "time: 2019-05-14 10:10:19, low: 117.7, high: 117.8, type: 1\n",
      "time: 2019-05-14 10:10:36, low: 117.6, high: 117.7, type: -1\n",
      "time: 2019-05-14 10:12:30, low: 117.7, high: 117.8, type: 1\n"
     ]
    },
    {
     "name": "stderr",
     "output_type": "stream",
     "text": [
      "DEBUG:root:Ticks: 117.65\n",
      "INFO:root:Inside tickfunction that one\n",
      "DEBUG:root:size of queue: 3\n"
     ]
    },
    {
     "name": "stdout",
     "output_type": "stream",
     "text": [
      "time: 2019-05-14 10:10:19, low: 117.7, high: 117.8, type: 1\n",
      "time: 2019-05-14 10:10:36, low: 117.6, high: 117.7, type: -1\n",
      "time: 2019-05-14 10:12:30, low: 117.7, high: 117.8, type: 1\n"
     ]
    },
    {
     "name": "stderr",
     "output_type": "stream",
     "text": [
      "DEBUG:root:Ticks: 117.65\n",
      "INFO:root:Inside tickfunction that one\n",
      "DEBUG:root:size of queue: 3\n"
     ]
    },
    {
     "name": "stdout",
     "output_type": "stream",
     "text": [
      "time: 2019-05-14 10:10:19, low: 117.7, high: 117.8, type: 1\n",
      "time: 2019-05-14 10:10:36, low: 117.6, high: 117.7, type: -1\n",
      "time: 2019-05-14 10:12:30, low: 117.7, high: 117.8, type: 1\n"
     ]
    },
    {
     "name": "stderr",
     "output_type": "stream",
     "text": [
      "DEBUG:root:Ticks: 117.65\n",
      "INFO:root:Inside tickfunction that one\n",
      "DEBUG:root:size of queue: 3\n"
     ]
    },
    {
     "name": "stdout",
     "output_type": "stream",
     "text": [
      "time: 2019-05-14 10:10:19, low: 117.7, high: 117.8, type: 1\n",
      "time: 2019-05-14 10:10:36, low: 117.6, high: 117.7, type: -1\n",
      "time: 2019-05-14 10:12:30, low: 117.7, high: 117.8, type: 1\n"
     ]
    },
    {
     "name": "stderr",
     "output_type": "stream",
     "text": [
      "DEBUG:root:Ticks: 117.65\n",
      "INFO:root:Inside tickfunction that one\n",
      "DEBUG:root:size of queue: 3\n"
     ]
    },
    {
     "name": "stdout",
     "output_type": "stream",
     "text": [
      "time: 2019-05-14 10:10:19, low: 117.7, high: 117.8, type: 1\n",
      "time: 2019-05-14 10:10:36, low: 117.6, high: 117.7, type: -1\n",
      "time: 2019-05-14 10:12:30, low: 117.7, high: 117.8, type: 1\n"
     ]
    },
    {
     "name": "stderr",
     "output_type": "stream",
     "text": [
      "DEBUG:root:Ticks: 117.75\n",
      "INFO:root:Inside tickfunction that one\n",
      "DEBUG:root:size of queue: 3\n"
     ]
    },
    {
     "name": "stdout",
     "output_type": "stream",
     "text": [
      "time: 2019-05-14 10:10:19, low: 117.7, high: 117.8, type: 1\n",
      "time: 2019-05-14 10:10:36, low: 117.6, high: 117.7, type: -1\n",
      "time: 2019-05-14 10:12:30, low: 117.7, high: 117.8, type: 1\n"
     ]
    },
    {
     "name": "stderr",
     "output_type": "stream",
     "text": [
      "DEBUG:root:Ticks: 117.75\n",
      "INFO:root:Inside tickfunction that one\n",
      "DEBUG:root:size of queue: 3\n"
     ]
    },
    {
     "name": "stdout",
     "output_type": "stream",
     "text": [
      "time: 2019-05-14 10:10:19, low: 117.7, high: 117.8, type: 1\n",
      "time: 2019-05-14 10:10:36, low: 117.6, high: 117.7, type: -1\n",
      "time: 2019-05-14 10:12:30, low: 117.7, high: 117.8, type: 1\n"
     ]
    },
    {
     "name": "stderr",
     "output_type": "stream",
     "text": [
      "DEBUG:root:Ticks: 117.75\n",
      "INFO:root:Inside tickfunction that one\n",
      "DEBUG:root:size of queue: 3\n"
     ]
    },
    {
     "name": "stdout",
     "output_type": "stream",
     "text": [
      "time: 2019-05-14 10:10:19, low: 117.7, high: 117.8, type: 1\n",
      "time: 2019-05-14 10:10:36, low: 117.6, high: 117.7, type: -1\n",
      "time: 2019-05-14 10:12:30, low: 117.7, high: 117.8, type: 1\n"
     ]
    },
    {
     "name": "stderr",
     "output_type": "stream",
     "text": [
      "DEBUG:root:Ticks: 117.75\n",
      "INFO:root:Inside tickfunction that one\n",
      "DEBUG:root:size of queue: 3\n"
     ]
    },
    {
     "name": "stdout",
     "output_type": "stream",
     "text": [
      "time: 2019-05-14 10:10:19, low: 117.7, high: 117.8, type: 1\n",
      "time: 2019-05-14 10:10:36, low: 117.6, high: 117.7, type: -1\n",
      "time: 2019-05-14 10:12:30, low: 117.7, high: 117.8, type: 1\n"
     ]
    },
    {
     "name": "stderr",
     "output_type": "stream",
     "text": [
      "DEBUG:root:Ticks: 117.65\n",
      "INFO:root:Inside tickfunction that one\n",
      "DEBUG:root:size of queue: 3\n"
     ]
    },
    {
     "name": "stdout",
     "output_type": "stream",
     "text": [
      "time: 2019-05-14 10:10:19, low: 117.7, high: 117.8, type: 1\n",
      "time: 2019-05-14 10:10:36, low: 117.6, high: 117.7, type: -1\n",
      "time: 2019-05-14 10:12:30, low: 117.7, high: 117.8, type: 1\n"
     ]
    },
    {
     "name": "stderr",
     "output_type": "stream",
     "text": [
      "DEBUG:root:Ticks: 117.65\n",
      "INFO:root:Inside tickfunction that one\n",
      "DEBUG:root:size of queue: 3\n"
     ]
    },
    {
     "name": "stdout",
     "output_type": "stream",
     "text": [
      "time: 2019-05-14 10:10:19, low: 117.7, high: 117.8, type: 1\n",
      "time: 2019-05-14 10:10:36, low: 117.6, high: 117.7, type: -1\n",
      "time: 2019-05-14 10:12:30, low: 117.7, high: 117.8, type: 1\n"
     ]
    },
    {
     "name": "stderr",
     "output_type": "stream",
     "text": [
      "DEBUG:root:Ticks: 117.65\n",
      "INFO:root:Inside tickfunction that one\n",
      "DEBUG:root:size of queue: 3\n"
     ]
    },
    {
     "name": "stdout",
     "output_type": "stream",
     "text": [
      "time: 2019-05-14 10:10:19, low: 117.7, high: 117.8, type: 1\n",
      "time: 2019-05-14 10:10:36, low: 117.6, high: 117.7, type: -1\n",
      "time: 2019-05-14 10:12:30, low: 117.7, high: 117.8, type: 1\n"
     ]
    },
    {
     "name": "stderr",
     "output_type": "stream",
     "text": [
      "DEBUG:root:Ticks: 117.65\n",
      "INFO:root:Inside tickfunction that one\n",
      "DEBUG:root:size of queue: 3\n"
     ]
    },
    {
     "name": "stdout",
     "output_type": "stream",
     "text": [
      "time: 2019-05-14 10:10:19, low: 117.7, high: 117.8, type: 1\n",
      "time: 2019-05-14 10:10:36, low: 117.6, high: 117.7, type: -1\n",
      "time: 2019-05-14 10:12:30, low: 117.7, high: 117.8, type: 1\n"
     ]
    },
    {
     "name": "stderr",
     "output_type": "stream",
     "text": [
      "DEBUG:root:Ticks: 117.65\n",
      "INFO:root:Inside tickfunction that one\n",
      "DEBUG:root:size of queue: 3\n"
     ]
    },
    {
     "name": "stdout",
     "output_type": "stream",
     "text": [
      "time: 2019-05-14 10:10:19, low: 117.7, high: 117.8, type: 1\n",
      "time: 2019-05-14 10:10:36, low: 117.6, high: 117.7, type: -1\n",
      "time: 2019-05-14 10:12:30, low: 117.7, high: 117.8, type: 1\n"
     ]
    },
    {
     "name": "stderr",
     "output_type": "stream",
     "text": [
      "DEBUG:root:Ticks: 117.65\n",
      "INFO:root:Inside tickfunction that one\n",
      "DEBUG:root:size of queue: 3\n"
     ]
    },
    {
     "name": "stdout",
     "output_type": "stream",
     "text": [
      "time: 2019-05-14 10:10:19, low: 117.7, high: 117.8, type: 1\n",
      "time: 2019-05-14 10:10:36, low: 117.6, high: 117.7, type: -1\n",
      "time: 2019-05-14 10:12:30, low: 117.7, high: 117.8, type: 1\n"
     ]
    },
    {
     "name": "stderr",
     "output_type": "stream",
     "text": [
      "DEBUG:root:Ticks: 117.65\n",
      "INFO:root:Inside tickfunction that one\n",
      "DEBUG:root:size of queue: 3\n"
     ]
    },
    {
     "name": "stdout",
     "output_type": "stream",
     "text": [
      "time: 2019-05-14 10:10:19, low: 117.7, high: 117.8, type: 1\n",
      "time: 2019-05-14 10:10:36, low: 117.6, high: 117.7, type: -1\n",
      "time: 2019-05-14 10:12:30, low: 117.7, high: 117.8, type: 1\n"
     ]
    },
    {
     "name": "stderr",
     "output_type": "stream",
     "text": [
      "DEBUG:root:Ticks: 117.65\n",
      "INFO:root:Inside tickfunction that one\n",
      "DEBUG:root:size of queue: 3\n"
     ]
    },
    {
     "name": "stdout",
     "output_type": "stream",
     "text": [
      "time: 2019-05-14 10:10:19, low: 117.7, high: 117.8, type: 1\n",
      "time: 2019-05-14 10:10:36, low: 117.6, high: 117.7, type: -1\n",
      "time: 2019-05-14 10:12:30, low: 117.7, high: 117.8, type: 1\n"
     ]
    },
    {
     "name": "stderr",
     "output_type": "stream",
     "text": [
      "DEBUG:root:Ticks: 117.65\n",
      "INFO:root:Inside tickfunction that one\n",
      "DEBUG:root:size of queue: 3\n"
     ]
    },
    {
     "name": "stdout",
     "output_type": "stream",
     "text": [
      "time: 2019-05-14 10:10:19, low: 117.7, high: 117.8, type: 1\n",
      "time: 2019-05-14 10:10:36, low: 117.6, high: 117.7, type: -1\n",
      "time: 2019-05-14 10:12:30, low: 117.7, high: 117.8, type: 1\n"
     ]
    },
    {
     "name": "stderr",
     "output_type": "stream",
     "text": [
      "DEBUG:root:Ticks: 117.65\n",
      "INFO:root:Inside tickfunction that one\n",
      "DEBUG:root:size of queue: 3\n"
     ]
    },
    {
     "name": "stdout",
     "output_type": "stream",
     "text": [
      "time: 2019-05-14 10:10:19, low: 117.7, high: 117.8, type: 1\n",
      "time: 2019-05-14 10:10:36, low: 117.6, high: 117.7, type: -1\n",
      "time: 2019-05-14 10:12:30, low: 117.7, high: 117.8, type: 1\n"
     ]
    },
    {
     "name": "stderr",
     "output_type": "stream",
     "text": [
      "DEBUG:root:Ticks: 117.65\n",
      "INFO:root:Inside tickfunction that one\n",
      "DEBUG:root:size of queue: 3\n"
     ]
    },
    {
     "name": "stdout",
     "output_type": "stream",
     "text": [
      "time: 2019-05-14 10:10:19, low: 117.7, high: 117.8, type: 1\n",
      "time: 2019-05-14 10:10:36, low: 117.6, high: 117.7, type: -1\n",
      "time: 2019-05-14 10:12:30, low: 117.7, high: 117.8, type: 1\n"
     ]
    },
    {
     "name": "stderr",
     "output_type": "stream",
     "text": [
      "DEBUG:root:Ticks: 117.65\n",
      "INFO:root:Inside tickfunction that one\n",
      "DEBUG:root:size of queue: 3\n"
     ]
    },
    {
     "name": "stdout",
     "output_type": "stream",
     "text": [
      "time: 2019-05-14 10:10:19, low: 117.7, high: 117.8, type: 1\n",
      "time: 2019-05-14 10:10:36, low: 117.6, high: 117.7, type: -1\n",
      "time: 2019-05-14 10:12:30, low: 117.7, high: 117.8, type: 1\n"
     ]
    },
    {
     "name": "stderr",
     "output_type": "stream",
     "text": [
      "DEBUG:root:Ticks: 117.65\n",
      "INFO:root:Inside tickfunction that one\n",
      "DEBUG:root:size of queue: 3\n"
     ]
    },
    {
     "name": "stdout",
     "output_type": "stream",
     "text": [
      "time: 2019-05-14 10:10:19, low: 117.7, high: 117.8, type: 1\n",
      "time: 2019-05-14 10:10:36, low: 117.6, high: 117.7, type: -1\n",
      "time: 2019-05-14 10:12:30, low: 117.7, high: 117.8, type: 1\n"
     ]
    },
    {
     "name": "stderr",
     "output_type": "stream",
     "text": [
      "DEBUG:root:Ticks: 117.65\n",
      "INFO:root:Inside tickfunction that one\n",
      "DEBUG:root:size of queue: 3\n"
     ]
    },
    {
     "name": "stdout",
     "output_type": "stream",
     "text": [
      "time: 2019-05-14 10:10:19, low: 117.7, high: 117.8, type: 1\n",
      "time: 2019-05-14 10:10:36, low: 117.6, high: 117.7, type: -1\n",
      "time: 2019-05-14 10:12:30, low: 117.7, high: 117.8, type: 1\n"
     ]
    },
    {
     "name": "stderr",
     "output_type": "stream",
     "text": [
      "DEBUG:root:Ticks: 117.65\n",
      "INFO:root:Inside tickfunction that one\n",
      "DEBUG:root:size of queue: 3\n"
     ]
    },
    {
     "name": "stdout",
     "output_type": "stream",
     "text": [
      "time: 2019-05-14 10:10:19, low: 117.7, high: 117.8, type: 1\n",
      "time: 2019-05-14 10:10:36, low: 117.6, high: 117.7, type: -1\n",
      "time: 2019-05-14 10:12:30, low: 117.7, high: 117.8, type: 1\n"
     ]
    },
    {
     "name": "stderr",
     "output_type": "stream",
     "text": [
      "DEBUG:root:Ticks: 117.65\n",
      "INFO:root:Inside tickfunction that one\n",
      "DEBUG:root:size of queue: 3\n"
     ]
    },
    {
     "name": "stdout",
     "output_type": "stream",
     "text": [
      "time: 2019-05-14 10:10:19, low: 117.7, high: 117.8, type: 1\n",
      "time: 2019-05-14 10:10:36, low: 117.6, high: 117.7, type: -1\n",
      "time: 2019-05-14 10:12:30, low: 117.7, high: 117.8, type: 1\n"
     ]
    },
    {
     "name": "stderr",
     "output_type": "stream",
     "text": [
      "DEBUG:root:Ticks: 117.6\n",
      "INFO:root:Inside tickfunction that one\n",
      "DEBUG:root:size of queue: 3\n",
      "INFO:root:Boughtflag: 0\n"
     ]
    },
    {
     "name": "stdout",
     "output_type": "stream",
     "text": [
      "time: 2019-05-14 10:10:36, low: 117.6, high: 117.7, type: -1\n",
      "time: 2019-05-14 10:12:30, low: 117.7, high: 117.8, type: 1\n",
      "time: 2019-05-14 10:16:29, low: 117.6, high: 117.7, type: -1\n"
     ]
    },
    {
     "name": "stderr",
     "output_type": "stream",
     "text": [
      "DEBUG:root:Ticks: 117.6\n",
      "INFO:root:Inside tickfunction that one\n",
      "DEBUG:root:size of queue: 3\n"
     ]
    },
    {
     "name": "stdout",
     "output_type": "stream",
     "text": [
      "time: 2019-05-14 10:10:36, low: 117.6, high: 117.7, type: -1\n",
      "time: 2019-05-14 10:12:30, low: 117.7, high: 117.8, type: 1\n",
      "time: 2019-05-14 10:16:29, low: 117.6, high: 117.7, type: -1\n"
     ]
    },
    {
     "name": "stderr",
     "output_type": "stream",
     "text": [
      "DEBUG:root:Ticks: 117.6\n",
      "INFO:root:Inside tickfunction that one\n",
      "DEBUG:root:size of queue: 3\n"
     ]
    },
    {
     "name": "stdout",
     "output_type": "stream",
     "text": [
      "time: 2019-05-14 10:10:36, low: 117.6, high: 117.7, type: -1\n",
      "time: 2019-05-14 10:12:30, low: 117.7, high: 117.8, type: 1\n",
      "time: 2019-05-14 10:16:29, low: 117.6, high: 117.7, type: -1\n"
     ]
    },
    {
     "name": "stderr",
     "output_type": "stream",
     "text": [
      "DEBUG:root:Ticks: 117.6\n",
      "INFO:root:Inside tickfunction that one\n",
      "DEBUG:root:size of queue: 3\n"
     ]
    },
    {
     "name": "stdout",
     "output_type": "stream",
     "text": [
      "time: 2019-05-14 10:10:36, low: 117.6, high: 117.7, type: -1\n",
      "time: 2019-05-14 10:12:30, low: 117.7, high: 117.8, type: 1\n",
      "time: 2019-05-14 10:16:29, low: 117.6, high: 117.7, type: -1\n"
     ]
    },
    {
     "name": "stderr",
     "output_type": "stream",
     "text": [
      "DEBUG:root:Ticks: 117.6\n",
      "INFO:root:Inside tickfunction that one\n",
      "DEBUG:root:size of queue: 3\n"
     ]
    },
    {
     "name": "stdout",
     "output_type": "stream",
     "text": [
      "time: 2019-05-14 10:10:36, low: 117.6, high: 117.7, type: -1\n",
      "time: 2019-05-14 10:12:30, low: 117.7, high: 117.8, type: 1\n",
      "time: 2019-05-14 10:16:29, low: 117.6, high: 117.7, type: -1\n"
     ]
    },
    {
     "name": "stderr",
     "output_type": "stream",
     "text": [
      "DEBUG:root:Ticks: 117.6\n",
      "INFO:root:Inside tickfunction that one\n",
      "DEBUG:root:size of queue: 3\n"
     ]
    },
    {
     "name": "stdout",
     "output_type": "stream",
     "text": [
      "time: 2019-05-14 10:10:36, low: 117.6, high: 117.7, type: -1\n",
      "time: 2019-05-14 10:12:30, low: 117.7, high: 117.8, type: 1\n",
      "time: 2019-05-14 10:16:29, low: 117.6, high: 117.7, type: -1\n"
     ]
    },
    {
     "name": "stderr",
     "output_type": "stream",
     "text": [
      "DEBUG:root:Ticks: 117.65\n",
      "INFO:root:Inside tickfunction that one\n",
      "DEBUG:root:size of queue: 3\n"
     ]
    },
    {
     "name": "stdout",
     "output_type": "stream",
     "text": [
      "time: 2019-05-14 10:10:36, low: 117.6, high: 117.7, type: -1\n",
      "time: 2019-05-14 10:12:30, low: 117.7, high: 117.8, type: 1\n",
      "time: 2019-05-14 10:16:29, low: 117.6, high: 117.7, type: -1\n"
     ]
    },
    {
     "name": "stderr",
     "output_type": "stream",
     "text": [
      "DEBUG:root:Ticks: 117.65\n",
      "INFO:root:Inside tickfunction that one\n",
      "DEBUG:root:size of queue: 3\n"
     ]
    },
    {
     "name": "stdout",
     "output_type": "stream",
     "text": [
      "time: 2019-05-14 10:10:36, low: 117.6, high: 117.7, type: -1\n",
      "time: 2019-05-14 10:12:30, low: 117.7, high: 117.8, type: 1\n",
      "time: 2019-05-14 10:16:29, low: 117.6, high: 117.7, type: -1\n"
     ]
    },
    {
     "name": "stderr",
     "output_type": "stream",
     "text": [
      "DEBUG:root:Ticks: 117.65\n",
      "INFO:root:Inside tickfunction that one\n",
      "DEBUG:root:size of queue: 3\n"
     ]
    },
    {
     "name": "stdout",
     "output_type": "stream",
     "text": [
      "time: 2019-05-14 10:10:36, low: 117.6, high: 117.7, type: -1\n",
      "time: 2019-05-14 10:12:30, low: 117.7, high: 117.8, type: 1\n",
      "time: 2019-05-14 10:16:29, low: 117.6, high: 117.7, type: -1\n"
     ]
    },
    {
     "name": "stderr",
     "output_type": "stream",
     "text": [
      "DEBUG:root:Ticks: 117.65\n",
      "INFO:root:Inside tickfunction that one\n",
      "DEBUG:root:size of queue: 3\n"
     ]
    },
    {
     "name": "stdout",
     "output_type": "stream",
     "text": [
      "time: 2019-05-14 10:10:36, low: 117.6, high: 117.7, type: -1\n",
      "time: 2019-05-14 10:12:30, low: 117.7, high: 117.8, type: 1\n",
      "time: 2019-05-14 10:16:29, low: 117.6, high: 117.7, type: -1\n"
     ]
    },
    {
     "name": "stderr",
     "output_type": "stream",
     "text": [
      "DEBUG:root:Ticks: 117.65\n",
      "INFO:root:Inside tickfunction that one\n",
      "DEBUG:root:size of queue: 3\n"
     ]
    },
    {
     "name": "stdout",
     "output_type": "stream",
     "text": [
      "time: 2019-05-14 10:10:36, low: 117.6, high: 117.7, type: -1\n",
      "time: 2019-05-14 10:12:30, low: 117.7, high: 117.8, type: 1\n",
      "time: 2019-05-14 10:16:29, low: 117.6, high: 117.7, type: -1\n"
     ]
    },
    {
     "name": "stderr",
     "output_type": "stream",
     "text": [
      "DEBUG:root:Ticks: 117.65\n",
      "INFO:root:Inside tickfunction that one\n",
      "DEBUG:root:size of queue: 3\n"
     ]
    },
    {
     "name": "stdout",
     "output_type": "stream",
     "text": [
      "time: 2019-05-14 10:10:36, low: 117.6, high: 117.7, type: -1\n",
      "time: 2019-05-14 10:12:30, low: 117.7, high: 117.8, type: 1\n",
      "time: 2019-05-14 10:16:29, low: 117.6, high: 117.7, type: -1\n"
     ]
    },
    {
     "name": "stderr",
     "output_type": "stream",
     "text": [
      "DEBUG:root:Ticks: 117.65\n",
      "INFO:root:Inside tickfunction that one\n",
      "DEBUG:root:size of queue: 3\n"
     ]
    },
    {
     "name": "stdout",
     "output_type": "stream",
     "text": [
      "time: 2019-05-14 10:10:36, low: 117.6, high: 117.7, type: -1\n",
      "time: 2019-05-14 10:12:30, low: 117.7, high: 117.8, type: 1\n",
      "time: 2019-05-14 10:16:29, low: 117.6, high: 117.7, type: -1\n"
     ]
    },
    {
     "name": "stderr",
     "output_type": "stream",
     "text": [
      "DEBUG:root:Ticks: 117.55\n",
      "INFO:root:Inside tickfunction that one\n",
      "DEBUG:root:size of queue: 3\n"
     ]
    },
    {
     "name": "stdout",
     "output_type": "stream",
     "text": [
      "time: 2019-05-14 10:10:36, low: 117.6, high: 117.7, type: -1\n",
      "time: 2019-05-14 10:12:30, low: 117.7, high: 117.8, type: 1\n",
      "time: 2019-05-14 10:16:29, low: 117.6, high: 117.7, type: -1\n"
     ]
    },
    {
     "name": "stderr",
     "output_type": "stream",
     "text": [
      "DEBUG:root:Ticks: 117.55\n",
      "INFO:root:Inside tickfunction that one\n",
      "DEBUG:root:size of queue: 3\n"
     ]
    },
    {
     "name": "stdout",
     "output_type": "stream",
     "text": [
      "time: 2019-05-14 10:10:36, low: 117.6, high: 117.7, type: -1\n",
      "time: 2019-05-14 10:12:30, low: 117.7, high: 117.8, type: 1\n",
      "time: 2019-05-14 10:16:29, low: 117.6, high: 117.7, type: -1\n"
     ]
    },
    {
     "name": "stderr",
     "output_type": "stream",
     "text": [
      "DEBUG:root:Ticks: 117.55\n",
      "INFO:root:Inside tickfunction that one\n",
      "DEBUG:root:size of queue: 3\n"
     ]
    },
    {
     "name": "stdout",
     "output_type": "stream",
     "text": [
      "time: 2019-05-14 10:10:36, low: 117.6, high: 117.7, type: -1\n",
      "time: 2019-05-14 10:12:30, low: 117.7, high: 117.8, type: 1\n",
      "time: 2019-05-14 10:16:29, low: 117.6, high: 117.7, type: -1\n"
     ]
    },
    {
     "name": "stderr",
     "output_type": "stream",
     "text": [
      "DEBUG:root:Ticks: 117.55\n",
      "INFO:root:Inside tickfunction that one\n",
      "DEBUG:root:size of queue: 3\n"
     ]
    },
    {
     "name": "stdout",
     "output_type": "stream",
     "text": [
      "time: 2019-05-14 10:10:36, low: 117.6, high: 117.7, type: -1\n",
      "time: 2019-05-14 10:12:30, low: 117.7, high: 117.8, type: 1\n",
      "time: 2019-05-14 10:16:29, low: 117.6, high: 117.7, type: -1\n"
     ]
    },
    {
     "name": "stderr",
     "output_type": "stream",
     "text": [
      "DEBUG:root:Ticks: 117.55\n",
      "INFO:root:Inside tickfunction that one\n",
      "DEBUG:root:size of queue: 3\n"
     ]
    },
    {
     "name": "stdout",
     "output_type": "stream",
     "text": [
      "time: 2019-05-14 10:10:36, low: 117.6, high: 117.7, type: -1\n",
      "time: 2019-05-14 10:12:30, low: 117.7, high: 117.8, type: 1\n",
      "time: 2019-05-14 10:16:29, low: 117.6, high: 117.7, type: -1\n"
     ]
    },
    {
     "name": "stderr",
     "output_type": "stream",
     "text": [
      "DEBUG:root:Ticks: 117.55\n",
      "INFO:root:Inside tickfunction that one\n",
      "DEBUG:root:size of queue: 3\n"
     ]
    },
    {
     "name": "stdout",
     "output_type": "stream",
     "text": [
      "time: 2019-05-14 10:10:36, low: 117.6, high: 117.7, type: -1\n",
      "time: 2019-05-14 10:12:30, low: 117.7, high: 117.8, type: 1\n",
      "time: 2019-05-14 10:16:29, low: 117.6, high: 117.7, type: -1\n"
     ]
    },
    {
     "name": "stderr",
     "output_type": "stream",
     "text": [
      "DEBUG:root:Ticks: 117.55\n",
      "INFO:root:Inside tickfunction that one\n",
      "DEBUG:root:size of queue: 3\n"
     ]
    },
    {
     "name": "stdout",
     "output_type": "stream",
     "text": [
      "time: 2019-05-14 10:10:36, low: 117.6, high: 117.7, type: -1\n",
      "time: 2019-05-14 10:12:30, low: 117.7, high: 117.8, type: 1\n",
      "time: 2019-05-14 10:16:29, low: 117.6, high: 117.7, type: -1\n"
     ]
    },
    {
     "name": "stderr",
     "output_type": "stream",
     "text": [
      "DEBUG:root:Ticks: 117.55\n",
      "INFO:root:Inside tickfunction that one\n",
      "DEBUG:root:size of queue: 3\n"
     ]
    },
    {
     "name": "stdout",
     "output_type": "stream",
     "text": [
      "time: 2019-05-14 10:10:36, low: 117.6, high: 117.7, type: -1\n",
      "time: 2019-05-14 10:12:30, low: 117.7, high: 117.8, type: 1\n",
      "time: 2019-05-14 10:16:29, low: 117.6, high: 117.7, type: -1\n"
     ]
    },
    {
     "name": "stderr",
     "output_type": "stream",
     "text": [
      "DEBUG:root:Ticks: 117.55\n",
      "INFO:root:Inside tickfunction that one\n",
      "DEBUG:root:size of queue: 3\n"
     ]
    },
    {
     "name": "stdout",
     "output_type": "stream",
     "text": [
      "time: 2019-05-14 10:10:36, low: 117.6, high: 117.7, type: -1\n",
      "time: 2019-05-14 10:12:30, low: 117.7, high: 117.8, type: 1\n",
      "time: 2019-05-14 10:16:29, low: 117.6, high: 117.7, type: -1\n"
     ]
    },
    {
     "name": "stderr",
     "output_type": "stream",
     "text": [
      "DEBUG:root:Ticks: 117.6\n",
      "INFO:root:Inside tickfunction that one\n",
      "DEBUG:root:size of queue: 3\n"
     ]
    },
    {
     "name": "stdout",
     "output_type": "stream",
     "text": [
      "time: 2019-05-14 10:10:36, low: 117.6, high: 117.7, type: -1\n",
      "time: 2019-05-14 10:12:30, low: 117.7, high: 117.8, type: 1\n",
      "time: 2019-05-14 10:16:29, low: 117.6, high: 117.7, type: -1\n"
     ]
    },
    {
     "name": "stderr",
     "output_type": "stream",
     "text": [
      "DEBUG:root:Ticks: 117.6\n",
      "INFO:root:Inside tickfunction that one\n",
      "DEBUG:root:size of queue: 3\n"
     ]
    },
    {
     "name": "stdout",
     "output_type": "stream",
     "text": [
      "time: 2019-05-14 10:10:36, low: 117.6, high: 117.7, type: -1\n",
      "time: 2019-05-14 10:12:30, low: 117.7, high: 117.8, type: 1\n",
      "time: 2019-05-14 10:16:29, low: 117.6, high: 117.7, type: -1\n"
     ]
    },
    {
     "name": "stderr",
     "output_type": "stream",
     "text": [
      "DEBUG:root:Ticks: 117.6\n",
      "INFO:root:Inside tickfunction that one\n",
      "DEBUG:root:size of queue: 3\n"
     ]
    },
    {
     "name": "stdout",
     "output_type": "stream",
     "text": [
      "time: 2019-05-14 10:10:36, low: 117.6, high: 117.7, type: -1\n",
      "time: 2019-05-14 10:12:30, low: 117.7, high: 117.8, type: 1\n",
      "time: 2019-05-14 10:16:29, low: 117.6, high: 117.7, type: -1\n"
     ]
    },
    {
     "name": "stderr",
     "output_type": "stream",
     "text": [
      "DEBUG:root:Ticks: 117.6\n",
      "INFO:root:Inside tickfunction that one\n",
      "DEBUG:root:size of queue: 3\n"
     ]
    },
    {
     "name": "stdout",
     "output_type": "stream",
     "text": [
      "time: 2019-05-14 10:10:36, low: 117.6, high: 117.7, type: -1\n",
      "time: 2019-05-14 10:12:30, low: 117.7, high: 117.8, type: 1\n",
      "time: 2019-05-14 10:16:29, low: 117.6, high: 117.7, type: -1\n"
     ]
    },
    {
     "name": "stderr",
     "output_type": "stream",
     "text": [
      "DEBUG:root:Ticks: 117.6\n",
      "INFO:root:Inside tickfunction that one\n",
      "DEBUG:root:size of queue: 3\n"
     ]
    },
    {
     "name": "stdout",
     "output_type": "stream",
     "text": [
      "time: 2019-05-14 10:10:36, low: 117.6, high: 117.7, type: -1\n",
      "time: 2019-05-14 10:12:30, low: 117.7, high: 117.8, type: 1\n",
      "time: 2019-05-14 10:16:29, low: 117.6, high: 117.7, type: -1\n"
     ]
    },
    {
     "name": "stderr",
     "output_type": "stream",
     "text": [
      "DEBUG:root:Ticks: 117.6\n",
      "INFO:root:Inside tickfunction that one\n",
      "DEBUG:root:size of queue: 3\n"
     ]
    },
    {
     "name": "stdout",
     "output_type": "stream",
     "text": [
      "time: 2019-05-14 10:10:36, low: 117.6, high: 117.7, type: -1\n",
      "time: 2019-05-14 10:12:30, low: 117.7, high: 117.8, type: 1\n",
      "time: 2019-05-14 10:16:29, low: 117.6, high: 117.7, type: -1\n"
     ]
    },
    {
     "name": "stderr",
     "output_type": "stream",
     "text": [
      "DEBUG:root:Ticks: 117.6\n",
      "INFO:root:Inside tickfunction that one\n",
      "DEBUG:root:size of queue: 3\n"
     ]
    },
    {
     "name": "stdout",
     "output_type": "stream",
     "text": [
      "time: 2019-05-14 10:10:36, low: 117.6, high: 117.7, type: -1\n",
      "time: 2019-05-14 10:12:30, low: 117.7, high: 117.8, type: 1\n",
      "time: 2019-05-14 10:16:29, low: 117.6, high: 117.7, type: -1\n"
     ]
    },
    {
     "name": "stderr",
     "output_type": "stream",
     "text": [
      "DEBUG:root:Ticks: 117.6\n",
      "INFO:root:Inside tickfunction that one\n",
      "DEBUG:root:size of queue: 3\n"
     ]
    },
    {
     "name": "stdout",
     "output_type": "stream",
     "text": [
      "time: 2019-05-14 10:10:36, low: 117.6, high: 117.7, type: -1\n",
      "time: 2019-05-14 10:12:30, low: 117.7, high: 117.8, type: 1\n",
      "time: 2019-05-14 10:16:29, low: 117.6, high: 117.7, type: -1\n"
     ]
    },
    {
     "name": "stderr",
     "output_type": "stream",
     "text": [
      "DEBUG:root:Ticks: 117.6\n",
      "INFO:root:Inside tickfunction that one\n",
      "DEBUG:root:size of queue: 3\n"
     ]
    },
    {
     "name": "stdout",
     "output_type": "stream",
     "text": [
      "time: 2019-05-14 10:10:36, low: 117.6, high: 117.7, type: -1\n",
      "time: 2019-05-14 10:12:30, low: 117.7, high: 117.8, type: 1\n",
      "time: 2019-05-14 10:16:29, low: 117.6, high: 117.7, type: -1\n"
     ]
    },
    {
     "name": "stderr",
     "output_type": "stream",
     "text": [
      "DEBUG:root:Ticks: 117.6\n",
      "INFO:root:Inside tickfunction that one\n",
      "DEBUG:root:size of queue: 3\n"
     ]
    },
    {
     "name": "stdout",
     "output_type": "stream",
     "text": [
      "time: 2019-05-14 10:10:36, low: 117.6, high: 117.7, type: -1\n",
      "time: 2019-05-14 10:12:30, low: 117.7, high: 117.8, type: 1\n",
      "time: 2019-05-14 10:16:29, low: 117.6, high: 117.7, type: -1\n"
     ]
    },
    {
     "name": "stderr",
     "output_type": "stream",
     "text": [
      "DEBUG:root:Ticks: 117.6\n",
      "INFO:root:Inside tickfunction that one\n",
      "DEBUG:root:size of queue: 3\n"
     ]
    },
    {
     "name": "stdout",
     "output_type": "stream",
     "text": [
      "time: 2019-05-14 10:10:36, low: 117.6, high: 117.7, type: -1\n",
      "time: 2019-05-14 10:12:30, low: 117.7, high: 117.8, type: 1\n",
      "time: 2019-05-14 10:16:29, low: 117.6, high: 117.7, type: -1\n"
     ]
    },
    {
     "name": "stderr",
     "output_type": "stream",
     "text": [
      "DEBUG:root:Ticks: 117.6\n",
      "INFO:root:Inside tickfunction that one\n",
      "DEBUG:root:size of queue: 3\n"
     ]
    },
    {
     "name": "stdout",
     "output_type": "stream",
     "text": [
      "time: 2019-05-14 10:10:36, low: 117.6, high: 117.7, type: -1\n",
      "time: 2019-05-14 10:12:30, low: 117.7, high: 117.8, type: 1\n",
      "time: 2019-05-14 10:16:29, low: 117.6, high: 117.7, type: -1\n"
     ]
    },
    {
     "name": "stderr",
     "output_type": "stream",
     "text": [
      "DEBUG:root:Ticks: 117.6\n",
      "INFO:root:Inside tickfunction that one\n",
      "DEBUG:root:size of queue: 3\n"
     ]
    },
    {
     "name": "stdout",
     "output_type": "stream",
     "text": [
      "time: 2019-05-14 10:10:36, low: 117.6, high: 117.7, type: -1\n",
      "time: 2019-05-14 10:12:30, low: 117.7, high: 117.8, type: 1\n",
      "time: 2019-05-14 10:16:29, low: 117.6, high: 117.7, type: -1\n"
     ]
    },
    {
     "name": "stderr",
     "output_type": "stream",
     "text": [
      "DEBUG:root:Ticks: 117.6\n",
      "INFO:root:Inside tickfunction that one\n",
      "DEBUG:root:size of queue: 3\n"
     ]
    },
    {
     "name": "stdout",
     "output_type": "stream",
     "text": [
      "time: 2019-05-14 10:10:36, low: 117.6, high: 117.7, type: -1\n",
      "time: 2019-05-14 10:12:30, low: 117.7, high: 117.8, type: 1\n",
      "time: 2019-05-14 10:16:29, low: 117.6, high: 117.7, type: -1\n"
     ]
    },
    {
     "name": "stderr",
     "output_type": "stream",
     "text": [
      "DEBUG:root:Ticks: 117.6\n",
      "INFO:root:Inside tickfunction that one\n",
      "DEBUG:root:size of queue: 3\n"
     ]
    },
    {
     "name": "stdout",
     "output_type": "stream",
     "text": [
      "time: 2019-05-14 10:10:36, low: 117.6, high: 117.7, type: -1\n",
      "time: 2019-05-14 10:12:30, low: 117.7, high: 117.8, type: 1\n",
      "time: 2019-05-14 10:16:29, low: 117.6, high: 117.7, type: -1\n"
     ]
    },
    {
     "name": "stderr",
     "output_type": "stream",
     "text": [
      "DEBUG:root:Ticks: 117.6\n",
      "INFO:root:Inside tickfunction that one\n",
      "DEBUG:root:size of queue: 3\n"
     ]
    },
    {
     "name": "stdout",
     "output_type": "stream",
     "text": [
      "time: 2019-05-14 10:10:36, low: 117.6, high: 117.7, type: -1\n",
      "time: 2019-05-14 10:12:30, low: 117.7, high: 117.8, type: 1\n",
      "time: 2019-05-14 10:16:29, low: 117.6, high: 117.7, type: -1\n"
     ]
    },
    {
     "name": "stderr",
     "output_type": "stream",
     "text": [
      "DEBUG:root:Ticks: 117.6\n",
      "INFO:root:Inside tickfunction that one\n",
      "DEBUG:root:size of queue: 3\n"
     ]
    },
    {
     "name": "stdout",
     "output_type": "stream",
     "text": [
      "time: 2019-05-14 10:10:36, low: 117.6, high: 117.7, type: -1\n",
      "time: 2019-05-14 10:12:30, low: 117.7, high: 117.8, type: 1\n",
      "time: 2019-05-14 10:16:29, low: 117.6, high: 117.7, type: -1\n"
     ]
    },
    {
     "name": "stderr",
     "output_type": "stream",
     "text": [
      "DEBUG:root:Ticks: 117.6\n",
      "INFO:root:Inside tickfunction that one\n",
      "DEBUG:root:size of queue: 3\n"
     ]
    },
    {
     "name": "stdout",
     "output_type": "stream",
     "text": [
      "time: 2019-05-14 10:10:36, low: 117.6, high: 117.7, type: -1\n",
      "time: 2019-05-14 10:12:30, low: 117.7, high: 117.8, type: 1\n",
      "time: 2019-05-14 10:16:29, low: 117.6, high: 117.7, type: -1\n"
     ]
    },
    {
     "name": "stderr",
     "output_type": "stream",
     "text": [
      "DEBUG:root:Ticks: 117.6\n",
      "INFO:root:Inside tickfunction that one\n",
      "DEBUG:root:size of queue: 3\n"
     ]
    },
    {
     "name": "stdout",
     "output_type": "stream",
     "text": [
      "time: 2019-05-14 10:10:36, low: 117.6, high: 117.7, type: -1\n",
      "time: 2019-05-14 10:12:30, low: 117.7, high: 117.8, type: 1\n",
      "time: 2019-05-14 10:16:29, low: 117.6, high: 117.7, type: -1\n"
     ]
    },
    {
     "name": "stderr",
     "output_type": "stream",
     "text": [
      "DEBUG:root:Ticks: 117.6\n",
      "INFO:root:Inside tickfunction that one\n",
      "DEBUG:root:size of queue: 3\n"
     ]
    },
    {
     "name": "stdout",
     "output_type": "stream",
     "text": [
      "time: 2019-05-14 10:10:36, low: 117.6, high: 117.7, type: -1\n",
      "time: 2019-05-14 10:12:30, low: 117.7, high: 117.8, type: 1\n",
      "time: 2019-05-14 10:16:29, low: 117.6, high: 117.7, type: -1\n"
     ]
    },
    {
     "name": "stderr",
     "output_type": "stream",
     "text": [
      "DEBUG:root:Ticks: 117.6\n",
      "INFO:root:Inside tickfunction that one\n",
      "DEBUG:root:size of queue: 3\n"
     ]
    },
    {
     "name": "stdout",
     "output_type": "stream",
     "text": [
      "time: 2019-05-14 10:10:36, low: 117.6, high: 117.7, type: -1\n",
      "time: 2019-05-14 10:12:30, low: 117.7, high: 117.8, type: 1\n",
      "time: 2019-05-14 10:16:29, low: 117.6, high: 117.7, type: -1\n"
     ]
    },
    {
     "name": "stderr",
     "output_type": "stream",
     "text": [
      "DEBUG:root:Ticks: 117.6\n",
      "INFO:root:Inside tickfunction that one\n",
      "DEBUG:root:size of queue: 3\n"
     ]
    },
    {
     "name": "stdout",
     "output_type": "stream",
     "text": [
      "time: 2019-05-14 10:10:36, low: 117.6, high: 117.7, type: -1\n",
      "time: 2019-05-14 10:12:30, low: 117.7, high: 117.8, type: 1\n",
      "time: 2019-05-14 10:16:29, low: 117.6, high: 117.7, type: -1\n"
     ]
    },
    {
     "name": "stderr",
     "output_type": "stream",
     "text": [
      "DEBUG:root:Ticks: 117.6\n",
      "INFO:root:Inside tickfunction that one\n",
      "DEBUG:root:size of queue: 3\n"
     ]
    },
    {
     "name": "stdout",
     "output_type": "stream",
     "text": [
      "time: 2019-05-14 10:10:36, low: 117.6, high: 117.7, type: -1\n",
      "time: 2019-05-14 10:12:30, low: 117.7, high: 117.8, type: 1\n",
      "time: 2019-05-14 10:16:29, low: 117.6, high: 117.7, type: -1\n"
     ]
    },
    {
     "name": "stderr",
     "output_type": "stream",
     "text": [
      "DEBUG:root:Ticks: 117.7\n",
      "INFO:root:Inside tickfunction that one\n",
      "DEBUG:root:size of queue: 3\n"
     ]
    },
    {
     "name": "stdout",
     "output_type": "stream",
     "text": [
      "time: 2019-05-14 10:10:36, low: 117.6, high: 117.7, type: -1\n",
      "time: 2019-05-14 10:12:30, low: 117.7, high: 117.8, type: 1\n",
      "time: 2019-05-14 10:16:29, low: 117.6, high: 117.7, type: -1\n"
     ]
    },
    {
     "name": "stderr",
     "output_type": "stream",
     "text": [
      "DEBUG:root:Ticks: 117.7\n",
      "INFO:root:Inside tickfunction that one\n",
      "DEBUG:root:size of queue: 3\n"
     ]
    },
    {
     "name": "stdout",
     "output_type": "stream",
     "text": [
      "time: 2019-05-14 10:10:36, low: 117.6, high: 117.7, type: -1\n",
      "time: 2019-05-14 10:12:30, low: 117.7, high: 117.8, type: 1\n",
      "time: 2019-05-14 10:16:29, low: 117.6, high: 117.7, type: -1\n"
     ]
    },
    {
     "name": "stderr",
     "output_type": "stream",
     "text": [
      "DEBUG:root:Ticks: 117.7\n",
      "INFO:root:Inside tickfunction that one\n",
      "DEBUG:root:size of queue: 3\n"
     ]
    },
    {
     "name": "stdout",
     "output_type": "stream",
     "text": [
      "time: 2019-05-14 10:10:36, low: 117.6, high: 117.7, type: -1\n",
      "time: 2019-05-14 10:12:30, low: 117.7, high: 117.8, type: 1\n",
      "time: 2019-05-14 10:16:29, low: 117.6, high: 117.7, type: -1\n"
     ]
    },
    {
     "name": "stderr",
     "output_type": "stream",
     "text": [
      "DEBUG:root:Ticks: 117.7\n",
      "INFO:root:Inside tickfunction that one\n",
      "DEBUG:root:size of queue: 3\n"
     ]
    },
    {
     "name": "stdout",
     "output_type": "stream",
     "text": [
      "time: 2019-05-14 10:10:36, low: 117.6, high: 117.7, type: -1\n",
      "time: 2019-05-14 10:12:30, low: 117.7, high: 117.8, type: 1\n",
      "time: 2019-05-14 10:16:29, low: 117.6, high: 117.7, type: -1\n"
     ]
    },
    {
     "name": "stderr",
     "output_type": "stream",
     "text": [
      "DEBUG:root:Ticks: 117.7\n",
      "INFO:root:Inside tickfunction that one\n",
      "DEBUG:root:size of queue: 3\n"
     ]
    },
    {
     "name": "stdout",
     "output_type": "stream",
     "text": [
      "time: 2019-05-14 10:10:36, low: 117.6, high: 117.7, type: -1\n",
      "time: 2019-05-14 10:12:30, low: 117.7, high: 117.8, type: 1\n",
      "time: 2019-05-14 10:16:29, low: 117.6, high: 117.7, type: -1\n"
     ]
    },
    {
     "name": "stderr",
     "output_type": "stream",
     "text": [
      "DEBUG:root:Ticks: 117.7\n",
      "INFO:root:Inside tickfunction that one\n",
      "DEBUG:root:size of queue: 3\n"
     ]
    },
    {
     "name": "stdout",
     "output_type": "stream",
     "text": [
      "time: 2019-05-14 10:10:36, low: 117.6, high: 117.7, type: -1\n",
      "time: 2019-05-14 10:12:30, low: 117.7, high: 117.8, type: 1\n",
      "time: 2019-05-14 10:16:29, low: 117.6, high: 117.7, type: -1\n"
     ]
    },
    {
     "name": "stderr",
     "output_type": "stream",
     "text": [
      "DEBUG:root:Ticks: 117.7\n",
      "INFO:root:Inside tickfunction that one\n",
      "DEBUG:root:size of queue: 3\n"
     ]
    },
    {
     "name": "stdout",
     "output_type": "stream",
     "text": [
      "time: 2019-05-14 10:10:36, low: 117.6, high: 117.7, type: -1\n",
      "time: 2019-05-14 10:12:30, low: 117.7, high: 117.8, type: 1\n",
      "time: 2019-05-14 10:16:29, low: 117.6, high: 117.7, type: -1\n"
     ]
    },
    {
     "name": "stderr",
     "output_type": "stream",
     "text": [
      "DEBUG:root:Ticks: 117.7\n",
      "INFO:root:Inside tickfunction that one\n",
      "DEBUG:root:size of queue: 3\n"
     ]
    },
    {
     "name": "stdout",
     "output_type": "stream",
     "text": [
      "time: 2019-05-14 10:10:36, low: 117.6, high: 117.7, type: -1\n",
      "time: 2019-05-14 10:12:30, low: 117.7, high: 117.8, type: 1\n",
      "time: 2019-05-14 10:16:29, low: 117.6, high: 117.7, type: -1\n"
     ]
    },
    {
     "name": "stderr",
     "output_type": "stream",
     "text": [
      "DEBUG:root:Ticks: 117.7\n",
      "INFO:root:Inside tickfunction that one\n",
      "DEBUG:root:size of queue: 3\n"
     ]
    },
    {
     "name": "stdout",
     "output_type": "stream",
     "text": [
      "time: 2019-05-14 10:10:36, low: 117.6, high: 117.7, type: -1\n",
      "time: 2019-05-14 10:12:30, low: 117.7, high: 117.8, type: 1\n",
      "time: 2019-05-14 10:16:29, low: 117.6, high: 117.7, type: -1\n"
     ]
    },
    {
     "name": "stderr",
     "output_type": "stream",
     "text": [
      "DEBUG:root:Ticks: 117.7\n",
      "INFO:root:Inside tickfunction that one\n",
      "DEBUG:root:size of queue: 3\n"
     ]
    },
    {
     "name": "stdout",
     "output_type": "stream",
     "text": [
      "time: 2019-05-14 10:10:36, low: 117.6, high: 117.7, type: -1\n",
      "time: 2019-05-14 10:12:30, low: 117.7, high: 117.8, type: 1\n",
      "time: 2019-05-14 10:16:29, low: 117.6, high: 117.7, type: -1\n"
     ]
    },
    {
     "name": "stderr",
     "output_type": "stream",
     "text": [
      "DEBUG:root:Ticks: 117.6\n",
      "INFO:root:Inside tickfunction that one\n",
      "DEBUG:root:size of queue: 3\n"
     ]
    },
    {
     "name": "stdout",
     "output_type": "stream",
     "text": [
      "time: 2019-05-14 10:10:36, low: 117.6, high: 117.7, type: -1\n",
      "time: 2019-05-14 10:12:30, low: 117.7, high: 117.8, type: 1\n",
      "time: 2019-05-14 10:16:29, low: 117.6, high: 117.7, type: -1\n"
     ]
    },
    {
     "name": "stderr",
     "output_type": "stream",
     "text": [
      "DEBUG:root:Ticks: 117.6\n",
      "INFO:root:Inside tickfunction that one\n",
      "DEBUG:root:size of queue: 3\n"
     ]
    },
    {
     "name": "stdout",
     "output_type": "stream",
     "text": [
      "time: 2019-05-14 10:10:36, low: 117.6, high: 117.7, type: -1\n",
      "time: 2019-05-14 10:12:30, low: 117.7, high: 117.8, type: 1\n",
      "time: 2019-05-14 10:16:29, low: 117.6, high: 117.7, type: -1\n"
     ]
    },
    {
     "name": "stderr",
     "output_type": "stream",
     "text": [
      "DEBUG:root:Ticks: 117.6\n",
      "INFO:root:Inside tickfunction that one\n",
      "DEBUG:root:size of queue: 3\n"
     ]
    },
    {
     "name": "stdout",
     "output_type": "stream",
     "text": [
      "time: 2019-05-14 10:10:36, low: 117.6, high: 117.7, type: -1\n",
      "time: 2019-05-14 10:12:30, low: 117.7, high: 117.8, type: 1\n",
      "time: 2019-05-14 10:16:29, low: 117.6, high: 117.7, type: -1\n"
     ]
    },
    {
     "name": "stderr",
     "output_type": "stream",
     "text": [
      "DEBUG:root:Ticks: 117.6\n",
      "INFO:root:Inside tickfunction that one\n",
      "DEBUG:root:size of queue: 3\n"
     ]
    },
    {
     "name": "stdout",
     "output_type": "stream",
     "text": [
      "time: 2019-05-14 10:10:36, low: 117.6, high: 117.7, type: -1\n",
      "time: 2019-05-14 10:12:30, low: 117.7, high: 117.8, type: 1\n",
      "time: 2019-05-14 10:16:29, low: 117.6, high: 117.7, type: -1\n"
     ]
    },
    {
     "name": "stderr",
     "output_type": "stream",
     "text": [
      "DEBUG:root:Ticks: 117.6\n",
      "INFO:root:Inside tickfunction that one\n",
      "DEBUG:root:size of queue: 3\n"
     ]
    },
    {
     "name": "stdout",
     "output_type": "stream",
     "text": [
      "time: 2019-05-14 10:10:36, low: 117.6, high: 117.7, type: -1\n",
      "time: 2019-05-14 10:12:30, low: 117.7, high: 117.8, type: 1\n",
      "time: 2019-05-14 10:16:29, low: 117.6, high: 117.7, type: -1\n"
     ]
    },
    {
     "name": "stderr",
     "output_type": "stream",
     "text": [
      "DEBUG:root:Ticks: 117.6\n",
      "INFO:root:Inside tickfunction that one\n",
      "DEBUG:root:size of queue: 3\n"
     ]
    },
    {
     "name": "stdout",
     "output_type": "stream",
     "text": [
      "time: 2019-05-14 10:10:36, low: 117.6, high: 117.7, type: -1\n",
      "time: 2019-05-14 10:12:30, low: 117.7, high: 117.8, type: 1\n",
      "time: 2019-05-14 10:16:29, low: 117.6, high: 117.7, type: -1\n"
     ]
    },
    {
     "name": "stderr",
     "output_type": "stream",
     "text": [
      "DEBUG:root:Ticks: 117.6\n",
      "INFO:root:Inside tickfunction that one\n",
      "DEBUG:root:size of queue: 3\n"
     ]
    },
    {
     "name": "stdout",
     "output_type": "stream",
     "text": [
      "time: 2019-05-14 10:10:36, low: 117.6, high: 117.7, type: -1\n",
      "time: 2019-05-14 10:12:30, low: 117.7, high: 117.8, type: 1\n",
      "time: 2019-05-14 10:16:29, low: 117.6, high: 117.7, type: -1\n"
     ]
    },
    {
     "name": "stderr",
     "output_type": "stream",
     "text": [
      "DEBUG:root:Ticks: 117.7\n",
      "INFO:root:Inside tickfunction that one\n",
      "DEBUG:root:size of queue: 3\n"
     ]
    },
    {
     "name": "stdout",
     "output_type": "stream",
     "text": [
      "time: 2019-05-14 10:10:36, low: 117.6, high: 117.7, type: -1\n",
      "time: 2019-05-14 10:12:30, low: 117.7, high: 117.8, type: 1\n",
      "time: 2019-05-14 10:16:29, low: 117.6, high: 117.7, type: -1\n"
     ]
    },
    {
     "name": "stderr",
     "output_type": "stream",
     "text": [
      "DEBUG:root:Ticks: 117.7\n",
      "INFO:root:Inside tickfunction that one\n",
      "DEBUG:root:size of queue: 3\n"
     ]
    },
    {
     "name": "stdout",
     "output_type": "stream",
     "text": [
      "time: 2019-05-14 10:10:36, low: 117.6, high: 117.7, type: -1\n",
      "time: 2019-05-14 10:12:30, low: 117.7, high: 117.8, type: 1\n",
      "time: 2019-05-14 10:16:29, low: 117.6, high: 117.7, type: -1\n"
     ]
    },
    {
     "name": "stderr",
     "output_type": "stream",
     "text": [
      "DEBUG:root:Ticks: 117.7\n",
      "INFO:root:Inside tickfunction that one\n",
      "DEBUG:root:size of queue: 3\n"
     ]
    },
    {
     "name": "stdout",
     "output_type": "stream",
     "text": [
      "time: 2019-05-14 10:10:36, low: 117.6, high: 117.7, type: -1\n",
      "time: 2019-05-14 10:12:30, low: 117.7, high: 117.8, type: 1\n",
      "time: 2019-05-14 10:16:29, low: 117.6, high: 117.7, type: -1\n"
     ]
    },
    {
     "name": "stderr",
     "output_type": "stream",
     "text": [
      "DEBUG:root:Ticks: 117.85\n",
      "INFO:root:Inside tickfunction that one\n",
      "DEBUG:root:size of queue: 3\n",
      "INFO:root:Boughtflag: 0\n"
     ]
    },
    {
     "name": "stdout",
     "output_type": "stream",
     "text": [
      "time: 2019-05-14 10:12:30, low: 117.7, high: 117.8, type: 1\n",
      "time: 2019-05-14 10:16:29, low: 117.6, high: 117.7, type: -1\n",
      "time: 2019-05-14 10:18:00, low: 117.7, high: 117.8, type: 1\n"
     ]
    },
    {
     "name": "stderr",
     "output_type": "stream",
     "text": [
      "DEBUG:root:Ticks: 117.85\n",
      "INFO:root:Inside tickfunction that one\n",
      "DEBUG:root:size of queue: 3\n"
     ]
    },
    {
     "name": "stdout",
     "output_type": "stream",
     "text": [
      "time: 2019-05-14 10:12:30, low: 117.7, high: 117.8, type: 1\n",
      "time: 2019-05-14 10:16:29, low: 117.6, high: 117.7, type: -1\n",
      "time: 2019-05-14 10:18:00, low: 117.7, high: 117.8, type: 1\n"
     ]
    },
    {
     "name": "stderr",
     "output_type": "stream",
     "text": [
      "DEBUG:root:Ticks: 117.85\n",
      "INFO:root:Inside tickfunction that one\n",
      "DEBUG:root:size of queue: 3\n"
     ]
    },
    {
     "name": "stdout",
     "output_type": "stream",
     "text": [
      "time: 2019-05-14 10:12:30, low: 117.7, high: 117.8, type: 1\n",
      "time: 2019-05-14 10:16:29, low: 117.6, high: 117.7, type: -1\n",
      "time: 2019-05-14 10:18:00, low: 117.7, high: 117.8, type: 1\n"
     ]
    },
    {
     "name": "stderr",
     "output_type": "stream",
     "text": [
      "DEBUG:root:Ticks: 117.85\n",
      "INFO:root:Inside tickfunction that one\n",
      "DEBUG:root:size of queue: 3\n"
     ]
    },
    {
     "name": "stdout",
     "output_type": "stream",
     "text": [
      "time: 2019-05-14 10:12:30, low: 117.7, high: 117.8, type: 1\n",
      "time: 2019-05-14 10:16:29, low: 117.6, high: 117.7, type: -1\n",
      "time: 2019-05-14 10:18:00, low: 117.7, high: 117.8, type: 1\n"
     ]
    },
    {
     "name": "stderr",
     "output_type": "stream",
     "text": [
      "DEBUG:root:Ticks: 117.85\n",
      "INFO:root:Inside tickfunction that one\n",
      "DEBUG:root:size of queue: 3\n"
     ]
    },
    {
     "name": "stdout",
     "output_type": "stream",
     "text": [
      "time: 2019-05-14 10:12:30, low: 117.7, high: 117.8, type: 1\n",
      "time: 2019-05-14 10:16:29, low: 117.6, high: 117.7, type: -1\n",
      "time: 2019-05-14 10:18:00, low: 117.7, high: 117.8, type: 1\n"
     ]
    },
    {
     "name": "stderr",
     "output_type": "stream",
     "text": [
      "DEBUG:root:Ticks: 117.85\n",
      "INFO:root:Inside tickfunction that one\n",
      "DEBUG:root:size of queue: 3\n"
     ]
    },
    {
     "name": "stdout",
     "output_type": "stream",
     "text": [
      "time: 2019-05-14 10:12:30, low: 117.7, high: 117.8, type: 1\n",
      "time: 2019-05-14 10:16:29, low: 117.6, high: 117.7, type: -1\n",
      "time: 2019-05-14 10:18:00, low: 117.7, high: 117.8, type: 1\n"
     ]
    },
    {
     "name": "stderr",
     "output_type": "stream",
     "text": [
      "DEBUG:root:Ticks: 117.75\n",
      "INFO:root:Inside tickfunction that one\n",
      "DEBUG:root:size of queue: 3\n"
     ]
    },
    {
     "name": "stdout",
     "output_type": "stream",
     "text": [
      "time: 2019-05-14 10:12:30, low: 117.7, high: 117.8, type: 1\n",
      "time: 2019-05-14 10:16:29, low: 117.6, high: 117.7, type: -1\n",
      "time: 2019-05-14 10:18:00, low: 117.7, high: 117.8, type: 1\n"
     ]
    },
    {
     "name": "stderr",
     "output_type": "stream",
     "text": [
      "DEBUG:root:Ticks: 117.75\n",
      "INFO:root:Inside tickfunction that one\n",
      "DEBUG:root:size of queue: 3\n"
     ]
    },
    {
     "name": "stdout",
     "output_type": "stream",
     "text": [
      "time: 2019-05-14 10:12:30, low: 117.7, high: 117.8, type: 1\n",
      "time: 2019-05-14 10:16:29, low: 117.6, high: 117.7, type: -1\n",
      "time: 2019-05-14 10:18:00, low: 117.7, high: 117.8, type: 1\n"
     ]
    },
    {
     "name": "stderr",
     "output_type": "stream",
     "text": [
      "DEBUG:root:Ticks: 117.75\n",
      "INFO:root:Inside tickfunction that one\n",
      "DEBUG:root:size of queue: 3\n"
     ]
    },
    {
     "name": "stdout",
     "output_type": "stream",
     "text": [
      "time: 2019-05-14 10:12:30, low: 117.7, high: 117.8, type: 1\n",
      "time: 2019-05-14 10:16:29, low: 117.6, high: 117.7, type: -1\n",
      "time: 2019-05-14 10:18:00, low: 117.7, high: 117.8, type: 1\n"
     ]
    },
    {
     "name": "stderr",
     "output_type": "stream",
     "text": [
      "DEBUG:root:Ticks: 117.85\n",
      "INFO:root:Inside tickfunction that one\n",
      "DEBUG:root:size of queue: 3\n"
     ]
    },
    {
     "name": "stdout",
     "output_type": "stream",
     "text": [
      "time: 2019-05-14 10:12:30, low: 117.7, high: 117.8, type: 1\n",
      "time: 2019-05-14 10:16:29, low: 117.6, high: 117.7, type: -1\n",
      "time: 2019-05-14 10:18:00, low: 117.7, high: 117.8, type: 1\n"
     ]
    },
    {
     "name": "stderr",
     "output_type": "stream",
     "text": [
      "DEBUG:root:Ticks: 117.85\n",
      "INFO:root:Inside tickfunction that one\n",
      "DEBUG:root:size of queue: 3\n"
     ]
    },
    {
     "name": "stdout",
     "output_type": "stream",
     "text": [
      "time: 2019-05-14 10:12:30, low: 117.7, high: 117.8, type: 1\n",
      "time: 2019-05-14 10:16:29, low: 117.6, high: 117.7, type: -1\n",
      "time: 2019-05-14 10:18:00, low: 117.7, high: 117.8, type: 1\n"
     ]
    },
    {
     "name": "stderr",
     "output_type": "stream",
     "text": [
      "DEBUG:root:Ticks: 117.85\n",
      "INFO:root:Inside tickfunction that one\n",
      "DEBUG:root:size of queue: 3\n"
     ]
    },
    {
     "name": "stdout",
     "output_type": "stream",
     "text": [
      "time: 2019-05-14 10:12:30, low: 117.7, high: 117.8, type: 1\n",
      "time: 2019-05-14 10:16:29, low: 117.6, high: 117.7, type: -1\n",
      "time: 2019-05-14 10:18:00, low: 117.7, high: 117.8, type: 1\n"
     ]
    },
    {
     "name": "stderr",
     "output_type": "stream",
     "text": [
      "DEBUG:root:Ticks: 117.85\n",
      "INFO:root:Inside tickfunction that one\n",
      "DEBUG:root:size of queue: 3\n"
     ]
    },
    {
     "name": "stdout",
     "output_type": "stream",
     "text": [
      "time: 2019-05-14 10:12:30, low: 117.7, high: 117.8, type: 1\n",
      "time: 2019-05-14 10:16:29, low: 117.6, high: 117.7, type: -1\n",
      "time: 2019-05-14 10:18:00, low: 117.7, high: 117.8, type: 1\n"
     ]
    },
    {
     "name": "stderr",
     "output_type": "stream",
     "text": [
      "DEBUG:root:Ticks: 117.95\n",
      "INFO:root:Inside tickfunction that one\n",
      "DEBUG:root:size of queue: 3\n",
      "INFO:root:Boughtflag: 0\n"
     ]
    },
    {
     "name": "stdout",
     "output_type": "stream",
     "text": [
      "time: 2019-05-14 10:16:29, low: 117.6, high: 117.7, type: -1\n",
      "time: 2019-05-14 10:18:00, low: 117.7, high: 117.8, type: 1\n",
      "time: 2019-05-14 10:18:17, low: 117.8, high: 117.9, type: 1\n"
     ]
    },
    {
     "name": "stderr",
     "output_type": "stream",
     "text": [
      "DEBUG:root:Ticks: 117.95\n",
      "INFO:root:Inside tickfunction that one\n",
      "DEBUG:root:size of queue: 3\n"
     ]
    },
    {
     "name": "stdout",
     "output_type": "stream",
     "text": [
      "time: 2019-05-14 10:16:29, low: 117.6, high: 117.7, type: -1\n",
      "time: 2019-05-14 10:18:00, low: 117.7, high: 117.8, type: 1\n",
      "time: 2019-05-14 10:18:17, low: 117.8, high: 117.9, type: 1\n"
     ]
    },
    {
     "name": "stderr",
     "output_type": "stream",
     "text": [
      "DEBUG:root:Ticks: 117.95\n",
      "INFO:root:Inside tickfunction that one\n",
      "DEBUG:root:size of queue: 3\n"
     ]
    },
    {
     "name": "stdout",
     "output_type": "stream",
     "text": [
      "time: 2019-05-14 10:16:29, low: 117.6, high: 117.7, type: -1\n",
      "time: 2019-05-14 10:18:00, low: 117.7, high: 117.8, type: 1\n",
      "time: 2019-05-14 10:18:17, low: 117.8, high: 117.9, type: 1\n"
     ]
    },
    {
     "name": "stderr",
     "output_type": "stream",
     "text": [
      "DEBUG:root:Ticks: 117.85\n",
      "INFO:root:Inside tickfunction that one\n",
      "DEBUG:root:size of queue: 3\n"
     ]
    },
    {
     "name": "stdout",
     "output_type": "stream",
     "text": [
      "time: 2019-05-14 10:16:29, low: 117.6, high: 117.7, type: -1\n",
      "time: 2019-05-14 10:18:00, low: 117.7, high: 117.8, type: 1\n",
      "time: 2019-05-14 10:18:17, low: 117.8, high: 117.9, type: 1\n"
     ]
    },
    {
     "name": "stderr",
     "output_type": "stream",
     "text": [
      "DEBUG:root:Ticks: 117.85\n",
      "INFO:root:Inside tickfunction that one\n",
      "DEBUG:root:size of queue: 3\n"
     ]
    },
    {
     "name": "stdout",
     "output_type": "stream",
     "text": [
      "time: 2019-05-14 10:16:29, low: 117.6, high: 117.7, type: -1\n",
      "time: 2019-05-14 10:18:00, low: 117.7, high: 117.8, type: 1\n",
      "time: 2019-05-14 10:18:17, low: 117.8, high: 117.9, type: 1\n"
     ]
    },
    {
     "name": "stderr",
     "output_type": "stream",
     "text": [
      "DEBUG:root:Ticks: 117.85\n",
      "INFO:root:Inside tickfunction that one\n",
      "DEBUG:root:size of queue: 3\n"
     ]
    },
    {
     "name": "stdout",
     "output_type": "stream",
     "text": [
      "time: 2019-05-14 10:16:29, low: 117.6, high: 117.7, type: -1\n",
      "time: 2019-05-14 10:18:00, low: 117.7, high: 117.8, type: 1\n",
      "time: 2019-05-14 10:18:17, low: 117.8, high: 117.9, type: 1\n"
     ]
    },
    {
     "name": "stderr",
     "output_type": "stream",
     "text": [
      "DEBUG:root:Ticks: 117.85\n",
      "INFO:root:Inside tickfunction that one\n",
      "DEBUG:root:size of queue: 3\n"
     ]
    },
    {
     "name": "stdout",
     "output_type": "stream",
     "text": [
      "time: 2019-05-14 10:16:29, low: 117.6, high: 117.7, type: -1\n",
      "time: 2019-05-14 10:18:00, low: 117.7, high: 117.8, type: 1\n",
      "time: 2019-05-14 10:18:17, low: 117.8, high: 117.9, type: 1\n"
     ]
    },
    {
     "name": "stderr",
     "output_type": "stream",
     "text": [
      "DEBUG:root:Ticks: 117.85\n",
      "INFO:root:Inside tickfunction that one\n",
      "DEBUG:root:size of queue: 3\n"
     ]
    },
    {
     "name": "stdout",
     "output_type": "stream",
     "text": [
      "time: 2019-05-14 10:16:29, low: 117.6, high: 117.7, type: -1\n",
      "time: 2019-05-14 10:18:00, low: 117.7, high: 117.8, type: 1\n",
      "time: 2019-05-14 10:18:17, low: 117.8, high: 117.9, type: 1\n"
     ]
    },
    {
     "name": "stderr",
     "output_type": "stream",
     "text": [
      "DEBUG:root:Ticks: 117.85\n",
      "INFO:root:Inside tickfunction that one\n",
      "DEBUG:root:size of queue: 3\n"
     ]
    },
    {
     "name": "stdout",
     "output_type": "stream",
     "text": [
      "time: 2019-05-14 10:16:29, low: 117.6, high: 117.7, type: -1\n",
      "time: 2019-05-14 10:18:00, low: 117.7, high: 117.8, type: 1\n",
      "time: 2019-05-14 10:18:17, low: 117.8, high: 117.9, type: 1\n"
     ]
    },
    {
     "name": "stderr",
     "output_type": "stream",
     "text": [
      "DEBUG:root:Ticks: 117.85\n",
      "INFO:root:Inside tickfunction that one\n",
      "DEBUG:root:size of queue: 3\n"
     ]
    },
    {
     "name": "stdout",
     "output_type": "stream",
     "text": [
      "time: 2019-05-14 10:16:29, low: 117.6, high: 117.7, type: -1\n",
      "time: 2019-05-14 10:18:00, low: 117.7, high: 117.8, type: 1\n",
      "time: 2019-05-14 10:18:17, low: 117.8, high: 117.9, type: 1\n"
     ]
    },
    {
     "name": "stderr",
     "output_type": "stream",
     "text": [
      "DEBUG:root:Ticks: 117.85\n",
      "INFO:root:Inside tickfunction that one\n",
      "DEBUG:root:size of queue: 3\n"
     ]
    },
    {
     "name": "stdout",
     "output_type": "stream",
     "text": [
      "time: 2019-05-14 10:16:29, low: 117.6, high: 117.7, type: -1\n",
      "time: 2019-05-14 10:18:00, low: 117.7, high: 117.8, type: 1\n",
      "time: 2019-05-14 10:18:17, low: 117.8, high: 117.9, type: 1\n"
     ]
    },
    {
     "name": "stderr",
     "output_type": "stream",
     "text": [
      "DEBUG:root:Ticks: 117.85\n",
      "INFO:root:Inside tickfunction that one\n",
      "DEBUG:root:size of queue: 3\n"
     ]
    },
    {
     "name": "stdout",
     "output_type": "stream",
     "text": [
      "time: 2019-05-14 10:16:29, low: 117.6, high: 117.7, type: -1\n",
      "time: 2019-05-14 10:18:00, low: 117.7, high: 117.8, type: 1\n",
      "time: 2019-05-14 10:18:17, low: 117.8, high: 117.9, type: 1\n"
     ]
    },
    {
     "name": "stderr",
     "output_type": "stream",
     "text": [
      "DEBUG:root:Ticks: 117.85\n",
      "INFO:root:Inside tickfunction that one\n",
      "DEBUG:root:size of queue: 3\n"
     ]
    },
    {
     "name": "stdout",
     "output_type": "stream",
     "text": [
      "time: 2019-05-14 10:16:29, low: 117.6, high: 117.7, type: -1\n",
      "time: 2019-05-14 10:18:00, low: 117.7, high: 117.8, type: 1\n",
      "time: 2019-05-14 10:18:17, low: 117.8, high: 117.9, type: 1\n"
     ]
    },
    {
     "name": "stderr",
     "output_type": "stream",
     "text": [
      "DEBUG:root:Ticks: 117.85\n",
      "INFO:root:Inside tickfunction that one\n",
      "DEBUG:root:size of queue: 3\n"
     ]
    },
    {
     "name": "stdout",
     "output_type": "stream",
     "text": [
      "time: 2019-05-14 10:16:29, low: 117.6, high: 117.7, type: -1\n",
      "time: 2019-05-14 10:18:00, low: 117.7, high: 117.8, type: 1\n",
      "time: 2019-05-14 10:18:17, low: 117.8, high: 117.9, type: 1\n"
     ]
    },
    {
     "name": "stderr",
     "output_type": "stream",
     "text": [
      "DEBUG:root:Ticks: 117.85\n",
      "INFO:root:Inside tickfunction that one\n",
      "DEBUG:root:size of queue: 3\n"
     ]
    },
    {
     "name": "stdout",
     "output_type": "stream",
     "text": [
      "time: 2019-05-14 10:16:29, low: 117.6, high: 117.7, type: -1\n",
      "time: 2019-05-14 10:18:00, low: 117.7, high: 117.8, type: 1\n",
      "time: 2019-05-14 10:18:17, low: 117.8, high: 117.9, type: 1\n"
     ]
    },
    {
     "name": "stderr",
     "output_type": "stream",
     "text": [
      "DEBUG:root:Ticks: 117.85\n",
      "INFO:root:Inside tickfunction that one\n",
      "DEBUG:root:size of queue: 3\n"
     ]
    },
    {
     "name": "stdout",
     "output_type": "stream",
     "text": [
      "time: 2019-05-14 10:16:29, low: 117.6, high: 117.7, type: -1\n",
      "time: 2019-05-14 10:18:00, low: 117.7, high: 117.8, type: 1\n",
      "time: 2019-05-14 10:18:17, low: 117.8, high: 117.9, type: 1\n"
     ]
    },
    {
     "name": "stderr",
     "output_type": "stream",
     "text": [
      "DEBUG:root:Ticks: 117.85\n",
      "INFO:root:Inside tickfunction that one\n",
      "DEBUG:root:size of queue: 3\n"
     ]
    },
    {
     "name": "stdout",
     "output_type": "stream",
     "text": [
      "time: 2019-05-14 10:16:29, low: 117.6, high: 117.7, type: -1\n",
      "time: 2019-05-14 10:18:00, low: 117.7, high: 117.8, type: 1\n",
      "time: 2019-05-14 10:18:17, low: 117.8, high: 117.9, type: 1\n"
     ]
    },
    {
     "name": "stderr",
     "output_type": "stream",
     "text": [
      "DEBUG:root:Ticks: 117.85\n",
      "INFO:root:Inside tickfunction that one\n",
      "DEBUG:root:size of queue: 3\n"
     ]
    },
    {
     "name": "stdout",
     "output_type": "stream",
     "text": [
      "time: 2019-05-14 10:16:29, low: 117.6, high: 117.7, type: -1\n",
      "time: 2019-05-14 10:18:00, low: 117.7, high: 117.8, type: 1\n",
      "time: 2019-05-14 10:18:17, low: 117.8, high: 117.9, type: 1\n"
     ]
    },
    {
     "name": "stderr",
     "output_type": "stream",
     "text": [
      "DEBUG:root:Ticks: 117.85\n",
      "INFO:root:Inside tickfunction that one\n",
      "DEBUG:root:size of queue: 3\n"
     ]
    },
    {
     "name": "stdout",
     "output_type": "stream",
     "text": [
      "time: 2019-05-14 10:16:29, low: 117.6, high: 117.7, type: -1\n",
      "time: 2019-05-14 10:18:00, low: 117.7, high: 117.8, type: 1\n",
      "time: 2019-05-14 10:18:17, low: 117.8, high: 117.9, type: 1\n"
     ]
    },
    {
     "name": "stderr",
     "output_type": "stream",
     "text": [
      "DEBUG:root:Ticks: 117.85\n",
      "INFO:root:Inside tickfunction that one\n",
      "DEBUG:root:size of queue: 3\n"
     ]
    },
    {
     "name": "stdout",
     "output_type": "stream",
     "text": [
      "time: 2019-05-14 10:16:29, low: 117.6, high: 117.7, type: -1\n",
      "time: 2019-05-14 10:18:00, low: 117.7, high: 117.8, type: 1\n",
      "time: 2019-05-14 10:18:17, low: 117.8, high: 117.9, type: 1\n"
     ]
    },
    {
     "name": "stderr",
     "output_type": "stream",
     "text": [
      "DEBUG:root:Ticks: 117.85\n",
      "INFO:root:Inside tickfunction that one\n",
      "DEBUG:root:size of queue: 3\n"
     ]
    },
    {
     "name": "stdout",
     "output_type": "stream",
     "text": [
      "time: 2019-05-14 10:16:29, low: 117.6, high: 117.7, type: -1\n",
      "time: 2019-05-14 10:18:00, low: 117.7, high: 117.8, type: 1\n",
      "time: 2019-05-14 10:18:17, low: 117.8, high: 117.9, type: 1\n"
     ]
    },
    {
     "name": "stderr",
     "output_type": "stream",
     "text": [
      "DEBUG:root:Ticks: 117.85\n",
      "INFO:root:Inside tickfunction that one\n",
      "DEBUG:root:size of queue: 3\n"
     ]
    },
    {
     "name": "stdout",
     "output_type": "stream",
     "text": [
      "time: 2019-05-14 10:16:29, low: 117.6, high: 117.7, type: -1\n",
      "time: 2019-05-14 10:18:00, low: 117.7, high: 117.8, type: 1\n",
      "time: 2019-05-14 10:18:17, low: 117.8, high: 117.9, type: 1\n"
     ]
    },
    {
     "name": "stderr",
     "output_type": "stream",
     "text": [
      "DEBUG:root:Ticks: 117.85\n",
      "INFO:root:Inside tickfunction that one\n",
      "DEBUG:root:size of queue: 3\n"
     ]
    },
    {
     "name": "stdout",
     "output_type": "stream",
     "text": [
      "time: 2019-05-14 10:16:29, low: 117.6, high: 117.7, type: -1\n",
      "time: 2019-05-14 10:18:00, low: 117.7, high: 117.8, type: 1\n",
      "time: 2019-05-14 10:18:17, low: 117.8, high: 117.9, type: 1\n"
     ]
    },
    {
     "name": "stderr",
     "output_type": "stream",
     "text": [
      "DEBUG:root:Ticks: 117.85\n",
      "INFO:root:Inside tickfunction that one\n",
      "DEBUG:root:size of queue: 3\n"
     ]
    },
    {
     "name": "stdout",
     "output_type": "stream",
     "text": [
      "time: 2019-05-14 10:16:29, low: 117.6, high: 117.7, type: -1\n",
      "time: 2019-05-14 10:18:00, low: 117.7, high: 117.8, type: 1\n",
      "time: 2019-05-14 10:18:17, low: 117.8, high: 117.9, type: 1\n"
     ]
    },
    {
     "name": "stderr",
     "output_type": "stream",
     "text": [
      "DEBUG:root:Ticks: 117.85\n",
      "INFO:root:Inside tickfunction that one\n",
      "DEBUG:root:size of queue: 3\n"
     ]
    },
    {
     "name": "stdout",
     "output_type": "stream",
     "text": [
      "time: 2019-05-14 10:16:29, low: 117.6, high: 117.7, type: -1\n",
      "time: 2019-05-14 10:18:00, low: 117.7, high: 117.8, type: 1\n",
      "time: 2019-05-14 10:18:17, low: 117.8, high: 117.9, type: 1\n"
     ]
    },
    {
     "name": "stderr",
     "output_type": "stream",
     "text": [
      "DEBUG:root:Ticks: 117.85\n",
      "INFO:root:Inside tickfunction that one\n",
      "DEBUG:root:size of queue: 3\n"
     ]
    },
    {
     "name": "stdout",
     "output_type": "stream",
     "text": [
      "time: 2019-05-14 10:16:29, low: 117.6, high: 117.7, type: -1\n",
      "time: 2019-05-14 10:18:00, low: 117.7, high: 117.8, type: 1\n",
      "time: 2019-05-14 10:18:17, low: 117.8, high: 117.9, type: 1\n"
     ]
    },
    {
     "name": "stderr",
     "output_type": "stream",
     "text": [
      "DEBUG:root:Ticks: 117.85\n",
      "INFO:root:Inside tickfunction that one\n",
      "DEBUG:root:size of queue: 3\n"
     ]
    },
    {
     "name": "stdout",
     "output_type": "stream",
     "text": [
      "time: 2019-05-14 10:16:29, low: 117.6, high: 117.7, type: -1\n",
      "time: 2019-05-14 10:18:00, low: 117.7, high: 117.8, type: 1\n",
      "time: 2019-05-14 10:18:17, low: 117.8, high: 117.9, type: 1\n"
     ]
    },
    {
     "name": "stderr",
     "output_type": "stream",
     "text": [
      "DEBUG:root:Ticks: 117.85\n",
      "INFO:root:Inside tickfunction that one\n",
      "DEBUG:root:size of queue: 3\n"
     ]
    },
    {
     "name": "stdout",
     "output_type": "stream",
     "text": [
      "time: 2019-05-14 10:16:29, low: 117.6, high: 117.7, type: -1\n",
      "time: 2019-05-14 10:18:00, low: 117.7, high: 117.8, type: 1\n",
      "time: 2019-05-14 10:18:17, low: 117.8, high: 117.9, type: 1\n"
     ]
    },
    {
     "name": "stderr",
     "output_type": "stream",
     "text": [
      "DEBUG:root:Ticks: 117.9\n",
      "INFO:root:Inside tickfunction that one\n",
      "DEBUG:root:size of queue: 3\n"
     ]
    },
    {
     "name": "stdout",
     "output_type": "stream",
     "text": [
      "time: 2019-05-14 10:16:29, low: 117.6, high: 117.7, type: -1\n",
      "time: 2019-05-14 10:18:00, low: 117.7, high: 117.8, type: 1\n",
      "time: 2019-05-14 10:18:17, low: 117.8, high: 117.9, type: 1\n"
     ]
    },
    {
     "name": "stderr",
     "output_type": "stream",
     "text": [
      "DEBUG:root:Ticks: 117.9\n",
      "INFO:root:Inside tickfunction that one\n",
      "DEBUG:root:size of queue: 3\n"
     ]
    },
    {
     "name": "stdout",
     "output_type": "stream",
     "text": [
      "time: 2019-05-14 10:16:29, low: 117.6, high: 117.7, type: -1\n",
      "time: 2019-05-14 10:18:00, low: 117.7, high: 117.8, type: 1\n",
      "time: 2019-05-14 10:18:17, low: 117.8, high: 117.9, type: 1\n"
     ]
    },
    {
     "name": "stderr",
     "output_type": "stream",
     "text": [
      "DEBUG:root:Ticks: 117.95\n",
      "INFO:root:Inside tickfunction that one\n",
      "DEBUG:root:size of queue: 3\n"
     ]
    },
    {
     "name": "stdout",
     "output_type": "stream",
     "text": [
      "time: 2019-05-14 10:16:29, low: 117.6, high: 117.7, type: -1\n",
      "time: 2019-05-14 10:18:00, low: 117.7, high: 117.8, type: 1\n",
      "time: 2019-05-14 10:18:17, low: 117.8, high: 117.9, type: 1\n"
     ]
    },
    {
     "name": "stderr",
     "output_type": "stream",
     "text": [
      "DEBUG:root:Ticks: 117.95\n",
      "INFO:root:Inside tickfunction that one\n",
      "DEBUG:root:size of queue: 3\n"
     ]
    },
    {
     "name": "stdout",
     "output_type": "stream",
     "text": [
      "time: 2019-05-14 10:16:29, low: 117.6, high: 117.7, type: -1\n",
      "time: 2019-05-14 10:18:00, low: 117.7, high: 117.8, type: 1\n",
      "time: 2019-05-14 10:18:17, low: 117.8, high: 117.9, type: 1\n"
     ]
    },
    {
     "name": "stderr",
     "output_type": "stream",
     "text": [
      "DEBUG:root:Ticks: 117.95\n",
      "INFO:root:Inside tickfunction that one\n",
      "DEBUG:root:size of queue: 3\n"
     ]
    },
    {
     "name": "stdout",
     "output_type": "stream",
     "text": [
      "time: 2019-05-14 10:16:29, low: 117.6, high: 117.7, type: -1\n",
      "time: 2019-05-14 10:18:00, low: 117.7, high: 117.8, type: 1\n",
      "time: 2019-05-14 10:18:17, low: 117.8, high: 117.9, type: 1\n"
     ]
    },
    {
     "name": "stderr",
     "output_type": "stream",
     "text": [
      "DEBUG:root:Ticks: 117.95\n",
      "INFO:root:Inside tickfunction that one\n",
      "DEBUG:root:size of queue: 3\n"
     ]
    },
    {
     "name": "stdout",
     "output_type": "stream",
     "text": [
      "time: 2019-05-14 10:16:29, low: 117.6, high: 117.7, type: -1\n",
      "time: 2019-05-14 10:18:00, low: 117.7, high: 117.8, type: 1\n",
      "time: 2019-05-14 10:18:17, low: 117.8, high: 117.9, type: 1\n"
     ]
    },
    {
     "name": "stderr",
     "output_type": "stream",
     "text": [
      "DEBUG:root:Ticks: 117.95\n",
      "INFO:root:Inside tickfunction that one\n",
      "DEBUG:root:size of queue: 3\n"
     ]
    },
    {
     "name": "stdout",
     "output_type": "stream",
     "text": [
      "time: 2019-05-14 10:16:29, low: 117.6, high: 117.7, type: -1\n",
      "time: 2019-05-14 10:18:00, low: 117.7, high: 117.8, type: 1\n",
      "time: 2019-05-14 10:18:17, low: 117.8, high: 117.9, type: 1\n"
     ]
    },
    {
     "name": "stderr",
     "output_type": "stream",
     "text": [
      "DEBUG:root:Ticks: 117.95\n",
      "INFO:root:Inside tickfunction that one\n",
      "DEBUG:root:size of queue: 3\n"
     ]
    },
    {
     "name": "stdout",
     "output_type": "stream",
     "text": [
      "time: 2019-05-14 10:16:29, low: 117.6, high: 117.7, type: -1\n",
      "time: 2019-05-14 10:18:00, low: 117.7, high: 117.8, type: 1\n",
      "time: 2019-05-14 10:18:17, low: 117.8, high: 117.9, type: 1\n"
     ]
    },
    {
     "name": "stderr",
     "output_type": "stream",
     "text": [
      "DEBUG:root:Ticks: 117.95\n",
      "INFO:root:Inside tickfunction that one\n",
      "DEBUG:root:size of queue: 3\n"
     ]
    },
    {
     "name": "stdout",
     "output_type": "stream",
     "text": [
      "time: 2019-05-14 10:16:29, low: 117.6, high: 117.7, type: -1\n",
      "time: 2019-05-14 10:18:00, low: 117.7, high: 117.8, type: 1\n",
      "time: 2019-05-14 10:18:17, low: 117.8, high: 117.9, type: 1\n"
     ]
    },
    {
     "name": "stderr",
     "output_type": "stream",
     "text": [
      "DEBUG:root:Ticks: 117.95\n",
      "INFO:root:Inside tickfunction that one\n",
      "DEBUG:root:size of queue: 3\n"
     ]
    },
    {
     "name": "stdout",
     "output_type": "stream",
     "text": [
      "time: 2019-05-14 10:16:29, low: 117.6, high: 117.7, type: -1\n",
      "time: 2019-05-14 10:18:00, low: 117.7, high: 117.8, type: 1\n",
      "time: 2019-05-14 10:18:17, low: 117.8, high: 117.9, type: 1\n"
     ]
    },
    {
     "name": "stderr",
     "output_type": "stream",
     "text": [
      "DEBUG:root:Ticks: 117.95\n",
      "INFO:root:Inside tickfunction that one\n",
      "DEBUG:root:size of queue: 3\n"
     ]
    },
    {
     "name": "stdout",
     "output_type": "stream",
     "text": [
      "time: 2019-05-14 10:16:29, low: 117.6, high: 117.7, type: -1\n",
      "time: 2019-05-14 10:18:00, low: 117.7, high: 117.8, type: 1\n",
      "time: 2019-05-14 10:18:17, low: 117.8, high: 117.9, type: 1\n"
     ]
    },
    {
     "name": "stderr",
     "output_type": "stream",
     "text": [
      "DEBUG:root:Ticks: 117.95\n",
      "INFO:root:Inside tickfunction that one\n",
      "DEBUG:root:size of queue: 3\n"
     ]
    },
    {
     "name": "stdout",
     "output_type": "stream",
     "text": [
      "time: 2019-05-14 10:16:29, low: 117.6, high: 117.7, type: -1\n",
      "time: 2019-05-14 10:18:00, low: 117.7, high: 117.8, type: 1\n",
      "time: 2019-05-14 10:18:17, low: 117.8, high: 117.9, type: 1\n"
     ]
    },
    {
     "name": "stderr",
     "output_type": "stream",
     "text": [
      "DEBUG:root:Ticks: 117.95\n",
      "INFO:root:Inside tickfunction that one\n",
      "DEBUG:root:size of queue: 3\n"
     ]
    },
    {
     "name": "stdout",
     "output_type": "stream",
     "text": [
      "time: 2019-05-14 10:16:29, low: 117.6, high: 117.7, type: -1\n",
      "time: 2019-05-14 10:18:00, low: 117.7, high: 117.8, type: 1\n",
      "time: 2019-05-14 10:18:17, low: 117.8, high: 117.9, type: 1\n"
     ]
    },
    {
     "name": "stderr",
     "output_type": "stream",
     "text": [
      "DEBUG:root:Ticks: 117.9\n",
      "INFO:root:Inside tickfunction that one\n",
      "DEBUG:root:size of queue: 3\n"
     ]
    },
    {
     "name": "stdout",
     "output_type": "stream",
     "text": [
      "time: 2019-05-14 10:16:29, low: 117.6, high: 117.7, type: -1\n",
      "time: 2019-05-14 10:18:00, low: 117.7, high: 117.8, type: 1\n",
      "time: 2019-05-14 10:18:17, low: 117.8, high: 117.9, type: 1\n"
     ]
    },
    {
     "name": "stderr",
     "output_type": "stream",
     "text": [
      "DEBUG:root:Ticks: 117.85\n",
      "INFO:root:Inside tickfunction that one\n",
      "DEBUG:root:size of queue: 3\n"
     ]
    },
    {
     "name": "stdout",
     "output_type": "stream",
     "text": [
      "time: 2019-05-14 10:16:29, low: 117.6, high: 117.7, type: -1\n",
      "time: 2019-05-14 10:18:00, low: 117.7, high: 117.8, type: 1\n",
      "time: 2019-05-14 10:18:17, low: 117.8, high: 117.9, type: 1\n"
     ]
    },
    {
     "name": "stderr",
     "output_type": "stream",
     "text": [
      "DEBUG:root:Ticks: 117.85\n",
      "INFO:root:Inside tickfunction that one\n",
      "DEBUG:root:size of queue: 3\n"
     ]
    },
    {
     "name": "stdout",
     "output_type": "stream",
     "text": [
      "time: 2019-05-14 10:16:29, low: 117.6, high: 117.7, type: -1\n",
      "time: 2019-05-14 10:18:00, low: 117.7, high: 117.8, type: 1\n",
      "time: 2019-05-14 10:18:17, low: 117.8, high: 117.9, type: 1\n"
     ]
    },
    {
     "name": "stderr",
     "output_type": "stream",
     "text": [
      "DEBUG:root:Ticks: 117.85\n",
      "INFO:root:Inside tickfunction that one\n",
      "DEBUG:root:size of queue: 3\n"
     ]
    },
    {
     "name": "stdout",
     "output_type": "stream",
     "text": [
      "time: 2019-05-14 10:16:29, low: 117.6, high: 117.7, type: -1\n",
      "time: 2019-05-14 10:18:00, low: 117.7, high: 117.8, type: 1\n",
      "time: 2019-05-14 10:18:17, low: 117.8, high: 117.9, type: 1\n"
     ]
    },
    {
     "name": "stderr",
     "output_type": "stream",
     "text": [
      "DEBUG:root:Ticks: 117.85\n",
      "INFO:root:Inside tickfunction that one\n",
      "DEBUG:root:size of queue: 3\n"
     ]
    },
    {
     "name": "stdout",
     "output_type": "stream",
     "text": [
      "time: 2019-05-14 10:16:29, low: 117.6, high: 117.7, type: -1\n",
      "time: 2019-05-14 10:18:00, low: 117.7, high: 117.8, type: 1\n",
      "time: 2019-05-14 10:18:17, low: 117.8, high: 117.9, type: 1\n"
     ]
    },
    {
     "name": "stderr",
     "output_type": "stream",
     "text": [
      "DEBUG:root:Ticks: 117.85\n",
      "INFO:root:Inside tickfunction that one\n",
      "DEBUG:root:size of queue: 3\n"
     ]
    },
    {
     "name": "stdout",
     "output_type": "stream",
     "text": [
      "time: 2019-05-14 10:16:29, low: 117.6, high: 117.7, type: -1\n",
      "time: 2019-05-14 10:18:00, low: 117.7, high: 117.8, type: 1\n",
      "time: 2019-05-14 10:18:17, low: 117.8, high: 117.9, type: 1\n"
     ]
    },
    {
     "name": "stderr",
     "output_type": "stream",
     "text": [
      "DEBUG:root:Ticks: 117.85\n",
      "INFO:root:Inside tickfunction that one\n",
      "DEBUG:root:size of queue: 3\n"
     ]
    },
    {
     "name": "stdout",
     "output_type": "stream",
     "text": [
      "time: 2019-05-14 10:16:29, low: 117.6, high: 117.7, type: -1\n",
      "time: 2019-05-14 10:18:00, low: 117.7, high: 117.8, type: 1\n",
      "time: 2019-05-14 10:18:17, low: 117.8, high: 117.9, type: 1\n"
     ]
    },
    {
     "name": "stderr",
     "output_type": "stream",
     "text": [
      "DEBUG:root:Ticks: 117.85\n",
      "INFO:root:Inside tickfunction that one\n",
      "DEBUG:root:size of queue: 3\n"
     ]
    },
    {
     "name": "stdout",
     "output_type": "stream",
     "text": [
      "time: 2019-05-14 10:16:29, low: 117.6, high: 117.7, type: -1\n",
      "time: 2019-05-14 10:18:00, low: 117.7, high: 117.8, type: 1\n",
      "time: 2019-05-14 10:18:17, low: 117.8, high: 117.9, type: 1\n"
     ]
    },
    {
     "name": "stderr",
     "output_type": "stream",
     "text": [
      "DEBUG:root:Ticks: 117.85\n",
      "INFO:root:Inside tickfunction that one\n",
      "DEBUG:root:size of queue: 3\n"
     ]
    },
    {
     "name": "stdout",
     "output_type": "stream",
     "text": [
      "time: 2019-05-14 10:16:29, low: 117.6, high: 117.7, type: -1\n",
      "time: 2019-05-14 10:18:00, low: 117.7, high: 117.8, type: 1\n",
      "time: 2019-05-14 10:18:17, low: 117.8, high: 117.9, type: 1\n"
     ]
    },
    {
     "name": "stderr",
     "output_type": "stream",
     "text": [
      "DEBUG:root:Ticks: 117.85\n",
      "INFO:root:Inside tickfunction that one\n",
      "DEBUG:root:size of queue: 3\n"
     ]
    },
    {
     "name": "stdout",
     "output_type": "stream",
     "text": [
      "time: 2019-05-14 10:16:29, low: 117.6, high: 117.7, type: -1\n",
      "time: 2019-05-14 10:18:00, low: 117.7, high: 117.8, type: 1\n",
      "time: 2019-05-14 10:18:17, low: 117.8, high: 117.9, type: 1\n"
     ]
    },
    {
     "name": "stderr",
     "output_type": "stream",
     "text": [
      "DEBUG:root:Ticks: 117.85\n",
      "INFO:root:Inside tickfunction that one\n",
      "DEBUG:root:size of queue: 3\n"
     ]
    },
    {
     "name": "stdout",
     "output_type": "stream",
     "text": [
      "time: 2019-05-14 10:16:29, low: 117.6, high: 117.7, type: -1\n",
      "time: 2019-05-14 10:18:00, low: 117.7, high: 117.8, type: 1\n",
      "time: 2019-05-14 10:18:17, low: 117.8, high: 117.9, type: 1\n"
     ]
    },
    {
     "name": "stderr",
     "output_type": "stream",
     "text": [
      "DEBUG:root:Ticks: 117.75\n",
      "INFO:root:Inside tickfunction that one\n",
      "DEBUG:root:size of queue: 3\n"
     ]
    },
    {
     "name": "stdout",
     "output_type": "stream",
     "text": [
      "time: 2019-05-14 10:16:29, low: 117.6, high: 117.7, type: -1\n",
      "time: 2019-05-14 10:18:00, low: 117.7, high: 117.8, type: 1\n",
      "time: 2019-05-14 10:18:17, low: 117.8, high: 117.9, type: 1\n"
     ]
    },
    {
     "name": "stderr",
     "output_type": "stream",
     "text": [
      "DEBUG:root:Ticks: 117.75\n",
      "INFO:root:Inside tickfunction that one\n",
      "DEBUG:root:size of queue: 3\n"
     ]
    },
    {
     "name": "stdout",
     "output_type": "stream",
     "text": [
      "time: 2019-05-14 10:16:29, low: 117.6, high: 117.7, type: -1\n",
      "time: 2019-05-14 10:18:00, low: 117.7, high: 117.8, type: 1\n",
      "time: 2019-05-14 10:18:17, low: 117.8, high: 117.9, type: 1\n"
     ]
    },
    {
     "name": "stderr",
     "output_type": "stream",
     "text": [
      "DEBUG:root:Ticks: 117.7\n",
      "INFO:root:Inside tickfunction that one\n",
      "DEBUG:root:size of queue: 3\n",
      "INFO:root:Boughtflag: 0\n"
     ]
    },
    {
     "name": "stdout",
     "output_type": "stream",
     "text": [
      "time: 2019-05-14 10:18:00, low: 117.7, high: 117.8, type: 1\n",
      "time: 2019-05-14 10:18:17, low: 117.8, high: 117.9, type: 1\n",
      "time: 2019-05-14 10:19:23, low: 117.7, high: 117.8, type: -1\n"
     ]
    },
    {
     "name": "stderr",
     "output_type": "stream",
     "text": [
      "DEBUG:root:Ticks: 117.7\n",
      "INFO:root:Inside tickfunction that one\n",
      "DEBUG:root:size of queue: 3\n"
     ]
    },
    {
     "name": "stdout",
     "output_type": "stream",
     "text": [
      "time: 2019-05-14 10:18:00, low: 117.7, high: 117.8, type: 1\n",
      "time: 2019-05-14 10:18:17, low: 117.8, high: 117.9, type: 1\n",
      "time: 2019-05-14 10:19:23, low: 117.7, high: 117.8, type: -1\n"
     ]
    },
    {
     "name": "stderr",
     "output_type": "stream",
     "text": [
      "DEBUG:root:Ticks: 117.7\n",
      "INFO:root:Inside tickfunction that one\n",
      "DEBUG:root:size of queue: 3\n"
     ]
    },
    {
     "name": "stdout",
     "output_type": "stream",
     "text": [
      "time: 2019-05-14 10:18:00, low: 117.7, high: 117.8, type: 1\n",
      "time: 2019-05-14 10:18:17, low: 117.8, high: 117.9, type: 1\n",
      "time: 2019-05-14 10:19:23, low: 117.7, high: 117.8, type: -1\n"
     ]
    },
    {
     "name": "stderr",
     "output_type": "stream",
     "text": [
      "DEBUG:root:Ticks: 117.7\n",
      "INFO:root:Inside tickfunction that one\n",
      "DEBUG:root:size of queue: 3\n"
     ]
    },
    {
     "name": "stdout",
     "output_type": "stream",
     "text": [
      "time: 2019-05-14 10:18:00, low: 117.7, high: 117.8, type: 1\n",
      "time: 2019-05-14 10:18:17, low: 117.8, high: 117.9, type: 1\n",
      "time: 2019-05-14 10:19:23, low: 117.7, high: 117.8, type: -1\n"
     ]
    },
    {
     "name": "stderr",
     "output_type": "stream",
     "text": [
      "DEBUG:root:Ticks: 117.7\n",
      "INFO:root:Inside tickfunction that one\n",
      "DEBUG:root:size of queue: 3\n"
     ]
    },
    {
     "name": "stdout",
     "output_type": "stream",
     "text": [
      "time: 2019-05-14 10:18:00, low: 117.7, high: 117.8, type: 1\n",
      "time: 2019-05-14 10:18:17, low: 117.8, high: 117.9, type: 1\n",
      "time: 2019-05-14 10:19:23, low: 117.7, high: 117.8, type: -1\n"
     ]
    },
    {
     "name": "stderr",
     "output_type": "stream",
     "text": [
      "DEBUG:root:Ticks: 117.7\n",
      "INFO:root:Inside tickfunction that one\n",
      "DEBUG:root:size of queue: 3\n"
     ]
    },
    {
     "name": "stdout",
     "output_type": "stream",
     "text": [
      "time: 2019-05-14 10:18:00, low: 117.7, high: 117.8, type: 1\n",
      "time: 2019-05-14 10:18:17, low: 117.8, high: 117.9, type: 1\n",
      "time: 2019-05-14 10:19:23, low: 117.7, high: 117.8, type: -1\n"
     ]
    },
    {
     "name": "stderr",
     "output_type": "stream",
     "text": [
      "DEBUG:root:Ticks: 117.7\n",
      "INFO:root:Inside tickfunction that one\n",
      "DEBUG:root:size of queue: 3\n"
     ]
    },
    {
     "name": "stdout",
     "output_type": "stream",
     "text": [
      "time: 2019-05-14 10:18:00, low: 117.7, high: 117.8, type: 1\n",
      "time: 2019-05-14 10:18:17, low: 117.8, high: 117.9, type: 1\n",
      "time: 2019-05-14 10:19:23, low: 117.7, high: 117.8, type: -1\n"
     ]
    },
    {
     "name": "stderr",
     "output_type": "stream",
     "text": [
      "DEBUG:root:Ticks: 117.7\n",
      "INFO:root:Inside tickfunction that one\n",
      "DEBUG:root:size of queue: 3\n"
     ]
    },
    {
     "name": "stdout",
     "output_type": "stream",
     "text": [
      "time: 2019-05-14 10:18:00, low: 117.7, high: 117.8, type: 1\n",
      "time: 2019-05-14 10:18:17, low: 117.8, high: 117.9, type: 1\n",
      "time: 2019-05-14 10:19:23, low: 117.7, high: 117.8, type: -1\n"
     ]
    },
    {
     "name": "stderr",
     "output_type": "stream",
     "text": [
      "DEBUG:root:Ticks: 117.7\n",
      "INFO:root:Inside tickfunction that one\n",
      "DEBUG:root:size of queue: 3\n"
     ]
    },
    {
     "name": "stdout",
     "output_type": "stream",
     "text": [
      "time: 2019-05-14 10:18:00, low: 117.7, high: 117.8, type: 1\n",
      "time: 2019-05-14 10:18:17, low: 117.8, high: 117.9, type: 1\n",
      "time: 2019-05-14 10:19:23, low: 117.7, high: 117.8, type: -1\n"
     ]
    },
    {
     "name": "stderr",
     "output_type": "stream",
     "text": [
      "DEBUG:root:Ticks: 117.7\n",
      "INFO:root:Inside tickfunction that one\n",
      "DEBUG:root:size of queue: 3\n"
     ]
    },
    {
     "name": "stdout",
     "output_type": "stream",
     "text": [
      "time: 2019-05-14 10:18:00, low: 117.7, high: 117.8, type: 1\n",
      "time: 2019-05-14 10:18:17, low: 117.8, high: 117.9, type: 1\n",
      "time: 2019-05-14 10:19:23, low: 117.7, high: 117.8, type: -1\n"
     ]
    },
    {
     "name": "stderr",
     "output_type": "stream",
     "text": [
      "DEBUG:root:Ticks: 117.7\n",
      "INFO:root:Inside tickfunction that one\n",
      "DEBUG:root:size of queue: 3\n"
     ]
    },
    {
     "name": "stdout",
     "output_type": "stream",
     "text": [
      "time: 2019-05-14 10:18:00, low: 117.7, high: 117.8, type: 1\n",
      "time: 2019-05-14 10:18:17, low: 117.8, high: 117.9, type: 1\n",
      "time: 2019-05-14 10:19:23, low: 117.7, high: 117.8, type: -1\n"
     ]
    },
    {
     "name": "stderr",
     "output_type": "stream",
     "text": [
      "DEBUG:root:Ticks: 117.7\n",
      "INFO:root:Inside tickfunction that one\n",
      "DEBUG:root:size of queue: 3\n"
     ]
    },
    {
     "name": "stdout",
     "output_type": "stream",
     "text": [
      "time: 2019-05-14 10:18:00, low: 117.7, high: 117.8, type: 1\n",
      "time: 2019-05-14 10:18:17, low: 117.8, high: 117.9, type: 1\n",
      "time: 2019-05-14 10:19:23, low: 117.7, high: 117.8, type: -1\n"
     ]
    },
    {
     "name": "stderr",
     "output_type": "stream",
     "text": [
      "DEBUG:root:Ticks: 117.7\n",
      "INFO:root:Inside tickfunction that one\n",
      "DEBUG:root:size of queue: 3\n"
     ]
    },
    {
     "name": "stdout",
     "output_type": "stream",
     "text": [
      "time: 2019-05-14 10:18:00, low: 117.7, high: 117.8, type: 1\n",
      "time: 2019-05-14 10:18:17, low: 117.8, high: 117.9, type: 1\n",
      "time: 2019-05-14 10:19:23, low: 117.7, high: 117.8, type: -1\n"
     ]
    },
    {
     "name": "stderr",
     "output_type": "stream",
     "text": [
      "DEBUG:root:Ticks: 117.7\n",
      "INFO:root:Inside tickfunction that one\n",
      "DEBUG:root:size of queue: 3\n"
     ]
    },
    {
     "name": "stdout",
     "output_type": "stream",
     "text": [
      "time: 2019-05-14 10:18:00, low: 117.7, high: 117.8, type: 1\n",
      "time: 2019-05-14 10:18:17, low: 117.8, high: 117.9, type: 1\n",
      "time: 2019-05-14 10:19:23, low: 117.7, high: 117.8, type: -1\n"
     ]
    },
    {
     "name": "stderr",
     "output_type": "stream",
     "text": [
      "DEBUG:root:Ticks: 117.7\n",
      "INFO:root:Inside tickfunction that one\n",
      "DEBUG:root:size of queue: 3\n"
     ]
    },
    {
     "name": "stdout",
     "output_type": "stream",
     "text": [
      "time: 2019-05-14 10:18:00, low: 117.7, high: 117.8, type: 1\n",
      "time: 2019-05-14 10:18:17, low: 117.8, high: 117.9, type: 1\n",
      "time: 2019-05-14 10:19:23, low: 117.7, high: 117.8, type: -1\n"
     ]
    },
    {
     "name": "stderr",
     "output_type": "stream",
     "text": [
      "DEBUG:root:Ticks: 117.7\n",
      "INFO:root:Inside tickfunction that one\n",
      "DEBUG:root:size of queue: 3\n"
     ]
    },
    {
     "name": "stdout",
     "output_type": "stream",
     "text": [
      "time: 2019-05-14 10:18:00, low: 117.7, high: 117.8, type: 1\n",
      "time: 2019-05-14 10:18:17, low: 117.8, high: 117.9, type: 1\n",
      "time: 2019-05-14 10:19:23, low: 117.7, high: 117.8, type: -1\n"
     ]
    }
   ],
   "source": [
    "# Initialise\n",
    "kws = KiteTicker(\"5auxbio6wezhjhhb\", \"Dq7kXXAsS5I3y3tRogH1Vj5hfP9kIbIJ\")\n",
    "\n",
    "def on_ticks(ws, ticks):\n",
    "    # Callback to receive ticks.\n",
    "#     print(time.time())\n",
    "    logging.debug(\"Ticks: {}\".format(ticks[0]['last_price']))\n",
    "    try:\n",
    "        thread.start_new_thread(tickScript, (ticks[0],))\n",
    "    except:\n",
    "        logging.debug('Unable to start that one thread')\n",
    "def on_connect(ws, response):\n",
    "    # Callback on successful connect.\n",
    "    # Subscribe to a list of instrument_tokens (RELIANCE and ACC here).\n",
    "#     ws.subscribe([738561])\n",
    "    ws.subscribe([6401])\n",
    "\n",
    "    # Set RELIANCE to tick in `full` mode.\n",
    "    ws.set_mode(ws.MODE_FULL, [6401])\n",
    "\n",
    "def on_close(ws, code, reason):\n",
    "    # On connection close stop the main loop\n",
    "    # Reconnection will not happen after executing `ws.stop()`\n",
    "    #ws.stop()\n",
    "    pass\n",
    "\n",
    "# Assign the callbacks.\n",
    "kws.on_ticks = on_ticks\n",
    "kws.on_connect = on_connect\n",
    "kws.on_close = on_close\n",
    "\n",
    "# Infinite loop on the main thread. Nothing after this will run.\n",
    "# You have to use the pre-defined callbacks to manage subscriptions.\n",
    "kws.connect(threaded=True)"
   ]
  },
  {
   "cell_type": "code",
   "execution_count": null,
   "metadata": {},
   "outputs": [],
   "source": []
  },
  {
   "cell_type": "code",
   "execution_count": null,
   "metadata": {},
   "outputs": [],
   "source": []
  },
  {
   "cell_type": "code",
   "execution_count": null,
   "metadata": {},
   "outputs": [],
   "source": []
  },
  {
   "cell_type": "code",
   "execution_count": null,
   "metadata": {},
   "outputs": [],
   "source": []
  },
  {
   "cell_type": "code",
   "execution_count": null,
   "metadata": {},
   "outputs": [],
   "source": []
  },
  {
   "cell_type": "code",
   "execution_count": null,
   "metadata": {},
   "outputs": [],
   "source": []
  },
  {
   "cell_type": "code",
   "execution_count": null,
   "metadata": {},
   "outputs": [],
   "source": []
  }
 ],
 "metadata": {
  "kernelspec": {
   "display_name": "kiteApp",
   "language": "python",
   "name": "kiteapp"
  },
  "language_info": {
   "codemirror_mode": {
    "name": "ipython",
    "version": 2
   },
   "file_extension": ".py",
   "mimetype": "text/x-python",
   "name": "python",
   "nbconvert_exporter": "python",
   "pygments_lexer": "ipython2",
   "version": "2.7.13"
  }
 },
 "nbformat": 4,
 "nbformat_minor": 2
}
