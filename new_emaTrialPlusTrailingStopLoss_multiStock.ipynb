{
 "cells": [
  {
   "cell_type": "code",
   "execution_count": null,
   "metadata": {},
   "outputs": [],
   "source": [
    "import pandas as pd\n",
    "import time\n",
    "from multiprocessing import Pool\n",
    "from sklearn.model_selection import ParameterGrid\n",
    "import csv\n",
    "from utils.PreProcess import preProcessData\n",
    "from utils.TimeUtil import convertTime, revConvertTime\n",
    "from utils.DataUtil import parseMinuteData\n",
    "from scripts.dayScript import dayScript\n",
    "from classes import ParamEntry"
   ]
  },
  {
   "cell_type": "code",
   "execution_count": 23,
   "metadata": {
    "scrolled": false
   },
   "outputs": [],
   "source": [
    "def movingAverageExperiment(paramList):\n",
    "    df, dateList, paramEntry = paramList\n",
    "    money = 1\n",
    "    for date in dateList:\n",
    "        new_df = df[(df.date == date)]\n",
    "        day = dayScript(new_df, paramEntry, money, verbose=False)\n",
    "#         print(date, money, updatedMoney, dailyTrades)\n",
    "        money = day.money\n",
    "\n",
    "    yearlyProfitPercentage = (money - 1) * 100\n",
    "    paramEntry.profitPercentage = yearlyProfitPercentage\n",
    "    print(paramEntry)\n",
    "   \n",
    "    return paramEntry"
   ]
  },
  {
   "cell_type": "code",
   "execution_count": 24,
   "metadata": {
    "scrolled": true
   },
   "outputs": [],
   "source": [
    "def bruteAnalysis(stockName, parameterDict, pool, threadPoolSize):\n",
    "    csvList = []\n",
    "    parameterGrid = getParameterGrid(parameterDict)\n",
    "    folderName = \"IntradayData_2018\"\n",
    "    df, dateList = preProcessData(folderName, stockName, parameterDict.shortTermList, parameterDict.longTermList, 'exponential')\n",
    "    parameterGridSize = len(parameterGrid)\n",
    "    print('param combination = ' , parameterGridSize)\n",
    "    i=0\n",
    "    while i<parameterGridSize:\n",
    "        paramEntryList =[]\n",
    "        for j in range(threadPoolSize):\n",
    "            if i+j < parameterGridSize:\n",
    "                params = parameterGrid[i+j]\n",
    "                paramEntry = ParamEntry(params, stockName)\n",
    "                paramEntryList.append([df, dateList, paramEntry])\n",
    "        start = time.time()\n",
    "        resultList = pool.map(movingAverageExperiment, paramEntryList)\n",
    "        end = time.time()\n",
    "        for paramEntry in resultList:\n",
    "            csvList.append(paramEntry.getCsvPoint())\n",
    "        print('Time - ',end - start)\n",
    "        i+=threadPoolSize\n",
    "        print(i,len(grid))\n",
    "        break\n",
    "    return csvList\n"
   ]
  },
  {
   "cell_type": "code",
   "execution_count": 25,
   "metadata": {},
   "outputs": [],
   "source": [
    "# stockList = ['ACC_F1','ASHOKLEY_F1','AXISBANK_F1','BHARTIARTL_F1','RELIANCE_F1','INFY_F1','WIPRO_F1','PNB_F1','SBIN_F1','SUNPHARMA_F1','GRASIM_F1','LUPIN_F1','LT_F1','HINDUNILVR_F1']\n",
    "stockList = ['LUPIN_F1', 'ASHOKLEY_F1','ACC_F1']"
   ]
  },
  {
   "cell_type": "code",
   "execution_count": 26,
   "metadata": {},
   "outputs": [],
   "source": [
    "def getParameterGrid(parameterDict):\n",
    "    parameterGrid = ParameterGrid(parameterDict)\n",
    "    return parameterGrid\n",
    "\n",
    "def getParameterDict():\n",
    "    # # #old\n",
    "    shortTerm = [1,4,12,20]\n",
    "    longTerm = [100,200,500,1000]\n",
    "    targetPercentage = [0.01, 0.05, 0.075]\n",
    "    stopLossPercentage = [0.002, 0.006, 0.008, 0.010]\n",
    "    entryDifference = [0.00001, 0.00005, 0.00010, 0.0002]\n",
    "    # # #new\n",
    "    # shortTerm = [4,8,12,16]\n",
    "    # longTerm = [100,200,300,400,500]\n",
    "    # targetPercentage = [0.01, 0.05, 0.075]\n",
    "    # stopLossPercentage = [0.006, 0.007, 0.008, 0.010]\n",
    "    # entryDifference = [0.00005, 0.000075, 0.0001]\n",
    "    # # # #v3\n",
    "    # shortTerm = [8]\n",
    "    # longTerm = [200]\n",
    "    # targetPercentage = [0.01, 0.05, 0.075]\n",
    "    # stopLossPercentage = [0.006, 0.007, 0.008, 0.010]\n",
    "    # entryDifference = [0.1]\n",
    "    parameterDict = {\n",
    "                    'shortTerm' : shortTerm, \n",
    "                    'longTerm': longTerm, \n",
    "                    'targetPercentage': targetPercentage, \n",
    "                    'stopLossPercentage': stopLossPercentage, \n",
    "                    'entryDifference':entryDifference\n",
    "                }\n",
    "    return parameterDict\n"
   ]
  },
  {
   "cell_type": "code",
   "execution_count": 28,
   "metadata": {},
   "outputs": [
    {
     "name": "stdout",
     "output_type": "stream",
     "text": [
      "('param combination = ', 768)\n"
     ]
    },
    {
     "ename": "UnboundLocalError",
     "evalue": "local variable 'timeEntered' referenced before assignment",
     "traceback": [
      "\u001b[0;31m---------------------------------------------------------------------------\u001b[0m",
      "\u001b[0;31mUnboundLocalError\u001b[0m                         Traceback (most recent call last)",
      "\u001b[0;32m<ipython-input-28-ae0fd8afea6c>\u001b[0m in \u001b[0;36m<module>\u001b[0;34m()\u001b[0m\n\u001b[1;32m      9\u001b[0m     \u001b[0mcsv_writer\u001b[0m\u001b[0;34m.\u001b[0m\u001b[0mwriteheader\u001b[0m\u001b[0;34m(\u001b[0m\u001b[0;34m)\u001b[0m\u001b[0;34m\u001b[0m\u001b[0m\n\u001b[1;32m     10\u001b[0m     \u001b[0;32mfor\u001b[0m \u001b[0mstock\u001b[0m \u001b[0;32min\u001b[0m \u001b[0mstockList\u001b[0m\u001b[0;34m:\u001b[0m\u001b[0;34m\u001b[0m\u001b[0m\n\u001b[0;32m---> 11\u001b[0;31m         \u001b[0mcsvList\u001b[0m \u001b[0;34m=\u001b[0m \u001b[0mbruteAnalysis\u001b[0m\u001b[0;34m(\u001b[0m\u001b[0mstock\u001b[0m\u001b[0;34m[\u001b[0m\u001b[0;34m:\u001b[0m\u001b[0;34m-\u001b[0m\u001b[0;36m3\u001b[0m\u001b[0;34m]\u001b[0m\u001b[0;34m,\u001b[0m \u001b[0mparamList\u001b[0m\u001b[0;34m,\u001b[0m\u001b[0mpool\u001b[0m\u001b[0;34m,\u001b[0m\u001b[0mthreadPoolSize\u001b[0m\u001b[0;34m)\u001b[0m\u001b[0;34m\u001b[0m\u001b[0m\n\u001b[0m\u001b[1;32m     12\u001b[0m         \u001b[0;32mfor\u001b[0m \u001b[0mpoint\u001b[0m \u001b[0;32min\u001b[0m \u001b[0mcsvList\u001b[0m\u001b[0;34m:\u001b[0m\u001b[0;34m\u001b[0m\u001b[0m\n\u001b[1;32m     13\u001b[0m             \u001b[0mcsv_writer\u001b[0m\u001b[0;34m.\u001b[0m\u001b[0mwriterow\u001b[0m\u001b[0;34m(\u001b[0m\u001b[0mpoint\u001b[0m\u001b[0;34m)\u001b[0m\u001b[0;34m\u001b[0m\u001b[0m\n",
      "\u001b[0;32m<ipython-input-24-36bdd0003476>\u001b[0m in \u001b[0;36mbruteAnalysis\u001b[0;34m(stockName, paramList, pool, threadPoolSize)\u001b[0m\n\u001b[1;32m     14\u001b[0m                 \u001b[0mparam_list\u001b[0m\u001b[0;34m.\u001b[0m\u001b[0mappend\u001b[0m\u001b[0;34m(\u001b[0m\u001b[0;34m[\u001b[0m\u001b[0mdf\u001b[0m\u001b[0;34m,\u001b[0m \u001b[0mdateList\u001b[0m\u001b[0;34m,\u001b[0m \u001b[0mparams\u001b[0m\u001b[0;34m[\u001b[0m\u001b[0;34m'ST'\u001b[0m\u001b[0;34m]\u001b[0m\u001b[0;34m,\u001b[0m \u001b[0mparams\u001b[0m\u001b[0;34m[\u001b[0m\u001b[0;34m'LT'\u001b[0m\u001b[0;34m]\u001b[0m\u001b[0;34m,\u001b[0m\u001b[0mparams\u001b[0m\u001b[0;34m[\u001b[0m\u001b[0;34m'targetPercentage'\u001b[0m\u001b[0;34m]\u001b[0m\u001b[0;34m,\u001b[0m \u001b[0mparams\u001b[0m\u001b[0;34m[\u001b[0m\u001b[0;34m'stopLossPercentage'\u001b[0m\u001b[0;34m]\u001b[0m\u001b[0;34m,\u001b[0m\u001b[0mparams\u001b[0m\u001b[0;34m[\u001b[0m\u001b[0;34m'entryDifference'\u001b[0m\u001b[0;34m]\u001b[0m\u001b[0;34m]\u001b[0m\u001b[0;34m)\u001b[0m\u001b[0;34m\u001b[0m\u001b[0m\n\u001b[1;32m     15\u001b[0m         \u001b[0mstart\u001b[0m \u001b[0;34m=\u001b[0m \u001b[0mtime\u001b[0m\u001b[0;34m.\u001b[0m\u001b[0mtime\u001b[0m\u001b[0;34m(\u001b[0m\u001b[0;34m)\u001b[0m\u001b[0;34m\u001b[0m\u001b[0m\n\u001b[0;32m---> 16\u001b[0;31m         \u001b[0mresultList\u001b[0m \u001b[0;34m=\u001b[0m \u001b[0mpool\u001b[0m\u001b[0;34m.\u001b[0m\u001b[0mmap\u001b[0m\u001b[0;34m(\u001b[0m\u001b[0mmovingAverageExperiment\u001b[0m\u001b[0;34m,\u001b[0m \u001b[0mparam_list\u001b[0m\u001b[0;34m)\u001b[0m\u001b[0;34m\u001b[0m\u001b[0m\n\u001b[0m\u001b[1;32m     17\u001b[0m         \u001b[0mend\u001b[0m \u001b[0;34m=\u001b[0m \u001b[0mtime\u001b[0m\u001b[0;34m.\u001b[0m\u001b[0mtime\u001b[0m\u001b[0;34m(\u001b[0m\u001b[0;34m)\u001b[0m\u001b[0;34m\u001b[0m\u001b[0m\n\u001b[1;32m     18\u001b[0m         \u001b[0;32mfor\u001b[0m \u001b[0mj\u001b[0m \u001b[0;32min\u001b[0m \u001b[0mrange\u001b[0m\u001b[0;34m(\u001b[0m\u001b[0mlen\u001b[0m\u001b[0;34m(\u001b[0m\u001b[0mparam_list\u001b[0m\u001b[0;34m)\u001b[0m\u001b[0;34m)\u001b[0m\u001b[0;34m:\u001b[0m\u001b[0;34m\u001b[0m\u001b[0m\n",
      "\u001b[0;32m/usr/local/Cellar/python/2.7.13/Frameworks/Python.framework/Versions/2.7/lib/python2.7/multiprocessing/pool.pyc\u001b[0m in \u001b[0;36mmap\u001b[0;34m(self, func, iterable, chunksize)\u001b[0m\n\u001b[1;32m    249\u001b[0m         '''\n\u001b[1;32m    250\u001b[0m         \u001b[0;32massert\u001b[0m \u001b[0mself\u001b[0m\u001b[0;34m.\u001b[0m\u001b[0m_state\u001b[0m \u001b[0;34m==\u001b[0m \u001b[0mRUN\u001b[0m\u001b[0;34m\u001b[0m\u001b[0m\n\u001b[0;32m--> 251\u001b[0;31m         \u001b[0;32mreturn\u001b[0m \u001b[0mself\u001b[0m\u001b[0;34m.\u001b[0m\u001b[0mmap_async\u001b[0m\u001b[0;34m(\u001b[0m\u001b[0mfunc\u001b[0m\u001b[0;34m,\u001b[0m \u001b[0miterable\u001b[0m\u001b[0;34m,\u001b[0m \u001b[0mchunksize\u001b[0m\u001b[0;34m)\u001b[0m\u001b[0;34m.\u001b[0m\u001b[0mget\u001b[0m\u001b[0;34m(\u001b[0m\u001b[0;34m)\u001b[0m\u001b[0;34m\u001b[0m\u001b[0m\n\u001b[0m\u001b[1;32m    252\u001b[0m \u001b[0;34m\u001b[0m\u001b[0m\n\u001b[1;32m    253\u001b[0m     \u001b[0;32mdef\u001b[0m \u001b[0mimap\u001b[0m\u001b[0;34m(\u001b[0m\u001b[0mself\u001b[0m\u001b[0;34m,\u001b[0m \u001b[0mfunc\u001b[0m\u001b[0;34m,\u001b[0m \u001b[0miterable\u001b[0m\u001b[0;34m,\u001b[0m \u001b[0mchunksize\u001b[0m\u001b[0;34m=\u001b[0m\u001b[0;36m1\u001b[0m\u001b[0;34m)\u001b[0m\u001b[0;34m:\u001b[0m\u001b[0;34m\u001b[0m\u001b[0m\n",
      "\u001b[0;32m/usr/local/Cellar/python/2.7.13/Frameworks/Python.framework/Versions/2.7/lib/python2.7/multiprocessing/pool.pyc\u001b[0m in \u001b[0;36mget\u001b[0;34m(self, timeout)\u001b[0m\n\u001b[1;32m    565\u001b[0m             \u001b[0;32mreturn\u001b[0m \u001b[0mself\u001b[0m\u001b[0;34m.\u001b[0m\u001b[0m_value\u001b[0m\u001b[0;34m\u001b[0m\u001b[0m\n\u001b[1;32m    566\u001b[0m         \u001b[0;32melse\u001b[0m\u001b[0;34m:\u001b[0m\u001b[0;34m\u001b[0m\u001b[0m\n\u001b[0;32m--> 567\u001b[0;31m             \u001b[0;32mraise\u001b[0m \u001b[0mself\u001b[0m\u001b[0;34m.\u001b[0m\u001b[0m_value\u001b[0m\u001b[0;34m\u001b[0m\u001b[0m\n\u001b[0m\u001b[1;32m    568\u001b[0m \u001b[0;34m\u001b[0m\u001b[0m\n\u001b[1;32m    569\u001b[0m     \u001b[0;32mdef\u001b[0m \u001b[0m_set\u001b[0m\u001b[0;34m(\u001b[0m\u001b[0mself\u001b[0m\u001b[0;34m,\u001b[0m \u001b[0mi\u001b[0m\u001b[0;34m,\u001b[0m \u001b[0mobj\u001b[0m\u001b[0;34m)\u001b[0m\u001b[0;34m:\u001b[0m\u001b[0;34m\u001b[0m\u001b[0m\n",
      "\u001b[0;31mUnboundLocalError\u001b[0m: local variable 'timeEntered' referenced before assignment"
     ],
     "output_type": "error"
    }
   ],
   "source": [
    "threadPoolSize = 24\n",
    "parameterDict = getParameterDict()\n",
    "pool = Pool(threadPoolSize)\n",
    "with open('result.csv', 'w') as f_out:\n",
    "    out_colnames = [\"stockName\",\"shortTerm\", \"longTerm\", \"targetPercentage\", \"stopLossPercentage\", \"entryDifference\",\"profitPercentage\"]\n",
    "    csv_writer = csv.DictWriter(f_out, fieldnames = out_colnames)\n",
    "    csv_writer.writeheader()\n",
    "    for stock in stockList:\n",
    "        csvList = bruteAnalysis(stock[:-3], parameterDict, pool, threadPoolSize)\n",
    "        for point in csvList:\n",
    "            csv_writer.writerow(point)\n",
    "        break\n",
    "pool.terminate()\n",
    "pool.join()"
   ]
  },
  {
   "cell_type": "code",
   "execution_count": null,
   "metadata": {},
   "outputs": [],
   "source": []
  },
  {
   "cell_type": "code",
   "execution_count": null,
   "metadata": {},
   "outputs": [],
   "source": []
  }
 ],
 "metadata": {
  "kernelspec": {
   "display_name": "Python 2",
   "language": "python",
   "name": "python2"
  },
  "language_info": {
   "codemirror_mode": {
    "name": "ipython",
    "version": 2
   },
   "file_extension": ".py",
   "mimetype": "text/x-python",
   "name": "python",
   "nbconvert_exporter": "python",
   "pygments_lexer": "ipython2",
   "version": "2.7.13"
  }
 },
 "nbformat": 4,
 "nbformat_minor": 2
}
