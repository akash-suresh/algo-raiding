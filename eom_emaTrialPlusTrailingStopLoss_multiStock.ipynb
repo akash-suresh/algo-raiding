{
 "cells": [
  {
   "cell_type": "code",
   "execution_count": 6,
   "metadata": {},
   "outputs": [],
   "source": [
    "import time\n",
    "from multiprocessing import Pool\n",
    "from sklearn.model_selection import ParameterGrid\n",
    "import csv\n",
    "from utils.PreProcess import preProcessData\n",
    "from utils.TimeUtil import convertTime\n",
    "from scripts.dayScript import dayScript\n",
    "from classes.ParamEntry import ParamEntry\n",
    "from classes.DayEntry import Day\n",
    "from utils.TimeUtil import isLastThursdayOfMonth\n",
    "from utils.FileUtil import getFutureList\n",
    "# import copy "
   ]
  },
  {
   "cell_type": "code",
   "execution_count": 7,
   "metadata": {
    "scrolled": false
   },
   "outputs": [],
   "source": [
    "def getSellEndOfDay(currentDate, stockType):\n",
    "    if stockType == 'FUTURES':\n",
    "        return isLastThursdayOfMonth(currentDate)\n",
    "    else:\n",
    "        return True\n",
    "\n",
    "def movingAverageExperiment(paramList, stockType = 'FUTURES', verbose=False):\n",
    "    df, dateList, paramEntry = paramList\n",
    "    money = 1\n",
    "    newDay = Day(0, money, getSellEndOfDay(dateList[0], stockType))\n",
    "\n",
    "    for date in dateList:\n",
    "        new_df = df[(df.date == date)]\n",
    "        day = dayScript(new_df, paramEntry, newDay, stockType, verbose)\n",
    "        if verbose:\n",
    "            print(date, newDay.money, day.money, day.dailyTrades)\n",
    "            day.printOpenTrade()\n",
    "        sellEndOfDay = getSellEndOfDay(date, stockType)\n",
    "        newDay = day.initializeNextDay(sellEndOfDay)   \n",
    "        \n",
    "    yearlyProfitPercentage = (day.money - 1) * 100\n",
    "    print(yearlyProfitPercentage)\n",
    "    paramEntry.profitPercentage = yearlyProfitPercentage\n",
    "    paramEntry.toString()\n",
    "   \n",
    "    return paramEntry"
   ]
  },
  {
   "cell_type": "code",
   "execution_count": 8,
   "metadata": {
    "scrolled": true
   },
   "outputs": [],
   "source": [
    "def bruteAnalysis(stockName, parameterDict, pool, threadPoolSize):\n",
    "    csvList = []\n",
    "    parameterGrid = getParameterGrid(parameterDict)\n",
    "    folderName = \"IntradayData_2018\"\n",
    "    df, dateList = preProcessData(folderName, stockName, parameterDict['shortTerm'], parameterDict['longTerm'], 'exponential')\n",
    "    parameterGridSize = len(parameterGrid)\n",
    "    print('param combination = ' , parameterGridSize)\n",
    "    i=0\n",
    "    while i<parameterGridSize:\n",
    "        paramEntryList =[]\n",
    "        for j in range(threadPoolSize):\n",
    "            if i+j < parameterGridSize:\n",
    "                params = parameterGrid[i+j]\n",
    "                paramEntry = ParamEntry(params, stockName)\n",
    "                paramEntryList.append([df, dateList, paramEntry])\n",
    "        start = time.time()\n",
    "        resultList = pool.map(movingAverageExperiment, paramEntryList)\n",
    "        end = time.time()\n",
    "        for paramEntry in resultList:\n",
    "            csvList.append(paramEntry.getCsvPoint())\n",
    "        print('Time - ',end - start)\n",
    "        i+=threadPoolSize\n",
    "        print(i,parameterGridSize)\n",
    "    return csvList\n"
   ]
  },
  {
   "cell_type": "code",
   "execution_count": 9,
   "metadata": {},
   "outputs": [],
   "source": [
    "# stockList = ['ACC_F1','ASHOKLEY_F1','AXISBANK_F1','BHARTIARTL_F1','RELIANCE_F1','INFY_F1','WIPRO_F1','PNB_F1','SBIN_F1','SUNPHARMA_F1','GRASIM_F1','LUPIN_F1','LT_F1','HINDUNILVR_F1']\n",
    "folderName = \"IntradayData_2018\"\n",
    "stockList = getFutureList(folderName)"
   ]
  },
  {
   "cell_type": "code",
   "execution_count": 27,
   "metadata": {},
   "outputs": [],
   "source": [
    "def getParameterGrid(parameterDict):\n",
    "    parameterGrid = ParameterGrid(parameterDict)\n",
    "    return parameterGrid\n",
    "\n",
    "def getParameterDict():\n",
    "    # # #old\n",
    "#     shortTerm = [1,4,12,20]\n",
    "#     longTerm = [100,200,500,1000]\n",
    "#     targetPercentage = [0.01, 0.05, 0.075]\n",
    "#     stopLossPercentage = [0.002, 0.006, 0.008, 0.010]\n",
    "#     entryDifference = [0.00001, 0.00005, 0.00010, 0.0002]\n",
    "    # # #new\n",
    "#     shortTerm = [4,8,12,16]\n",
    "#     longTerm = [100,200,300,400,500]\n",
    "#     targetPercentage = [0.01, 0.05, 0.075]\n",
    "#     stopLossPercentage = [0.006, 0.007, 0.008, 0.010]\n",
    "#     entryDifference = [0.00005, 0.000075, 0.0001]\n",
    "    # # # #v3\n",
    "    shortTerm = [2,3,4,6,8,10,12,14,16]\n",
    "    longTerm = [100,150,200,250,300,400]\n",
    "    targetPercentage = [0.01]\n",
    "    stopLossPercentage = [0.008]\n",
    "    entryDifference = [0.00005]\n",
    "    parameterDict = {\n",
    "                    'shortTerm' : shortTerm, \n",
    "                    'longTerm': longTerm, \n",
    "                    'targetPercentage': targetPercentage, \n",
    "                    'stopLossPercentage': stopLossPercentage, \n",
    "                    'entryDifference':entryDifference\n",
    "                }\n",
    "    return parameterDict\n"
   ]
  },
  {
   "cell_type": "code",
   "execution_count": 39,
   "metadata": {},
   "outputs": [],
   "source": [
    "threadPoolSize = 2\n",
    "parameterDict = getParameterDict()\n",
    "pool = Pool(threadPoolSize)\n",
    "with open('result.csv', 'w') as f_out:\n",
    "    out_colnames = [\"stockName\",\"shortTerm\", \"longTerm\", \"targetPercentage\", \"stopLossPercentage\", \"entryDifference\",\"profitPercentage\"]\n",
    "    csv_writer = csv.DictWriter(f_out, fieldnames = out_colnames)\n",
    "    csv_writer.writeheader()\n",
    "    for stock in stockList:\n",
    "        csvList = bruteAnalysis(stock, parameterDict, pool, threadPoolSize)\n",
    "        for point in csvList:\n",
    "            csv_writer.writerow(point)\n",
    "pool.terminate()\n",
    "pool.join()"
   ]
  },
  {
   "cell_type": "code",
   "execution_count": null,
   "metadata": {},
   "outputs": [],
   "source": []
  },
  {
   "cell_type": "code",
   "execution_count": 14,
   "metadata": {},
   "outputs": [],
   "source": [
    "# parameterDict = getParameterDict()\n",
    "# parameterGrid = getParameterGrid(parameterDict)\n",
    "# folderName = \"IntradayData_2018\"\n",
    "# stockName = 'LUPIN_F1'\n",
    "# df, dateList = preProcessData(folderName, stockName, parameterDict['shortTerm'], parameterDict['longTerm'], 'exponential')\n"
   ]
  },
  {
   "cell_type": "code",
   "execution_count": 7,
   "metadata": {},
   "outputs": [],
   "source": [
    "# money = 1\n",
    "# stockType = 'FUTURES'\n",
    "# verbose = False\n",
    "# newDay = Day(0, money, getSellEndOfDay(dateList[0], stockType))"
   ]
  },
  {
   "cell_type": "code",
   "execution_count": 8,
   "metadata": {
    "scrolled": false
   },
   "outputs": [],
   "source": [
    "# # newDay = Day(0, money)\n",
    "# for date in dateList:\n",
    "#     new_df = df[(df.date == date)]\n",
    "#     day = dayScript(new_df, paramEntry, newDay, stockType, verbose)\n",
    "#     if verbose:\n",
    "#         print(date, newDay.money, day.money, day.dailyTrades)\n",
    "#     sellEndOfDay = getSellEndOfDay(date, stockType)\n",
    "#     day.printOpenTrade()\n",
    "#     newDay = day.initializeNextDay(sellEndOfDay)    \n",
    "\n",
    "# yearlyProfitPercentage = (day.money - 1) * 100\n",
    "# print yearlyProfitPercentage    "
   ]
  },
  {
   "cell_type": "code",
   "execution_count": null,
   "metadata": {},
   "outputs": [],
   "source": []
  }
 ],
 "metadata": {
  "kernelspec": {
   "display_name": "Python 2",
   "language": "python",
   "name": "python2"
  },
  "language_info": {
   "codemirror_mode": {
    "name": "ipython",
    "version": 2
   },
   "file_extension": ".py",
   "mimetype": "text/x-python",
   "name": "python",
   "nbconvert_exporter": "python",
   "pygments_lexer": "ipython2",
   "version": "2.7.13"
  }
 },
 "nbformat": 4,
 "nbformat_minor": 2
}
